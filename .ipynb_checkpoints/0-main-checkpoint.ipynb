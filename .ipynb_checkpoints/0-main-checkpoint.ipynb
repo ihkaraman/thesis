{
 "cells": [
  {
   "cell_type": "code",
   "execution_count": null,
   "id": "understanding-point",
   "metadata": {},
   "outputs": [],
   "source": [
    "to do \n",
    "\n",
    "find new datasets\n",
    "decide on splitting ratio 20 60 20 \n",
    "\n",
    "\n",
    "\n",
    "\n",
    "İMPLEMENTASYON\n",
    "\n",
    "farklı embeddingler hangisinde en iyi sonucu alacağız, simiilarity olarak\n",
    "classification için farklı şeyler düşünülebilir\n",
    "\n",
    "farklı verisetleri\n",
    "\n",
    "\n",
    "\n",
    "\n",
    "farklı similarity yöntemleri de kullanılabilir\n",
    "\tfarklı yöntemler de dene\n",
    "\tcosine\n",
    "\teuclidean\n",
    "\n",
    "\n",
    "\n",
    "40 40 20 yerine \n",
    "20 60 20\n",
    "\n",
    "genel implementasyonu yap, sonuç al toy problemde\n",
    "genel yöntemi çıkar - şema diyagram olarak\n",
    "hangi aşamalar tamam\n",
    "hangi aşamalarda çalışıyoruz\n",
    "sorunlu olanları çıkar\n",
    "research yapılması gerekenleri çıkar\n",
    "\n",
    "\n",
    "deniz hanım\n",
    "\n",
    "altun hanım\n"
   ]
  },
  {
   "cell_type": "code",
   "execution_count": null,
   "id": "charitable-scottish",
   "metadata": {},
   "outputs": [],
   "source": [
    "implementation steps\n",
    "\n",
    "1. reading data and preprocessing\n"
   ]
  }
 ],
 "metadata": {
  "kernelspec": {
   "display_name": "Python 3",
   "language": "python",
   "name": "python3"
  },
  "language_info": {
   "codemirror_mode": {
    "name": "ipython",
    "version": 3
   },
   "file_extension": ".py",
   "mimetype": "text/x-python",
   "name": "python",
   "nbconvert_exporter": "python",
   "pygments_lexer": "ipython3",
   "version": "3.8.5"
  }
 },
 "nbformat": 4,
 "nbformat_minor": 5
}
