{
 "cells": [
  {
   "cell_type": "code",
   "execution_count": 1,
   "id": "8edd5e50",
   "metadata": {
    "scrolled": false
   },
   "outputs": [],
   "source": [
    "import pickle\n",
    "import pandas as pd\n",
    "import numpy as np\n",
    "import utilities\n",
    "import preprocess\n",
    "import parameters\n",
    "\n",
    "from sklearn.metrics import accuracy_score, hamming_loss\n",
    "from sklearn.model_selection import train_test_split\n",
    "from sklearn.svm import LinearSVC\n",
    "from sentence_transformers import util, SentenceTransformer\n",
    "from sklearn.metrics import hamming_loss, accuracy_score, f1_score, classification_report\n",
    "from sklearn.utils.class_weight import compute_class_weight\n",
    "from sklearn.multiclass import OneVsRestClassifier\n",
    "from sklearn.linear_model import LogisticRegression"
   ]
  },
  {
   "cell_type": "code",
   "execution_count": 2,
   "id": "095e9601",
   "metadata": {},
   "outputs": [],
   "source": [
    "import warnings\n",
    "warnings.filterwarnings(\"ignore\")"
   ]
  },
  {
   "cell_type": "markdown",
   "id": "decimal-packing",
   "metadata": {},
   "source": [
    "## parameters"
   ]
  },
  {
   "cell_type": "code",
   "execution_count": 3,
   "id": "f677899c",
   "metadata": {},
   "outputs": [],
   "source": [
    "# importing algorithm parameters\n",
    "balance_ratio = parameters.balance_ratio\n",
    "random_state = parameters.random_state\n",
    "threshold_factor = parameters.threshold_factor\n",
    "test_size = parameters.test_size\n",
    "sim_calculation_type = parameters.sim_calculation_type\n",
    "sim_type = parameters.sim_type\n",
    "success_metric = parameters.success_metric\n",
    "embedding_method = parameters.embedding_method\n",
    "data_paths = parameters.data_paths\n",
    "unlabaled_ratios = parameters.unlabaled_ratios\n",
    "\n",
    "np.random.seed(random_state)"
   ]
  },
  {
   "cell_type": "code",
   "execution_count": 4,
   "id": "hundred-reading",
   "metadata": {},
   "outputs": [],
   "source": [
    "# classifier_object = LinearSVC(class_weight='balanced')\n",
    "classifier_object = LogisticRegression(class_weight='balanced')"
   ]
  },
  {
   "cell_type": "markdown",
   "id": "framed-george",
   "metadata": {},
   "source": [
    "# main"
   ]
  },
  {
   "cell_type": "code",
   "execution_count": 5,
   "id": "british-gross",
   "metadata": {},
   "outputs": [],
   "source": [
    "def main(data, embedding_method, classifier_object, sim_type, sim_calculation_type, success_metric, \n",
    "         single_metric, oversampler_version):\n",
    "    print('*'*100)\n",
    "    print('\\x1b[1;31m'+data+'\\x1b[0m')\n",
    "    # reading data\n",
    "    df = utilities.read_data(data_paths[data])\n",
    "    X = df['text'].apply(preprocess.preprocess_text)\n",
    "    y = df.drop(['text'], axis=1)\n",
    "    # ------------------------------------------------------------------------------------------------------------------------------\n",
    "    # reading from a pickle instead of applying vectorization\n",
    "    # X_num = utilities.vectorize_data(X, embedding_method)\n",
    "    # X_num = pd.Series([np.squeeze(i) for i in X_num])\n",
    "    X_num = pd.read_pickle('X_num_opp115.p')\n",
    "    X_train, X_test, y_train, y_test = train_test_split(X_num, y, test_size=test_size, random_state=random_state)\n",
    "    X_labeled, X_unlabeled, y_labeled, y_unlabeled = train_test_split(X_train, y_train, test_size=unlabaled_ratios[data], \n",
    "                                                                  random_state=random_state)\n",
    "    \n",
    "    print(X_labeled.shape, X_unlabeled.shape, X_test.shape)\n",
    "    s_metric = utilities.multilabel_classifier(np.vstack(X_labeled), y_labeled, np.vstack(X_test), y_test, \n",
    "                                               success_metric=success_metric,\n",
    "                                               classifier_object = classifier_object, print_results=True)\n",
    "    # -----------------------------------------------------------------------------------------------------------------------------\n",
    "    # calculation number of instances to balance dataset\n",
    "    num_of_new_instances = utilities.calculate_balancing_num_instance_multiclass(y_labeled, balance_ratio, \n",
    "                                                                                 calculation_type='metric_based', \n",
    "                                                                                 s_metrics=s_metric)\n",
    "    # -----------------------------------------------------------------------------------------------------------------------------\n",
    "    # oversampling dataset using unlabeled data with the given ratios\n",
    "    print('num_of_new_instances : ',num_of_new_instances)\n",
    "    if oversampler_version == 'v1':\n",
    "        validation, X_labeled, y_labeled, X_unlabeled, y_unlabeled = utilities.oversample_dataset_v1(\n",
    "                                                                        num_of_new_instances, X_labeled, y_labeled, \n",
    "                                                                        X_unlabeled, y_unlabeled, X_test, y_test, \n",
    "                                                                        sim_calculation_type=sim_calculation_type,\n",
    "                                                                        batch_size=1)\n",
    "    elif oversampler_version == 'v2':\n",
    "        validation, X_labeled, y_labeled, X_unlabeled, y_unlabeled = utilities.oversample_dataset_v2(\n",
    "                                                                        num_of_new_instances, X_labeled, y_labeled, \n",
    "                                                                        X_unlabeled, y_unlabeled, X_test, y_test, \n",
    "                                                                        sim_calculation_type=sim_calculation_type,\n",
    "                                                                        batch_size=1)\n",
    "    elif oversampler_version == 'v3':\n",
    "        validation, X_labeled, y_labeled, X_unlabeled, y_unlabeled = utilities.oversample_dataset_v3(\n",
    "                                                                        num_of_new_instances, X_labeled, y_labeled, \n",
    "                                                                        X_unlabeled, y_unlabeled, X_test, y_test, \n",
    "                                                                        sim_calculation_type=sim_calculation_type,\n",
    "                                                                        batch_size=1, n_iter=1000, single_score=single_metric)\n",
    "    elif oversampler_version == 'v4':\n",
    "        validation, X_labeled, y_labeled, X_unlabeled, y_unlabeled = utilities.oversample_dataset_v4(\\\n",
    "                                                                     num_of_new_instances, \n",
    "                                                                     X_labeled, y_labeled, \n",
    "                                                                     X_unlabeled, y_unlabeled, \n",
    "                                                                     X_test, y_test, \\\n",
    "                                                                     sim_calculation_type=sim_calculation_type, \n",
    "                                                                     batch_size=1, \n",
    "                                                                     n_iter=1000,\n",
    "                                                                     balance_ratio=balance_ratio,\n",
    "                                                                     success_metric=success_metric,\n",
    "                                                                     single_score=single_metric)\n",
    "    # -----------------------------------------------------------------------------------------------------------------------------\n",
    "    # check if the result gets better\n",
    "    print(X_labeled.shape, X_unlabeled.shape, X_test.shape)\n",
    "    s_metric = utilities.multilabel_classifier(np.vstack(X_labeled), y_labeled, np.vstack(X_test), y_test, \n",
    "                                               success_metric=success_metric,\n",
    "                                               classifier_object = classifier_object, print_results=True)\n",
    "    # comparing the found labels and ground truth\n",
    "    y_true, y_pred = [], []\n",
    "    for _, _, _, y_t, y_p in validation:\n",
    "        y_true.append(list(y_t.values))\n",
    "        y_pred.append(list(y_p.values()))\n",
    "    \n",
    "    acc = 1-hamming_loss(y_true, y_pred)\n",
    "    emr = accuracy_score(y_true, y_pred)  \n",
    "    print('-'*30)\n",
    "    print(f'Exact match ratio : {emr:.2f} ')\n",
    "    print(f'Accuracy          : {acc:.2f} ')\n",
    "    print('-'*30)\n",
    "    \n",
    "    print('*'*100)\n",
    "    print('/'*100)\n",
    "    print('*'*100)"
   ]
  },
  {
   "cell_type": "markdown",
   "id": "e166ff19",
   "metadata": {},
   "source": [
    "'accuracy'\n",
    "'f1_score'\n",
    "'coverage'\n",
    "'label_ranking'\n",
    "'roc_auc_score'\n",
    "'log_loss'\n",
    "'average_precision'\n",
    "'brier_loss'\n",
    "'hamming_loss'\n",
    "'precision'\n",
    "'recall'\n",
    "'zero_one_loss'\n",
    "'label_ranking_average_precision'"
   ]
  },
  {
   "cell_type": "code",
   "execution_count": null,
   "id": "a365747c",
   "metadata": {},
   "outputs": [],
   "source": [
    "main('opp115', embedding_method, classifier_object, sim_type, sim_calculation_type, success_metric, 'coverage', 'v1')"
   ]
  },
  {
   "cell_type": "code",
   "execution_count": null,
   "id": "6a695caa",
   "metadata": {},
   "outputs": [],
   "source": [
    "main('opp115', embedding_method, classifier_object, sim_type, sim_calculation_type, success_metric, 'coverage', 'v2')"
   ]
  },
  {
   "cell_type": "code",
   "execution_count": null,
   "id": "c2d533e7",
   "metadata": {},
   "outputs": [],
   "source": [
    "main('opp115', embedding_method, classifier_object, sim_type, sim_calculation_type, success_metric, 'coverage', 'v3')"
   ]
  },
  {
   "cell_type": "code",
   "execution_count": 6,
   "id": "453970a4",
   "metadata": {
    "scrolled": false
   },
   "outputs": [
    {
     "name": "stdout",
     "output_type": "stream",
     "text": [
      "****************************************************************************************************\n",
      "\u001b[1;31mopp115\u001b[0m\n",
      "(135,) (2584,) (680,)\n",
      "\u001b[1mMultilabel Classifier Results\u001b[0m\n",
      "\u001b[1mLogisticRegression\u001b[0m\n",
      "------------------------------\n",
      "Hamming Loss\n",
      "Training : 0.05\n",
      "Test     : 0.08\n",
      "Exact Match Ratio\n",
      "Training : 0.55\n",
      "Test     : 0.39\n",
      "Macro F1-Score\n",
      "Training : 0.74\n",
      "Test     : 0.64\n",
      "Coverage Error\n",
      "Training : 1.46\n",
      "Test     : 2.06\n",
      "Ranking Loss Error\n",
      "Training : 0.02\n",
      "Test     : 0.07\n",
      "------------------------------\n",
      "\u001b[1mClassification Report\u001b[0m\n",
      "                                      precision    recall  f1-score   support\n",
      "\n",
      "                      Data Retention       0.35      0.74      0.47        19\n",
      "                       Data Security       0.70      0.82      0.76        51\n",
      "                        Do Not Track       0.65      0.92      0.76        12\n",
      "          First Party Collection/Use       0.67      0.72      0.70       218\n",
      "International and Specific Audiences       0.73      0.84      0.78        55\n",
      "                Introductory/Generic       0.44      0.73      0.55        75\n",
      "                       Policy Change       0.65      0.92      0.76        24\n",
      "                Practice not covered       0.40      0.72      0.52        32\n",
      "         Privacy contact information       0.52      0.83      0.64        36\n",
      "      Third Party Sharing/Collection       0.82      0.76      0.79       182\n",
      "      User Access, Edit and Deletion       0.27      0.78      0.40        27\n",
      "                 User Choice/Control       0.55      0.71      0.62        79\n",
      "\n",
      "                           micro avg       0.59      0.76      0.67       810\n",
      "                           macro avg       0.56      0.79      0.64       810\n",
      "                        weighted avg       0.64      0.76      0.68       810\n",
      "                         samples avg       0.65      0.80      0.69       810\n",
      "\n",
      "* * * * * * * * * * * * * * * * * * * * * * * * * * * * * * * * * * * * * * * * * * * * * * * * * * \n",
      "num_of_new_instances :  {'Data Retention': 66, 'Data Security': 30, 'Do Not Track': 31, 'First Party Collection/Use': 11, 'International and Specific Audiences': 24, 'Introductory/Generic': 47, 'Policy Change': 29, 'Practice not covered': 62, 'Privacy contact information': 43, 'Third Party Sharing/Collection': 12, 'User Access, Edit and Deletion': 73, 'User Choice/Control': 42}\n",
      "Shapes --------------\n",
      "(148,) (1975,)\n",
      "(148,) (1975,) (680,)\n",
      "\u001b[1mMultilabel Classifier Results\u001b[0m\n",
      "\u001b[1mLogisticRegression\u001b[0m\n",
      "------------------------------\n",
      "Hamming Loss\n",
      "Training : 0.07\n",
      "Test     : 0.09\n",
      "Exact Match Ratio\n",
      "Training : 0.34\n",
      "Test     : 0.26\n",
      "Macro F1-Score\n",
      "Training : 0.72\n",
      "Test     : 0.62\n",
      "Coverage Error\n",
      "Training : 1.60\n",
      "Test     : 2.07\n",
      "Ranking Loss Error\n",
      "Training : 0.03\n",
      "Test     : 0.07\n",
      "------------------------------\n",
      "\u001b[1mClassification Report\u001b[0m\n",
      "                                      precision    recall  f1-score   support\n",
      "\n",
      "                      Data Retention       0.34      0.74      0.47        19\n",
      "                       Data Security       0.70      0.82      0.76        51\n",
      "                        Do Not Track       0.65      0.92      0.76        12\n",
      "          First Party Collection/Use       0.68      0.72      0.70       218\n",
      "International and Specific Audiences       0.73      0.84      0.78        55\n",
      "                Introductory/Generic       0.44      0.72      0.54        75\n",
      "                       Policy Change       0.65      0.92      0.76        24\n",
      "                Practice not covered       0.40      0.72      0.52        32\n",
      "         Privacy contact information       0.53      0.83      0.65        36\n",
      "      Third Party Sharing/Collection       0.80      0.77      0.79       182\n",
      "      User Access, Edit and Deletion       0.26      0.78      0.39        27\n",
      "                 User Choice/Control       0.23      0.78      0.36        79\n",
      "\n",
      "                           micro avg       0.52      0.77      0.62       810\n",
      "                           macro avg       0.53      0.80      0.62       810\n",
      "                        weighted avg       0.60      0.77      0.66       810\n",
      "                         samples avg       0.57      0.80      0.64       810\n",
      "\n",
      "* * * * * * * * * * * * * * * * * * * * * * * * * * * * * * * * * * * * * * * * * * * * * * * * * * \n",
      "------------------------------\n",
      "Exact match ratio : 0.08 \n",
      "Accuracy          : 0.84 \n",
      "------------------------------\n",
      "****************************************************************************************************\n",
      "////////////////////////////////////////////////////////////////////////////////////////////////////\n",
      "****************************************************************************************************\n"
     ]
    }
   ],
   "source": [
    "main('opp115', embedding_method, classifier_object, sim_type, sim_calculation_type, success_metric, 'coverage', 'v4')"
   ]
  },
  {
   "cell_type": "code",
   "execution_count": 7,
   "id": "c27227a8",
   "metadata": {},
   "outputs": [
    {
     "ename": "NameError",
     "evalue": "name 'ss' is not defined",
     "output_type": "error",
     "traceback": [
      "\u001b[1;31m---------------------------------------------------------------------------\u001b[0m",
      "\u001b[1;31mNameError\u001b[0m                                 Traceback (most recent call last)",
      "Input \u001b[1;32mIn [7]\u001b[0m, in \u001b[0;36m<cell line: 1>\u001b[1;34m()\u001b[0m\n\u001b[1;32m----> 1\u001b[0m \u001b[43mss\u001b[49m\n",
      "\u001b[1;31mNameError\u001b[0m: name 'ss' is not defined"
     ]
    }
   ],
   "source": [
    "ss"
   ]
  },
  {
   "cell_type": "code",
   "execution_count": null,
   "id": "03052345",
   "metadata": {
    "scrolled": false
   },
   "outputs": [],
   "source": [
    "main('opp115', embedding_method, classifier_object, sim_type, sim_calculation_type, success_metric, 'label-ranking')"
   ]
  },
  {
   "cell_type": "code",
   "execution_count": null,
   "id": "88df929d",
   "metadata": {},
   "outputs": [],
   "source": [
    "asdas"
   ]
  },
  {
   "cell_type": "code",
   "execution_count": null,
   "id": "fab2dfb5",
   "metadata": {},
   "outputs": [],
   "source": [
    "# oversampling methods\n",
    "\n",
    "oversample_dataset_v2(num_of_new_instances, X_labeled, y_labeled, X_unlabeled, y_unlabeled, X_test, y_test, sim_calculation_type, batch_size)\n",
    "oversample_dataset_v3(num_of_new_instances, X_labeled, y_labeled, X_unlabeled, y_unlabeled, X_test, y_test, sim_calculation_type, batch_size, n_iter)\n",
    "oversample_dataset_v4(num_of_new_instances, X_labeled, y_labeled, X_unlabeled, y_unlabeled, X_test, y_test, sim_calculation_type, batch_size, n_iter, balance_ratio, success_metric)"
   ]
  },
  {
   "cell_type": "code",
   "execution_count": null,
   "id": "satisfactory-socket",
   "metadata": {
    "scrolled": false
   },
   "outputs": [],
   "source": [
    "for data in data_paths.keys():\n",
    "    main(data, embedding_method, classifier_object, sim_type, sim_calculation_type, success_metric)"
   ]
  },
  {
   "cell_type": "code",
   "execution_count": null,
   "id": "04f970f5",
   "metadata": {},
   "outputs": [],
   "source": [
    "stop"
   ]
  },
  {
   "cell_type": "code",
   "execution_count": null,
   "id": "09141a9d",
   "metadata": {},
   "outputs": [],
   "source": []
  },
  {
   "cell_type": "code",
   "execution_count": null,
   "id": "50d9a2c0",
   "metadata": {},
   "outputs": [],
   "source": []
  },
  {
   "cell_type": "code",
   "execution_count": null,
   "id": "d4b4bd52",
   "metadata": {},
   "outputs": [],
   "source": [
    "import numpy as np"
   ]
  },
  {
   "cell_type": "code",
   "execution_count": null,
   "id": "fallen-klein",
   "metadata": {},
   "outputs": [],
   "source": [
    "df = utilities.read_data(data_paths[data])\n",
    "X = df['text'].apply(preprocess.preprocess_text)\n",
    "y = df.drop(['text'], axis=1)"
   ]
  },
  {
   "cell_type": "code",
   "execution_count": null,
   "id": "removable-niger",
   "metadata": {},
   "outputs": [],
   "source": [
    "y[y[col] == 1].index"
   ]
  },
  {
   "cell_type": "code",
   "execution_count": null,
   "id": "9841b3c7",
   "metadata": {},
   "outputs": [],
   "source": []
  }
 ],
 "metadata": {
  "kernelspec": {
   "display_name": "Python 3 (ipykernel)",
   "language": "python",
   "name": "python3"
  },
  "language_info": {
   "codemirror_mode": {
    "name": "ipython",
    "version": 3
   },
   "file_extension": ".py",
   "mimetype": "text/x-python",
   "name": "python",
   "nbconvert_exporter": "python",
   "pygments_lexer": "ipython3",
   "version": "3.9.12"
  },
  "latex_envs": {
   "LaTeX_envs_menu_present": true,
   "autoclose": false,
   "autocomplete": true,
   "bibliofile": "biblio.bib",
   "cite_by": "apalike",
   "current_citInitial": 1,
   "eqLabelWithNumbers": true,
   "eqNumInitial": 1,
   "hotkeys": {
    "equation": "Ctrl-E",
    "itemize": "Ctrl-I"
   },
   "labels_anchors": false,
   "latex_user_defs": false,
   "report_style_numbering": false,
   "user_envs_cfg": false
  }
 },
 "nbformat": 4,
 "nbformat_minor": 5
}
