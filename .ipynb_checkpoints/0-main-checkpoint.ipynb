{
 "cells": [
  {
   "cell_type": "code",
   "execution_count": 1,
   "id": "8edd5e50",
   "metadata": {
    "scrolled": false
   },
   "outputs": [],
   "source": [
    "import pickle\n",
    "import pandas as pd\n",
    "import numpy as np\n",
    "import utilities\n",
    "import preprocess\n",
    "import parameters\n",
    "\n",
    "from sklearn.metrics import accuracy_score, hamming_loss\n",
    "from sklearn.model_selection import train_test_split\n",
    "from sklearn.svm import LinearSVC\n",
    "from sentence_transformers import util, SentenceTransformer\n",
    "from sklearn.metrics import hamming_loss, accuracy_score, f1_score, classification_report\n",
    "from sklearn.utils.class_weight import compute_class_weight\n",
    "from sklearn.multiclass import OneVsRestClassifier"
   ]
  },
  {
   "cell_type": "code",
   "execution_count": 2,
   "id": "095e9601",
   "metadata": {},
   "outputs": [],
   "source": [
    "import warnings\n",
    "warnings.filterwarnings(\"ignore\")"
   ]
  },
  {
   "cell_type": "markdown",
   "id": "decimal-packing",
   "metadata": {},
   "source": [
    "## parameters"
   ]
  },
  {
   "cell_type": "code",
   "execution_count": 3,
   "id": "f677899c",
   "metadata": {},
   "outputs": [],
   "source": [
    "# importing algorithm parameters\n",
    "balance_ratio = parameters.balance_ratio\n",
    "random_state = parameters.random_state\n",
    "threshold_factor = parameters.threshold_factor\n",
    "test_size = parameters.test_size\n",
    "sim_calculation_type = parameters.sim_calculation_type\n",
    "sim_type = parameters.sim_type\n",
    "success_metric = parameters.success_metric\n",
    "embedding_method = parameters.embedding_method\n",
    "data_paths = parameters.data_paths\n",
    "unlabaled_ratios = parameters.unlabaled_ratios\n",
    "\n",
    "np.random.seed(random_state)"
   ]
  },
  {
   "cell_type": "code",
   "execution_count": 4,
   "id": "hundred-reading",
   "metadata": {},
   "outputs": [],
   "source": [
    "classifier_object = LinearSVC(class_weight='balanced')"
   ]
  },
  {
   "cell_type": "markdown",
   "id": "framed-george",
   "metadata": {},
   "source": [
    "# main"
   ]
  },
  {
   "cell_type": "code",
   "execution_count": 5,
   "id": "british-gross",
   "metadata": {},
   "outputs": [],
   "source": [
    "def main(data, embedding_method, classifier_object, sim_type, sim_calculation_type, success_metric):\n",
    "    print('*'*100)\n",
    "    print('\\x1b[1;31m'+data+'\\x1b[0m')\n",
    "    # reading data\n",
    "    df = utilities.read_data(data_paths[data])\n",
    "    X = df['text'].apply(preprocess.preprocess_text)\n",
    "    y = df.drop(['text'], axis=1)\n",
    "    # ------------------------------------------------------------------------------------------------------------------------------\n",
    "    # reading from a pickle instead of applying vectorization\n",
    "    X_num = utilities.vectorize_data(X, embedding_method)\n",
    "    X_num = pd.Series([np.squeeze(i) for i in X_num])\n",
    "    X_train, X_test, y_train, y_test = train_test_split(X_num, y, test_size=test_size, random_state=random_state)\n",
    "    X_labeled, X_unlabeled, y_labeled, y_unlabeled = train_test_split(X_train, y_train, test_size=unlabaled_ratios[data], \n",
    "                                                                  random_state=random_state)\n",
    "    \n",
    "    print(X_labeled.shape, y_labeled.shape, X_unlabeled.shape, y_unlabeled.shape)\n",
    "    s_metric = utilities.multilabel_classifier(np.vstack(X_labeled), y_labeled, np.vstack(X_test), y_test, \n",
    "                                               classifier_object=classifier_object, success_metric='col_f1-score')\n",
    "    # -----------------------------------------------------------------------------------------------------------------------------\n",
    "    # calculation number of instances to balance dataset\n",
    "    num_of_new_instances = utilities.calculate_balancing_num_instance_multiclass(y_labeled, balance_ratio, \n",
    "                                                                                 calculation_type='metric_based', \n",
    "                                                                                 s_metrics=s_metric)\n",
    "    # -----------------------------------------------------------------------------------------------------------------------------\n",
    "    # oversampling dataset using unlabeled data with the given ratios\n",
    "    print('num_of_new_instances : ',num_of_new_instances)\n",
    "    validation, X_labeled, y_labeled, X_unlabeled, y_unlabeled = utilities.oversample_dataset_v4(\\\n",
    "                                                                 num_of_new_instances, \n",
    "                                                                 X_labeled, y_labeled, \n",
    "                                                                 X_unlabeled, y_unlabeled, \n",
    "                                                                 X_test, y_test, \\\n",
    "                                                                 sim_calculation_type=sim_calculation_type, \n",
    "                                                                 batch_size=1, \n",
    "                                                                 n_iter=5000,\n",
    "                                                                 balance_ratio=balance_ratio,\n",
    "                                                                 success_metric=success_metric)\n",
    "    # -----------------------------------------------------------------------------------------------------------------------------\n",
    "    # check if the result gets better\n",
    "    print(X_labeled.shape, X_unlabeled.shape, X_test.shape)\n",
    "    s_metric = utilities.multilabel_classifier(np.vstack(X_labeled), y_labeled, np.vstack(X_test), y_test, \n",
    "                                               success_metric=success_metric,\n",
    "                                               classifier_object = classifier_object, print_results=True)\n",
    "    # comparing the found labels and ground truth\n",
    "    y_true, y_pred = [], []\n",
    "    for _, _, _, y_t, y_p in validation:\n",
    "        y_true.append(list(y_t.values))\n",
    "        y_pred.append(list(y_p.values()))\n",
    "    \n",
    "    acc = 1-hamming_loss(y_true, y_pred)\n",
    "    emr = accuracy_score(y_true, y_pred)  \n",
    "    print('-'*30)\n",
    "    print(f'Exact match ratio : {emr:.2f} ')\n",
    "    print(f'Accuracy          : {acc:.2f} ')\n",
    "    print('-'*30)\n",
    "    \n",
    "    print('*'*100)\n",
    "    print('/'*100)\n",
    "    print('*'*100)"
   ]
  },
  {
   "cell_type": "code",
   "execution_count": 6,
   "id": "453970a4",
   "metadata": {
    "scrolled": false
   },
   "outputs": [
    {
     "name": "stdout",
     "output_type": "stream",
     "text": [
      "****************************************************************************************************\n",
      "\u001b[1;31mopp115\u001b[0m\n",
      "(679,) (679, 12) (2040,) (2040, 12)\n",
      "num_of_new_instances :  {'Data Retention': 541, 'Data Security': 135, 'Do Not Track': 51, 'First Party Collection/Use': 45, 'International and Specific Audiences': 79, 'Introductory/Generic': 219, 'Policy Change': 119, 'Practice not covered': 480, 'Privacy contact information': 233, 'Third Party Sharing/Collection': 93, 'User Access, Edit and Deletion': 229, 'User Choice/Control': 196}\n",
      "\u001b[1mMultilabel Classifier Results\u001b[0m\n",
      "\u001b[1mLinearSVC\u001b[0m\n",
      "------------------------------\n",
      "Hamming Loss\n",
      "Training : 0.02\n",
      "Test     : 0.05\n",
      "Exact Match Ratio\n",
      "Training : 0.79\n",
      "Test     : 0.56\n",
      "Macro F1-Score\n",
      "Training : 0.85\n",
      "Test     : 0.57\n",
      "------------------------------\n",
      "\u001b[1mClassification Report\u001b[0m\n",
      "                                      precision    recall  f1-score   support\n",
      "\n",
      "                      Data Retention       0.33      0.08      0.12        13\n",
      "                       Data Security       0.88      0.75      0.81        40\n",
      "                        Do Not Track       1.00      0.33      0.50         6\n",
      "          First Party Collection/Use       0.79      0.83      0.81       230\n",
      "International and Specific Audiences       0.92      0.71      0.80        68\n",
      "                Introductory/Generic       0.82      0.47      0.60        76\n",
      "                       Policy Change       0.89      0.77      0.83        22\n",
      "                Practice not covered       0.00      0.00      0.00        24\n",
      "         Privacy contact information       0.82      0.45      0.58        40\n",
      "      Third Party Sharing/Collection       0.79      0.63      0.70       183\n",
      "      User Access, Edit and Deletion       0.83      0.36      0.50        28\n",
      "                 User Choice/Control       0.83      0.52      0.64        66\n",
      "\n",
      "                           micro avg       0.82      0.63      0.71       796\n",
      "                           macro avg       0.74      0.49      0.57       796\n",
      "                        weighted avg       0.79      0.63      0.69       796\n",
      "                         samples avg       0.70      0.66      0.67       796\n",
      "\n",
      "* * * * * * * * * * * * * * * * * * * * * * * * * * * * * * * * * * * * * * * * * * * * * * * * * * \n",
      "adding instances ......   score >  before : 0.5743910281040497  after : 0.5827595997018026\n",
      "adding instances ......   score >  before : 0.5827595997018026  after : 0.5847417880716097\n",
      "adding instances ......   score >  before : 0.5847417880716097  after : 0.6065722687203258\n",
      "adding instances ......   score >  before : 0.6065722687203258  after : 0.6066556854704092\n",
      "adding instances ......   score >  before : 0.6066556854704092  after : 0.6066984103159548\n",
      "adding instances ......   score >  before : 0.6066984103159548  after : 0.6070651470369401\n",
      "adding instances ......   score >  before : 0.6070651470369401  after : 0.6105831467439642\n",
      "adding instances ......   score >  before : 0.6105831467439642  after : 0.6110608972217147\n",
      "adding instances ......   score >  before : 0.6110608972217147  after : 0.6112409822292517\n",
      "adding instances ......   score >  before : 0.6112409822292517  after : 0.6113304264354923\n",
      "adding instances ......   score >  before : 0.6113304264354923  after : 0.6115043713224281\n",
      "adding instances ......   score >  before : 0.6115043713224281  after : 0.6116999365366499\n",
      "adding instances ......   score >  before : 0.6116999365366499  after : 0.6117156642649876\n",
      "adding instances ......   score >  before : 0.6117156642649876  after : 0.6123765916295115\n",
      "adding instances ......   score >  before : 0.6123765916295115  after : 0.6124678229376228\n",
      "adding instances ......   score >  before : 0.6124678229376228  after : 0.6130125036356723\n",
      "adding instances ......   score >  before : 0.6130125036356723  after : 0.6132702989822588\n",
      "adding instances ......   score >  before : 0.6132702989822588  after : 0.6135676700685263\n",
      "adding instances ......   score >  before : 0.6135676700685263  after : 0.6143687480063798\n",
      "adding instances ......   score >  before : 0.6143687480063798  after : 0.6224551844115135\n",
      "adding instances ......   score >  before : 0.6224551844115135  after : 0.623364968718067\n",
      "adding instances ......   score >  before : 0.623364968718067  after : 0.6234750975549483\n",
      "adding instances ......   score >  before : 0.6234750975549483  after : 0.6236887708048955\n",
      "adding instances ......   score >  before : 0.6236887708048955  after : 0.6246901814815679\n",
      "adding instances ......   score >  before : 0.6246901814815679  after : 0.6257874269210377\n",
      "adding instances ......   score >  before : 0.6257874269210377  after : 0.6261591945351113\n",
      "adding instances ......   score >  before : 0.6261591945351113  after : 0.626373325346257\n",
      "adding instances ......   score >  before : 0.626373325346257  after : 0.6266150135283101\n",
      "adding instances ......   score >  before : 0.6266150135283101  after : 0.6276799152877827\n",
      "adding instances ......   score >  before : 0.6276799152877827  after : 0.6287085502613717\n",
      "adding instances ......   score >  before : 0.6287085502613717  after : 0.6291488700012444\n",
      "adding instances ......   score >  before : 0.6291488700012444  after : 0.6292903932218207\n",
      "adding instances ......   score >  before : 0.6292903932218207  after : 0.6299092401022698\n",
      "adding instances ......   score >  before : 0.6299092401022698  after : 0.6300505498755908\n",
      "adding instances ......   score >  before : 0.6300505498755908  after : 0.630089869809939\n",
      "adding instances ......   score >  before : 0.630089869809939  after : 0.6304475236010691\n",
      "adding instances ......   score >  before : 0.6304475236010691  after : 0.6319113067389496\n",
      "adding instances ......   score >  before : 0.6319113067389496  after : 0.632708024930522\n",
      "adding instances ......   score >  before : 0.632708024930522  after : 0.6328086451308477\n",
      "adding instances ......   score >  before : 0.6328086451308477  after : 0.6343276756821362\n",
      "adding instances ......   score >  before : 0.6343276756821362  after : 0.6351414720273975\n",
      "adding instances ......   score >  before : 0.6351414720273975  after : 0.6353576025979514\n",
      "adding instances ......   score >  before : 0.6353576025979514  after : 0.635820763678922\n",
      "adding instances ......   score >  before : 0.635820763678922  after : 0.6359630560474362\n",
      "adding instances ......   score >  before : 0.6359630560474362  after : 0.6419564037000044\n",
      "adding instances ......   score >  before : 0.6419564037000044  after : 0.6420991509009181\n",
      "adding instances ......   score >  before : 0.6420991509009181  after : 0.6430098977133042\n",
      "adding instances ......   score >  before : 0.6430098977133042  after : 0.6440636495697725\n",
      "adding instances ......   score >  before : 0.6440636495697725  after : 0.644206396770686\n",
      "adding instances ......   score >  before : 0.644206396770686  after : 0.6442221640625261\n",
      "adding instances ......   score >  before : 0.6442221640625261  after : 0.6444713257076381\n",
      "adding instances ......   score >  before : 0.6444713257076381  after : 0.6446151529263496\n",
      "Shapes --------------\n",
      "(731,) (1117,)\n",
      "(731,) (1117,) (680,)\n",
      "\u001b[1mMultilabel Classifier Results\u001b[0m\n",
      "\u001b[1mLinearSVC\u001b[0m\n",
      "------------------------------\n",
      "Hamming Loss\n",
      "Training : 0.03\n",
      "Test     : 0.08\n",
      "Exact Match Ratio\n",
      "Training : 0.66\n",
      "Test     : 0.38\n",
      "Macro F1-Score\n",
      "Training : 0.86\n",
      "Test     : 0.59\n",
      "------------------------------\n",
      "\u001b[1mClassification Report\u001b[0m\n",
      "                                      precision    recall  f1-score   support\n",
      "\n",
      "                      Data Retention       0.02      0.08      0.03        13\n",
      "                       Data Security       0.68      0.85      0.76        40\n",
      "                        Do Not Track       0.55      1.00      0.71         6\n",
      "          First Party Collection/Use       0.72      0.87      0.79       230\n",
      "International and Specific Audiences       0.91      0.90      0.90        68\n",
      "                Introductory/Generic       0.38      0.67      0.49        76\n",
      "                       Policy Change       0.77      0.91      0.83        22\n",
      "                Practice not covered       0.09      0.21      0.13        24\n",
      "         Privacy contact information       0.47      0.70      0.56        40\n",
      "      Third Party Sharing/Collection       0.68      0.72      0.70       183\n",
      "      User Access, Edit and Deletion       0.64      0.64      0.64        28\n",
      "                 User Choice/Control       0.38      0.68      0.49        66\n",
      "\n",
      "                           micro avg       0.56      0.76      0.64       796\n",
      "                           macro avg       0.52      0.69      0.59       796\n",
      "                        weighted avg       0.62      0.76      0.67       796\n",
      "                         samples avg       0.61      0.78      0.66       796\n",
      "\n",
      "* * * * * * * * * * * * * * * * * * * * * * * * * * * * * * * * * * * * * * * * * * * * * * * * * * \n",
      "------------------------------\n",
      "Exact match ratio : 0.17 \n",
      "Accuracy          : 0.82 \n",
      "------------------------------\n",
      "****************************************************************************************************\n",
      "////////////////////////////////////////////////////////////////////////////////////////////////////\n",
      "****************************************************************************************************\n"
     ]
    }
   ],
   "source": [
    "main('opp115', embedding_method, classifier_object, sim_type, sim_calculation_type, success_metric)"
   ]
  },
  {
   "cell_type": "code",
   "execution_count": 7,
   "id": "fab2dfb5",
   "metadata": {},
   "outputs": [
    {
     "ename": "NameError",
     "evalue": "name 'oversample_dataset_v1' is not defined",
     "output_type": "error",
     "traceback": [
      "\u001b[1;31m---------------------------------------------------------------------------\u001b[0m",
      "\u001b[1;31mNameError\u001b[0m                                 Traceback (most recent call last)",
      "Input \u001b[1;32mIn [7]\u001b[0m, in \u001b[0;36m<cell line: 2>\u001b[1;34m()\u001b[0m\n\u001b[0;32m      1\u001b[0m \u001b[38;5;66;03m# oversampling methods\u001b[39;00m\n\u001b[1;32m----> 2\u001b[0m \u001b[43moversample_dataset_v1\u001b[49m(num_of_new_instances, X_labeled, y_labeled, X_unlabeled, y_unlabeled, X_test, y_test, sim_calculation_type, batch_size)\n\u001b[0;32m      3\u001b[0m oversample_dataset_v2(num_of_new_instances, X_labeled, y_labeled, X_unlabeled, y_unlabeled, X_test, y_test, sim_calculation_type, batch_size)\n\u001b[0;32m      4\u001b[0m oversample_dataset_v3(num_of_new_instances, X_labeled, y_labeled, X_unlabeled, y_unlabeled, X_test, y_test, sim_calculation_type, batch_size, n_iter)\n",
      "\u001b[1;31mNameError\u001b[0m: name 'oversample_dataset_v1' is not defined"
     ]
    }
   ],
   "source": [
    "# oversampling methods\n",
    "oversample_dataset_v1(num_of_new_instances, X_labeled, y_labeled, X_unlabeled, y_unlabeled, X_test, y_test, sim_calculation_type, batch_size)\n",
    "oversample_dataset_v2(num_of_new_instances, X_labeled, y_labeled, X_unlabeled, y_unlabeled, X_test, y_test, sim_calculation_type, batch_size)\n",
    "oversample_dataset_v3(num_of_new_instances, X_labeled, y_labeled, X_unlabeled, y_unlabeled, X_test, y_test, sim_calculation_type, batch_size, n_iter)\n",
    "oversample_dataset_v4(num_of_new_instances, X_labeled, y_labeled, X_unlabeled, y_unlabeled, X_test, y_test, sim_calculation_type, batch_size, n_iter, balance_ratio, success_metric)"
   ]
  },
  {
   "cell_type": "code",
   "execution_count": null,
   "id": "satisfactory-socket",
   "metadata": {
    "scrolled": false
   },
   "outputs": [],
   "source": [
    "for data in data_paths.keys():\n",
    "    main(data, embedding_method, classifier_object, sim_type, sim_calculation_type, success_metric)"
   ]
  },
  {
   "cell_type": "code",
   "execution_count": null,
   "id": "04f970f5",
   "metadata": {},
   "outputs": [],
   "source": [
    "stop"
   ]
  },
  {
   "cell_type": "code",
   "execution_count": null,
   "id": "09141a9d",
   "metadata": {},
   "outputs": [],
   "source": []
  },
  {
   "cell_type": "code",
   "execution_count": null,
   "id": "50d9a2c0",
   "metadata": {},
   "outputs": [],
   "source": []
  },
  {
   "cell_type": "code",
   "execution_count": null,
   "id": "d4b4bd52",
   "metadata": {},
   "outputs": [],
   "source": [
    "import numpy as np"
   ]
  },
  {
   "cell_type": "code",
   "execution_count": null,
   "id": "fallen-klein",
   "metadata": {},
   "outputs": [],
   "source": [
    "df = utilities.read_data(data_paths[data])\n",
    "X = df['text'].apply(preprocess.preprocess_text)\n",
    "y = df.drop(['text'], axis=1)"
   ]
  },
  {
   "cell_type": "code",
   "execution_count": null,
   "id": "removable-niger",
   "metadata": {},
   "outputs": [],
   "source": [
    "y[y[col] == 1].index"
   ]
  },
  {
   "cell_type": "code",
   "execution_count": null,
   "id": "9841b3c7",
   "metadata": {},
   "outputs": [],
   "source": []
  }
 ],
 "metadata": {
  "kernelspec": {
   "display_name": "Python 3 (ipykernel)",
   "language": "python",
   "name": "python3"
  },
  "language_info": {
   "codemirror_mode": {
    "name": "ipython",
    "version": 3
   },
   "file_extension": ".py",
   "mimetype": "text/x-python",
   "name": "python",
   "nbconvert_exporter": "python",
   "pygments_lexer": "ipython3",
   "version": "3.9.12"
  },
  "latex_envs": {
   "LaTeX_envs_menu_present": true,
   "autoclose": false,
   "autocomplete": true,
   "bibliofile": "biblio.bib",
   "cite_by": "apalike",
   "current_citInitial": 1,
   "eqLabelWithNumbers": true,
   "eqNumInitial": 1,
   "hotkeys": {
    "equation": "Ctrl-E",
    "itemize": "Ctrl-I"
   },
   "labels_anchors": false,
   "latex_user_defs": false,
   "report_style_numbering": false,
   "user_envs_cfg": false
  }
 },
 "nbformat": 4,
 "nbformat_minor": 5
}
