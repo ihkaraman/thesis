{
 "cells": [
  {
   "cell_type": "code",
   "execution_count": 1,
   "metadata": {},
   "outputs": [],
   "source": [
    "import pandas as pd\n",
    "import numpy as np\n",
    "import preprocess\n",
    "import matplotlib.pyplot as plt"
   ]
  },
  {
   "cell_type": "code",
   "execution_count": 2,
   "metadata": {},
   "outputs": [],
   "source": [
    "col_names = ['Data Retention', 'Data Security', 'Do Not Track',\n",
    "       'First Party Collection/Use', 'International and Specific Audiences',\n",
    "       'Introductory/Generic', 'Policy Change', 'Practice not covered',\n",
    "       'Privacy contact information', 'Third Party Sharing/Collection',\n",
    "       'User Access, Edit and Deletion', 'User Choice/Control']"
   ]
  },
  {
   "cell_type": "code",
   "execution_count": 3,
   "metadata": {},
   "outputs": [],
   "source": [
    "majority_path = r'C:\\Users\\IsmailKaraman\\workspace\\data\\privacy_policy_data\\OPP-115_v2\\majority.csv'"
   ]
  },
  {
   "cell_type": "code",
   "execution_count": 4,
   "metadata": {},
   "outputs": [],
   "source": [
    "df = pd.read_csv(majority_path)"
   ]
  },
  {
   "cell_type": "code",
   "execution_count": 5,
   "metadata": {},
   "outputs": [
    {
     "data": {
      "text/html": [
       "<div>\n",
       "<style scoped>\n",
       "    .dataframe tbody tr th:only-of-type {\n",
       "        vertical-align: middle;\n",
       "    }\n",
       "\n",
       "    .dataframe tbody tr th {\n",
       "        vertical-align: top;\n",
       "    }\n",
       "\n",
       "    .dataframe thead th {\n",
       "        text-align: right;\n",
       "    }\n",
       "</style>\n",
       "<table border=\"1\" class=\"dataframe\">\n",
       "  <thead>\n",
       "    <tr style=\"text-align: right;\">\n",
       "      <th></th>\n",
       "      <th>text</th>\n",
       "      <th>Data Retention</th>\n",
       "      <th>Data Security</th>\n",
       "      <th>Do Not Track</th>\n",
       "      <th>First Party Collection/Use</th>\n",
       "      <th>International and Specific Audiences</th>\n",
       "      <th>Introductory/Generic</th>\n",
       "      <th>Policy Change</th>\n",
       "      <th>Practice not covered</th>\n",
       "      <th>Privacy contact information</th>\n",
       "      <th>Third Party Sharing/Collection</th>\n",
       "      <th>User Access, Edit and Deletion</th>\n",
       "      <th>User Choice/Control</th>\n",
       "    </tr>\n",
       "  </thead>\n",
       "  <tbody>\n",
       "    <tr>\n",
       "      <th>0</th>\n",
       "      <td>\"\"Contact Us\"\" Link If you contact us through...</td>\n",
       "      <td>0</td>\n",
       "      <td>0</td>\n",
       "      <td>0</td>\n",
       "      <td>1</td>\n",
       "      <td>0</td>\n",
       "      <td>0</td>\n",
       "      <td>0</td>\n",
       "      <td>0</td>\n",
       "      <td>0</td>\n",
       "      <td>0</td>\n",
       "      <td>0</td>\n",
       "      <td>0</td>\n",
       "    </tr>\n",
       "    <tr>\n",
       "      <th>1</th>\n",
       "      <td>(b) Information automatically collected There...</td>\n",
       "      <td>0</td>\n",
       "      <td>0</td>\n",
       "      <td>0</td>\n",
       "      <td>1</td>\n",
       "      <td>0</td>\n",
       "      <td>0</td>\n",
       "      <td>0</td>\n",
       "      <td>0</td>\n",
       "      <td>0</td>\n",
       "      <td>0</td>\n",
       "      <td>0</td>\n",
       "      <td>0</td>\n",
       "    </tr>\n",
       "    <tr>\n",
       "      <th>2</th>\n",
       "      <td>(ii) You have entered a contest or sweepstake...</td>\n",
       "      <td>0</td>\n",
       "      <td>0</td>\n",
       "      <td>0</td>\n",
       "      <td>0</td>\n",
       "      <td>0</td>\n",
       "      <td>0</td>\n",
       "      <td>0</td>\n",
       "      <td>0</td>\n",
       "      <td>0</td>\n",
       "      <td>1</td>\n",
       "      <td>0</td>\n",
       "      <td>0</td>\n",
       "    </tr>\n",
       "    <tr>\n",
       "      <th>3</th>\n",
       "      <td>*Web Beacons: Military Web pages and the Web ...</td>\n",
       "      <td>0</td>\n",
       "      <td>0</td>\n",
       "      <td>0</td>\n",
       "      <td>1</td>\n",
       "      <td>0</td>\n",
       "      <td>0</td>\n",
       "      <td>0</td>\n",
       "      <td>0</td>\n",
       "      <td>0</td>\n",
       "      <td>1</td>\n",
       "      <td>0</td>\n",
       "      <td>0</td>\n",
       "    </tr>\n",
       "    <tr>\n",
       "      <th>4</th>\n",
       "      <td>1. INFORMATION WE COLLECT We collect the foll...</td>\n",
       "      <td>0</td>\n",
       "      <td>0</td>\n",
       "      <td>0</td>\n",
       "      <td>0</td>\n",
       "      <td>0</td>\n",
       "      <td>1</td>\n",
       "      <td>0</td>\n",
       "      <td>0</td>\n",
       "      <td>0</td>\n",
       "      <td>0</td>\n",
       "      <td>0</td>\n",
       "      <td>0</td>\n",
       "    </tr>\n",
       "  </tbody>\n",
       "</table>\n",
       "</div>"
      ],
      "text/plain": [
       "                                                text  Data Retention  \\\n",
       "0   \"\"Contact Us\"\" Link If you contact us through...               0   \n",
       "1   (b) Information automatically collected There...               0   \n",
       "2   (ii) You have entered a contest or sweepstake...               0   \n",
       "3   *Web Beacons: Military Web pages and the Web ...               0   \n",
       "4   1. INFORMATION WE COLLECT We collect the foll...               0   \n",
       "\n",
       "   Data Security  Do Not Track  First Party Collection/Use  \\\n",
       "0              0             0                           1   \n",
       "1              0             0                           1   \n",
       "2              0             0                           0   \n",
       "3              0             0                           1   \n",
       "4              0             0                           0   \n",
       "\n",
       "   International and Specific Audiences  Introductory/Generic  Policy Change  \\\n",
       "0                                     0                     0              0   \n",
       "1                                     0                     0              0   \n",
       "2                                     0                     0              0   \n",
       "3                                     0                     0              0   \n",
       "4                                     0                     1              0   \n",
       "\n",
       "   Practice not covered  Privacy contact information  \\\n",
       "0                     0                            0   \n",
       "1                     0                            0   \n",
       "2                     0                            0   \n",
       "3                     0                            0   \n",
       "4                     0                            0   \n",
       "\n",
       "   Third Party Sharing/Collection  User Access, Edit and Deletion  \\\n",
       "0                               0                               0   \n",
       "1                               0                               0   \n",
       "2                               1                               0   \n",
       "3                               1                               0   \n",
       "4                               0                               0   \n",
       "\n",
       "   User Choice/Control  \n",
       "0                    0  \n",
       "1                    0  \n",
       "2                    0  \n",
       "3                    0  \n",
       "4                    0  "
      ]
     },
     "execution_count": 5,
     "metadata": {},
     "output_type": "execute_result"
    }
   ],
   "source": [
    "df.head()"
   ]
  },
  {
   "cell_type": "code",
   "execution_count": 6,
   "metadata": {},
   "outputs": [
    {
     "data": {
      "text/plain": [
       "Data Retention                            78\n",
       "Data Security                            207\n",
       "Do Not Track                              31\n",
       "First Party Collection/Use              1181\n",
       "International and Specific Audiences     296\n",
       "Introductory/Generic                     378\n",
       "Policy Change                            116\n",
       "Practice not covered                     129\n",
       "Privacy contact information              202\n",
       "Third Party Sharing/Collection           931\n",
       "User Access, Edit and Deletion           147\n",
       "User Choice/Control                      352\n",
       "dtype: int64"
      ]
     },
     "execution_count": 6,
     "metadata": {},
     "output_type": "execute_result"
    }
   ],
   "source": [
    "data_dist = df[col_names].sum()\n",
    "data_dist"
   ]
  },
  {
   "cell_type": "code",
   "execution_count": 7,
   "metadata": {},
   "outputs": [
    {
     "data": {
      "text/plain": [
       "<matplotlib.axes._subplots.AxesSubplot at 0x1e34a657070>"
      ]
     },
     "execution_count": 7,
     "metadata": {},
     "output_type": "execute_result"
    },
    {
     "data": {
      "image/png": "[encoded data removed]",
      "text/plain": [
       "<Figure size 432x288 with 1 Axes>"
      ]
     },
     "metadata": {
      "needs_background": "light"
     },
     "output_type": "display_data"
    }
   ],
   "source": [
    "data_dist.sort_values().plot(kind='barh')"
   ]
  },
  {
   "cell_type": "code",
   "execution_count": 8,
   "metadata": {},
   "outputs": [
    {
     "data": {
      "text/plain": [
       "<matplotlib.axes._subplots.AxesSubplot at 0x1e34adbc7f0>"
      ]
     },
     "execution_count": 8,
     "metadata": {},
     "output_type": "execute_result"
    },
    {
     "data": {
      "image/png": "[encoded data removed]",
      "text/plain": [
       "<Figure size 432x288 with 1 Axes>"
      ]
     },
     "metadata": {
      "needs_background": "light"
     },
     "output_type": "display_data"
    }
   ],
   "source": [
    "df[col_names].sum(axis=1).value_counts().plot(kind='bar')"
   ]
  },
  {
   "cell_type": "code",
   "execution_count": 9,
   "metadata": {},
   "outputs": [
    {
     "data": {
      "text/plain": [
       "(3399, 13)"
      ]
     },
     "execution_count": 9,
     "metadata": {},
     "output_type": "execute_result"
    }
   ],
   "source": [
    "df.shape"
   ]
  },
  {
   "cell_type": "code",
   "execution_count": 10,
   "metadata": {},
   "outputs": [],
   "source": [
    "# preprocessing text data\n",
    "df['text'] = df['text'].apply(preprocess.preprocess_text)"
   ]
  },
  {
   "cell_type": "code",
   "execution_count": 11,
   "metadata": {},
   "outputs": [],
   "source": [
    "X = df['text']\n",
    "y = df[col_names]"
   ]
  },
  {
   "cell_type": "code",
   "execution_count": 12,
   "metadata": {},
   "outputs": [],
   "source": [
    "from sklearn.feature_extraction.text import TfidfVectorizer\n",
    "\n",
    "vectorizer = TfidfVectorizer()\n",
    "X = vectorizer.fit_transform(X).toarray()"
   ]
  },
  {
   "cell_type": "markdown",
   "metadata": {},
   "source": [
    "# a base classifier"
   ]
  },
  {
   "cell_type": "code",
   "execution_count": 13,
   "metadata": {},
   "outputs": [],
   "source": [
    "def print_losses(y_test, preds, clf):\n",
    "     \n",
    "    print(\"\\033[1m\" + clf + ' results: ' + \"\\033[0m\")\n",
    "    print('----------------------')\n",
    "    hamLoss = hamming_loss(y_test.values, preds)\n",
    "    print('hamLoss: {:.2f}'.format(hamLoss))\n",
    "    acc_score = accuracy_score(y_test.values, preds)\n",
    "    print('Exact Match Ratio: {:.2f}'.format(acc_score))\n",
    "    print('-----------------------------------------------')\n",
    "    print(\"\\033[1m\" + 'Classification Report' + \"\\033[0m\")\n",
    "    print(classification_report(y_test.values, preds, target_names=list(y_test.columns)))\n",
    "    print('--------------------------------------------------------------------------------------------')\n",
    "    print()"
   ]
  },
  {
   "cell_type": "code",
   "execution_count": 14,
   "metadata": {},
   "outputs": [],
   "source": [
    "from sklearn.metrics import accuracy_score, precision_score, recall_score, f1_score, confusion_matrix, hamming_loss\n",
    "from sklearn.metrics import classification_report\n",
    "from sklearn.multiclass import OneVsRestClassifier\n",
    "from sklearn.svm import LinearSVC\n",
    "from sklearn.linear_model import LogisticRegression\n",
    "from sklearn.naive_bayes import MultinomialNB\n",
    "from sklearn.ensemble import GradientBoostingClassifier\n",
    "from sklearn.ensemble import RandomForestClassifier\n",
    "from sklearn.discriminant_analysis import LinearDiscriminantAnalysis\n",
    "from sklearn.naive_bayes import GaussianNB\n",
    "from sklearn.tree import DecisionTreeClassifier, ExtraTreeClassifier\n",
    "from sklearn.svm import SVC\n",
    "from sklearn.ensemble import AdaBoostClassifier\n",
    "from sklearn.neighbors import KNeighborsClassifier\n",
    "from sklearn.model_selection import train_test_split"
   ]
  },
  {
   "cell_type": "code",
   "execution_count": 15,
   "metadata": {},
   "outputs": [],
   "source": [
    "X_train, X_test, y_train, y_test = train_test_split(X, y, test_size=0.2, random_state=0)"
   ]
  },
  {
   "cell_type": "code",
   "execution_count": 16,
   "metadata": {},
   "outputs": [],
   "source": [
    "def calculating_class_weights(y_true):\n",
    "    from sklearn.utils.class_weight import compute_class_weight\n",
    "    number_dim = np.shape(y_true)[1]\n",
    "    weights = []\n",
    "    for i in range(number_dim):\n",
    "        weights.append(dict(zip([0,1], compute_class_weight('balanced', [0.,1.], y_true[:, i]))))\n",
    "        # weights[i] = compute_class_weight('balanced', [0.,1.], y_true[:, i])))\n",
    "    return weights"
   ]
  },
  {
   "cell_type": "code",
   "execution_count": 17,
   "metadata": {},
   "outputs": [
    {
     "name": "stderr",
     "output_type": "stream",
     "text": [
      "C:\\ProgramData\\Anaconda3\\lib\\site-packages\\sklearn\\utils\\validation.py:70: FutureWarning: Pass classes=[0.0, 1.0], y=[0 0 0 ... 0 0 0] as keyword args. From version 1.0 (renaming of 0.25) passing these as positional arguments will result in an error\n",
      "  warnings.warn(f\"Pass {args_msg} as keyword args. From version \"\n",
      "C:\\ProgramData\\Anaconda3\\lib\\site-packages\\sklearn\\utils\\validation.py:70: FutureWarning: Pass classes=[0.0, 1.0], y=[1 1 0 ... 0 0 0] as keyword args. From version 1.0 (renaming of 0.25) passing these as positional arguments will result in an error\n",
      "  warnings.warn(f\"Pass {args_msg} as keyword args. From version \"\n",
      "C:\\ProgramData\\Anaconda3\\lib\\site-packages\\sklearn\\utils\\validation.py:70: FutureWarning: Pass classes=[0.0, 1.0], y=[0 0 1 ... 1 1 1] as keyword args. From version 1.0 (renaming of 0.25) passing these as positional arguments will result in an error\n",
      "  warnings.warn(f\"Pass {args_msg} as keyword args. From version \"\n"
     ]
    },
    {
     "data": {
      "text/plain": [
       "[{0: 0.511743450767841, 1: 21.78846153846154},\n",
       " {0: 0.5324248120300752, 1: 8.210144927536232},\n",
       " {0: 0.5046021377672208, 1: 54.82258064516129},\n",
       " {0: 0.7662308385933273, 1: 1.439034716342083},\n",
       " {0: 0.5476957782790848, 1: 5.741554054054054},\n",
       " {0: 0.5625620655412115, 1: 4.496031746031746},\n",
       " {0: 0.5176667681998173, 1: 14.650862068965518},\n",
       " {0: 0.5197247706422018, 1: 13.174418604651162},\n",
       " {0: 0.5315921176102596, 1: 8.413366336633663},\n",
       " {0: 0.688614262560778, 1: 1.8254564983888293},\n",
       " {0: 0.5226014760147601, 1: 11.561224489795919},\n",
       " {0: 0.5577617328519856, 1: 4.828125}]"
      ]
     },
     "execution_count": 17,
     "metadata": {},
     "output_type": "execute_result"
    }
   ],
   "source": [
    "class_weights = calculating_class_weights(y.values)\n",
    "class_weights"
   ]
  },
  {
   "cell_type": "code",
   "execution_count": 18,
   "metadata": {
    "scrolled": true
   },
   "outputs": [
    {
     "name": "stdout",
     "output_type": "stream",
     "text": [
      "\u001b[1mLinear SVM Classifier results: \u001b[0m\n",
      "----------------------\n",
      "hamLoss: 0.05\n",
      "Exact Match Ratio: 0.58\n",
      "-----------------------------------------------\n",
      "\u001b[1mClassification Report\u001b[0m\n",
      "                                      precision    recall  f1-score   support\n",
      "\n",
      "                      Data Retention       0.40      0.18      0.25        11\n",
      "                       Data Security       0.85      0.75      0.80        44\n",
      "                        Do Not Track       1.00      0.75      0.86         8\n",
      "          First Party Collection/Use       0.80      0.86      0.83       237\n",
      "International and Specific Audiences       0.87      0.92      0.89        60\n",
      "                Introductory/Generic       0.62      0.73      0.67        75\n",
      "                       Policy Change       0.77      0.85      0.81        27\n",
      "                Practice not covered       0.33      0.30      0.32        23\n",
      "         Privacy contact information       0.67      0.75      0.71        32\n",
      "      Third Party Sharing/Collection       0.75      0.73      0.74       181\n",
      "      User Access, Edit and Deletion       0.65      0.68      0.67        19\n",
      "                 User Choice/Control       0.68      0.72      0.70        79\n",
      "\n",
      "                           micro avg       0.74      0.77      0.76       796\n",
      "                           macro avg       0.70      0.69      0.69       796\n",
      "                        weighted avg       0.74      0.77      0.75       796\n",
      "                         samples avg       0.76      0.80      0.76       796\n",
      "\n",
      "--------------------------------------------------------------------------------------------\n",
      "\n"
     ]
    },
    {
     "name": "stderr",
     "output_type": "stream",
     "text": [
      "C:\\ProgramData\\Anaconda3\\lib\\site-packages\\sklearn\\metrics\\_classification.py:1248: UndefinedMetricWarning: Precision and F-score are ill-defined and being set to 0.0 in samples with no predicted labels. Use `zero_division` parameter to control this behavior.\n",
      "  _warn_prf(average, modifier, msg_start, len(result))\n"
     ]
    },
    {
     "name": "stdout",
     "output_type": "stream",
     "text": [
      "\u001b[1mSVM Classifier results: \u001b[0m\n",
      "----------------------\n",
      "hamLoss: 0.04\n",
      "Exact Match Ratio: 0.61\n",
      "-----------------------------------------------\n",
      "\u001b[1mClassification Report\u001b[0m\n",
      "                                      precision    recall  f1-score   support\n",
      "\n",
      "                      Data Retention       1.00      0.18      0.31        11\n",
      "                       Data Security       0.93      0.57      0.70        44\n",
      "                        Do Not Track       1.00      0.62      0.77         8\n",
      "          First Party Collection/Use       0.83      0.88      0.85       237\n",
      "International and Specific Audiences       0.96      0.83      0.89        60\n",
      "                Introductory/Generic       0.75      0.57      0.65        75\n",
      "                       Policy Change       0.92      0.81      0.86        27\n",
      "                Practice not covered       0.33      0.09      0.14        23\n",
      "         Privacy contact information       0.88      0.66      0.75        32\n",
      "      Third Party Sharing/Collection       0.82      0.73      0.77       181\n",
      "      User Access, Edit and Deletion       0.83      0.53      0.65        19\n",
      "                 User Choice/Control       0.82      0.57      0.67        79\n",
      "\n",
      "                           micro avg       0.84      0.71      0.77       796\n",
      "                           macro avg       0.84      0.59      0.67       796\n",
      "                        weighted avg       0.83      0.71      0.76       796\n",
      "                         samples avg       0.75      0.74      0.73       796\n",
      "\n",
      "--------------------------------------------------------------------------------------------\n",
      "\n"
     ]
    },
    {
     "name": "stderr",
     "output_type": "stream",
     "text": [
      "C:\\ProgramData\\Anaconda3\\lib\\site-packages\\sklearn\\metrics\\_classification.py:1248: UndefinedMetricWarning: Precision and F-score are ill-defined and being set to 0.0 in samples with no predicted labels. Use `zero_division` parameter to control this behavior.\n",
      "  _warn_prf(average, modifier, msg_start, len(result))\n"
     ]
    },
    {
     "name": "stdout",
     "output_type": "stream",
     "text": [
      "\u001b[1mLogistic Regression Classifier results: \u001b[0m\n",
      "----------------------\n",
      "hamLoss: 0.05\n",
      "Exact Match Ratio: 0.53\n",
      "-----------------------------------------------\n",
      "\u001b[1mClassification Report\u001b[0m\n",
      "                                      precision    recall  f1-score   support\n",
      "\n",
      "                      Data Retention       0.21      0.27      0.24        11\n",
      "                       Data Security       0.83      0.77      0.80        44\n",
      "                        Do Not Track       1.00      0.88      0.93         8\n",
      "          First Party Collection/Use       0.77      0.88      0.82       237\n",
      "International and Specific Audiences       0.92      0.93      0.93        60\n",
      "                Introductory/Generic       0.53      0.79      0.63        75\n",
      "                       Policy Change       0.66      0.93      0.77        27\n",
      "                Practice not covered       0.23      0.43      0.30        23\n",
      "         Privacy contact information       0.52      0.84      0.64        32\n",
      "      Third Party Sharing/Collection       0.75      0.80      0.77       181\n",
      "      User Access, Edit and Deletion       0.50      0.74      0.60        19\n",
      "                 User Choice/Control       0.70      0.78      0.74        79\n",
      "\n",
      "                           micro avg       0.68      0.82      0.74       796\n",
      "                           macro avg       0.63      0.75      0.68       796\n",
      "                        weighted avg       0.71      0.82      0.75       796\n",
      "                         samples avg       0.74      0.84      0.76       796\n",
      "\n",
      "--------------------------------------------------------------------------------------------\n",
      "\n"
     ]
    },
    {
     "name": "stderr",
     "output_type": "stream",
     "text": [
      "C:\\ProgramData\\Anaconda3\\lib\\site-packages\\sklearn\\metrics\\_classification.py:1248: UndefinedMetricWarning: Precision and F-score are ill-defined and being set to 0.0 in samples with no predicted labels. Use `zero_division` parameter to control this behavior.\n",
      "  _warn_prf(average, modifier, msg_start, len(result))\n"
     ]
    },
    {
     "name": "stdout",
     "output_type": "stream",
     "text": [
      "\u001b[1mDecision Tree Classifier results: \u001b[0m\n",
      "----------------------\n",
      "hamLoss: 0.08\n",
      "Exact Match Ratio: 0.40\n",
      "-----------------------------------------------\n",
      "\u001b[1mClassification Report\u001b[0m\n",
      "                                      precision    recall  f1-score   support\n",
      "\n",
      "                      Data Retention       0.35      0.55      0.43        11\n",
      "                       Data Security       0.58      0.64      0.61        44\n",
      "                        Do Not Track       0.83      0.62      0.71         8\n",
      "          First Party Collection/Use       0.64      0.71      0.67       237\n",
      "International and Specific Audiences       0.82      0.92      0.87        60\n",
      "                Introductory/Generic       0.43      0.59      0.49        75\n",
      "                       Policy Change       0.67      0.74      0.70        27\n",
      "                Practice not covered       0.17      0.35      0.23        23\n",
      "         Privacy contact information       0.41      0.75      0.53        32\n",
      "      Third Party Sharing/Collection       0.70      0.74      0.72       181\n",
      "      User Access, Edit and Deletion       0.37      0.58      0.45        19\n",
      "                 User Choice/Control       0.56      0.61      0.59        79\n",
      "\n",
      "                           micro avg       0.58      0.69      0.63       796\n",
      "                           macro avg       0.54      0.65      0.58       796\n",
      "                        weighted avg       0.60      0.69      0.64       796\n",
      "                         samples avg       0.59      0.72      0.62       796\n",
      "\n",
      "--------------------------------------------------------------------------------------------\n",
      "\n"
     ]
    },
    {
     "name": "stderr",
     "output_type": "stream",
     "text": [
      "C:\\ProgramData\\Anaconda3\\lib\\site-packages\\sklearn\\metrics\\_classification.py:1248: UndefinedMetricWarning: Precision and F-score are ill-defined and being set to 0.0 in samples with no predicted labels. Use `zero_division` parameter to control this behavior.\n",
      "  _warn_prf(average, modifier, msg_start, len(result))\n"
     ]
    },
    {
     "name": "stdout",
     "output_type": "stream",
     "text": [
      "\u001b[1mRandom Forest Classifier results: \u001b[0m\n",
      "----------------------\n",
      "hamLoss: 0.06\n",
      "Exact Match Ratio: 0.48\n",
      "-----------------------------------------------\n",
      "\u001b[1mClassification Report\u001b[0m\n",
      "                                      precision    recall  f1-score   support\n",
      "\n",
      "                      Data Retention       0.67      0.18      0.29        11\n",
      "                       Data Security       0.95      0.48      0.64        44\n",
      "                        Do Not Track       1.00      0.75      0.86         8\n",
      "          First Party Collection/Use       0.73      0.71      0.72       237\n",
      "International and Specific Audiences       0.94      0.78      0.85        60\n",
      "                Introductory/Generic       0.67      0.48      0.56        75\n",
      "                       Policy Change       0.93      0.52      0.67        27\n",
      "                Practice not covered       1.00      0.04      0.08        23\n",
      "         Privacy contact information       0.93      0.44      0.60        32\n",
      "      Third Party Sharing/Collection       0.87      0.41      0.56       181\n",
      "      User Access, Edit and Deletion       0.80      0.21      0.33        19\n",
      "                 User Choice/Control       0.76      0.20      0.32        79\n",
      "\n",
      "                           micro avg       0.80      0.51      0.62       796\n",
      "                           macro avg       0.86      0.43      0.54       796\n",
      "                        weighted avg       0.82      0.51      0.60       796\n",
      "                         samples avg       0.58      0.54      0.55       796\n",
      "\n",
      "--------------------------------------------------------------------------------------------\n",
      "\n"
     ]
    },
    {
     "name": "stderr",
     "output_type": "stream",
     "text": [
      "C:\\ProgramData\\Anaconda3\\lib\\site-packages\\sklearn\\metrics\\_classification.py:1248: UndefinedMetricWarning: Precision and F-score are ill-defined and being set to 0.0 in samples with no predicted labels. Use `zero_division` parameter to control this behavior.\n",
      "  _warn_prf(average, modifier, msg_start, len(result))\n"
     ]
    },
    {
     "name": "stdout",
     "output_type": "stream",
     "text": [
      "\u001b[1mNaive Bayes Classifier results: \u001b[0m\n",
      "----------------------\n",
      "hamLoss: 0.16\n",
      "Exact Match Ratio: 0.20\n",
      "-----------------------------------------------\n",
      "\u001b[1mClassification Report\u001b[0m\n",
      "                                      precision    recall  f1-score   support\n",
      "\n",
      "                      Data Retention       0.00      0.00      0.00        11\n",
      "                       Data Security       0.32      0.59      0.41        44\n",
      "                        Do Not Track       0.14      0.12      0.13         8\n",
      "          First Party Collection/Use       0.50      0.76      0.60       237\n",
      "International and Specific Audiences       0.30      0.52      0.38        60\n",
      "                Introductory/Generic       0.31      0.51      0.38        75\n",
      "                       Policy Change       0.32      0.44      0.37        27\n",
      "                Practice not covered       0.04      0.09      0.05        23\n",
      "         Privacy contact information       0.23      0.56      0.32        32\n",
      "      Third Party Sharing/Collection       0.36      0.75      0.49       181\n",
      "      User Access, Edit and Deletion       0.12      0.32      0.17        19\n",
      "                 User Choice/Control       0.21      0.32      0.25        79\n",
      "\n",
      "                           micro avg       0.33      0.60      0.43       796\n",
      "                           macro avg       0.24      0.41      0.30       796\n",
      "                        weighted avg       0.35      0.60      0.44       796\n",
      "                         samples avg       0.40      0.62      0.44       796\n",
      "\n",
      "--------------------------------------------------------------------------------------------\n",
      "\n"
     ]
    },
    {
     "name": "stderr",
     "output_type": "stream",
     "text": [
      "C:\\ProgramData\\Anaconda3\\lib\\site-packages\\sklearn\\metrics\\_classification.py:1248: UndefinedMetricWarning: Precision and F-score are ill-defined and being set to 0.0 in samples with no predicted labels. Use `zero_division` parameter to control this behavior.\n",
      "  _warn_prf(average, modifier, msg_start, len(result))\n"
     ]
    },
    {
     "name": "stdout",
     "output_type": "stream",
     "text": [
      "\u001b[1mLinear Discriminant Analysis Classifier results: \u001b[0m\n",
      "----------------------\n",
      "hamLoss: 0.34\n",
      "Exact Match Ratio: 0.07\n",
      "-----------------------------------------------\n",
      "\u001b[1mClassification Report\u001b[0m\n",
      "                                      precision    recall  f1-score   support\n",
      "\n",
      "                      Data Retention       0.03      0.45      0.05        11\n",
      "                       Data Security       0.13      0.59      0.21        44\n",
      "                        Do Not Track       0.04      0.75      0.07         8\n",
      "          First Party Collection/Use       0.42      0.53      0.47       237\n",
      "International and Specific Audiences       0.13      0.53      0.21        60\n",
      "                Introductory/Generic       0.15      0.63      0.25        75\n",
      "                       Policy Change       0.09      0.63      0.15        27\n",
      "                Practice not covered       0.05      0.48      0.09        23\n",
      "         Privacy contact information       0.08      0.62      0.14        32\n",
      "      Third Party Sharing/Collection       0.35      0.56      0.43       181\n",
      "      User Access, Edit and Deletion       0.04      0.42      0.07        19\n",
      "                 User Choice/Control       0.15      0.53      0.24        79\n",
      "\n",
      "                           micro avg       0.16      0.55      0.24       796\n",
      "                           macro avg       0.14      0.56      0.20       796\n",
      "                        weighted avg       0.26      0.55      0.33       796\n",
      "                         samples avg       0.22      0.57      0.29       796\n",
      "\n",
      "--------------------------------------------------------------------------------------------\n",
      "\n"
     ]
    },
    {
     "name": "stderr",
     "output_type": "stream",
     "text": [
      "C:\\ProgramData\\Anaconda3\\lib\\site-packages\\sklearn\\metrics\\_classification.py:1248: UndefinedMetricWarning: Precision and F-score are ill-defined and being set to 0.0 in samples with no predicted labels. Use `zero_division` parameter to control this behavior.\n",
      "  _warn_prf(average, modifier, msg_start, len(result))\n"
     ]
    },
    {
     "name": "stdout",
     "output_type": "stream",
     "text": [
      "\u001b[1mRandom Forest Classifier results: \u001b[0m\n",
      "----------------------\n",
      "hamLoss: 0.05\n",
      "Exact Match Ratio: 0.54\n",
      "-----------------------------------------------\n",
      "\u001b[1mClassification Report\u001b[0m\n",
      "                                      precision    recall  f1-score   support\n",
      "\n",
      "                      Data Retention       1.00      0.09      0.17        11\n",
      "                       Data Security       1.00      0.50      0.67        44\n",
      "                        Do Not Track       1.00      0.38      0.55         8\n",
      "          First Party Collection/Use       0.84      0.77      0.80       237\n",
      "International and Specific Audiences       0.96      0.77      0.85        60\n",
      "                Introductory/Generic       0.89      0.43      0.58        75\n",
      "                       Policy Change       1.00      0.56      0.71        27\n",
      "                Practice not covered       0.00      0.00      0.00        23\n",
      "         Privacy contact information       0.95      0.56      0.71        32\n",
      "      Third Party Sharing/Collection       0.89      0.65      0.75       181\n",
      "      User Access, Edit and Deletion       0.83      0.26      0.40        19\n",
      "                 User Choice/Control       0.91      0.25      0.40        79\n",
      "\n",
      "                           micro avg       0.89      0.58      0.70       796\n",
      "                           macro avg       0.86      0.43      0.55       796\n",
      "                        weighted avg       0.87      0.58      0.68       796\n",
      "                         samples avg       0.65      0.61      0.62       796\n",
      "\n",
      "--------------------------------------------------------------------------------------------\n",
      "\n"
     ]
    },
    {
     "name": "stderr",
     "output_type": "stream",
     "text": [
      "C:\\ProgramData\\Anaconda3\\lib\\site-packages\\sklearn\\metrics\\_classification.py:1248: UndefinedMetricWarning: Precision and F-score are ill-defined and being set to 0.0 in labels with no predicted samples. Use `zero_division` parameter to control this behavior.\n",
      "  _warn_prf(average, modifier, msg_start, len(result))\n",
      "C:\\ProgramData\\Anaconda3\\lib\\site-packages\\sklearn\\metrics\\_classification.py:1248: UndefinedMetricWarning: Precision and F-score are ill-defined and being set to 0.0 in samples with no predicted labels. Use `zero_division` parameter to control this behavior.\n",
      "  _warn_prf(average, modifier, msg_start, len(result))\n"
     ]
    },
    {
     "name": "stdout",
     "output_type": "stream",
     "text": [
      "\u001b[1mAdaboost Classifier results: \u001b[0m\n",
      "----------------------\n",
      "hamLoss: 0.05\n",
      "Exact Match Ratio: 0.53\n",
      "-----------------------------------------------\n",
      "\u001b[1mClassification Report\u001b[0m\n",
      "                                      precision    recall  f1-score   support\n",
      "\n",
      "                      Data Retention       0.44      0.36      0.40        11\n",
      "                       Data Security       0.85      0.66      0.74        44\n",
      "                        Do Not Track       1.00      0.75      0.86         8\n",
      "          First Party Collection/Use       0.77      0.71      0.74       237\n",
      "International and Specific Audiences       0.88      0.83      0.85        60\n",
      "                Introductory/Generic       0.63      0.49      0.55        75\n",
      "                       Policy Change       0.95      0.70      0.81        27\n",
      "                Practice not covered       0.38      0.13      0.19        23\n",
      "         Privacy contact information       0.63      0.75      0.69        32\n",
      "      Third Party Sharing/Collection       0.80      0.67      0.73       181\n",
      "      User Access, Edit and Deletion       0.62      0.53      0.57        19\n",
      "                 User Choice/Control       0.72      0.46      0.56        79\n",
      "\n",
      "                           micro avg       0.76      0.64      0.69       796\n",
      "                           macro avg       0.72      0.59      0.64       796\n",
      "                        weighted avg       0.75      0.64      0.69       796\n",
      "                         samples avg       0.66      0.66      0.65       796\n",
      "\n",
      "--------------------------------------------------------------------------------------------\n",
      "\n"
     ]
    },
    {
     "name": "stderr",
     "output_type": "stream",
     "text": [
      "C:\\ProgramData\\Anaconda3\\lib\\site-packages\\sklearn\\metrics\\_classification.py:1248: UndefinedMetricWarning: Precision and F-score are ill-defined and being set to 0.0 in samples with no predicted labels. Use `zero_division` parameter to control this behavior.\n",
      "  _warn_prf(average, modifier, msg_start, len(result))\n"
     ]
    },
    {
     "name": "stdout",
     "output_type": "stream",
     "text": [
      "\u001b[1mGradient Boosting Classifier results: \u001b[0m\n",
      "----------------------\n",
      "hamLoss: 0.05\n",
      "Exact Match Ratio: 0.54\n",
      "-----------------------------------------------\n",
      "\u001b[1mClassification Report\u001b[0m\n",
      "                                      precision    recall  f1-score   support\n",
      "\n",
      "                      Data Retention       0.44      0.36      0.40        11\n",
      "                       Data Security       0.93      0.61      0.74        44\n",
      "                        Do Not Track       0.86      0.75      0.80         8\n",
      "          First Party Collection/Use       0.82      0.69      0.75       237\n",
      "International and Specific Audiences       0.95      0.92      0.93        60\n",
      "                Introductory/Generic       0.77      0.36      0.49        75\n",
      "                       Policy Change       0.89      0.59      0.71        27\n",
      "                Practice not covered       0.27      0.13      0.18        23\n",
      "         Privacy contact information       0.72      0.66      0.69        32\n",
      "      Third Party Sharing/Collection       0.84      0.71      0.77       181\n",
      "      User Access, Edit and Deletion       0.58      0.37      0.45        19\n",
      "                 User Choice/Control       0.84      0.48      0.61        79\n",
      "\n",
      "                           micro avg       0.82      0.62      0.71       796\n",
      "                           macro avg       0.74      0.55      0.63       796\n",
      "                        weighted avg       0.81      0.62      0.70       796\n",
      "                         samples avg       0.65      0.64      0.63       796\n",
      "\n",
      "--------------------------------------------------------------------------------------------\n",
      "\n"
     ]
    },
    {
     "name": "stderr",
     "output_type": "stream",
     "text": [
      "C:\\ProgramData\\Anaconda3\\lib\\site-packages\\sklearn\\metrics\\_classification.py:1248: UndefinedMetricWarning: Precision and F-score are ill-defined and being set to 0.0 in samples with no predicted labels. Use `zero_division` parameter to control this behavior.\n",
      "  _warn_prf(average, modifier, msg_start, len(result))\n"
     ]
    },
    {
     "name": "stdout",
     "output_type": "stream",
     "text": [
      "\u001b[1mExtra Trees Classifier results: \u001b[0m\n",
      "----------------------\n",
      "hamLoss: 0.09\n",
      "Exact Match Ratio: 0.33\n",
      "-----------------------------------------------\n",
      "\u001b[1mClassification Report\u001b[0m\n",
      "                                      precision    recall  f1-score   support\n",
      "\n",
      "                      Data Retention       0.00      0.00      0.00        11\n",
      "                       Data Security       0.68      0.64      0.66        44\n",
      "                        Do Not Track       0.44      0.50      0.47         8\n",
      "          First Party Collection/Use       0.64      0.59      0.62       237\n",
      "International and Specific Audiences       0.85      0.77      0.81        60\n",
      "                Introductory/Generic       0.42      0.43      0.42        75\n",
      "                       Policy Change       0.77      0.63      0.69        27\n",
      "                Practice not covered       0.20      0.13      0.16        23\n",
      "         Privacy contact information       0.32      0.56      0.40        32\n",
      "      Third Party Sharing/Collection       0.59      0.68      0.63       181\n",
      "      User Access, Edit and Deletion       0.26      0.37      0.30        19\n",
      "                 User Choice/Control       0.50      0.41      0.45        79\n",
      "\n",
      "                           micro avg       0.56      0.57      0.56       796\n",
      "                           macro avg       0.47      0.48      0.47       796\n",
      "                        weighted avg       0.57      0.57      0.57       796\n",
      "                         samples avg       0.50      0.58      0.51       796\n",
      "\n",
      "--------------------------------------------------------------------------------------------\n",
      "\n"
     ]
    },
    {
     "name": "stderr",
     "output_type": "stream",
     "text": [
      "C:\\ProgramData\\Anaconda3\\lib\\site-packages\\sklearn\\metrics\\_classification.py:1248: UndefinedMetricWarning: Precision and F-score are ill-defined and being set to 0.0 in samples with no predicted labels. Use `zero_division` parameter to control this behavior.\n",
      "  _warn_prf(average, modifier, msg_start, len(result))\n"
     ]
    }
   ],
   "source": [
    "# https://scikit-learn.org/stable/modules/generated/sklearn.utils.class_weight.compute_sample_weight.html\n",
    "\n",
    "# Linear SVM\n",
    "linearSvm = OneVsRestClassifier(LinearSVC(class_weight='balanced'), n_jobs=-1)\n",
    "linearSvm.fit(X_train, y_train.values)\n",
    "linearSvm_preds = linearSvm.predict(X_test)\n",
    "print_losses(y_test, linearSvm_preds, 'Linear SVM Classifier')\n",
    "\n",
    "# SVM\n",
    "svmClassifier = OneVsRestClassifier(SVC(class_weight='balanced'), n_jobs=-1)\n",
    "svmClassifier.fit(X_train, y_train.values)\n",
    "svmPreds = svmClassifier.predict(X_test)\n",
    "print_losses(y_test, svmPreds, 'SVM Classifier')\n",
    "\n",
    "# Logistic Regression\n",
    "lrc = OneVsRestClassifier(LogisticRegression(class_weight='balanced'), n_jobs=-1)\n",
    "lrc.fit(X_train, y_train.values)\n",
    "lrc_preds = lrc.predict(X_test)\n",
    "print_losses(y_test, lrc_preds, 'Logistic Regression Classifier')\n",
    "\n",
    "# Decision Tree\n",
    "dtc = OneVsRestClassifier(DecisionTreeClassifier(class_weight='balanced'), n_jobs=-1)\n",
    "dtc.fit(X_train, y_train.values)\n",
    "dtc_preds = dtc.predict(X_test)\n",
    "print_losses(y_test, dtc_preds, 'Decision Tree Classifier')\n",
    "\n",
    "# KNN\n",
    "knn = OneVsRestClassifier(KNeighborsClassifier(), n_jobs=-1)\n",
    "knn.fit(X_train, y_train.values)\n",
    "knn_preds = knn.predict(X_test)\n",
    "print_losses(y_test, knn_preds, 'Random Forest Classifier')\n",
    "\n",
    "# Naive Bayes\n",
    "nbc = OneVsRestClassifier(GaussianNB(), n_jobs=-1)\n",
    "nbc.fit(X_train, y_train.values)\n",
    "nbc_preds = nbc.predict(X_test)\n",
    "print_losses(y_test, nbc_preds, 'Naive Bayes Classifier')\n",
    "\n",
    "# Linear Discriminant Analysis\n",
    "lda = OneVsRestClassifier(LinearDiscriminantAnalysis(), n_jobs=-1)\n",
    "lda.fit(X_train, y_train.values)\n",
    "lda_preds = lda.predict(X_test)\n",
    "print_losses(y_test, lda_preds, 'Linear Discriminant Analysis Classifier')\n",
    "\n",
    "# Random Forest\n",
    "rfc = OneVsRestClassifier(RandomForestClassifier(n_jobs=-1, class_weight='balanced'), n_jobs=-1)\n",
    "rfc.fit(X_train, y_train.values)\n",
    "rfc_preds = rfc.predict(X_test)\n",
    "print_losses(y_test, rfc_preds, 'Random Forest Classifier')\n",
    "\n",
    "# Adaboost Classifier\n",
    "abc = OneVsRestClassifier(AdaBoostClassifier(), n_jobs=-1)\n",
    "abc.fit(X_train, y_train.values)\n",
    "abc_preds = abc.predict(X_test)\n",
    "print_losses(y_test, abc_preds, 'Adaboost Classifier')\n",
    "\n",
    "# Gradient Boosting Classifier\n",
    "gbc = OneVsRestClassifier(GradientBoostingClassifier(), n_jobs=-1)\n",
    "gbc.fit(X_train, y_train.values)\n",
    "gbc_preds = gbc.predict(X_test)\n",
    "print_losses(y_test, gbc_preds, 'Gradient Boosting Classifier')\n",
    "\n",
    "# Extra Trees Classifier\n",
    "etc = OneVsRestClassifier(ExtraTreeClassifier(), n_jobs=-1)\n",
    "etc.fit(X_train, y_train.values)\n",
    "etc_preds = etc.predict(X_test)\n",
    "print_losses(y_test, etc_preds, 'Extra Trees Classifier')"
   ]
  },
  {
   "cell_type": "markdown",
   "metadata": {},
   "source": [
    "## K-means"
   ]
  },
  {
   "cell_type": "code",
   "execution_count": 19,
   "metadata": {},
   "outputs": [],
   "source": [
    "df_clustering = df.copy()"
   ]
  },
  {
   "cell_type": "code",
   "execution_count": 20,
   "metadata": {},
   "outputs": [],
   "source": [
    "from sklearn.cluster import KMeans\n",
    "\n",
    "kmeans = KMeans(n_clusters=12, random_state=0).fit(X)\n",
    "df_clustering['kmeans_label'] = kmeans.labels_"
   ]
  },
  {
   "cell_type": "code",
   "execution_count": 21,
   "metadata": {},
   "outputs": [
    {
     "data": {
      "text/plain": [
       "1     1000\n",
       "6      441\n",
       "9      376\n",
       "2      268\n",
       "7      248\n",
       "10     233\n",
       "0      188\n",
       "8      173\n",
       "11     158\n",
       "4      131\n",
       "5      125\n",
       "3       58\n",
       "Name: kmeans_label, dtype: int64"
      ]
     },
     "execution_count": 21,
     "metadata": {},
     "output_type": "execute_result"
    }
   ],
   "source": [
    "df_clustering['kmeans_label'].value_counts()"
   ]
  },
  {
   "cell_type": "code",
   "execution_count": 22,
   "metadata": {},
   "outputs": [
    {
     "data": {
      "text/plain": [
       "Data Retention                            78\n",
       "Data Security                            207\n",
       "Do Not Track                              31\n",
       "First Party Collection/Use              1181\n",
       "International and Specific Audiences     296\n",
       "Introductory/Generic                     378\n",
       "Policy Change                            116\n",
       "Practice not covered                     129\n",
       "Privacy contact information              202\n",
       "Third Party Sharing/Collection           931\n",
       "User Access, Edit and Deletion           147\n",
       "User Choice/Control                      352\n",
       "dtype: int64"
      ]
     },
     "execution_count": 22,
     "metadata": {},
     "output_type": "execute_result"
    }
   ],
   "source": [
    "data_dist"
   ]
  },
  {
   "cell_type": "code",
   "execution_count": 87,
   "metadata": {},
   "outputs": [
    {
     "ename": "AttributeError",
     "evalue": "'numpy.ndarray' object has no attribute 'apply'",
     "output_type": "error",
     "traceback": [
      "\u001b[1;31m---------------------------------------------------------------------------\u001b[0m",
      "\u001b[1;31mAttributeError\u001b[0m                            Traceback (most recent call last)",
      "\u001b[1;32m<ipython-input-87-ffef14591efb>\u001b[0m in \u001b[0;36m<module>\u001b[1;34m\u001b[0m\n\u001b[0;32m      1\u001b[0m \u001b[1;32mfrom\u001b[0m \u001b[0mcollections\u001b[0m \u001b[1;32mimport\u001b[0m \u001b[0mCounter\u001b[0m\u001b[1;33m\u001b[0m\u001b[1;33m\u001b[0m\u001b[0m\n\u001b[0;32m      2\u001b[0m \u001b[0mdf_counts\u001b[0m \u001b[1;33m=\u001b[0m \u001b[0mdf\u001b[0m\u001b[1;33m[\u001b[0m\u001b[0mcol_names\u001b[0m\u001b[1;33m]\u001b[0m\u001b[1;33m.\u001b[0m\u001b[0mcopy\u001b[0m\u001b[1;33m(\u001b[0m\u001b[1;33m)\u001b[0m\u001b[1;33m\u001b[0m\u001b[1;33m\u001b[0m\u001b[0m\n\u001b[1;32m----> 3\u001b[1;33m \u001b[0mdf_counts\u001b[0m\u001b[1;33m[\u001b[0m\u001b[1;34m'labels_list'\u001b[0m\u001b[1;33m]\u001b[0m \u001b[1;33m=\u001b[0m \u001b[0mdf_counts\u001b[0m\u001b[1;33m[\u001b[0m\u001b[0mcol_names\u001b[0m\u001b[1;33m]\u001b[0m\u001b[1;33m.\u001b[0m\u001b[0mvalues\u001b[0m\u001b[1;33m.\u001b[0m\u001b[0mapply\u001b[0m\u001b[1;33m(\u001b[0m\u001b[1;32mlambda\u001b[0m \u001b[0mx\u001b[0m\u001b[1;33m:\u001b[0m \u001b[0mtuple\u001b[0m\u001b[1;33m(\u001b[0m\u001b[0mx\u001b[0m\u001b[1;33m)\u001b[0m\u001b[1;33m)\u001b[0m\u001b[1;33m\u001b[0m\u001b[1;33m\u001b[0m\u001b[0m\n\u001b[0m",
      "\u001b[1;31mAttributeError\u001b[0m: 'numpy.ndarray' object has no attribute 'apply'"
     ]
    }
   ],
   "source": [
    "from collections import Counter\n",
    "df_counts = df[col_names].copy()\n",
    "df_counts['labels_list'] = df_counts[col_names].values.apply(lambda x: tuple(x))"
   ]
  },
  {
   "cell_type": "code",
   "execution_count": 94,
   "metadata": {},
   "outputs": [],
   "source": [
    "df_counts['labels_list'] = list(df_counts.itertuples(index=False))"
   ]
  },
  {
   "cell_type": "code",
   "execution_count": 96,
   "metadata": {},
   "outputs": [
    {
     "data": {
      "text/plain": [
       "Data Retention                                                                          0\n",
       "Data Security                                                                           0\n",
       "Do Not Track                                                                            0\n",
       "First Party Collection/Use                                                              1\n",
       "International and Specific Audiences                                                    0\n",
       "Introductory/Generic                                                                    0\n",
       "Policy Change                                                                           0\n",
       "Practice not covered                                                                    0\n",
       "Privacy contact information                                                             0\n",
       "Third Party Sharing/Collection                                                          0\n",
       "User Access, Edit and Deletion                                                          0\n",
       "User Choice/Control                                                                     0\n",
       "labels_list                             (0, 0, 0, 1, 0, 0, 0, 0, 0, 0, 0, 0, (0, 0, 0,...\n",
       "Name: 0, dtype: object"
      ]
     },
     "execution_count": 96,
     "metadata": {},
     "output_type": "execute_result"
    }
   ],
   "source": [
    "df_counts.loc[0]"
   ]
  },
  {
   "cell_type": "code",
   "execution_count": 86,
   "metadata": {},
   "outputs": [
    {
     "data": {
      "text/plain": [
       "0       NaN\n",
       "1       NaN\n",
       "2       NaN\n",
       "3       NaN\n",
       "4       NaN\n",
       "       ... \n",
       "3394    NaN\n",
       "3395    NaN\n",
       "3396    NaN\n",
       "3397    NaN\n",
       "3398    NaN\n",
       "Name: labels_list, Length: 3399, dtype: object"
      ]
     },
     "execution_count": 86,
     "metadata": {},
     "output_type": "execute_result"
    }
   ],
   "source": [
    "df_counts['labels_list'] "
   ]
  },
  {
   "cell_type": "code",
   "execution_count": null,
   "metadata": {},
   "outputs": [],
   "source": [
    "df_counts[col_names].values.to"
   ]
  },
  {
   "cell_type": "code",
   "execution_count": 83,
   "metadata": {},
   "outputs": [
    {
     "data": {
      "text/plain": [
       "[0, 0, 0, 1, 0, 0, 0, 0, 0, 0, 0, 0]    836\n",
       "[0, 0, 0, 0, 0, 0, 0, 0, 0, 1, 0, 0]    605\n",
       "[0, 0, 0, 0, 0, 1, 0, 0, 0, 0, 0, 0]    319\n",
       "[0, 0, 0, 0, 0, 0, 0, 0, 0, 0, 0, 1]    252\n",
       "[0, 0, 0, 1, 0, 0, 0, 0, 0, 1, 0, 0]    233\n",
       "                                       ... \n",
       "[1, 0, 0, 0, 1, 0, 0, 0, 0, 0, 0, 0]      1\n",
       "[0, 1, 0, 0, 0, 1, 0, 0, 1, 0, 0, 0]      1\n",
       "[1, 0, 0, 0, 0, 0, 0, 0, 1, 0, 1, 0]      1\n",
       "[0, 1, 0, 1, 1, 1, 0, 0, 0, 1, 0, 0]      1\n",
       "[1, 0, 0, 0, 0, 0, 0, 0, 1, 0, 0, 0]      1\n",
       "Name: labels_list, Length: 96, dtype: int64"
      ]
     },
     "execution_count": 83,
     "metadata": {},
     "output_type": "execute_result"
    }
   ],
   "source": [
    "df_counts['labels_list'].value_counts().to_dict()"
   ]
  },
  {
   "cell_type": "code",
   "execution_count": 81,
   "metadata": {
    "scrolled": true
   },
   "outputs": [
    {
     "ename": "TypeError",
     "evalue": "unhashable type: 'list'",
     "output_type": "error",
     "traceback": [
      "\u001b[1;31m---------------------------------------------------------------------------\u001b[0m",
      "\u001b[1;31mTypeError\u001b[0m                                 Traceback (most recent call last)",
      "\u001b[1;32m<ipython-input-81-d57fc37cb5db>\u001b[0m in \u001b[0;36m<module>\u001b[1;34m\u001b[0m\n\u001b[1;32m----> 1\u001b[1;33m \u001b[0mdf_counts\u001b[0m\u001b[1;33m.\u001b[0m\u001b[0mjoin\u001b[0m\u001b[1;33m(\u001b[0m\u001b[0mdf_counts\u001b[0m\u001b[1;33m[\u001b[0m\u001b[1;34m'labels_list'\u001b[0m\u001b[1;33m]\u001b[0m\u001b[1;33m.\u001b[0m\u001b[0mvalue_counts\u001b[0m\u001b[1;33m(\u001b[0m\u001b[1;33m)\u001b[0m\u001b[1;33m,\u001b[0m \u001b[0mhow\u001b[0m\u001b[1;33m=\u001b[0m\u001b[1;34m'left'\u001b[0m\u001b[1;33m,\u001b[0m \u001b[0mon\u001b[0m\u001b[1;33m=\u001b[0m\u001b[1;34m'labels_list'\u001b[0m\u001b[1;33m)\u001b[0m\u001b[1;33m\u001b[0m\u001b[1;33m\u001b[0m\u001b[0m\n\u001b[0m",
      "\u001b[1;32mC:\\ProgramData\\Anaconda3\\lib\\site-packages\\pandas\\core\\frame.py\u001b[0m in \u001b[0;36mjoin\u001b[1;34m(self, other, on, how, lsuffix, rsuffix, sort)\u001b[0m\n\u001b[0;32m   7206\u001b[0m         \u001b[1;36m5\u001b[0m  \u001b[0mK5\u001b[0m  \u001b[0mA5\u001b[0m  \u001b[0mNaN\u001b[0m\u001b[1;33m\u001b[0m\u001b[1;33m\u001b[0m\u001b[0m\n\u001b[0;32m   7207\u001b[0m         \"\"\"\n\u001b[1;32m-> 7208\u001b[1;33m         return self._join_compat(\n\u001b[0m\u001b[0;32m   7209\u001b[0m             \u001b[0mother\u001b[0m\u001b[1;33m,\u001b[0m \u001b[0mon\u001b[0m\u001b[1;33m=\u001b[0m\u001b[0mon\u001b[0m\u001b[1;33m,\u001b[0m \u001b[0mhow\u001b[0m\u001b[1;33m=\u001b[0m\u001b[0mhow\u001b[0m\u001b[1;33m,\u001b[0m \u001b[0mlsuffix\u001b[0m\u001b[1;33m=\u001b[0m\u001b[0mlsuffix\u001b[0m\u001b[1;33m,\u001b[0m \u001b[0mrsuffix\u001b[0m\u001b[1;33m=\u001b[0m\u001b[0mrsuffix\u001b[0m\u001b[1;33m,\u001b[0m \u001b[0msort\u001b[0m\u001b[1;33m=\u001b[0m\u001b[0msort\u001b[0m\u001b[1;33m\u001b[0m\u001b[1;33m\u001b[0m\u001b[0m\n\u001b[0;32m   7210\u001b[0m         )\n",
      "\u001b[1;32mC:\\ProgramData\\Anaconda3\\lib\\site-packages\\pandas\\core\\frame.py\u001b[0m in \u001b[0;36m_join_compat\u001b[1;34m(self, other, on, how, lsuffix, rsuffix, sort)\u001b[0m\n\u001b[0;32m   7222\u001b[0m \u001b[1;33m\u001b[0m\u001b[0m\n\u001b[0;32m   7223\u001b[0m         \u001b[1;32mif\u001b[0m \u001b[0misinstance\u001b[0m\u001b[1;33m(\u001b[0m\u001b[0mother\u001b[0m\u001b[1;33m,\u001b[0m \u001b[0mDataFrame\u001b[0m\u001b[1;33m)\u001b[0m\u001b[1;33m:\u001b[0m\u001b[1;33m\u001b[0m\u001b[1;33m\u001b[0m\u001b[0m\n\u001b[1;32m-> 7224\u001b[1;33m             return merge(\n\u001b[0m\u001b[0;32m   7225\u001b[0m                 \u001b[0mself\u001b[0m\u001b[1;33m,\u001b[0m\u001b[1;33m\u001b[0m\u001b[1;33m\u001b[0m\u001b[0m\n\u001b[0;32m   7226\u001b[0m                 \u001b[0mother\u001b[0m\u001b[1;33m,\u001b[0m\u001b[1;33m\u001b[0m\u001b[1;33m\u001b[0m\u001b[0m\n",
      "\u001b[1;32mC:\\ProgramData\\Anaconda3\\lib\\site-packages\\pandas\\core\\reshape\\merge.py\u001b[0m in \u001b[0;36mmerge\u001b[1;34m(left, right, how, on, left_on, right_on, left_index, right_index, sort, suffixes, copy, indicator, validate)\u001b[0m\n\u001b[0;32m     86\u001b[0m         \u001b[0mvalidate\u001b[0m\u001b[1;33m=\u001b[0m\u001b[0mvalidate\u001b[0m\u001b[1;33m,\u001b[0m\u001b[1;33m\u001b[0m\u001b[1;33m\u001b[0m\u001b[0m\n\u001b[0;32m     87\u001b[0m     )\n\u001b[1;32m---> 88\u001b[1;33m     \u001b[1;32mreturn\u001b[0m \u001b[0mop\u001b[0m\u001b[1;33m.\u001b[0m\u001b[0mget_result\u001b[0m\u001b[1;33m(\u001b[0m\u001b[1;33m)\u001b[0m\u001b[1;33m\u001b[0m\u001b[1;33m\u001b[0m\u001b[0m\n\u001b[0m\u001b[0;32m     89\u001b[0m \u001b[1;33m\u001b[0m\u001b[0m\n\u001b[0;32m     90\u001b[0m \u001b[1;33m\u001b[0m\u001b[0m\n",
      "\u001b[1;32mC:\\ProgramData\\Anaconda3\\lib\\site-packages\\pandas\\core\\reshape\\merge.py\u001b[0m in \u001b[0;36mget_result\u001b[1;34m(self)\u001b[0m\n\u001b[0;32m    641\u001b[0m             \u001b[0mself\u001b[0m\u001b[1;33m.\u001b[0m\u001b[0mleft\u001b[0m\u001b[1;33m,\u001b[0m \u001b[0mself\u001b[0m\u001b[1;33m.\u001b[0m\u001b[0mright\u001b[0m \u001b[1;33m=\u001b[0m \u001b[0mself\u001b[0m\u001b[1;33m.\u001b[0m\u001b[0m_indicator_pre_merge\u001b[0m\u001b[1;33m(\u001b[0m\u001b[0mself\u001b[0m\u001b[1;33m.\u001b[0m\u001b[0mleft\u001b[0m\u001b[1;33m,\u001b[0m \u001b[0mself\u001b[0m\u001b[1;33m.\u001b[0m\u001b[0mright\u001b[0m\u001b[1;33m)\u001b[0m\u001b[1;33m\u001b[0m\u001b[1;33m\u001b[0m\u001b[0m\n\u001b[0;32m    642\u001b[0m \u001b[1;33m\u001b[0m\u001b[0m\n\u001b[1;32m--> 643\u001b[1;33m         \u001b[0mjoin_index\u001b[0m\u001b[1;33m,\u001b[0m \u001b[0mleft_indexer\u001b[0m\u001b[1;33m,\u001b[0m \u001b[0mright_indexer\u001b[0m \u001b[1;33m=\u001b[0m \u001b[0mself\u001b[0m\u001b[1;33m.\u001b[0m\u001b[0m_get_join_info\u001b[0m\u001b[1;33m(\u001b[0m\u001b[1;33m)\u001b[0m\u001b[1;33m\u001b[0m\u001b[1;33m\u001b[0m\u001b[0m\n\u001b[0m\u001b[0;32m    644\u001b[0m \u001b[1;33m\u001b[0m\u001b[0m\n\u001b[0;32m    645\u001b[0m         \u001b[0mldata\u001b[0m\u001b[1;33m,\u001b[0m \u001b[0mrdata\u001b[0m \u001b[1;33m=\u001b[0m \u001b[0mself\u001b[0m\u001b[1;33m.\u001b[0m\u001b[0mleft\u001b[0m\u001b[1;33m.\u001b[0m\u001b[0m_data\u001b[0m\u001b[1;33m,\u001b[0m \u001b[0mself\u001b[0m\u001b[1;33m.\u001b[0m\u001b[0mright\u001b[0m\u001b[1;33m.\u001b[0m\u001b[0m_data\u001b[0m\u001b[1;33m\u001b[0m\u001b[1;33m\u001b[0m\u001b[0m\n",
      "\u001b[1;32mC:\\ProgramData\\Anaconda3\\lib\\site-packages\\pandas\\core\\reshape\\merge.py\u001b[0m in \u001b[0;36m_get_join_info\u001b[1;34m(self)\u001b[0m\n\u001b[0;32m    851\u001b[0m             )\n\u001b[0;32m    852\u001b[0m         \u001b[1;32melif\u001b[0m \u001b[0mself\u001b[0m\u001b[1;33m.\u001b[0m\u001b[0mright_index\u001b[0m \u001b[1;32mand\u001b[0m \u001b[0mself\u001b[0m\u001b[1;33m.\u001b[0m\u001b[0mhow\u001b[0m \u001b[1;33m==\u001b[0m \u001b[1;34m\"left\"\u001b[0m\u001b[1;33m:\u001b[0m\u001b[1;33m\u001b[0m\u001b[1;33m\u001b[0m\u001b[0m\n\u001b[1;32m--> 853\u001b[1;33m             join_index, left_indexer, right_indexer = _left_join_on_index(\n\u001b[0m\u001b[0;32m    854\u001b[0m                 \u001b[0mleft_ax\u001b[0m\u001b[1;33m,\u001b[0m \u001b[0mright_ax\u001b[0m\u001b[1;33m,\u001b[0m \u001b[0mself\u001b[0m\u001b[1;33m.\u001b[0m\u001b[0mleft_join_keys\u001b[0m\u001b[1;33m,\u001b[0m \u001b[0msort\u001b[0m\u001b[1;33m=\u001b[0m\u001b[0mself\u001b[0m\u001b[1;33m.\u001b[0m\u001b[0msort\u001b[0m\u001b[1;33m\u001b[0m\u001b[1;33m\u001b[0m\u001b[0m\n\u001b[0;32m    855\u001b[0m             )\n",
      "\u001b[1;32mC:\\ProgramData\\Anaconda3\\lib\\site-packages\\pandas\\core\\reshape\\merge.py\u001b[0m in \u001b[0;36m_left_join_on_index\u001b[1;34m(left_ax, right_ax, join_keys, sort)\u001b[0m\n\u001b[0;32m   1844\u001b[0m         \u001b[0mjkey\u001b[0m \u001b[1;33m=\u001b[0m \u001b[0mjoin_keys\u001b[0m\u001b[1;33m[\u001b[0m\u001b[1;36m0\u001b[0m\u001b[1;33m]\u001b[0m\u001b[1;33m\u001b[0m\u001b[1;33m\u001b[0m\u001b[0m\n\u001b[0;32m   1845\u001b[0m \u001b[1;33m\u001b[0m\u001b[0m\n\u001b[1;32m-> 1846\u001b[1;33m         \u001b[0mleft_indexer\u001b[0m\u001b[1;33m,\u001b[0m \u001b[0mright_indexer\u001b[0m \u001b[1;33m=\u001b[0m \u001b[0m_get_single_indexer\u001b[0m\u001b[1;33m(\u001b[0m\u001b[0mjkey\u001b[0m\u001b[1;33m,\u001b[0m \u001b[0mright_ax\u001b[0m\u001b[1;33m,\u001b[0m \u001b[0msort\u001b[0m\u001b[1;33m=\u001b[0m\u001b[0msort\u001b[0m\u001b[1;33m)\u001b[0m\u001b[1;33m\u001b[0m\u001b[1;33m\u001b[0m\u001b[0m\n\u001b[0m\u001b[0;32m   1847\u001b[0m \u001b[1;33m\u001b[0m\u001b[0m\n\u001b[0;32m   1848\u001b[0m     \u001b[1;32mif\u001b[0m \u001b[0msort\u001b[0m \u001b[1;32mor\u001b[0m \u001b[0mlen\u001b[0m\u001b[1;33m(\u001b[0m\u001b[0mleft_ax\u001b[0m\u001b[1;33m)\u001b[0m \u001b[1;33m!=\u001b[0m \u001b[0mlen\u001b[0m\u001b[1;33m(\u001b[0m\u001b[0mleft_indexer\u001b[0m\u001b[1;33m)\u001b[0m\u001b[1;33m:\u001b[0m\u001b[1;33m\u001b[0m\u001b[1;33m\u001b[0m\u001b[0m\n",
      "\u001b[1;32mC:\\ProgramData\\Anaconda3\\lib\\site-packages\\pandas\\core\\reshape\\merge.py\u001b[0m in \u001b[0;36m_get_single_indexer\u001b[1;34m(join_key, index, sort)\u001b[0m\n\u001b[0;32m   1817\u001b[0m \u001b[1;33m\u001b[0m\u001b[0m\n\u001b[0;32m   1818\u001b[0m \u001b[1;32mdef\u001b[0m \u001b[0m_get_single_indexer\u001b[0m\u001b[1;33m(\u001b[0m\u001b[0mjoin_key\u001b[0m\u001b[1;33m,\u001b[0m \u001b[0mindex\u001b[0m\u001b[1;33m,\u001b[0m \u001b[0msort\u001b[0m\u001b[1;33m:\u001b[0m \u001b[0mbool\u001b[0m \u001b[1;33m=\u001b[0m \u001b[1;32mFalse\u001b[0m\u001b[1;33m)\u001b[0m\u001b[1;33m:\u001b[0m\u001b[1;33m\u001b[0m\u001b[1;33m\u001b[0m\u001b[0m\n\u001b[1;32m-> 1819\u001b[1;33m     \u001b[0mleft_key\u001b[0m\u001b[1;33m,\u001b[0m \u001b[0mright_key\u001b[0m\u001b[1;33m,\u001b[0m \u001b[0mcount\u001b[0m \u001b[1;33m=\u001b[0m \u001b[0m_factorize_keys\u001b[0m\u001b[1;33m(\u001b[0m\u001b[0mjoin_key\u001b[0m\u001b[1;33m,\u001b[0m \u001b[0mindex\u001b[0m\u001b[1;33m,\u001b[0m \u001b[0msort\u001b[0m\u001b[1;33m=\u001b[0m\u001b[0msort\u001b[0m\u001b[1;33m)\u001b[0m\u001b[1;33m\u001b[0m\u001b[1;33m\u001b[0m\u001b[0m\n\u001b[0m\u001b[0;32m   1820\u001b[0m \u001b[1;33m\u001b[0m\u001b[0m\n\u001b[0;32m   1821\u001b[0m     left_indexer, right_indexer = libjoin.left_outer_join(\n",
      "\u001b[1;32mC:\\ProgramData\\Anaconda3\\lib\\site-packages\\pandas\\core\\reshape\\merge.py\u001b[0m in \u001b[0;36m_factorize_keys\u001b[1;34m(lk, rk, sort)\u001b[0m\n\u001b[0;32m   1915\u001b[0m     \u001b[0mrizer\u001b[0m \u001b[1;33m=\u001b[0m \u001b[0mklass\u001b[0m\u001b[1;33m(\u001b[0m\u001b[0mmax\u001b[0m\u001b[1;33m(\u001b[0m\u001b[0mlen\u001b[0m\u001b[1;33m(\u001b[0m\u001b[0mlk\u001b[0m\u001b[1;33m)\u001b[0m\u001b[1;33m,\u001b[0m \u001b[0mlen\u001b[0m\u001b[1;33m(\u001b[0m\u001b[0mrk\u001b[0m\u001b[1;33m)\u001b[0m\u001b[1;33m)\u001b[0m\u001b[1;33m)\u001b[0m\u001b[1;33m\u001b[0m\u001b[1;33m\u001b[0m\u001b[0m\n\u001b[0;32m   1916\u001b[0m \u001b[1;33m\u001b[0m\u001b[0m\n\u001b[1;32m-> 1917\u001b[1;33m     \u001b[0mllab\u001b[0m \u001b[1;33m=\u001b[0m \u001b[0mrizer\u001b[0m\u001b[1;33m.\u001b[0m\u001b[0mfactorize\u001b[0m\u001b[1;33m(\u001b[0m\u001b[0mlk\u001b[0m\u001b[1;33m)\u001b[0m\u001b[1;33m\u001b[0m\u001b[1;33m\u001b[0m\u001b[0m\n\u001b[0m\u001b[0;32m   1918\u001b[0m     \u001b[0mrlab\u001b[0m \u001b[1;33m=\u001b[0m \u001b[0mrizer\u001b[0m\u001b[1;33m.\u001b[0m\u001b[0mfactorize\u001b[0m\u001b[1;33m(\u001b[0m\u001b[0mrk\u001b[0m\u001b[1;33m)\u001b[0m\u001b[1;33m\u001b[0m\u001b[1;33m\u001b[0m\u001b[0m\n\u001b[0;32m   1919\u001b[0m \u001b[1;33m\u001b[0m\u001b[0m\n",
      "\u001b[1;32mpandas\\_libs\\hashtable.pyx\u001b[0m in \u001b[0;36mpandas._libs.hashtable.Factorizer.factorize\u001b[1;34m()\u001b[0m\n",
      "\u001b[1;32mpandas\\_libs\\hashtable_class_helper.pxi\u001b[0m in \u001b[0;36mpandas._libs.hashtable.PyObjectHashTable.get_labels\u001b[1;34m()\u001b[0m\n",
      "\u001b[1;32mpandas\\_libs\\hashtable_class_helper.pxi\u001b[0m in \u001b[0;36mpandas._libs.hashtable.PyObjectHashTable._unique\u001b[1;34m()\u001b[0m\n",
      "\u001b[1;31mTypeError\u001b[0m: unhashable type: 'list'"
     ]
    }
   ],
   "source": [
    "df_counts.join(df_counts['labels_list'].value_counts(), how='left', on='labels_list')"
   ]
  },
  {
   "cell_type": "code",
   "execution_count": 79,
   "metadata": {},
   "outputs": [
    {
     "data": {
      "text/plain": [
       "[0, 0, 0, 1, 0, 0, 0, 0, 0, 0, 0, 0]    836\n",
       "[0, 0, 0, 0, 0, 0, 0, 0, 0, 1, 0, 0]    605\n",
       "[0, 0, 0, 0, 0, 1, 0, 0, 0, 0, 0, 0]    319\n",
       "[0, 0, 0, 0, 0, 0, 0, 0, 0, 0, 0, 1]    252\n",
       "[0, 0, 0, 1, 0, 0, 0, 0, 0, 1, 0, 0]    233\n",
       "                                       ... \n",
       "[1, 0, 0, 0, 1, 0, 0, 0, 0, 0, 0, 0]      1\n",
       "[0, 1, 0, 0, 0, 1, 0, 0, 1, 0, 0, 0]      1\n",
       "[1, 0, 0, 0, 0, 0, 0, 0, 1, 0, 1, 0]      1\n",
       "[0, 1, 0, 1, 1, 1, 0, 0, 0, 1, 0, 0]      1\n",
       "[1, 0, 0, 0, 0, 0, 0, 0, 1, 0, 0, 0]      1\n",
       "Name: labels_list, Length: 96, dtype: int64"
      ]
     },
     "execution_count": 79,
     "metadata": {},
     "output_type": "execute_result"
    }
   ],
   "source": [
    "df_counts['labels_list'].value_counts()"
   ]
  },
  {
   "cell_type": "code",
   "execution_count": 73,
   "metadata": {},
   "outputs": [
    {
     "ename": "AttributeError",
     "evalue": "Can only use .str accessor with string values!",
     "output_type": "error",
     "traceback": [
      "\u001b[1;31m---------------------------------------------------------------------------\u001b[0m",
      "\u001b[1;31mAttributeError\u001b[0m                            Traceback (most recent call last)",
      "\u001b[1;32m<ipython-input-73-04aa921e4b12>\u001b[0m in \u001b[0;36m<module>\u001b[1;34m\u001b[0m\n\u001b[1;32m----> 1\u001b[1;33m \u001b[0mcounts_df\u001b[0m\u001b[1;33m.\u001b[0m\u001b[0mindex\u001b[0m\u001b[1;33m.\u001b[0m\u001b[0mstr\u001b[0m\u001b[1;33m.\u001b[0m\u001b[0msplit\u001b[0m\u001b[1;33m(\u001b[0m\u001b[1;34m','\u001b[0m\u001b[1;33m)\u001b[0m\u001b[1;33m\u001b[0m\u001b[1;33m\u001b[0m\u001b[0m\n\u001b[0m",
      "\u001b[1;32mC:\\ProgramData\\Anaconda3\\lib\\site-packages\\pandas\\core\\accessor.py\u001b[0m in \u001b[0;36m__get__\u001b[1;34m(self, obj, cls)\u001b[0m\n\u001b[0;32m    185\u001b[0m             \u001b[1;31m# we're accessing the attribute of the class, i.e., Dataset.geo\u001b[0m\u001b[1;33m\u001b[0m\u001b[1;33m\u001b[0m\u001b[1;33m\u001b[0m\u001b[0m\n\u001b[0;32m    186\u001b[0m             \u001b[1;32mreturn\u001b[0m \u001b[0mself\u001b[0m\u001b[1;33m.\u001b[0m\u001b[0m_accessor\u001b[0m\u001b[1;33m\u001b[0m\u001b[1;33m\u001b[0m\u001b[0m\n\u001b[1;32m--> 187\u001b[1;33m         \u001b[0maccessor_obj\u001b[0m \u001b[1;33m=\u001b[0m \u001b[0mself\u001b[0m\u001b[1;33m.\u001b[0m\u001b[0m_accessor\u001b[0m\u001b[1;33m(\u001b[0m\u001b[0mobj\u001b[0m\u001b[1;33m)\u001b[0m\u001b[1;33m\u001b[0m\u001b[1;33m\u001b[0m\u001b[0m\n\u001b[0m\u001b[0;32m    188\u001b[0m         \u001b[1;31m# Replace the property with the accessor object. Inspired by:\u001b[0m\u001b[1;33m\u001b[0m\u001b[1;33m\u001b[0m\u001b[1;33m\u001b[0m\u001b[0m\n\u001b[0;32m    189\u001b[0m         \u001b[1;31m# http://www.pydanny.com/cached-property.html\u001b[0m\u001b[1;33m\u001b[0m\u001b[1;33m\u001b[0m\u001b[1;33m\u001b[0m\u001b[0m\n",
      "\u001b[1;32mC:\\ProgramData\\Anaconda3\\lib\\site-packages\\pandas\\core\\strings.py\u001b[0m in \u001b[0;36m__init__\u001b[1;34m(self, data)\u001b[0m\n\u001b[0;32m   2039\u001b[0m \u001b[1;33m\u001b[0m\u001b[0m\n\u001b[0;32m   2040\u001b[0m     \u001b[1;32mdef\u001b[0m \u001b[0m__init__\u001b[0m\u001b[1;33m(\u001b[0m\u001b[0mself\u001b[0m\u001b[1;33m,\u001b[0m \u001b[0mdata\u001b[0m\u001b[1;33m)\u001b[0m\u001b[1;33m:\u001b[0m\u001b[1;33m\u001b[0m\u001b[1;33m\u001b[0m\u001b[0m\n\u001b[1;32m-> 2041\u001b[1;33m         \u001b[0mself\u001b[0m\u001b[1;33m.\u001b[0m\u001b[0m_inferred_dtype\u001b[0m \u001b[1;33m=\u001b[0m \u001b[0mself\u001b[0m\u001b[1;33m.\u001b[0m\u001b[0m_validate\u001b[0m\u001b[1;33m(\u001b[0m\u001b[0mdata\u001b[0m\u001b[1;33m)\u001b[0m\u001b[1;33m\u001b[0m\u001b[1;33m\u001b[0m\u001b[0m\n\u001b[0m\u001b[0;32m   2042\u001b[0m         \u001b[0mself\u001b[0m\u001b[1;33m.\u001b[0m\u001b[0m_is_categorical\u001b[0m \u001b[1;33m=\u001b[0m \u001b[0mis_categorical_dtype\u001b[0m\u001b[1;33m(\u001b[0m\u001b[0mdata\u001b[0m\u001b[1;33m)\u001b[0m\u001b[1;33m\u001b[0m\u001b[1;33m\u001b[0m\u001b[0m\n\u001b[0;32m   2043\u001b[0m         \u001b[0mself\u001b[0m\u001b[1;33m.\u001b[0m\u001b[0m_is_string\u001b[0m \u001b[1;33m=\u001b[0m \u001b[0mdata\u001b[0m\u001b[1;33m.\u001b[0m\u001b[0mdtype\u001b[0m\u001b[1;33m.\u001b[0m\u001b[0mname\u001b[0m \u001b[1;33m==\u001b[0m \u001b[1;34m\"string\"\u001b[0m\u001b[1;33m\u001b[0m\u001b[1;33m\u001b[0m\u001b[0m\n",
      "\u001b[1;32mC:\\ProgramData\\Anaconda3\\lib\\site-packages\\pandas\\core\\strings.py\u001b[0m in \u001b[0;36m_validate\u001b[1;34m(data)\u001b[0m\n\u001b[0;32m   2096\u001b[0m \u001b[1;33m\u001b[0m\u001b[0m\n\u001b[0;32m   2097\u001b[0m         \u001b[1;32mif\u001b[0m \u001b[0minferred_dtype\u001b[0m \u001b[1;32mnot\u001b[0m \u001b[1;32min\u001b[0m \u001b[0mallowed_types\u001b[0m\u001b[1;33m:\u001b[0m\u001b[1;33m\u001b[0m\u001b[1;33m\u001b[0m\u001b[0m\n\u001b[1;32m-> 2098\u001b[1;33m             \u001b[1;32mraise\u001b[0m \u001b[0mAttributeError\u001b[0m\u001b[1;33m(\u001b[0m\u001b[1;34m\"Can only use .str accessor with string values!\"\u001b[0m\u001b[1;33m)\u001b[0m\u001b[1;33m\u001b[0m\u001b[1;33m\u001b[0m\u001b[0m\n\u001b[0m\u001b[0;32m   2099\u001b[0m         \u001b[1;32mreturn\u001b[0m \u001b[0minferred_dtype\u001b[0m\u001b[1;33m\u001b[0m\u001b[1;33m\u001b[0m\u001b[0m\n\u001b[0;32m   2100\u001b[0m \u001b[1;33m\u001b[0m\u001b[0m\n",
      "\u001b[1;31mAttributeError\u001b[0m: Can only use .str accessor with string values!"
     ]
    }
   ],
   "source": [
    "counts_df.index.str.split(',')"
   ]
  },
  {
   "cell_type": "code",
   "execution_count": 64,
   "metadata": {},
   "outputs": [
    {
     "ename": "TypeError",
     "evalue": "unhashable type: 'list'",
     "output_type": "error",
     "traceback": [
      "\u001b[1;31m---------------------------------------------------------------------------\u001b[0m",
      "\u001b[1;31mTypeError\u001b[0m                                 Traceback (most recent call last)",
      "\u001b[1;32m<ipython-input-64-de2b8a25f03b>\u001b[0m in \u001b[0;36m<module>\u001b[1;34m\u001b[0m\n\u001b[1;32m----> 1\u001b[1;33m \u001b[0mdf_counts\u001b[0m\u001b[1;33m.\u001b[0m\u001b[0mgroupby\u001b[0m\u001b[1;33m(\u001b[0m\u001b[1;34m'labels_list'\u001b[0m\u001b[1;33m)\u001b[0m\u001b[1;33m.\u001b[0m\u001b[0mcount\u001b[0m\u001b[1;33m(\u001b[0m\u001b[1;33m)\u001b[0m\u001b[1;33m\u001b[0m\u001b[1;33m\u001b[0m\u001b[0m\n\u001b[0m",
      "\u001b[1;32mC:\\ProgramData\\Anaconda3\\lib\\site-packages\\pandas\\core\\groupby\\generic.py\u001b[0m in \u001b[0;36mcount\u001b[1;34m(self)\u001b[0m\n\u001b[0;32m   1773\u001b[0m         \"\"\"\n\u001b[0;32m   1774\u001b[0m         \u001b[0mdata\u001b[0m \u001b[1;33m=\u001b[0m \u001b[0mself\u001b[0m\u001b[1;33m.\u001b[0m\u001b[0m_get_data_to_aggregate\u001b[0m\u001b[1;33m(\u001b[0m\u001b[1;33m)\u001b[0m\u001b[1;33m\u001b[0m\u001b[1;33m\u001b[0m\u001b[0m\n\u001b[1;32m-> 1775\u001b[1;33m         \u001b[0mids\u001b[0m\u001b[1;33m,\u001b[0m \u001b[0m_\u001b[0m\u001b[1;33m,\u001b[0m \u001b[0mngroups\u001b[0m \u001b[1;33m=\u001b[0m \u001b[0mself\u001b[0m\u001b[1;33m.\u001b[0m\u001b[0mgrouper\u001b[0m\u001b[1;33m.\u001b[0m\u001b[0mgroup_info\u001b[0m\u001b[1;33m\u001b[0m\u001b[1;33m\u001b[0m\u001b[0m\n\u001b[0m\u001b[0;32m   1776\u001b[0m         \u001b[0mmask\u001b[0m \u001b[1;33m=\u001b[0m \u001b[0mids\u001b[0m \u001b[1;33m!=\u001b[0m \u001b[1;33m-\u001b[0m\u001b[1;36m1\u001b[0m\u001b[1;33m\u001b[0m\u001b[1;33m\u001b[0m\u001b[0m\n\u001b[0;32m   1777\u001b[0m \u001b[1;33m\u001b[0m\u001b[0m\n",
      "\u001b[1;32mpandas\\_libs\\properties.pyx\u001b[0m in \u001b[0;36mpandas._libs.properties.CachedProperty.__get__\u001b[1;34m()\u001b[0m\n",
      "\u001b[1;32mC:\\ProgramData\\Anaconda3\\lib\\site-packages\\pandas\\core\\groupby\\ops.py\u001b[0m in \u001b[0;36mgroup_info\u001b[1;34m(self)\u001b[0m\n\u001b[0;32m    262\u001b[0m     \u001b[1;33m@\u001b[0m\u001b[0mcache_readonly\u001b[0m\u001b[1;33m\u001b[0m\u001b[1;33m\u001b[0m\u001b[0m\n\u001b[0;32m    263\u001b[0m     \u001b[1;32mdef\u001b[0m \u001b[0mgroup_info\u001b[0m\u001b[1;33m(\u001b[0m\u001b[0mself\u001b[0m\u001b[1;33m)\u001b[0m\u001b[1;33m:\u001b[0m\u001b[1;33m\u001b[0m\u001b[1;33m\u001b[0m\u001b[0m\n\u001b[1;32m--> 264\u001b[1;33m         \u001b[0mcomp_ids\u001b[0m\u001b[1;33m,\u001b[0m \u001b[0mobs_group_ids\u001b[0m \u001b[1;33m=\u001b[0m \u001b[0mself\u001b[0m\u001b[1;33m.\u001b[0m\u001b[0m_get_compressed_codes\u001b[0m\u001b[1;33m(\u001b[0m\u001b[1;33m)\u001b[0m\u001b[1;33m\u001b[0m\u001b[1;33m\u001b[0m\u001b[0m\n\u001b[0m\u001b[0;32m    265\u001b[0m \u001b[1;33m\u001b[0m\u001b[0m\n\u001b[0;32m    266\u001b[0m         \u001b[0mngroups\u001b[0m \u001b[1;33m=\u001b[0m \u001b[0mlen\u001b[0m\u001b[1;33m(\u001b[0m\u001b[0mobs_group_ids\u001b[0m\u001b[1;33m)\u001b[0m\u001b[1;33m\u001b[0m\u001b[1;33m\u001b[0m\u001b[0m\n",
      "\u001b[1;32mC:\\ProgramData\\Anaconda3\\lib\\site-packages\\pandas\\core\\groupby\\ops.py\u001b[0m in \u001b[0;36m_get_compressed_codes\u001b[1;34m(self)\u001b[0m\n\u001b[0;32m    278\u001b[0m \u001b[1;33m\u001b[0m\u001b[0m\n\u001b[0;32m    279\u001b[0m     \u001b[1;32mdef\u001b[0m \u001b[0m_get_compressed_codes\u001b[0m\u001b[1;33m(\u001b[0m\u001b[0mself\u001b[0m\u001b[1;33m)\u001b[0m \u001b[1;33m->\u001b[0m \u001b[0mTuple\u001b[0m\u001b[1;33m[\u001b[0m\u001b[0mnp\u001b[0m\u001b[1;33m.\u001b[0m\u001b[0mndarray\u001b[0m\u001b[1;33m,\u001b[0m \u001b[0mnp\u001b[0m\u001b[1;33m.\u001b[0m\u001b[0mndarray\u001b[0m\u001b[1;33m]\u001b[0m\u001b[1;33m:\u001b[0m\u001b[1;33m\u001b[0m\u001b[1;33m\u001b[0m\u001b[0m\n\u001b[1;32m--> 280\u001b[1;33m         \u001b[0mall_codes\u001b[0m \u001b[1;33m=\u001b[0m \u001b[0mself\u001b[0m\u001b[1;33m.\u001b[0m\u001b[0mcodes\u001b[0m\u001b[1;33m\u001b[0m\u001b[1;33m\u001b[0m\u001b[0m\n\u001b[0m\u001b[0;32m    281\u001b[0m         \u001b[1;32mif\u001b[0m \u001b[0mlen\u001b[0m\u001b[1;33m(\u001b[0m\u001b[0mall_codes\u001b[0m\u001b[1;33m)\u001b[0m \u001b[1;33m>\u001b[0m \u001b[1;36m1\u001b[0m\u001b[1;33m:\u001b[0m\u001b[1;33m\u001b[0m\u001b[1;33m\u001b[0m\u001b[0m\n\u001b[0;32m    282\u001b[0m             \u001b[0mgroup_index\u001b[0m \u001b[1;33m=\u001b[0m \u001b[0mget_group_index\u001b[0m\u001b[1;33m(\u001b[0m\u001b[0mall_codes\u001b[0m\u001b[1;33m,\u001b[0m \u001b[0mself\u001b[0m\u001b[1;33m.\u001b[0m\u001b[0mshape\u001b[0m\u001b[1;33m,\u001b[0m \u001b[0msort\u001b[0m\u001b[1;33m=\u001b[0m\u001b[1;32mTrue\u001b[0m\u001b[1;33m,\u001b[0m \u001b[0mxnull\u001b[0m\u001b[1;33m=\u001b[0m\u001b[1;32mTrue\u001b[0m\u001b[1;33m)\u001b[0m\u001b[1;33m\u001b[0m\u001b[1;33m\u001b[0m\u001b[0m\n",
      "\u001b[1;32mC:\\ProgramData\\Anaconda3\\lib\\site-packages\\pandas\\core\\groupby\\ops.py\u001b[0m in \u001b[0;36mcodes\u001b[1;34m(self)\u001b[0m\n\u001b[0;32m    223\u001b[0m     \u001b[1;33m@\u001b[0m\u001b[0mproperty\u001b[0m\u001b[1;33m\u001b[0m\u001b[1;33m\u001b[0m\u001b[0m\n\u001b[0;32m    224\u001b[0m     \u001b[1;32mdef\u001b[0m \u001b[0mcodes\u001b[0m\u001b[1;33m(\u001b[0m\u001b[0mself\u001b[0m\u001b[1;33m)\u001b[0m \u001b[1;33m->\u001b[0m \u001b[0mList\u001b[0m\u001b[1;33m[\u001b[0m\u001b[0mnp\u001b[0m\u001b[1;33m.\u001b[0m\u001b[0mndarray\u001b[0m\u001b[1;33m]\u001b[0m\u001b[1;33m:\u001b[0m\u001b[1;33m\u001b[0m\u001b[1;33m\u001b[0m\u001b[0m\n\u001b[1;32m--> 225\u001b[1;33m         \u001b[1;32mreturn\u001b[0m \u001b[1;33m[\u001b[0m\u001b[0mping\u001b[0m\u001b[1;33m.\u001b[0m\u001b[0mcodes\u001b[0m \u001b[1;32mfor\u001b[0m \u001b[0mping\u001b[0m \u001b[1;32min\u001b[0m \u001b[0mself\u001b[0m\u001b[1;33m.\u001b[0m\u001b[0mgroupings\u001b[0m\u001b[1;33m]\u001b[0m\u001b[1;33m\u001b[0m\u001b[1;33m\u001b[0m\u001b[0m\n\u001b[0m\u001b[0;32m    226\u001b[0m \u001b[1;33m\u001b[0m\u001b[0m\n\u001b[0;32m    227\u001b[0m     \u001b[1;33m@\u001b[0m\u001b[0mproperty\u001b[0m\u001b[1;33m\u001b[0m\u001b[1;33m\u001b[0m\u001b[0m\n",
      "\u001b[1;32mC:\\ProgramData\\Anaconda3\\lib\\site-packages\\pandas\\core\\groupby\\ops.py\u001b[0m in \u001b[0;36m<listcomp>\u001b[1;34m(.0)\u001b[0m\n\u001b[0;32m    223\u001b[0m     \u001b[1;33m@\u001b[0m\u001b[0mproperty\u001b[0m\u001b[1;33m\u001b[0m\u001b[1;33m\u001b[0m\u001b[0m\n\u001b[0;32m    224\u001b[0m     \u001b[1;32mdef\u001b[0m \u001b[0mcodes\u001b[0m\u001b[1;33m(\u001b[0m\u001b[0mself\u001b[0m\u001b[1;33m)\u001b[0m \u001b[1;33m->\u001b[0m \u001b[0mList\u001b[0m\u001b[1;33m[\u001b[0m\u001b[0mnp\u001b[0m\u001b[1;33m.\u001b[0m\u001b[0mndarray\u001b[0m\u001b[1;33m]\u001b[0m\u001b[1;33m:\u001b[0m\u001b[1;33m\u001b[0m\u001b[1;33m\u001b[0m\u001b[0m\n\u001b[1;32m--> 225\u001b[1;33m         \u001b[1;32mreturn\u001b[0m \u001b[1;33m[\u001b[0m\u001b[0mping\u001b[0m\u001b[1;33m.\u001b[0m\u001b[0mcodes\u001b[0m \u001b[1;32mfor\u001b[0m \u001b[0mping\u001b[0m \u001b[1;32min\u001b[0m \u001b[0mself\u001b[0m\u001b[1;33m.\u001b[0m\u001b[0mgroupings\u001b[0m\u001b[1;33m]\u001b[0m\u001b[1;33m\u001b[0m\u001b[1;33m\u001b[0m\u001b[0m\n\u001b[0m\u001b[0;32m    226\u001b[0m \u001b[1;33m\u001b[0m\u001b[0m\n\u001b[0;32m    227\u001b[0m     \u001b[1;33m@\u001b[0m\u001b[0mproperty\u001b[0m\u001b[1;33m\u001b[0m\u001b[1;33m\u001b[0m\u001b[0m\n",
      "\u001b[1;32mC:\\ProgramData\\Anaconda3\\lib\\site-packages\\pandas\\core\\groupby\\grouper.py\u001b[0m in \u001b[0;36mcodes\u001b[1;34m(self)\u001b[0m\n\u001b[0;32m    391\u001b[0m     \u001b[1;32mdef\u001b[0m \u001b[0mcodes\u001b[0m\u001b[1;33m(\u001b[0m\u001b[0mself\u001b[0m\u001b[1;33m)\u001b[0m \u001b[1;33m->\u001b[0m \u001b[0mnp\u001b[0m\u001b[1;33m.\u001b[0m\u001b[0mndarray\u001b[0m\u001b[1;33m:\u001b[0m\u001b[1;33m\u001b[0m\u001b[1;33m\u001b[0m\u001b[0m\n\u001b[0;32m    392\u001b[0m         \u001b[1;32mif\u001b[0m \u001b[0mself\u001b[0m\u001b[1;33m.\u001b[0m\u001b[0m_codes\u001b[0m \u001b[1;32mis\u001b[0m \u001b[1;32mNone\u001b[0m\u001b[1;33m:\u001b[0m\u001b[1;33m\u001b[0m\u001b[1;33m\u001b[0m\u001b[0m\n\u001b[1;32m--> 393\u001b[1;33m             \u001b[0mself\u001b[0m\u001b[1;33m.\u001b[0m\u001b[0m_make_codes\u001b[0m\u001b[1;33m(\u001b[0m\u001b[1;33m)\u001b[0m\u001b[1;33m\u001b[0m\u001b[1;33m\u001b[0m\u001b[0m\n\u001b[0m\u001b[0;32m    394\u001b[0m         \u001b[1;32mreturn\u001b[0m \u001b[0mself\u001b[0m\u001b[1;33m.\u001b[0m\u001b[0m_codes\u001b[0m\u001b[1;33m\u001b[0m\u001b[1;33m\u001b[0m\u001b[0m\n\u001b[0;32m    395\u001b[0m \u001b[1;33m\u001b[0m\u001b[0m\n",
      "\u001b[1;32mC:\\ProgramData\\Anaconda3\\lib\\site-packages\\pandas\\core\\groupby\\grouper.py\u001b[0m in \u001b[0;36m_make_codes\u001b[1;34m(self)\u001b[0m\n\u001b[0;32m    414\u001b[0m                 \u001b[0muniques\u001b[0m \u001b[1;33m=\u001b[0m \u001b[0mself\u001b[0m\u001b[1;33m.\u001b[0m\u001b[0mgrouper\u001b[0m\u001b[1;33m.\u001b[0m\u001b[0mresult_index\u001b[0m\u001b[1;33m\u001b[0m\u001b[1;33m\u001b[0m\u001b[0m\n\u001b[0;32m    415\u001b[0m             \u001b[1;32melse\u001b[0m\u001b[1;33m:\u001b[0m\u001b[1;33m\u001b[0m\u001b[1;33m\u001b[0m\u001b[0m\n\u001b[1;32m--> 416\u001b[1;33m                 \u001b[0mcodes\u001b[0m\u001b[1;33m,\u001b[0m \u001b[0muniques\u001b[0m \u001b[1;33m=\u001b[0m \u001b[0malgorithms\u001b[0m\u001b[1;33m.\u001b[0m\u001b[0mfactorize\u001b[0m\u001b[1;33m(\u001b[0m\u001b[0mself\u001b[0m\u001b[1;33m.\u001b[0m\u001b[0mgrouper\u001b[0m\u001b[1;33m,\u001b[0m \u001b[0msort\u001b[0m\u001b[1;33m=\u001b[0m\u001b[0mself\u001b[0m\u001b[1;33m.\u001b[0m\u001b[0msort\u001b[0m\u001b[1;33m)\u001b[0m\u001b[1;33m\u001b[0m\u001b[1;33m\u001b[0m\u001b[0m\n\u001b[0m\u001b[0;32m    417\u001b[0m                 \u001b[0muniques\u001b[0m \u001b[1;33m=\u001b[0m \u001b[0mIndex\u001b[0m\u001b[1;33m(\u001b[0m\u001b[0muniques\u001b[0m\u001b[1;33m,\u001b[0m \u001b[0mname\u001b[0m\u001b[1;33m=\u001b[0m\u001b[0mself\u001b[0m\u001b[1;33m.\u001b[0m\u001b[0mname\u001b[0m\u001b[1;33m)\u001b[0m\u001b[1;33m\u001b[0m\u001b[1;33m\u001b[0m\u001b[0m\n\u001b[0;32m    418\u001b[0m             \u001b[0mself\u001b[0m\u001b[1;33m.\u001b[0m\u001b[0m_codes\u001b[0m \u001b[1;33m=\u001b[0m \u001b[0mcodes\u001b[0m\u001b[1;33m\u001b[0m\u001b[1;33m\u001b[0m\u001b[0m\n",
      "\u001b[1;32mC:\\ProgramData\\Anaconda3\\lib\\site-packages\\pandas\\core\\algorithms.py\u001b[0m in \u001b[0;36mfactorize\u001b[1;34m(values, sort, na_sentinel, size_hint)\u001b[0m\n\u001b[0;32m    633\u001b[0m             \u001b[0mna_value\u001b[0m \u001b[1;33m=\u001b[0m \u001b[1;32mNone\u001b[0m\u001b[1;33m\u001b[0m\u001b[1;33m\u001b[0m\u001b[0m\n\u001b[0;32m    634\u001b[0m \u001b[1;33m\u001b[0m\u001b[0m\n\u001b[1;32m--> 635\u001b[1;33m         codes, uniques = _factorize_array(\n\u001b[0m\u001b[0;32m    636\u001b[0m             \u001b[0mvalues\u001b[0m\u001b[1;33m,\u001b[0m \u001b[0mna_sentinel\u001b[0m\u001b[1;33m=\u001b[0m\u001b[0mna_sentinel\u001b[0m\u001b[1;33m,\u001b[0m \u001b[0msize_hint\u001b[0m\u001b[1;33m=\u001b[0m\u001b[0msize_hint\u001b[0m\u001b[1;33m,\u001b[0m \u001b[0mna_value\u001b[0m\u001b[1;33m=\u001b[0m\u001b[0mna_value\u001b[0m\u001b[1;33m\u001b[0m\u001b[1;33m\u001b[0m\u001b[0m\n\u001b[0;32m    637\u001b[0m         )\n",
      "\u001b[1;32mC:\\ProgramData\\Anaconda3\\lib\\site-packages\\pandas\\core\\algorithms.py\u001b[0m in \u001b[0;36m_factorize_array\u001b[1;34m(values, na_sentinel, size_hint, na_value)\u001b[0m\n\u001b[0;32m    482\u001b[0m \u001b[1;33m\u001b[0m\u001b[0m\n\u001b[0;32m    483\u001b[0m     \u001b[0mtable\u001b[0m \u001b[1;33m=\u001b[0m \u001b[0mhash_klass\u001b[0m\u001b[1;33m(\u001b[0m\u001b[0msize_hint\u001b[0m \u001b[1;32mor\u001b[0m \u001b[0mlen\u001b[0m\u001b[1;33m(\u001b[0m\u001b[0mvalues\u001b[0m\u001b[1;33m)\u001b[0m\u001b[1;33m)\u001b[0m\u001b[1;33m\u001b[0m\u001b[1;33m\u001b[0m\u001b[0m\n\u001b[1;32m--> 484\u001b[1;33m     \u001b[0muniques\u001b[0m\u001b[1;33m,\u001b[0m \u001b[0mcodes\u001b[0m \u001b[1;33m=\u001b[0m \u001b[0mtable\u001b[0m\u001b[1;33m.\u001b[0m\u001b[0mfactorize\u001b[0m\u001b[1;33m(\u001b[0m\u001b[0mvalues\u001b[0m\u001b[1;33m,\u001b[0m \u001b[0mna_sentinel\u001b[0m\u001b[1;33m=\u001b[0m\u001b[0mna_sentinel\u001b[0m\u001b[1;33m,\u001b[0m \u001b[0mna_value\u001b[0m\u001b[1;33m=\u001b[0m\u001b[0mna_value\u001b[0m\u001b[1;33m)\u001b[0m\u001b[1;33m\u001b[0m\u001b[1;33m\u001b[0m\u001b[0m\n\u001b[0m\u001b[0;32m    485\u001b[0m \u001b[1;33m\u001b[0m\u001b[0m\n\u001b[0;32m    486\u001b[0m     \u001b[0mcodes\u001b[0m \u001b[1;33m=\u001b[0m \u001b[0mensure_platform_int\u001b[0m\u001b[1;33m(\u001b[0m\u001b[0mcodes\u001b[0m\u001b[1;33m)\u001b[0m\u001b[1;33m\u001b[0m\u001b[1;33m\u001b[0m\u001b[0m\n",
      "\u001b[1;32mpandas\\_libs\\hashtable_class_helper.pxi\u001b[0m in \u001b[0;36mpandas._libs.hashtable.PyObjectHashTable.factorize\u001b[1;34m()\u001b[0m\n",
      "\u001b[1;32mpandas\\_libs\\hashtable_class_helper.pxi\u001b[0m in \u001b[0;36mpandas._libs.hashtable.PyObjectHashTable._unique\u001b[1;34m()\u001b[0m\n",
      "\u001b[1;31mTypeError\u001b[0m: unhashable type: 'list'"
     ]
    }
   ],
   "source": [
    "df_counts.groupby('labels_list').count()"
   ]
  },
  {
   "cell_type": "code",
   "execution_count": 23,
   "metadata": {
    "scrolled": false
   },
   "outputs": [
    {
     "name": "stdout",
     "output_type": "stream",
     "text": [
      "Data Retention                           4\n",
      "Data Security                            9\n",
      "Do Not Track                             0\n",
      "First Party Collection/Use              84\n",
      "International and Specific Audiences     3\n",
      "Introductory/Generic                     7\n",
      "Policy Change                            1\n",
      "Practice not covered                     5\n",
      "Privacy contact information              8\n",
      "Third Party Sharing/Collection          89\n",
      "User Access, Edit and Deletion          14\n",
      "User Choice/Control                     15\n",
      "dtype: int64\n",
      "--------------------------------------------------\n",
      "Data Retention                           46\n",
      "Data Security                            41\n",
      "Do Not Track                             17\n",
      "First Party Collection/Use              445\n",
      "International and Specific Audiences     56\n",
      "Introductory/Generic                    112\n",
      "Policy Change                             6\n",
      "Practice not covered                     47\n",
      "Privacy contact information              87\n",
      "Third Party Sharing/Collection          200\n",
      "User Access, Edit and Deletion           86\n",
      "User Choice/Control                      63\n",
      "dtype: int64\n",
      "--------------------------------------------------\n",
      "Data Retention                            1\n",
      "Data Security                             0\n",
      "Do Not Track                             10\n",
      "First Party Collection/Use              156\n",
      "International and Specific Audiences      1\n",
      "Introductory/Generic                     20\n",
      "Policy Change                             1\n",
      "Practice not covered                      4\n",
      "Privacy contact information               0\n",
      "Third Party Sharing/Collection           73\n",
      "User Access, Edit and Deletion            1\n",
      "User Choice/Control                      69\n",
      "dtype: int64\n",
      "--------------------------------------------------\n",
      "Data Retention                           0\n",
      "Data Security                            0\n",
      "Do Not Track                             2\n",
      "First Party Collection/Use               0\n",
      "International and Specific Audiences    57\n",
      "Introductory/Generic                     0\n",
      "Policy Change                            0\n",
      "Practice not covered                     0\n",
      "Privacy contact information              9\n",
      "Third Party Sharing/Collection           2\n",
      "User Access, Edit and Deletion           1\n",
      "User Choice/Control                      2\n",
      "dtype: int64\n",
      "--------------------------------------------------\n",
      "Data Retention                            3\n",
      "Data Security                             0\n",
      "Do Not Track                              0\n",
      "First Party Collection/Use                6\n",
      "International and Specific Audiences    130\n",
      "Introductory/Generic                      0\n",
      "Policy Change                             2\n",
      "Practice not covered                      0\n",
      "Privacy contact information               4\n",
      "Third Party Sharing/Collection            1\n",
      "User Access, Edit and Deletion            7\n",
      "User Choice/Control                       3\n",
      "dtype: int64\n",
      "--------------------------------------------------\n",
      "Data Retention                            3\n",
      "Data Security                           121\n",
      "Do Not Track                              0\n",
      "First Party Collection/Use                2\n",
      "International and Specific Audiences      0\n",
      "Introductory/Generic                      0\n",
      "Policy Change                             0\n",
      "Practice not covered                      1\n",
      "Privacy contact information               3\n",
      "Third Party Sharing/Collection            0\n",
      "User Access, Edit and Deletion            0\n",
      "User Choice/Control                       1\n",
      "dtype: int64\n",
      "--------------------------------------------------\n",
      "Data Retention                            3\n",
      "Data Security                            13\n",
      "Do Not Track                              1\n",
      "First Party Collection/Use              205\n",
      "International and Specific Audiences      1\n",
      "Introductory/Generic                     25\n",
      "Policy Change                             1\n",
      "Practice not covered                     26\n",
      "Privacy contact information               2\n",
      "Third Party Sharing/Collection          202\n",
      "User Access, Edit and Deletion            6\n",
      "User Choice/Control                      33\n",
      "dtype: int64\n",
      "--------------------------------------------------\n",
      "Data Retention                            3\n",
      "Data Security                             9\n",
      "Do Not Track                              0\n",
      "First Party Collection/Use               34\n",
      "International and Specific Audiences     34\n",
      "Introductory/Generic                     21\n",
      "Policy Change                             0\n",
      "Practice not covered                      9\n",
      "Privacy contact information               1\n",
      "Third Party Sharing/Collection          169\n",
      "User Access, Edit and Deletion            1\n",
      "User Choice/Control                       7\n",
      "dtype: int64\n",
      "--------------------------------------------------\n",
      "Data Retention                            4\n",
      "Data Security                             2\n",
      "Do Not Track                              1\n",
      "First Party Collection/Use              144\n",
      "International and Specific Audiences      0\n",
      "Introductory/Generic                      5\n",
      "Policy Change                             0\n",
      "Practice not covered                      1\n",
      "Privacy contact information               0\n",
      "Third Party Sharing/Collection           26\n",
      "User Access, Edit and Deletion            1\n",
      "User Choice/Control                      12\n",
      "dtype: int64\n",
      "--------------------------------------------------\n",
      "Data Retention                            0\n",
      "Data Security                             8\n",
      "Do Not Track                              0\n",
      "First Party Collection/Use                8\n",
      "International and Specific Audiences      9\n",
      "Introductory/Generic                    181\n",
      "Policy Change                           101\n",
      "Practice not covered                     23\n",
      "Privacy contact information              60\n",
      "Third Party Sharing/Collection           10\n",
      "User Access, Edit and Deletion            2\n",
      "User Choice/Control                      15\n",
      "dtype: int64\n",
      "--------------------------------------------------\n",
      "Data Retention                            9\n",
      "Data Security                             3\n",
      "Do Not Track                              0\n",
      "First Party Collection/Use               71\n",
      "International and Specific Audiences      3\n",
      "Introductory/Generic                      4\n",
      "Policy Change                             2\n",
      "Practice not covered                      5\n",
      "Privacy contact information              21\n",
      "Third Party Sharing/Collection           38\n",
      "User Access, Edit and Deletion           24\n",
      "User Choice/Control                     126\n",
      "dtype: int64\n",
      "--------------------------------------------------\n",
      "Data Retention                            2\n",
      "Data Security                             1\n",
      "Do Not Track                              0\n",
      "First Party Collection/Use               26\n",
      "International and Specific Audiences      2\n",
      "Introductory/Generic                      3\n",
      "Policy Change                             2\n",
      "Practice not covered                      8\n",
      "Privacy contact information               7\n",
      "Third Party Sharing/Collection          121\n",
      "User Access, Edit and Deletion            4\n",
      "User Choice/Control                       6\n",
      "dtype: int64\n",
      "--------------------------------------------------\n"
     ]
    }
   ],
   "source": [
    "for i in range(12):\n",
    "    print(df_clustering[df_clustering['kmeans_label']==i][col_names].sum())\n",
    "    print('-'*50)"
   ]
  },
  {
   "cell_type": "markdown",
   "metadata": {},
   "source": [
    "## LDA topic models"
   ]
  },
  {
   "cell_type": "code",
   "execution_count": 24,
   "metadata": {},
   "outputs": [],
   "source": [
    "from sklearn.decomposition import LatentDirichletAllocation\n",
    "\n",
    "lda = LatentDirichletAllocation(n_components=12, random_state=0)\n",
    "df_clustering['lda_labels'] = lda.fit_transform(X).argmax(axis=1)"
   ]
  },
  {
   "cell_type": "code",
   "execution_count": 25,
   "metadata": {},
   "outputs": [
    {
     "data": {
      "text/plain": [
       "3     1627\n",
       "2      538\n",
       "9      344\n",
       "10     314\n",
       "6      185\n",
       "7      172\n",
       "4       74\n",
       "5       61\n",
       "0       40\n",
       "11      31\n",
       "1        8\n",
       "8        5\n",
       "Name: lda_labels, dtype: int64"
      ]
     },
     "execution_count": 25,
     "metadata": {},
     "output_type": "execute_result"
    }
   ],
   "source": [
    "df_clustering['lda_labels'].value_counts()"
   ]
  },
  {
   "cell_type": "code",
   "execution_count": 26,
   "metadata": {
    "scrolled": false
   },
   "outputs": [
    {
     "name": "stdout",
     "output_type": "stream",
     "text": [
      "Data Retention                           0\n",
      "Data Security                            1\n",
      "Do Not Track                             0\n",
      "First Party Collection/Use               8\n",
      "International and Specific Audiences     6\n",
      "Introductory/Generic                     6\n",
      "Policy Change                            1\n",
      "Practice not covered                     2\n",
      "Privacy contact information              2\n",
      "Third Party Sharing/Collection          16\n",
      "User Access, Edit and Deletion           1\n",
      "User Choice/Control                      0\n",
      "dtype: int64\n",
      "--------------------------------------------------\n",
      "Data Retention                          0\n",
      "Data Security                           1\n",
      "Do Not Track                            0\n",
      "First Party Collection/Use              0\n",
      "International and Specific Audiences    0\n",
      "Introductory/Generic                    6\n",
      "Policy Change                           0\n",
      "Practice not covered                    0\n",
      "Privacy contact information             1\n",
      "Third Party Sharing/Collection          0\n",
      "User Access, Edit and Deletion          0\n",
      "User Choice/Control                     0\n",
      "dtype: int64\n",
      "--------------------------------------------------\n",
      "Data Retention                            4\n",
      "Data Security                            15\n",
      "Do Not Track                              0\n",
      "First Party Collection/Use              128\n",
      "International and Specific Audiences    158\n",
      "Introductory/Generic                    134\n",
      "Policy Change                             8\n",
      "Practice not covered                     35\n",
      "Privacy contact information              25\n",
      "Third Party Sharing/Collection           74\n",
      "User Access, Edit and Deletion           21\n",
      "User Choice/Control                      23\n",
      "dtype: int64\n",
      "--------------------------------------------------\n",
      "Data Retention                           49\n",
      "Data Security                            42\n",
      "Do Not Track                             30\n",
      "First Party Collection/Use              855\n",
      "International and Specific Audiences     49\n",
      "Introductory/Generic                    108\n",
      "Policy Change                             5\n",
      "Practice not covered                     59\n",
      "Privacy contact information              26\n",
      "Third Party Sharing/Collection          529\n",
      "User Access, Edit and Deletion           85\n",
      "User Choice/Control                     164\n",
      "dtype: int64\n",
      "--------------------------------------------------\n",
      "Data Retention                           9\n",
      "Data Security                            3\n",
      "Do Not Track                             0\n",
      "First Party Collection/Use               6\n",
      "International and Specific Audiences     4\n",
      "Introductory/Generic                     3\n",
      "Policy Change                            0\n",
      "Practice not covered                     4\n",
      "Privacy contact information              5\n",
      "Third Party Sharing/Collection          47\n",
      "User Access, Edit and Deletion           1\n",
      "User Choice/Control                      1\n",
      "dtype: int64\n",
      "--------------------------------------------------\n",
      "Data Retention                           2\n",
      "Data Security                            1\n",
      "Do Not Track                             0\n",
      "First Party Collection/Use               4\n",
      "International and Specific Audiences     1\n",
      "Introductory/Generic                     9\n",
      "Policy Change                            3\n",
      "Practice not covered                     0\n",
      "Privacy contact information             41\n",
      "Third Party Sharing/Collection           4\n",
      "User Access, Edit and Deletion           1\n",
      "User Choice/Control                      1\n",
      "dtype: int64\n",
      "--------------------------------------------------\n",
      "Data Retention                           1\n",
      "Data Security                            0\n",
      "Do Not Track                             0\n",
      "First Party Collection/Use               9\n",
      "International and Specific Audiences     4\n",
      "Introductory/Generic                    65\n",
      "Policy Change                           94\n",
      "Practice not covered                     0\n",
      "Privacy contact information              9\n",
      "Third Party Sharing/Collection           6\n",
      "User Access, Edit and Deletion           3\n",
      "User Choice/Control                      9\n",
      "dtype: int64\n",
      "--------------------------------------------------\n",
      "Data Retention                            3\n",
      "Data Security                           119\n",
      "Do Not Track                              0\n",
      "First Party Collection/Use                2\n",
      "International and Specific Audiences      6\n",
      "Introductory/Generic                     11\n",
      "Policy Change                             1\n",
      "Practice not covered                      5\n",
      "Privacy contact information              28\n",
      "Third Party Sharing/Collection            7\n",
      "User Access, Edit and Deletion            4\n",
      "User Choice/Control                       7\n",
      "dtype: int64\n",
      "--------------------------------------------------\n",
      "Data Retention                          0\n",
      "Data Security                           0\n",
      "Do Not Track                            0\n",
      "First Party Collection/Use              1\n",
      "International and Specific Audiences    1\n",
      "Introductory/Generic                    1\n",
      "Policy Change                           0\n",
      "Practice not covered                    0\n",
      "Privacy contact information             1\n",
      "Third Party Sharing/Collection          0\n",
      "User Access, Edit and Deletion          1\n",
      "User Choice/Control                     1\n",
      "dtype: int64\n",
      "--------------------------------------------------\n",
      "Data Retention                            3\n",
      "Data Security                             6\n",
      "Do Not Track                              1\n",
      "First Party Collection/Use               54\n",
      "International and Specific Audiences     59\n",
      "Introductory/Generic                     15\n",
      "Policy Change                             1\n",
      "Practice not covered                     14\n",
      "Privacy contact information              27\n",
      "Third Party Sharing/Collection          196\n",
      "User Access, Edit and Deletion           10\n",
      "User Choice/Control                      18\n",
      "dtype: int64\n",
      "--------------------------------------------------\n",
      "Data Retention                            7\n",
      "Data Security                            14\n",
      "Do Not Track                              0\n",
      "First Party Collection/Use              111\n",
      "International and Specific Audiences      8\n",
      "Introductory/Generic                     10\n",
      "Policy Change                             1\n",
      "Practice not covered                      9\n",
      "Privacy contact information              32\n",
      "Third Party Sharing/Collection           45\n",
      "User Access, Edit and Deletion           19\n",
      "User Choice/Control                     126\n",
      "dtype: int64\n",
      "--------------------------------------------------\n",
      "Data Retention                           0\n",
      "Data Security                            5\n",
      "Do Not Track                             0\n",
      "First Party Collection/Use               3\n",
      "International and Specific Audiences     0\n",
      "Introductory/Generic                    10\n",
      "Policy Change                            2\n",
      "Practice not covered                     1\n",
      "Privacy contact information              5\n",
      "Third Party Sharing/Collection           7\n",
      "User Access, Edit and Deletion           1\n",
      "User Choice/Control                      2\n",
      "dtype: int64\n",
      "--------------------------------------------------\n"
     ]
    }
   ],
   "source": [
    "for i in range(12):\n",
    "    print(df_clustering[df_clustering['lda_labels']==i][col_names].sum())\n",
    "    print('-'*50)"
   ]
  },
  {
   "cell_type": "markdown",
   "metadata": {},
   "source": [
    "## SVD"
   ]
  },
  {
   "cell_type": "code",
   "execution_count": 27,
   "metadata": {},
   "outputs": [],
   "source": [
    "from sklearn.decomposition import TruncatedSVD"
   ]
  },
  {
   "cell_type": "code",
   "execution_count": 28,
   "metadata": {},
   "outputs": [],
   "source": [
    "# X = csr_matrix(X_dense)\n",
    "svd = TruncatedSVD(n_components=12, n_iter=7, random_state=42)\n",
    "df_clustering['svd_labels'] = svd.fit_transform(X).argmax(axis=1)"
   ]
  },
  {
   "cell_type": "code",
   "execution_count": 29,
   "metadata": {
    "scrolled": false
   },
   "outputs": [
    {
     "name": "stdout",
     "output_type": "stream",
     "text": [
      "Data Retention                           50\n",
      "Data Security                            60\n",
      "Do Not Track                             15\n",
      "First Party Collection/Use              879\n",
      "International and Specific Audiences     82\n",
      "Introductory/Generic                    210\n",
      "Policy Change                            19\n",
      "Practice not covered                    108\n",
      "Privacy contact information              63\n",
      "Third Party Sharing/Collection          706\n",
      "User Access, Edit and Deletion           80\n",
      "User Choice/Control                     131\n",
      "dtype: int64\n",
      "--------------------------------------------------\n",
      "Data Retention                            3\n",
      "Data Security                             6\n",
      "Do Not Track                              0\n",
      "First Party Collection/Use                1\n",
      "International and Specific Audiences     16\n",
      "Introductory/Generic                    115\n",
      "Policy Change                            91\n",
      "Practice not covered                      8\n",
      "Privacy contact information              64\n",
      "Third Party Sharing/Collection            7\n",
      "User Access, Edit and Deletion            2\n",
      "User Choice/Control                      13\n",
      "dtype: int64\n",
      "--------------------------------------------------\n",
      "Data Retention                           0\n",
      "Data Security                            0\n",
      "Do Not Track                            14\n",
      "First Party Collection/Use              86\n",
      "International and Specific Audiences     0\n",
      "Introductory/Generic                    20\n",
      "Policy Change                            0\n",
      "Practice not covered                     1\n",
      "Privacy contact information              0\n",
      "Third Party Sharing/Collection          26\n",
      "User Access, Edit and Deletion           0\n",
      "User Choice/Control                     60\n",
      "dtype: int64\n",
      "--------------------------------------------------\n",
      "Data Retention                            3\n",
      "Data Security                             1\n",
      "Do Not Track                              0\n",
      "First Party Collection/Use                8\n",
      "International and Specific Audiences    134\n",
      "Introductory/Generic                      0\n",
      "Policy Change                             2\n",
      "Practice not covered                      0\n",
      "Privacy contact information               5\n",
      "Third Party Sharing/Collection            2\n",
      "User Access, Edit and Deletion            6\n",
      "User Choice/Control                       3\n",
      "dtype: int64\n",
      "--------------------------------------------------\n",
      "Data Retention                           7\n",
      "Data Security                            1\n",
      "Do Not Track                             0\n",
      "First Party Collection/Use              58\n",
      "International and Specific Audiences     9\n",
      "Introductory/Generic                     4\n",
      "Policy Change                            1\n",
      "Practice not covered                     4\n",
      "Privacy contact information             36\n",
      "Third Party Sharing/Collection          10\n",
      "User Access, Edit and Deletion          32\n",
      "User Choice/Control                     98\n",
      "dtype: int64\n",
      "--------------------------------------------------\n",
      "Data Retention                           0\n",
      "Data Security                            0\n",
      "Do Not Track                             2\n",
      "First Party Collection/Use               4\n",
      "International and Specific Audiences    45\n",
      "Introductory/Generic                     5\n",
      "Policy Change                            0\n",
      "Practice not covered                     0\n",
      "Privacy contact information              9\n",
      "Third Party Sharing/Collection          45\n",
      "User Access, Edit and Deletion           1\n",
      "User Choice/Control                     20\n",
      "dtype: int64\n",
      "--------------------------------------------------\n",
      "Data Retention                           7\n",
      "Data Security                           99\n",
      "Do Not Track                             0\n",
      "First Party Collection/Use              18\n",
      "International and Specific Audiences     4\n",
      "Introductory/Generic                     8\n",
      "Policy Change                            0\n",
      "Practice not covered                     3\n",
      "Privacy contact information              3\n",
      "Third Party Sharing/Collection          71\n",
      "User Access, Edit and Deletion           8\n",
      "User Choice/Control                      4\n",
      "dtype: int64\n",
      "--------------------------------------------------\n",
      "Data Retention                           1\n",
      "Data Security                            0\n",
      "Do Not Track                             0\n",
      "First Party Collection/Use              24\n",
      "International and Specific Audiences     0\n",
      "Introductory/Generic                     2\n",
      "Policy Change                            0\n",
      "Practice not covered                     1\n",
      "Privacy contact information              0\n",
      "Third Party Sharing/Collection          17\n",
      "User Access, Edit and Deletion           0\n",
      "User Choice/Control                      3\n",
      "dtype: int64\n",
      "--------------------------------------------------\n",
      "Data Retention                           2\n",
      "Data Security                            2\n",
      "Do Not Track                             0\n",
      "First Party Collection/Use              61\n",
      "International and Specific Audiences     0\n",
      "Introductory/Generic                     6\n",
      "Policy Change                            0\n",
      "Practice not covered                     1\n",
      "Privacy contact information              0\n",
      "Third Party Sharing/Collection          10\n",
      "User Access, Edit and Deletion           1\n",
      "User Choice/Control                     11\n",
      "dtype: int64\n",
      "--------------------------------------------------\n",
      "Data Retention                           1\n",
      "Data Security                            0\n",
      "Do Not Track                             0\n",
      "First Party Collection/Use              24\n",
      "International and Specific Audiences     1\n",
      "Introductory/Generic                     1\n",
      "Policy Change                            1\n",
      "Practice not covered                     1\n",
      "Privacy contact information              5\n",
      "Third Party Sharing/Collection          22\n",
      "User Access, Edit and Deletion           6\n",
      "User Choice/Control                      1\n",
      "dtype: int64\n",
      "--------------------------------------------------\n",
      "Data Retention                           2\n",
      "Data Security                           22\n",
      "Do Not Track                             0\n",
      "First Party Collection/Use               1\n",
      "International and Specific Audiences     4\n",
      "Introductory/Generic                     4\n",
      "Policy Change                            2\n",
      "Practice not covered                     1\n",
      "Privacy contact information              3\n",
      "Third Party Sharing/Collection           3\n",
      "User Access, Edit and Deletion          11\n",
      "User Choice/Control                      7\n",
      "dtype: int64\n",
      "--------------------------------------------------\n",
      "Data Retention                           2\n",
      "Data Security                           16\n",
      "Do Not Track                             0\n",
      "First Party Collection/Use              17\n",
      "International and Specific Audiences     1\n",
      "Introductory/Generic                     3\n",
      "Policy Change                            0\n",
      "Practice not covered                     1\n",
      "Privacy contact information             14\n",
      "Third Party Sharing/Collection          12\n",
      "User Access, Edit and Deletion           0\n",
      "User Choice/Control                      1\n",
      "dtype: int64\n",
      "--------------------------------------------------\n"
     ]
    }
   ],
   "source": [
    "for i in range(12):\n",
    "    print(df_clustering[df_clustering['svd_labels']==i][col_names].sum())\n",
    "    print('-'*50)"
   ]
  },
  {
   "cell_type": "markdown",
   "metadata": {},
   "source": [
    "## hierarchical clustering (AgglomerativeClustering)"
   ]
  },
  {
   "cell_type": "code",
   "execution_count": 30,
   "metadata": {},
   "outputs": [],
   "source": [
    "from sklearn.cluster import AgglomerativeClustering\n",
    "\n",
    "agg_cluster = AgglomerativeClustering(n_clusters=12, affinity='euclidean', linkage='ward')\n",
    "df_clustering['agg_labels'] = agg_cluster.fit_predict(X)"
   ]
  },
  {
   "cell_type": "code",
   "execution_count": 31,
   "metadata": {
    "scrolled": false
   },
   "outputs": [
    {
     "name": "stdout",
     "output_type": "stream",
     "text": [
      "Data Retention                            0\n",
      "Data Security                             0\n",
      "Do Not Track                              0\n",
      "First Party Collection/Use                9\n",
      "International and Specific Audiences     23\n",
      "Introductory/Generic                      1\n",
      "Policy Change                             1\n",
      "Practice not covered                      6\n",
      "Privacy contact information               0\n",
      "Third Party Sharing/Collection          124\n",
      "User Access, Edit and Deletion            0\n",
      "User Choice/Control                       0\n",
      "dtype: int64\n",
      "--------------------------------------------------\n",
      "Data Retention                           60\n",
      "Data Security                            82\n",
      "Do Not Track                              0\n",
      "First Party Collection/Use              741\n",
      "International and Specific Audiences     94\n",
      "Introductory/Generic                    187\n",
      "Policy Change                            14\n",
      "Practice not covered                     66\n",
      "Privacy contact information              87\n",
      "Third Party Sharing/Collection          560\n",
      "User Access, Edit and Deletion          127\n",
      "User Choice/Control                     148\n",
      "dtype: int64\n",
      "--------------------------------------------------\n",
      "Data Retention                            2\n",
      "Data Security                             1\n",
      "Do Not Track                             30\n",
      "First Party Collection/Use              215\n",
      "International and Specific Audiences      5\n",
      "Introductory/Generic                     23\n",
      "Policy Change                             0\n",
      "Practice not covered                     14\n",
      "Privacy contact information               2\n",
      "Third Party Sharing/Collection          131\n",
      "User Access, Edit and Deletion            3\n",
      "User Choice/Control                      35\n",
      "dtype: int64\n",
      "--------------------------------------------------\n",
      "Data Retention                            0\n",
      "Data Security                             3\n",
      "Do Not Track                              0\n",
      "First Party Collection/Use                8\n",
      "International and Specific Audiences      7\n",
      "Introductory/Generic                    144\n",
      "Policy Change                            94\n",
      "Practice not covered                     30\n",
      "Privacy contact information              11\n",
      "Third Party Sharing/Collection           11\n",
      "User Access, Edit and Deletion            1\n",
      "User Choice/Control                      13\n",
      "dtype: int64\n",
      "--------------------------------------------------\n",
      "Data Retention                           4\n",
      "Data Security                            0\n",
      "Do Not Track                             0\n",
      "First Party Collection/Use              57\n",
      "International and Specific Audiences     0\n",
      "Introductory/Generic                     1\n",
      "Policy Change                            0\n",
      "Practice not covered                     2\n",
      "Privacy contact information              0\n",
      "Third Party Sharing/Collection          13\n",
      "User Access, Edit and Deletion           2\n",
      "User Choice/Control                      8\n",
      "dtype: int64\n",
      "--------------------------------------------------\n",
      "Data Retention                           5\n",
      "Data Security                            1\n",
      "Do Not Track                             0\n",
      "First Party Collection/Use              32\n",
      "International and Specific Audiences     3\n",
      "Introductory/Generic                     1\n",
      "Policy Change                            1\n",
      "Practice not covered                     3\n",
      "Privacy contact information              8\n",
      "Third Party Sharing/Collection          14\n",
      "User Access, Edit and Deletion           3\n",
      "User Choice/Control                     80\n",
      "dtype: int64\n",
      "--------------------------------------------------\n",
      "Data Retention                           0\n",
      "Data Security                            0\n",
      "Do Not Track                             0\n",
      "First Party Collection/Use               0\n",
      "International and Specific Audiences    49\n",
      "Introductory/Generic                     0\n",
      "Policy Change                            0\n",
      "Practice not covered                     0\n",
      "Privacy contact information              9\n",
      "Third Party Sharing/Collection           1\n",
      "User Access, Edit and Deletion           1\n",
      "User Choice/Control                      2\n",
      "dtype: int64\n",
      "--------------------------------------------------\n",
      "Data Retention                            3\n",
      "Data Security                             0\n",
      "Do Not Track                              0\n",
      "First Party Collection/Use                5\n",
      "International and Specific Audiences    107\n",
      "Introductory/Generic                      0\n",
      "Policy Change                             1\n",
      "Practice not covered                      0\n",
      "Privacy contact information               3\n",
      "Third Party Sharing/Collection            1\n",
      "User Access, Edit and Deletion            3\n",
      "User Choice/Control                       2\n",
      "dtype: int64\n",
      "--------------------------------------------------\n",
      "Data Retention                            3\n",
      "Data Security                           119\n",
      "Do Not Track                              0\n",
      "First Party Collection/Use                3\n",
      "International and Specific Audiences      1\n",
      "Introductory/Generic                      0\n",
      "Policy Change                             0\n",
      "Practice not covered                      1\n",
      "Privacy contact information               2\n",
      "Third Party Sharing/Collection            4\n",
      "User Access, Edit and Deletion            0\n",
      "User Choice/Control                       1\n",
      "dtype: int64\n",
      "--------------------------------------------------\n",
      "Data Retention                           0\n",
      "Data Security                            0\n",
      "Do Not Track                             1\n",
      "First Party Collection/Use              85\n",
      "International and Specific Audiences     0\n",
      "Introductory/Generic                    14\n",
      "Policy Change                            1\n",
      "Practice not covered                     1\n",
      "Privacy contact information              0\n",
      "Third Party Sharing/Collection          30\n",
      "User Access, Edit and Deletion           0\n",
      "User Choice/Control                     51\n",
      "dtype: int64\n",
      "--------------------------------------------------\n",
      "Data Retention                           1\n",
      "Data Security                            0\n",
      "Do Not Track                             0\n",
      "First Party Collection/Use               6\n",
      "International and Specific Audiences     6\n",
      "Introductory/Generic                     3\n",
      "Policy Change                            3\n",
      "Practice not covered                     1\n",
      "Privacy contact information             75\n",
      "Third Party Sharing/Collection           3\n",
      "User Access, Edit and Deletion           5\n",
      "User Choice/Control                      7\n",
      "dtype: int64\n",
      "--------------------------------------------------\n",
      "Data Retention                           0\n",
      "Data Security                            1\n",
      "Do Not Track                             0\n",
      "First Party Collection/Use              20\n",
      "International and Specific Audiences     1\n",
      "Introductory/Generic                     4\n",
      "Policy Change                            1\n",
      "Practice not covered                     5\n",
      "Privacy contact information              5\n",
      "Third Party Sharing/Collection          39\n",
      "User Access, Edit and Deletion           2\n",
      "User Choice/Control                      5\n",
      "dtype: int64\n",
      "--------------------------------------------------\n"
     ]
    }
   ],
   "source": [
    "for i in range(12):\n",
    "    print(df_clustering[df_clustering['agg_labels']==i][col_names].sum())\n",
    "    print('-'*50)"
   ]
  },
  {
   "cell_type": "markdown",
   "metadata": {},
   "source": [
    "# DBScan"
   ]
  },
  {
   "cell_type": "code",
   "execution_count": 32,
   "metadata": {},
   "outputs": [],
   "source": [
    "from sklearn.cluster import DBSCAN\n",
    "dbscan_clustering = DBSCAN(eps=1, min_samples=2)\n",
    "df_clustering['dbs_labels'] = dbscan_clustering.fit_predict(X)"
   ]
  },
  {
   "cell_type": "code",
   "execution_count": 33,
   "metadata": {
    "scrolled": false
   },
   "outputs": [
    {
     "name": "stdout",
     "output_type": "stream",
     "text": [
      "Data Retention                            65\n",
      "Data Security                            171\n",
      "Do Not Track                              30\n",
      "First Party Collection/Use              1023\n",
      "International and Specific Audiences     274\n",
      "Introductory/Generic                     327\n",
      "Policy Change                            109\n",
      "Practice not covered                     107\n",
      "Privacy contact information              180\n",
      "Third Party Sharing/Collection           809\n",
      "User Access, Edit and Deletion           129\n",
      "User Choice/Control                      312\n",
      "dtype: int64\n",
      "--------------------------------------------------\n",
      "Data Retention                          0\n",
      "Data Security                           2\n",
      "Do Not Track                            0\n",
      "First Party Collection/Use              0\n",
      "International and Specific Audiences    0\n",
      "Introductory/Generic                    0\n",
      "Policy Change                           0\n",
      "Practice not covered                    0\n",
      "Privacy contact information             0\n",
      "Third Party Sharing/Collection          0\n",
      "User Access, Edit and Deletion          0\n",
      "User Choice/Control                     0\n",
      "dtype: int64\n",
      "--------------------------------------------------\n",
      "Data Retention                          0\n",
      "Data Security                           0\n",
      "Do Not Track                            0\n",
      "First Party Collection/Use              0\n",
      "International and Specific Audiences    2\n",
      "Introductory/Generic                    0\n",
      "Policy Change                           0\n",
      "Practice not covered                    0\n",
      "Privacy contact information             0\n",
      "Third Party Sharing/Collection          0\n",
      "User Access, Edit and Deletion          0\n",
      "User Choice/Control                     0\n",
      "dtype: int64\n",
      "--------------------------------------------------\n",
      "Data Retention                          0\n",
      "Data Security                           2\n",
      "Do Not Track                            0\n",
      "First Party Collection/Use              0\n",
      "International and Specific Audiences    0\n",
      "Introductory/Generic                    2\n",
      "Policy Change                           0\n",
      "Practice not covered                    0\n",
      "Privacy contact information             1\n",
      "Third Party Sharing/Collection          0\n",
      "User Access, Edit and Deletion          0\n",
      "User Choice/Control                     0\n",
      "dtype: int64\n",
      "--------------------------------------------------\n",
      "Data Retention                          0\n",
      "Data Security                           0\n",
      "Do Not Track                            0\n",
      "First Party Collection/Use              0\n",
      "International and Specific Audiences    0\n",
      "Introductory/Generic                    0\n",
      "Policy Change                           0\n",
      "Practice not covered                    0\n",
      "Privacy contact information             0\n",
      "Third Party Sharing/Collection          0\n",
      "User Access, Edit and Deletion          0\n",
      "User Choice/Control                     2\n",
      "dtype: int64\n",
      "--------------------------------------------------\n",
      "Data Retention                          1\n",
      "Data Security                           0\n",
      "Do Not Track                            0\n",
      "First Party Collection/Use              0\n",
      "International and Specific Audiences    0\n",
      "Introductory/Generic                    0\n",
      "Policy Change                           0\n",
      "Practice not covered                    0\n",
      "Privacy contact information             0\n",
      "Third Party Sharing/Collection          0\n",
      "User Access, Edit and Deletion          2\n",
      "User Choice/Control                     0\n",
      "dtype: int64\n",
      "--------------------------------------------------\n",
      "Data Retention                          0\n",
      "Data Security                           0\n",
      "Do Not Track                            0\n",
      "First Party Collection/Use              0\n",
      "International and Specific Audiences    2\n",
      "Introductory/Generic                    0\n",
      "Policy Change                           0\n",
      "Practice not covered                    0\n",
      "Privacy contact information             0\n",
      "Third Party Sharing/Collection          0\n",
      "User Access, Edit and Deletion          0\n",
      "User Choice/Control                     0\n",
      "dtype: int64\n",
      "--------------------------------------------------\n",
      "Data Retention                          0\n",
      "Data Security                           0\n",
      "Do Not Track                            0\n",
      "First Party Collection/Use              2\n",
      "International and Specific Audiences    0\n",
      "Introductory/Generic                    0\n",
      "Policy Change                           0\n",
      "Practice not covered                    0\n",
      "Privacy contact information             0\n",
      "Third Party Sharing/Collection          0\n",
      "User Access, Edit and Deletion          0\n",
      "User Choice/Control                     0\n",
      "dtype: int64\n",
      "--------------------------------------------------\n",
      "Data Retention                          0\n",
      "Data Security                           0\n",
      "Do Not Track                            0\n",
      "First Party Collection/Use              1\n",
      "International and Specific Audiences    0\n",
      "Introductory/Generic                    0\n",
      "Policy Change                           0\n",
      "Practice not covered                    0\n",
      "Privacy contact information             0\n",
      "Third Party Sharing/Collection          2\n",
      "User Access, Edit and Deletion          0\n",
      "User Choice/Control                     0\n",
      "dtype: int64\n",
      "--------------------------------------------------\n",
      "Data Retention                          0\n",
      "Data Security                           0\n",
      "Do Not Track                            0\n",
      "First Party Collection/Use              2\n",
      "International and Specific Audiences    0\n",
      "Introductory/Generic                    0\n",
      "Policy Change                           0\n",
      "Practice not covered                    0\n",
      "Privacy contact information             0\n",
      "Third Party Sharing/Collection          0\n",
      "User Access, Edit and Deletion          0\n",
      "User Choice/Control                     0\n",
      "dtype: int64\n",
      "--------------------------------------------------\n",
      "Data Retention                          0\n",
      "Data Security                           0\n",
      "Do Not Track                            0\n",
      "First Party Collection/Use              1\n",
      "International and Specific Audiences    0\n",
      "Introductory/Generic                    0\n",
      "Policy Change                           0\n",
      "Practice not covered                    0\n",
      "Privacy contact information             0\n",
      "Third Party Sharing/Collection          1\n",
      "User Access, Edit and Deletion          0\n",
      "User Choice/Control                     0\n",
      "dtype: int64\n",
      "--------------------------------------------------\n",
      "Data Retention                          0\n",
      "Data Security                           0\n",
      "Do Not Track                            0\n",
      "First Party Collection/Use              0\n",
      "International and Specific Audiences    0\n",
      "Introductory/Generic                    0\n",
      "Policy Change                           0\n",
      "Practice not covered                    0\n",
      "Privacy contact information             0\n",
      "Third Party Sharing/Collection          2\n",
      "User Access, Edit and Deletion          0\n",
      "User Choice/Control                     0\n",
      "dtype: int64\n",
      "--------------------------------------------------\n"
     ]
    }
   ],
   "source": [
    "for i in range(12):\n",
    "    print(df_clustering[df_clustering['dbs_labels']==i][col_names].sum())\n",
    "    print('-'*50)"
   ]
  },
  {
   "cell_type": "markdown",
   "metadata": {},
   "source": [
    "# SOM"
   ]
  },
  {
   "cell_type": "code",
   "execution_count": 35,
   "metadata": {},
   "outputs": [],
   "source": [
    "from sklearn_som.som import SOM\n",
    "som_clustering = SOM(m=12, n=10, dim=3683)\n",
    "df_clustering['som_labels'] = som_clustering.fit_predict(X)"
   ]
  },
  {
   "cell_type": "code",
   "execution_count": 36,
   "metadata": {
    "scrolled": false
   },
   "outputs": [
    {
     "name": "stdout",
     "output_type": "stream",
     "text": [
      "Data Retention                            65\n",
      "Data Security                            171\n",
      "Do Not Track                              30\n",
      "First Party Collection/Use              1023\n",
      "International and Specific Audiences     274\n",
      "Introductory/Generic                     327\n",
      "Policy Change                            109\n",
      "Practice not covered                     107\n",
      "Privacy contact information              180\n",
      "Third Party Sharing/Collection           809\n",
      "User Access, Edit and Deletion           129\n",
      "User Choice/Control                      312\n",
      "dtype: int64\n",
      "--------------------------------------------------\n",
      "Data Retention                          0\n",
      "Data Security                           2\n",
      "Do Not Track                            0\n",
      "First Party Collection/Use              0\n",
      "International and Specific Audiences    0\n",
      "Introductory/Generic                    0\n",
      "Policy Change                           0\n",
      "Practice not covered                    0\n",
      "Privacy contact information             0\n",
      "Third Party Sharing/Collection          0\n",
      "User Access, Edit and Deletion          0\n",
      "User Choice/Control                     0\n",
      "dtype: int64\n",
      "--------------------------------------------------\n",
      "Data Retention                          0\n",
      "Data Security                           0\n",
      "Do Not Track                            0\n",
      "First Party Collection/Use              0\n",
      "International and Specific Audiences    2\n",
      "Introductory/Generic                    0\n",
      "Policy Change                           0\n",
      "Practice not covered                    0\n",
      "Privacy contact information             0\n",
      "Third Party Sharing/Collection          0\n",
      "User Access, Edit and Deletion          0\n",
      "User Choice/Control                     0\n",
      "dtype: int64\n",
      "--------------------------------------------------\n",
      "Data Retention                          0\n",
      "Data Security                           2\n",
      "Do Not Track                            0\n",
      "First Party Collection/Use              0\n",
      "International and Specific Audiences    0\n",
      "Introductory/Generic                    2\n",
      "Policy Change                           0\n",
      "Practice not covered                    0\n",
      "Privacy contact information             1\n",
      "Third Party Sharing/Collection          0\n",
      "User Access, Edit and Deletion          0\n",
      "User Choice/Control                     0\n",
      "dtype: int64\n",
      "--------------------------------------------------\n",
      "Data Retention                          0\n",
      "Data Security                           0\n",
      "Do Not Track                            0\n",
      "First Party Collection/Use              0\n",
      "International and Specific Audiences    0\n",
      "Introductory/Generic                    0\n",
      "Policy Change                           0\n",
      "Practice not covered                    0\n",
      "Privacy contact information             0\n",
      "Third Party Sharing/Collection          0\n",
      "User Access, Edit and Deletion          0\n",
      "User Choice/Control                     2\n",
      "dtype: int64\n",
      "--------------------------------------------------\n",
      "Data Retention                          1\n",
      "Data Security                           0\n",
      "Do Not Track                            0\n",
      "First Party Collection/Use              0\n",
      "International and Specific Audiences    0\n",
      "Introductory/Generic                    0\n",
      "Policy Change                           0\n",
      "Practice not covered                    0\n",
      "Privacy contact information             0\n",
      "Third Party Sharing/Collection          0\n",
      "User Access, Edit and Deletion          2\n",
      "User Choice/Control                     0\n",
      "dtype: int64\n",
      "--------------------------------------------------\n",
      "Data Retention                          0\n",
      "Data Security                           0\n",
      "Do Not Track                            0\n",
      "First Party Collection/Use              0\n",
      "International and Specific Audiences    2\n",
      "Introductory/Generic                    0\n",
      "Policy Change                           0\n",
      "Practice not covered                    0\n",
      "Privacy contact information             0\n",
      "Third Party Sharing/Collection          0\n",
      "User Access, Edit and Deletion          0\n",
      "User Choice/Control                     0\n",
      "dtype: int64\n",
      "--------------------------------------------------\n",
      "Data Retention                          0\n",
      "Data Security                           0\n",
      "Do Not Track                            0\n",
      "First Party Collection/Use              2\n",
      "International and Specific Audiences    0\n",
      "Introductory/Generic                    0\n",
      "Policy Change                           0\n",
      "Practice not covered                    0\n",
      "Privacy contact information             0\n",
      "Third Party Sharing/Collection          0\n",
      "User Access, Edit and Deletion          0\n",
      "User Choice/Control                     0\n",
      "dtype: int64\n",
      "--------------------------------------------------\n",
      "Data Retention                          0\n",
      "Data Security                           0\n",
      "Do Not Track                            0\n",
      "First Party Collection/Use              1\n",
      "International and Specific Audiences    0\n",
      "Introductory/Generic                    0\n",
      "Policy Change                           0\n",
      "Practice not covered                    0\n",
      "Privacy contact information             0\n",
      "Third Party Sharing/Collection          2\n",
      "User Access, Edit and Deletion          0\n",
      "User Choice/Control                     0\n",
      "dtype: int64\n",
      "--------------------------------------------------\n",
      "Data Retention                          0\n",
      "Data Security                           0\n",
      "Do Not Track                            0\n",
      "First Party Collection/Use              2\n",
      "International and Specific Audiences    0\n",
      "Introductory/Generic                    0\n",
      "Policy Change                           0\n",
      "Practice not covered                    0\n",
      "Privacy contact information             0\n",
      "Third Party Sharing/Collection          0\n",
      "User Access, Edit and Deletion          0\n",
      "User Choice/Control                     0\n",
      "dtype: int64\n",
      "--------------------------------------------------\n",
      "Data Retention                          0\n",
      "Data Security                           0\n",
      "Do Not Track                            0\n",
      "First Party Collection/Use              1\n",
      "International and Specific Audiences    0\n",
      "Introductory/Generic                    0\n",
      "Policy Change                           0\n",
      "Practice not covered                    0\n",
      "Privacy contact information             0\n",
      "Third Party Sharing/Collection          1\n",
      "User Access, Edit and Deletion          0\n",
      "User Choice/Control                     0\n",
      "dtype: int64\n",
      "--------------------------------------------------\n",
      "Data Retention                          0\n",
      "Data Security                           0\n",
      "Do Not Track                            0\n",
      "First Party Collection/Use              0\n",
      "International and Specific Audiences    0\n",
      "Introductory/Generic                    0\n",
      "Policy Change                           0\n",
      "Practice not covered                    0\n",
      "Privacy contact information             0\n",
      "Third Party Sharing/Collection          2\n",
      "User Access, Edit and Deletion          0\n",
      "User Choice/Control                     0\n",
      "dtype: int64\n",
      "--------------------------------------------------\n"
     ]
    }
   ],
   "source": [
    "for i in range(12):\n",
    "    print(df_clustering[df_clustering['dbs_labels']==i][col_names].sum())\n",
    "    print('-'*50)"
   ]
  },
  {
   "cell_type": "code",
   "execution_count": 37,
   "metadata": {},
   "outputs": [],
   "source": [
    "labels_df = pd.DataFrame()\n",
    "for label in df.columns.drop('text'):\n",
    "    \n",
    "    tmp_df = pd.DataFrame(df[df[label]==1]['text'].copy())\n",
    "    tmp_df['label'] = label\n",
    "    labels_df = pd.concat([labels_df, tmp_df])"
   ]
  },
  {
   "cell_type": "markdown",
   "metadata": {},
   "source": [
    "# pca"
   ]
  },
  {
   "cell_type": "code",
   "execution_count": 38,
   "metadata": {},
   "outputs": [
    {
     "data": {
      "text/html": [
       "<div>\n",
       "<style scoped>\n",
       "    .dataframe tbody tr th:only-of-type {\n",
       "        vertical-align: middle;\n",
       "    }\n",
       "\n",
       "    .dataframe tbody tr th {\n",
       "        vertical-align: top;\n",
       "    }\n",
       "\n",
       "    .dataframe thead th {\n",
       "        text-align: right;\n",
       "    }\n",
       "</style>\n",
       "<table border=\"1\" class=\"dataframe\">\n",
       "  <thead>\n",
       "    <tr style=\"text-align: right;\">\n",
       "      <th></th>\n",
       "      <th>text</th>\n",
       "      <th>label</th>\n",
       "    </tr>\n",
       "  </thead>\n",
       "  <tbody>\n",
       "    <tr>\n",
       "      <th>71</th>\n",
       "      <td>security technical administrative physical saf...</td>\n",
       "      <td>Data Retention</td>\n",
       "    </tr>\n",
       "    <tr>\n",
       "      <th>75</th>\n",
       "      <td>data retention retain period fulfill purpose o...</td>\n",
       "      <td>Data Retention</td>\n",
       "    </tr>\n",
       "    <tr>\n",
       "      <th>76</th>\n",
       "      <td>data security integrity retention security int...</td>\n",
       "      <td>Data Retention</td>\n",
       "    </tr>\n",
       "    <tr>\n",
       "      <th>152</th>\n",
       "      <td>automatic receive store type interact web site...</td>\n",
       "      <td>Data Retention</td>\n",
       "    </tr>\n",
       "    <tr>\n",
       "      <th>207</th>\n",
       "      <td>change delete personal personally identifiable...</td>\n",
       "      <td>Data Retention</td>\n",
       "    </tr>\n",
       "  </tbody>\n",
       "</table>\n",
       "</div>"
      ],
      "text/plain": [
       "                                                  text           label\n",
       "71   security technical administrative physical saf...  Data Retention\n",
       "75   data retention retain period fulfill purpose o...  Data Retention\n",
       "76   data security integrity retention security int...  Data Retention\n",
       "152  automatic receive store type interact web site...  Data Retention\n",
       "207  change delete personal personally identifiable...  Data Retention"
      ]
     },
     "execution_count": 38,
     "metadata": {},
     "output_type": "execute_result"
    }
   ],
   "source": [
    "labels_df.head()"
   ]
  },
  {
   "cell_type": "code",
   "execution_count": 39,
   "metadata": {},
   "outputs": [],
   "source": [
    "X_ = labels_df['text']\n",
    "vectorizer = TfidfVectorizer()\n",
    "X_ = vectorizer.fit_transform(X_).toarray()"
   ]
  },
  {
   "cell_type": "code",
   "execution_count": 40,
   "metadata": {},
   "outputs": [],
   "source": [
    "from sklearn import preprocessing\n",
    "le = preprocessing.LabelEncoder()\n",
    "y_ = le.fit_transform(labels_df['label'])"
   ]
  },
  {
   "cell_type": "code",
   "execution_count": 41,
   "metadata": {},
   "outputs": [],
   "source": [
    "from sklearn.decomposition import PCA\n",
    "pca = PCA(n_components=2)\n",
    "Xt = pca.fit_transform(X_)"
   ]
  },
  {
   "cell_type": "code",
   "execution_count": 42,
   "metadata": {},
   "outputs": [
    {
     "data": {
      "text/plain": [
       "array([0.02008361, 0.01718718])"
      ]
     },
     "execution_count": 42,
     "metadata": {},
     "output_type": "execute_result"
    }
   ],
   "source": [
    "pca.explained_variance_ratio_"
   ]
  },
  {
   "cell_type": "code",
   "execution_count": 43,
   "metadata": {
    "scrolled": false
   },
   "outputs": [
    {
     "data": {
      "image/png": "[encoded data removed]",
      "text/plain": [
       "<Figure size 864x864 with 1 Axes>"
      ]
     },
     "metadata": {
      "needs_background": "light"
     },
     "output_type": "display_data"
    }
   ],
   "source": [
    "plt.figure(figsize=(12, 12))\n",
    "plot = plt.scatter(Xt[:,0], Xt[:,1], c=y_)\n",
    "plt.legend(handles=plot.legend_elements()[0], labels=list(le.classes_))\n",
    "plt.show()"
   ]
  },
  {
   "cell_type": "code",
   "execution_count": 44,
   "metadata": {},
   "outputs": [],
   "source": [
    "from sklearn.decomposition import PCA\n",
    "pca = PCA()\n",
    "Xt = pca.fit_transform(X_)"
   ]
  },
  {
   "cell_type": "code",
   "execution_count": 45,
   "metadata": {},
   "outputs": [
    {
     "data": {
      "text/plain": [
       "1189"
      ]
     },
     "execution_count": 45,
     "metadata": {},
     "output_type": "execute_result"
    }
   ],
   "source": [
    "# we need 1194 componenets from pca to explain 95% of the variance\n",
    "import bisect\n",
    "bisect.bisect(pca.explained_variance_ratio_.cumsum(), 0.95)"
   ]
  },
  {
   "cell_type": "code",
   "execution_count": 46,
   "metadata": {},
   "outputs": [
    {
     "data": {
      "text/plain": [
       "3683"
      ]
     },
     "execution_count": 46,
     "metadata": {},
     "output_type": "execute_result"
    }
   ],
   "source": [
    "len(Xt[0])"
   ]
  },
  {
   "cell_type": "markdown",
   "metadata": {},
   "source": [
    "# t-SNE"
   ]
  },
  {
   "cell_type": "code",
   "execution_count": 47,
   "metadata": {},
   "outputs": [
    {
     "ename": "UFuncTypeError",
     "evalue": "ufunc 'multiply' did not contain a loop with signature matching types (dtype('<U32'), dtype('<U32')) -> dtype('<U32')",
     "output_type": "error",
     "traceback": [
      "\u001b[1;31m---------------------------------------------------------------------------\u001b[0m",
      "\u001b[1;31mUFuncTypeError\u001b[0m                            Traceback (most recent call last)",
      "\u001b[1;32m<ipython-input-47-04cb3161cede>\u001b[0m in \u001b[0;36m<module>\u001b[1;34m\u001b[0m\n\u001b[0;32m      1\u001b[0m \u001b[1;32mfrom\u001b[0m \u001b[0msklearn\u001b[0m\u001b[1;33m.\u001b[0m\u001b[0mmanifold\u001b[0m \u001b[1;32mimport\u001b[0m \u001b[0mTSNE\u001b[0m\u001b[1;33m\u001b[0m\u001b[1;33m\u001b[0m\u001b[0m\n\u001b[0;32m      2\u001b[0m \u001b[0mtsn\u001b[0m \u001b[1;33m=\u001b[0m \u001b[0mTSNE\u001b[0m\u001b[1;33m(\u001b[0m\u001b[0mn_components\u001b[0m\u001b[1;33m=\u001b[0m\u001b[1;36m2\u001b[0m\u001b[1;33m,\u001b[0m \u001b[0mlearning_rate\u001b[0m\u001b[1;33m=\u001b[0m\u001b[1;34m'auto'\u001b[0m\u001b[1;33m,\u001b[0m \u001b[0minit\u001b[0m\u001b[1;33m=\u001b[0m\u001b[1;34m'random'\u001b[0m\u001b[1;33m)\u001b[0m\u001b[1;33m\u001b[0m\u001b[1;33m\u001b[0m\u001b[0m\n\u001b[1;32m----> 3\u001b[1;33m \u001b[0mXt\u001b[0m \u001b[1;33m=\u001b[0m \u001b[0mtsn\u001b[0m\u001b[1;33m.\u001b[0m\u001b[0mfit_transform\u001b[0m\u001b[1;33m(\u001b[0m\u001b[0mX_\u001b[0m\u001b[1;33m)\u001b[0m\u001b[1;33m\u001b[0m\u001b[1;33m\u001b[0m\u001b[0m\n\u001b[0m",
      "\u001b[1;32mC:\\ProgramData\\Anaconda3\\lib\\site-packages\\sklearn\\manifold\\_t_sne.py\u001b[0m in \u001b[0;36mfit_transform\u001b[1;34m(self, X, y)\u001b[0m\n\u001b[0;32m    930\u001b[0m             \u001b[0mEmbedding\u001b[0m \u001b[0mof\u001b[0m \u001b[0mthe\u001b[0m \u001b[0mtraining\u001b[0m \u001b[0mdata\u001b[0m \u001b[1;32min\u001b[0m \u001b[0mlow\u001b[0m\u001b[1;33m-\u001b[0m\u001b[0mdimensional\u001b[0m \u001b[0mspace\u001b[0m\u001b[1;33m.\u001b[0m\u001b[1;33m\u001b[0m\u001b[1;33m\u001b[0m\u001b[0m\n\u001b[0;32m    931\u001b[0m         \"\"\"\n\u001b[1;32m--> 932\u001b[1;33m         \u001b[0membedding\u001b[0m \u001b[1;33m=\u001b[0m \u001b[0mself\u001b[0m\u001b[1;33m.\u001b[0m\u001b[0m_fit\u001b[0m\u001b[1;33m(\u001b[0m\u001b[0mX\u001b[0m\u001b[1;33m)\u001b[0m\u001b[1;33m\u001b[0m\u001b[1;33m\u001b[0m\u001b[0m\n\u001b[0m\u001b[0;32m    933\u001b[0m         \u001b[0mself\u001b[0m\u001b[1;33m.\u001b[0m\u001b[0membedding_\u001b[0m \u001b[1;33m=\u001b[0m \u001b[0membedding\u001b[0m\u001b[1;33m\u001b[0m\u001b[1;33m\u001b[0m\u001b[0m\n\u001b[0;32m    934\u001b[0m         \u001b[1;32mreturn\u001b[0m \u001b[0mself\u001b[0m\u001b[1;33m.\u001b[0m\u001b[0membedding_\u001b[0m\u001b[1;33m\u001b[0m\u001b[1;33m\u001b[0m\u001b[0m\n",
      "\u001b[1;32mC:\\ProgramData\\Anaconda3\\lib\\site-packages\\sklearn\\manifold\\_t_sne.py\u001b[0m in \u001b[0;36m_fit\u001b[1;34m(self, X, skip_num_points)\u001b[0m\n\u001b[0;32m    839\u001b[0m         \u001b[0mdegrees_of_freedom\u001b[0m \u001b[1;33m=\u001b[0m \u001b[0mmax\u001b[0m\u001b[1;33m(\u001b[0m\u001b[0mself\u001b[0m\u001b[1;33m.\u001b[0m\u001b[0mn_components\u001b[0m \u001b[1;33m-\u001b[0m \u001b[1;36m1\u001b[0m\u001b[1;33m,\u001b[0m \u001b[1;36m1\u001b[0m\u001b[1;33m)\u001b[0m\u001b[1;33m\u001b[0m\u001b[1;33m\u001b[0m\u001b[0m\n\u001b[0;32m    840\u001b[0m \u001b[1;33m\u001b[0m\u001b[0m\n\u001b[1;32m--> 841\u001b[1;33m         return self._tsne(P, degrees_of_freedom, n_samples,\n\u001b[0m\u001b[0;32m    842\u001b[0m                           \u001b[0mX_embedded\u001b[0m\u001b[1;33m=\u001b[0m\u001b[0mX_embedded\u001b[0m\u001b[1;33m,\u001b[0m\u001b[1;33m\u001b[0m\u001b[1;33m\u001b[0m\u001b[0m\n\u001b[0;32m    843\u001b[0m                           \u001b[0mneighbors\u001b[0m\u001b[1;33m=\u001b[0m\u001b[0mneighbors_nn\u001b[0m\u001b[1;33m,\u001b[0m\u001b[1;33m\u001b[0m\u001b[1;33m\u001b[0m\u001b[0m\n",
      "\u001b[1;32mC:\\ProgramData\\Anaconda3\\lib\\site-packages\\sklearn\\manifold\\_t_sne.py\u001b[0m in \u001b[0;36m_tsne\u001b[1;34m(self, P, degrees_of_freedom, n_samples, X_embedded, neighbors, skip_num_points)\u001b[0m\n\u001b[0;32m    880\u001b[0m         \u001b[1;31m# higher learning rate controlled via the early exaggeration parameter\u001b[0m\u001b[1;33m\u001b[0m\u001b[1;33m\u001b[0m\u001b[1;33m\u001b[0m\u001b[0m\n\u001b[0;32m    881\u001b[0m         \u001b[0mP\u001b[0m \u001b[1;33m*=\u001b[0m \u001b[0mself\u001b[0m\u001b[1;33m.\u001b[0m\u001b[0mearly_exaggeration\u001b[0m\u001b[1;33m\u001b[0m\u001b[1;33m\u001b[0m\u001b[0m\n\u001b[1;32m--> 882\u001b[1;33m         params, kl_divergence, it = _gradient_descent(obj_func, params,\n\u001b[0m\u001b[0;32m    883\u001b[0m                                                       **opt_args)\n\u001b[0;32m    884\u001b[0m         \u001b[1;32mif\u001b[0m \u001b[0mself\u001b[0m\u001b[1;33m.\u001b[0m\u001b[0mverbose\u001b[0m\u001b[1;33m:\u001b[0m\u001b[1;33m\u001b[0m\u001b[1;33m\u001b[0m\u001b[0m\n",
      "\u001b[1;32mC:\\ProgramData\\Anaconda3\\lib\\site-packages\\sklearn\\manifold\\_t_sne.py\u001b[0m in \u001b[0;36m_gradient_descent\u001b[1;34m(objective, p0, it, n_iter, n_iter_check, n_iter_without_progress, momentum, learning_rate, min_gain, min_grad_norm, verbose, args, kwargs)\u001b[0m\n\u001b[0;32m    370\u001b[0m         \u001b[0mnp\u001b[0m\u001b[1;33m.\u001b[0m\u001b[0mclip\u001b[0m\u001b[1;33m(\u001b[0m\u001b[0mgains\u001b[0m\u001b[1;33m,\u001b[0m \u001b[0mmin_gain\u001b[0m\u001b[1;33m,\u001b[0m \u001b[0mnp\u001b[0m\u001b[1;33m.\u001b[0m\u001b[0minf\u001b[0m\u001b[1;33m,\u001b[0m \u001b[0mout\u001b[0m\u001b[1;33m=\u001b[0m\u001b[0mgains\u001b[0m\u001b[1;33m)\u001b[0m\u001b[1;33m\u001b[0m\u001b[1;33m\u001b[0m\u001b[0m\n\u001b[0;32m    371\u001b[0m         \u001b[0mgrad\u001b[0m \u001b[1;33m*=\u001b[0m \u001b[0mgains\u001b[0m\u001b[1;33m\u001b[0m\u001b[1;33m\u001b[0m\u001b[0m\n\u001b[1;32m--> 372\u001b[1;33m         \u001b[0mupdate\u001b[0m \u001b[1;33m=\u001b[0m \u001b[0mmomentum\u001b[0m \u001b[1;33m*\u001b[0m \u001b[0mupdate\u001b[0m \u001b[1;33m-\u001b[0m \u001b[0mlearning_rate\u001b[0m \u001b[1;33m*\u001b[0m \u001b[0mgrad\u001b[0m\u001b[1;33m\u001b[0m\u001b[1;33m\u001b[0m\u001b[0m\n\u001b[0m\u001b[0;32m    373\u001b[0m         \u001b[0mp\u001b[0m \u001b[1;33m+=\u001b[0m \u001b[0mupdate\u001b[0m\u001b[1;33m\u001b[0m\u001b[1;33m\u001b[0m\u001b[0m\n\u001b[0;32m    374\u001b[0m \u001b[1;33m\u001b[0m\u001b[0m\n",
      "\u001b[1;31mUFuncTypeError\u001b[0m: ufunc 'multiply' did not contain a loop with signature matching types (dtype('<U32'), dtype('<U32')) -> dtype('<U32')"
     ]
    }
   ],
   "source": [
    "from sklearn.manifold import TSNE\n",
    "tsn = TSNE(n_components=2, learning_rate='auto', init='random')\n",
    "Xt = tsn.fit_transform(X_)"
   ]
  },
  {
   "cell_type": "code",
   "execution_count": null,
   "metadata": {},
   "outputs": [],
   "source": [
    "plt.figure(figsize=(12, 12))\n",
    "plot = plt.scatter(Xt[:,0], Xt[:,1], c=y_)\n",
    "plt.legend(handles=plot.legend_elements()[0], labels=list(le.classes_))\n",
    "plt.show()"
   ]
  },
  {
   "cell_type": "code",
   "execution_count": null,
   "metadata": {},
   "outputs": [],
   "source": []
  }
 ],
 "metadata": {
  "kernelspec": {
   "display_name": "Python 3",
   "language": "python",
   "name": "python3"
  },
  "language_info": {
   "codemirror_mode": {
    "name": "ipython",
    "version": 3
   },
   "file_extension": ".py",
   "mimetype": "text/x-python",
   "name": "python",
   "nbconvert_exporter": "python",
   "pygments_lexer": "ipython3",
   "version": "3.8.3"
  },
  "latex_envs": {
   "LaTeX_envs_menu_present": true,
   "autoclose": false,
   "autocomplete": true,
   "bibliofile": "biblio.bib",
   "cite_by": "apalike",
   "current_citInitial": 1,
   "eqLabelWithNumbers": true,
   "eqNumInitial": 1,
   "hotkeys": {
    "equation": "Ctrl-E",
    "itemize": "Ctrl-I"
   },
   "labels_anchors": false,
   "latex_user_defs": false,
   "report_style_numbering": false,
   "user_envs_cfg": false
  }
 },
 "nbformat": 4,
 "nbformat_minor": 4
}
