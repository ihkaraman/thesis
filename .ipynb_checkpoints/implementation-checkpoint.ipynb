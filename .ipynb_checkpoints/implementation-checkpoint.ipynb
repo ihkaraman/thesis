{
 "cells": [
  {
   "cell_type": "markdown",
   "metadata": {},
   "source": [
    "preprocessing\n",
    "vectorization - converting text to numeric\n",
    "    tfidf\n",
    "    Word2vec\n",
    "    glove\n",
    "    Bert (https://www.kdnuggets.com/2022/01/finetuning-bert-tweets-classification-ft-hugging-face.html)\n",
    "    Fastext\n",
    "    Elmo\n",
    "    XLNet\n",
    "    Transformers (https://pub.towardsai.net/text-classification-using-transformers-a2c6b3395ce3)\n",
    "Reduce the dimensions\n",
    "    Principal Component Analysis\n",
    "    Singular Value Decomposition\n",
    "    Latent Semantic Indexing\n",
    "    Pooling\n",
    "    multi-dimensional scaling\n",
    "calculate imbalanced ratio and find an oversampling ratio\n",
    "oversample the imbalanced dataset using unlabeled data\n",
    "    define a similarity function\n",
    "(extension) define a strategy to choose unlabeled instances wisely to reduce computation time\n",
    "    clustering?\n",
    "    LDA\n",
    "    Non-negative Matrix Factorization\n",
    "    K-NN based graph approach (2 paper’s approaches)\n",
    "it should be trained to maximize the within-class similarity while minimizing between-class similarity using labeled data using the labeled data\n",
    "using the defined similarity function calculate similarity for each unlabeled instance of each class\n",
    "define a similarity function\n",
    "similarity functions for vectors\n",
    "    Measurement of Text Similarity: A Survey: a very detailed survey of similarity functions that are used for text data\n",
    "    cosine similarity\n",
    "    minkowski family (euclidean, manhattan)\n",
    "    hamming distance\n",
    "    Jaccard index\n",
    "    Sorensen-dice index\n",
    "    KL divergence\n",
    "    Jensen–Shannon divergence with LDA\n",
    "    Wasserstein distance\n",
    "    SMTP \n",
    "    word mover’s distance\n",
    "to each labeled instance (possible to create a confidence)\n",
    "take the average of the similarity\n",
    "take the min max average and std and decide using these\n",
    "to each class centroids (generalization)\n",
    "use all instances\n",
    "use only the instances that are similar to each other to ensure data confidence (excluding outliers)\n",
    "if the similarity exceeds some defined threshold assign them to related classes\n",
    "train a classifier and look for an improvement\n",
    "\n",
    "clustering approach\n",
    "does one vs rest classifier work?\n",
    "if it works use self-supervised methods\n",
    "Train a final classifier with oversampled data\n",
    "\n",
    "Experimentation with different datasets\n",
    "ANOVA for parameters to select important parameters\n",
    "Tune important parameters to enhance performance\n",
    "Compare the two cases to show the improvement\n",
    "Compare with different solutions?\n"
   ]
  },
  {
   "cell_type": "code",
   "execution_count": 1,
   "metadata": {},
   "outputs": [],
   "source": [
    "import pandas as pd\n",
    "import numpy as np\n",
    "import preprocess\n",
    "from numpy import dot\n",
    "from numpy.linalg import norm\n",
    "import matplotlib.pyplot as plt"
   ]
  },
  {
   "cell_type": "code",
   "execution_count": 2,
   "metadata": {},
   "outputs": [],
   "source": [
    "col_names = ['Data Retention', 'Data Security', 'Do Not Track',\n",
    "       'First Party Collection/Use', 'International and Specific Audiences',\n",
    "       'Introductory/Generic', 'Policy Change', 'Practice not covered',\n",
    "       'Privacy contact information', 'Third Party Sharing/Collection',\n",
    "       'User Access, Edit and Deletion', 'User Choice/Control']"
   ]
  },
  {
   "cell_type": "code",
   "execution_count": 3,
   "metadata": {},
   "outputs": [],
   "source": [
    "majority_path = r'C:\\Users\\IsmailKaraman\\workspace\\data\\privacy_policy_data\\OPP-115_v2\\majority.csv'"
   ]
  },
  {
   "cell_type": "code",
   "execution_count": 4,
   "metadata": {},
   "outputs": [],
   "source": [
    "df = pd.read_csv(majority_path)"
   ]
  },
  {
   "cell_type": "code",
   "execution_count": 5,
   "metadata": {},
   "outputs": [
    {
     "data": {
      "text/html": [
       "<div>\n",
       "<style scoped>\n",
       "    .dataframe tbody tr th:only-of-type {\n",
       "        vertical-align: middle;\n",
       "    }\n",
       "\n",
       "    .dataframe tbody tr th {\n",
       "        vertical-align: top;\n",
       "    }\n",
       "\n",
       "    .dataframe thead th {\n",
       "        text-align: right;\n",
       "    }\n",
       "</style>\n",
       "<table border=\"1\" class=\"dataframe\">\n",
       "  <thead>\n",
       "    <tr style=\"text-align: right;\">\n",
       "      <th></th>\n",
       "      <th>text</th>\n",
       "      <th>Data Retention</th>\n",
       "      <th>Data Security</th>\n",
       "      <th>Do Not Track</th>\n",
       "      <th>First Party Collection/Use</th>\n",
       "      <th>International and Specific Audiences</th>\n",
       "      <th>Introductory/Generic</th>\n",
       "      <th>Policy Change</th>\n",
       "      <th>Practice not covered</th>\n",
       "      <th>Privacy contact information</th>\n",
       "      <th>Third Party Sharing/Collection</th>\n",
       "      <th>User Access, Edit and Deletion</th>\n",
       "      <th>User Choice/Control</th>\n",
       "    </tr>\n",
       "  </thead>\n",
       "  <tbody>\n",
       "    <tr>\n",
       "      <th>0</th>\n",
       "      <td>\"\"Contact Us\"\" Link If you contact us through...</td>\n",
       "      <td>0</td>\n",
       "      <td>0</td>\n",
       "      <td>0</td>\n",
       "      <td>1</td>\n",
       "      <td>0</td>\n",
       "      <td>0</td>\n",
       "      <td>0</td>\n",
       "      <td>0</td>\n",
       "      <td>0</td>\n",
       "      <td>0</td>\n",
       "      <td>0</td>\n",
       "      <td>0</td>\n",
       "    </tr>\n",
       "    <tr>\n",
       "      <th>1</th>\n",
       "      <td>(b) Information automatically collected There...</td>\n",
       "      <td>0</td>\n",
       "      <td>0</td>\n",
       "      <td>0</td>\n",
       "      <td>1</td>\n",
       "      <td>0</td>\n",
       "      <td>0</td>\n",
       "      <td>0</td>\n",
       "      <td>0</td>\n",
       "      <td>0</td>\n",
       "      <td>0</td>\n",
       "      <td>0</td>\n",
       "      <td>0</td>\n",
       "    </tr>\n",
       "    <tr>\n",
       "      <th>2</th>\n",
       "      <td>(ii) You have entered a contest or sweepstake...</td>\n",
       "      <td>0</td>\n",
       "      <td>0</td>\n",
       "      <td>0</td>\n",
       "      <td>0</td>\n",
       "      <td>0</td>\n",
       "      <td>0</td>\n",
       "      <td>0</td>\n",
       "      <td>0</td>\n",
       "      <td>0</td>\n",
       "      <td>1</td>\n",
       "      <td>0</td>\n",
       "      <td>0</td>\n",
       "    </tr>\n",
       "    <tr>\n",
       "      <th>3</th>\n",
       "      <td>*Web Beacons: Military Web pages and the Web ...</td>\n",
       "      <td>0</td>\n",
       "      <td>0</td>\n",
       "      <td>0</td>\n",
       "      <td>1</td>\n",
       "      <td>0</td>\n",
       "      <td>0</td>\n",
       "      <td>0</td>\n",
       "      <td>0</td>\n",
       "      <td>0</td>\n",
       "      <td>1</td>\n",
       "      <td>0</td>\n",
       "      <td>0</td>\n",
       "    </tr>\n",
       "    <tr>\n",
       "      <th>4</th>\n",
       "      <td>1. INFORMATION WE COLLECT We collect the foll...</td>\n",
       "      <td>0</td>\n",
       "      <td>0</td>\n",
       "      <td>0</td>\n",
       "      <td>0</td>\n",
       "      <td>0</td>\n",
       "      <td>1</td>\n",
       "      <td>0</td>\n",
       "      <td>0</td>\n",
       "      <td>0</td>\n",
       "      <td>0</td>\n",
       "      <td>0</td>\n",
       "      <td>0</td>\n",
       "    </tr>\n",
       "  </tbody>\n",
       "</table>\n",
       "</div>"
      ],
      "text/plain": [
       "                                                text  Data Retention  \\\n",
       "0   \"\"Contact Us\"\" Link If you contact us through...               0   \n",
       "1   (b) Information automatically collected There...               0   \n",
       "2   (ii) You have entered a contest or sweepstake...               0   \n",
       "3   *Web Beacons: Military Web pages and the Web ...               0   \n",
       "4   1. INFORMATION WE COLLECT We collect the foll...               0   \n",
       "\n",
       "   Data Security  Do Not Track  First Party Collection/Use  \\\n",
       "0              0             0                           1   \n",
       "1              0             0                           1   \n",
       "2              0             0                           0   \n",
       "3              0             0                           1   \n",
       "4              0             0                           0   \n",
       "\n",
       "   International and Specific Audiences  Introductory/Generic  Policy Change  \\\n",
       "0                                     0                     0              0   \n",
       "1                                     0                     0              0   \n",
       "2                                     0                     0              0   \n",
       "3                                     0                     0              0   \n",
       "4                                     0                     1              0   \n",
       "\n",
       "   Practice not covered  Privacy contact information  \\\n",
       "0                     0                            0   \n",
       "1                     0                            0   \n",
       "2                     0                            0   \n",
       "3                     0                            0   \n",
       "4                     0                            0   \n",
       "\n",
       "   Third Party Sharing/Collection  User Access, Edit and Deletion  \\\n",
       "0                               0                               0   \n",
       "1                               0                               0   \n",
       "2                               1                               0   \n",
       "3                               1                               0   \n",
       "4                               0                               0   \n",
       "\n",
       "   User Choice/Control  \n",
       "0                    0  \n",
       "1                    0  \n",
       "2                    0  \n",
       "3                    0  \n",
       "4                    0  "
      ]
     },
     "execution_count": 5,
     "metadata": {},
     "output_type": "execute_result"
    }
   ],
   "source": [
    "df.head()"
   ]
  },
  {
   "cell_type": "code",
   "execution_count": 6,
   "metadata": {},
   "outputs": [
    {
     "data": {
      "text/plain": [
       "Data Retention                            78\n",
       "Data Security                            207\n",
       "Do Not Track                              31\n",
       "First Party Collection/Use              1181\n",
       "International and Specific Audiences     296\n",
       "Introductory/Generic                     378\n",
       "Policy Change                            116\n",
       "Practice not covered                     129\n",
       "Privacy contact information              202\n",
       "Third Party Sharing/Collection           931\n",
       "User Access, Edit and Deletion           147\n",
       "User Choice/Control                      352\n",
       "dtype: int64"
      ]
     },
     "execution_count": 6,
     "metadata": {},
     "output_type": "execute_result"
    }
   ],
   "source": [
    "data_dist = df[col_names].sum()\n",
    "data_dist"
   ]
  },
  {
   "cell_type": "code",
   "execution_count": 7,
   "metadata": {},
   "outputs": [
    {
     "data": {
      "text/plain": [
       "<AxesSubplot:>"
      ]
     },
     "execution_count": 7,
     "metadata": {},
     "output_type": "execute_result"
    },
    {
     "data": {
      "image/png": "[encoded data removed]",
      "text/plain": [
       "<Figure size 432x288 with 1 Axes>"
      ]
     },
     "metadata": {
      "needs_background": "light"
     },
     "output_type": "display_data"
    }
   ],
   "source": [
    "data_dist.sort_values().plot(kind='barh')"
   ]
  },
  {
   "cell_type": "code",
   "execution_count": 8,
   "metadata": {},
   "outputs": [
    {
     "data": {
      "text/plain": [
       "<AxesSubplot:>"
      ]
     },
     "execution_count": 8,
     "metadata": {},
     "output_type": "execute_result"
    },
    {
     "data": {
      "image/png": "[encoded data removed]",
      "text/plain": [
       "<Figure size 432x288 with 1 Axes>"
      ]
     },
     "metadata": {
      "needs_background": "light"
     },
     "output_type": "display_data"
    }
   ],
   "source": [
    "df[col_names].sum(axis=1).value_counts().plot(kind='bar')"
   ]
  },
  {
   "cell_type": "code",
   "execution_count": 9,
   "metadata": {},
   "outputs": [
    {
     "data": {
      "text/plain": [
       "(3399, 13)"
      ]
     },
     "execution_count": 9,
     "metadata": {},
     "output_type": "execute_result"
    }
   ],
   "source": [
    "df.shape"
   ]
  },
  {
   "cell_type": "code",
   "execution_count": 10,
   "metadata": {},
   "outputs": [],
   "source": [
    "# preprocessing text data\n",
    "df['text'] = df['text'].apply(preprocess.preprocess_text)"
   ]
  },
  {
   "cell_type": "code",
   "execution_count": 11,
   "metadata": {},
   "outputs": [],
   "source": [
    "X = df['text']\n",
    "y = df[col_names]"
   ]
  },
  {
   "cell_type": "code",
   "execution_count": 12,
   "metadata": {},
   "outputs": [],
   "source": [
    "from sklearn.feature_extraction.text import TfidfVectorizer\n",
    "\n",
    "vectorizer = TfidfVectorizer()\n",
    "X = vectorizer.fit_transform(X).toarray()"
   ]
  },
  {
   "cell_type": "markdown",
   "metadata": {},
   "source": [
    "# a base classifier"
   ]
  },
  {
   "cell_type": "code",
   "execution_count": 13,
   "metadata": {},
   "outputs": [],
   "source": [
    "def print_losses(y_test, preds, clf):\n",
    "     \n",
    "    print(\"\\033[1m\" + clf + ' results: ' + \"\\033[0m\")\n",
    "    print('----------------------')\n",
    "    hamLoss = hamming_loss(y_test.values, preds)\n",
    "    print('hamLoss: {:.2f}'.format(hamLoss))\n",
    "    acc_score = accuracy_score(y_test.values, preds)\n",
    "    print('Exact Match Ratio: {:.2f}'.format(acc_score))\n",
    "    print('-----------------------------------------------')\n",
    "    print(\"\\033[1m\" + 'Classification Report' + \"\\033[0m\")\n",
    "    print(classification_report(y_test.values, preds, target_names=list(y_test.columns)))\n",
    "    print('--------------------------------------------------------------------------------------------')\n",
    "    print()"
   ]
  },
  {
   "cell_type": "code",
   "execution_count": 14,
   "metadata": {},
   "outputs": [],
   "source": [
    "from sklearn.metrics import accuracy_score, precision_score, recall_score, f1_score, confusion_matrix, hamming_loss\n",
    "from sklearn.metrics import classification_report\n",
    "from sklearn.multiclass import OneVsRestClassifier\n",
    "from sklearn.svm import LinearSVC\n",
    "from sklearn.linear_model import LogisticRegression\n",
    "from sklearn.naive_bayes import MultinomialNB\n",
    "from sklearn.ensemble import GradientBoostingClassifier\n",
    "from sklearn.ensemble import RandomForestClassifier\n",
    "from sklearn.discriminant_analysis import LinearDiscriminantAnalysis\n",
    "from sklearn.naive_bayes import GaussianNB\n",
    "from sklearn.tree import DecisionTreeClassifier, ExtraTreeClassifier\n",
    "from sklearn.svm import SVC\n",
    "from sklearn.ensemble import AdaBoostClassifier\n",
    "from sklearn.neighbors import KNeighborsClassifier\n",
    "from sklearn.model_selection import train_test_split"
   ]
  },
  {
   "cell_type": "code",
   "execution_count": 15,
   "metadata": {},
   "outputs": [],
   "source": [
    "X_train, X_test, y_train, y_test = train_test_split(X, y, test_size=0.2, random_state=0)"
   ]
  },
  {
   "cell_type": "code",
   "execution_count": 16,
   "metadata": {},
   "outputs": [],
   "source": [
    "def calculating_class_weights(y_true):\n",
    "    from sklearn.utils.class_weight import compute_class_weight\n",
    "    number_dim = np.shape(y_true)[1]\n",
    "    weights = []\n",
    "    for i in range(number_dim):\n",
    "        weights.append(dict(zip([0,1], compute_class_weight('balanced', [0.,1.], y_true[:, i]))))\n",
    "        # weights[i] = compute_class_weight('balanced', [0.,1.], y_true[:, i])))\n",
    "    return weights"
   ]
  },
  {
   "cell_type": "code",
   "execution_count": 17,
   "metadata": {},
   "outputs": [
    {
     "name": "stderr",
     "output_type": "stream",
     "text": [
      "C:\\Users\\IsmailKaraman\\anaconda3\\lib\\site-packages\\sklearn\\utils\\validation.py:67: FutureWarning: Pass classes=[0.0, 1.0], y=[0 0 0 ... 0 0 0] as keyword args. From version 0.25 passing these as positional arguments will result in an error\n",
      "  warnings.warn(\"Pass {} as keyword args. From version 0.25 \"\n",
      "C:\\Users\\IsmailKaraman\\anaconda3\\lib\\site-packages\\sklearn\\utils\\validation.py:67: FutureWarning: Pass classes=[0.0, 1.0], y=[1 1 0 ... 0 0 0] as keyword args. From version 0.25 passing these as positional arguments will result in an error\n",
      "  warnings.warn(\"Pass {} as keyword args. From version 0.25 \"\n",
      "C:\\Users\\IsmailKaraman\\anaconda3\\lib\\site-packages\\sklearn\\utils\\validation.py:67: FutureWarning: Pass classes=[0.0, 1.0], y=[0 0 1 ... 1 1 1] as keyword args. From version 0.25 passing these as positional arguments will result in an error\n",
      "  warnings.warn(\"Pass {} as keyword args. From version 0.25 \"\n"
     ]
    },
    {
     "data": {
      "text/plain": [
       "[{0: 0.511743450767841, 1: 21.78846153846154},\n",
       " {0: 0.5324248120300752, 1: 8.210144927536232},\n",
       " {0: 0.5046021377672208, 1: 54.82258064516129},\n",
       " {0: 0.7662308385933273, 1: 1.439034716342083},\n",
       " {0: 0.5476957782790848, 1: 5.741554054054054},\n",
       " {0: 0.5625620655412115, 1: 4.496031746031746},\n",
       " {0: 0.5176667681998173, 1: 14.650862068965518},\n",
       " {0: 0.5197247706422018, 1: 13.174418604651162},\n",
       " {0: 0.5315921176102596, 1: 8.413366336633663},\n",
       " {0: 0.688614262560778, 1: 1.8254564983888293},\n",
       " {0: 0.5226014760147601, 1: 11.561224489795919},\n",
       " {0: 0.5577617328519856, 1: 4.828125}]"
      ]
     },
     "execution_count": 17,
     "metadata": {},
     "output_type": "execute_result"
    }
   ],
   "source": [
    "class_weights = calculating_class_weights(y.values)\n",
    "class_weights"
   ]
  },
  {
   "cell_type": "code",
   "execution_count": 18,
   "metadata": {
    "scrolled": false
   },
   "outputs": [
    {
     "name": "stdout",
     "output_type": "stream",
     "text": [
      "\u001b[1mLinear SVM Classifier results: \u001b[0m\n",
      "----------------------\n",
      "hamLoss: 0.05\n",
      "Exact Match Ratio: 0.58\n",
      "-----------------------------------------------\n",
      "\u001b[1mClassification Report\u001b[0m\n",
      "                                      precision    recall  f1-score   support\n",
      "\n",
      "                      Data Retention       0.40      0.18      0.25        11\n",
      "                       Data Security       0.85      0.75      0.80        44\n",
      "                        Do Not Track       1.00      0.75      0.86         8\n",
      "          First Party Collection/Use       0.80      0.86      0.83       237\n",
      "International and Specific Audiences       0.87      0.92      0.89        60\n",
      "                Introductory/Generic       0.62      0.73      0.67        75\n",
      "                       Policy Change       0.77      0.85      0.81        27\n",
      "                Practice not covered       0.33      0.30      0.32        23\n",
      "         Privacy contact information       0.67      0.75      0.71        32\n",
      "      Third Party Sharing/Collection       0.75      0.73      0.74       181\n",
      "      User Access, Edit and Deletion       0.65      0.68      0.67        19\n",
      "                 User Choice/Control       0.68      0.72      0.70        79\n",
      "\n",
      "                           micro avg       0.74      0.77      0.76       796\n",
      "                           macro avg       0.70      0.69      0.69       796\n",
      "                        weighted avg       0.74      0.77      0.75       796\n",
      "                         samples avg       0.76      0.80      0.76       796\n",
      "\n",
      "--------------------------------------------------------------------------------------------\n",
      "\n"
     ]
    },
    {
     "name": "stderr",
     "output_type": "stream",
     "text": [
      "C:\\Users\\IsmailKaraman\\anaconda3\\lib\\site-packages\\sklearn\\metrics\\_classification.py:1221: UndefinedMetricWarning: Precision and F-score are ill-defined and being set to 0.0 in samples with no predicted labels. Use `zero_division` parameter to control this behavior.\n",
      "  _warn_prf(average, modifier, msg_start, len(result))\n"
     ]
    },
    {
     "name": "stdout",
     "output_type": "stream",
     "text": [
      "\u001b[1mSVM Classifier results: \u001b[0m\n",
      "----------------------\n",
      "hamLoss: 0.04\n",
      "Exact Match Ratio: 0.61\n",
      "-----------------------------------------------\n",
      "\u001b[1mClassification Report\u001b[0m\n",
      "                                      precision    recall  f1-score   support\n",
      "\n",
      "                      Data Retention       1.00      0.18      0.31        11\n",
      "                       Data Security       0.93      0.57      0.70        44\n",
      "                        Do Not Track       1.00      0.62      0.77         8\n",
      "          First Party Collection/Use       0.83      0.88      0.85       237\n",
      "International and Specific Audiences       0.96      0.83      0.89        60\n",
      "                Introductory/Generic       0.75      0.57      0.65        75\n",
      "                       Policy Change       0.92      0.81      0.86        27\n",
      "                Practice not covered       0.33      0.09      0.14        23\n",
      "         Privacy contact information       0.88      0.66      0.75        32\n",
      "      Third Party Sharing/Collection       0.82      0.73      0.77       181\n",
      "      User Access, Edit and Deletion       0.83      0.53      0.65        19\n",
      "                 User Choice/Control       0.82      0.57      0.67        79\n",
      "\n",
      "                           micro avg       0.84      0.71      0.77       796\n",
      "                           macro avg       0.84      0.59      0.67       796\n",
      "                        weighted avg       0.83      0.71      0.76       796\n",
      "                         samples avg       0.75      0.74      0.73       796\n",
      "\n",
      "--------------------------------------------------------------------------------------------\n",
      "\n"
     ]
    },
    {
     "name": "stderr",
     "output_type": "stream",
     "text": [
      "C:\\Users\\IsmailKaraman\\anaconda3\\lib\\site-packages\\sklearn\\metrics\\_classification.py:1221: UndefinedMetricWarning: Precision and F-score are ill-defined and being set to 0.0 in samples with no predicted labels. Use `zero_division` parameter to control this behavior.\n",
      "  _warn_prf(average, modifier, msg_start, len(result))\n"
     ]
    },
    {
     "name": "stdout",
     "output_type": "stream",
     "text": [
      "\u001b[1mDecision Tree Classifier results: \u001b[0m\n",
      "----------------------\n",
      "hamLoss: 0.08\n",
      "Exact Match Ratio: 0.39\n",
      "-----------------------------------------------\n",
      "\u001b[1mClassification Report\u001b[0m\n",
      "                                      precision    recall  f1-score   support\n",
      "\n",
      "                      Data Retention       0.33      0.45      0.38        11\n",
      "                       Data Security       0.62      0.66      0.64        44\n",
      "                        Do Not Track       0.75      0.75      0.75         8\n",
      "          First Party Collection/Use       0.67      0.74      0.70       237\n",
      "International and Specific Audiences       0.82      0.90      0.86        60\n",
      "                Introductory/Generic       0.44      0.56      0.49        75\n",
      "                       Policy Change       0.61      0.74      0.67        27\n",
      "                Practice not covered       0.17      0.30      0.22        23\n",
      "         Privacy contact information       0.43      0.75      0.55        32\n",
      "      Third Party Sharing/Collection       0.69      0.73      0.71       181\n",
      "      User Access, Edit and Deletion       0.36      0.53      0.43        19\n",
      "                 User Choice/Control       0.52      0.57      0.55        79\n",
      "\n",
      "                           micro avg       0.59      0.69      0.64       796\n",
      "                           macro avg       0.53      0.64      0.58       796\n",
      "                        weighted avg       0.61      0.69      0.64       796\n",
      "                         samples avg       0.59      0.71      0.62       796\n",
      "\n",
      "--------------------------------------------------------------------------------------------\n",
      "\n"
     ]
    },
    {
     "name": "stderr",
     "output_type": "stream",
     "text": [
      "C:\\Users\\IsmailKaraman\\anaconda3\\lib\\site-packages\\sklearn\\metrics\\_classification.py:1221: UndefinedMetricWarning: Precision and F-score are ill-defined and being set to 0.0 in samples with no predicted labels. Use `zero_division` parameter to control this behavior.\n",
      "  _warn_prf(average, modifier, msg_start, len(result))\n"
     ]
    },
    {
     "name": "stdout",
     "output_type": "stream",
     "text": [
      "\u001b[1mNaive Bayes Classifier results: \u001b[0m\n",
      "----------------------\n",
      "hamLoss: 0.16\n",
      "Exact Match Ratio: 0.20\n",
      "-----------------------------------------------\n",
      "\u001b[1mClassification Report\u001b[0m\n",
      "                                      precision    recall  f1-score   support\n",
      "\n",
      "                      Data Retention       0.00      0.00      0.00        11\n",
      "                       Data Security       0.32      0.59      0.41        44\n",
      "                        Do Not Track       0.14      0.12      0.13         8\n",
      "          First Party Collection/Use       0.50      0.76      0.60       237\n",
      "International and Specific Audiences       0.30      0.52      0.38        60\n",
      "                Introductory/Generic       0.31      0.51      0.38        75\n",
      "                       Policy Change       0.32      0.44      0.37        27\n",
      "                Practice not covered       0.04      0.09      0.05        23\n",
      "         Privacy contact information       0.23      0.56      0.32        32\n",
      "      Third Party Sharing/Collection       0.36      0.75      0.49       181\n",
      "      User Access, Edit and Deletion       0.12      0.32      0.17        19\n",
      "                 User Choice/Control       0.21      0.32      0.25        79\n",
      "\n",
      "                           micro avg       0.33      0.60      0.43       796\n",
      "                           macro avg       0.24      0.41      0.30       796\n",
      "                        weighted avg       0.35      0.60      0.44       796\n",
      "                         samples avg       0.40      0.62      0.44       796\n",
      "\n",
      "--------------------------------------------------------------------------------------------\n",
      "\n"
     ]
    },
    {
     "name": "stderr",
     "output_type": "stream",
     "text": [
      "C:\\Users\\IsmailKaraman\\anaconda3\\lib\\site-packages\\sklearn\\metrics\\_classification.py:1221: UndefinedMetricWarning: Precision and F-score are ill-defined and being set to 0.0 in samples with no predicted labels. Use `zero_division` parameter to control this behavior.\n",
      "  _warn_prf(average, modifier, msg_start, len(result))\n"
     ]
    }
   ],
   "source": [
    "# https://scikit-learn.org/stable/modules/generated/sklearn.utils.class_weight.compute_sample_weight.html\n",
    "\n",
    "# Linear SVM\n",
    "linearSvm = OneVsRestClassifier(LinearSVC(class_weight='balanced'), n_jobs=-1)\n",
    "linearSvm.fit(X_train, y_train.values)\n",
    "linearSvm_preds = linearSvm.predict(X_test)\n",
    "print_losses(y_test, linearSvm_preds, 'Linear SVM Classifier')\n",
    "\n",
    "# SVM\n",
    "svmClassifier = OneVsRestClassifier(SVC(class_weight='balanced'), n_jobs=-1)\n",
    "svmClassifier.fit(X_train, y_train.values)\n",
    "svmPreds = svmClassifier.predict(X_test)\n",
    "print_losses(y_test, svmPreds, 'SVM Classifier')\n",
    "\n",
    "# Decision Tree\n",
    "dtc = OneVsRestClassifier(DecisionTreeClassifier(class_weight='balanced'), n_jobs=-1)\n",
    "dtc.fit(X_train, y_train.values)\n",
    "dtc_preds = dtc.predict(X_test)\n",
    "print_losses(y_test, dtc_preds, 'Decision Tree Classifier')\n",
    "\n",
    "# Naive Bayes\n",
    "nbc = OneVsRestClassifier(GaussianNB(), n_jobs=-1)\n",
    "nbc.fit(X_train, y_train.values)\n",
    "nbc_preds = nbc.predict(X_test)\n",
    "print_losses(y_test, nbc_preds, 'Naive Bayes Classifier')"
   ]
  },
  {
   "cell_type": "code",
   "execution_count": 19,
   "metadata": {},
   "outputs": [
    {
     "data": {
      "text/plain": [
       "Data Retention                            78\n",
       "Data Security                            207\n",
       "Do Not Track                              31\n",
       "First Party Collection/Use              1181\n",
       "International and Specific Audiences     296\n",
       "Introductory/Generic                     378\n",
       "Policy Change                            116\n",
       "Practice not covered                     129\n",
       "Privacy contact information              202\n",
       "Third Party Sharing/Collection           931\n",
       "User Access, Edit and Deletion           147\n",
       "User Choice/Control                      352\n",
       "dtype: int64"
      ]
     },
     "execution_count": 19,
     "metadata": {},
     "output_type": "execute_result"
    }
   ],
   "source": [
    "y.sum()"
   ]
  },
  {
   "cell_type": "markdown",
   "metadata": {},
   "source": [
    "### preparing labeled, unlabeled set"
   ]
  },
  {
   "cell_type": "code",
   "execution_count": 20,
   "metadata": {},
   "outputs": [],
   "source": [
    "X = df['text']\n",
    "y = df[col_names]"
   ]
  },
  {
   "cell_type": "code",
   "execution_count": 21,
   "metadata": {},
   "outputs": [],
   "source": [
    "X_train, X_test, y_train, y_test = train_test_split(X, y, test_size=0.2, random_state=0)"
   ]
  },
  {
   "cell_type": "code",
   "execution_count": 22,
   "metadata": {
    "scrolled": false
   },
   "outputs": [
    {
     "data": {
      "text/plain": [
       "Data Retention                           67\n",
       "Data Security                           163\n",
       "Do Not Track                             23\n",
       "First Party Collection/Use              944\n",
       "International and Specific Audiences    236\n",
       "Introductory/Generic                    303\n",
       "Policy Change                            89\n",
       "Practice not covered                    106\n",
       "Privacy contact information             170\n",
       "Third Party Sharing/Collection          750\n",
       "User Access, Edit and Deletion          128\n",
       "User Choice/Control                     273\n",
       "dtype: int64"
      ]
     },
     "execution_count": 22,
     "metadata": {},
     "output_type": "execute_result"
    }
   ],
   "source": [
    "y_train.sum()"
   ]
  },
  {
   "cell_type": "code",
   "execution_count": 23,
   "metadata": {},
   "outputs": [],
   "source": [
    "X_labeled, X_unlabeled, y_labeled, y_unlabeled = train_test_split(X_train, y_train, test_size=0.5, random_state=2)"
   ]
  },
  {
   "cell_type": "code",
   "execution_count": 24,
   "metadata": {},
   "outputs": [
    {
     "data": {
      "text/plain": [
       "Data Retention                          6.090909\n",
       "Data Security                           3.704545\n",
       "Do Not Track                            2.875000\n",
       "First Party Collection/Use              3.983122\n",
       "International and Specific Audiences    3.933333\n",
       "Introductory/Generic                    4.040000\n",
       "Policy Change                           3.296296\n",
       "Practice not covered                    4.608696\n",
       "Privacy contact information             5.312500\n",
       "Third Party Sharing/Collection          4.143646\n",
       "User Access, Edit and Deletion          6.736842\n",
       "User Choice/Control                     3.455696\n",
       "dtype: float64"
      ]
     },
     "execution_count": 24,
     "metadata": {},
     "output_type": "execute_result"
    }
   ],
   "source": [
    "y_train.sum()/y_test.sum()"
   ]
  },
  {
   "cell_type": "code",
   "execution_count": 25,
   "metadata": {},
   "outputs": [
    {
     "data": {
      "text/plain": [
       "Data Retention                          1.093750\n",
       "Data Security                           1.063291\n",
       "Do Not Track                            0.769231\n",
       "First Party Collection/Use              1.088496\n",
       "International and Specific Audiences    0.950413\n",
       "Introductory/Generic                    0.847561\n",
       "Policy Change                           0.854167\n",
       "Practice not covered                    1.078431\n",
       "Privacy contact information             0.868132\n",
       "Third Party Sharing/Collection          0.953125\n",
       "User Access, Edit and Deletion          0.969231\n",
       "User Choice/Control                     0.844595\n",
       "dtype: float64"
      ]
     },
     "execution_count": 25,
     "metadata": {},
     "output_type": "execute_result"
    }
   ],
   "source": [
    "y_labeled.sum()/y_unlabeled.sum()"
   ]
  },
  {
   "cell_type": "code",
   "execution_count": 26,
   "metadata": {},
   "outputs": [
    {
     "data": {
      "text/plain": [
       "Data Retention                           35\n",
       "Data Security                            84\n",
       "Do Not Track                             10\n",
       "First Party Collection/Use              492\n",
       "International and Specific Audiences    115\n",
       "Introductory/Generic                    139\n",
       "Policy Change                            41\n",
       "Practice not covered                     55\n",
       "Privacy contact information              79\n",
       "Third Party Sharing/Collection          366\n",
       "User Access, Edit and Deletion           63\n",
       "User Choice/Control                     125\n",
       "dtype: int64"
      ]
     },
     "execution_count": 26,
     "metadata": {},
     "output_type": "execute_result"
    }
   ],
   "source": [
    "y_labeled.sum()"
   ]
  },
  {
   "cell_type": "code",
   "execution_count": 27,
   "metadata": {},
   "outputs": [
    {
     "data": {
      "text/plain": [
       "(10, 492, 133.66666666666666)"
      ]
     },
     "execution_count": 27,
     "metadata": {},
     "output_type": "execute_result"
    }
   ],
   "source": [
    "# # of labels: min, max, average numbers\n",
    "y_labeled.sum().min(), y_labeled.sum().max(), y_labeled.sum().mean()"
   ]
  },
  {
   "cell_type": "markdown",
   "metadata": {},
   "source": [
    "### tf-idf similarity"
   ]
  },
  {
   "cell_type": "code",
   "execution_count": 28,
   "metadata": {},
   "outputs": [],
   "source": [
    "def vector_similarity(vec1, vec2):\n",
    "    norm1 = np.linalg.norm(vec1)\n",
    "    norm2 = np.linalg.norm(vec2)\n",
    "    if norm1 == 0:\n",
    "        norm1 += 0.00001\n",
    "    if norm2 == 0:\n",
    "        norm2 += 0.00001 \n",
    "        \n",
    "    return np.dot(vec1, vec2)/(norm1*norm2)"
   ]
  },
  {
   "cell_type": "code",
   "execution_count": 29,
   "metadata": {},
   "outputs": [],
   "source": [
    "def vector_similarity(text1, text2):\n",
    "    \n",
    "    from sentence_transformers import util\n",
    "    \n",
    "    embedding1 = model.encode(text1, convert_to_tensor=False, device=device)\n",
    "    embedding2 = model.encode(text2, convert_to_tensor=False, device=device)\n",
    "    # compute similarity scores of two embeddings\n",
    "    cosine_scores = util.pytorch_cos_sim(embedding1, embedding2)\n",
    "\n",
    "    return cosine_scores"
   ]
  },
  {
   "cell_type": "code",
   "execution_count": 30,
   "metadata": {},
   "outputs": [],
   "source": [
    "def calculate_average_similarity(vecs):\n",
    "    \n",
    "    similarities = []\n",
    "    \n",
    "    from itertools import combinations\n",
    "    \n",
    "    for i,j in list(combinations(vecs.index, 2)):\n",
    "        similarities.append(vector_similarity(vecs.loc[i], vecs.loc[j]))    \n",
    "        # similarities[(i, j)] = vector_similarity(vecs.loc[i], vecs.loc[j])\n",
    "            \n",
    "    try:\n",
    "        avg_similarity = sum(similarities)/len(similarities)\n",
    "    except AssertionErrors:\n",
    "        print('Error occured')\n",
    "        \n",
    "    return avg_similarity "
   ]
  },
  {
   "cell_type": "code",
   "execution_count": 31,
   "metadata": {
    "scrolled": true
   },
   "outputs": [],
   "source": [
    "from sentence_transformers import SentenceTransformer\n",
    "import numpy as np\n",
    "model = SentenceTransformer('stsb-roberta-large')\n",
    "import torch\n",
    "device = \"cuda:0\" if torch.cuda.is_available() else \"cpu\""
   ]
  },
  {
   "cell_type": "code",
   "execution_count": 32,
   "metadata": {},
   "outputs": [
    {
     "data": {
      "text/plain": [
       "Int64Index([1874, 3263, 2546, 2463, 1659, 3094, 2304, 1260, 1603, 1117,  319,\n",
       "            1550,  786, 1034, 2602, 2296, 3293, 3093, 1033, 2900, 1936, 3315,\n",
       "            3361, 1661,  561, 1601,   75, 1119, 3292,  735, 1704, 2597, 1240,\n",
       "            1678, 2075],\n",
       "           dtype='int64')"
      ]
     },
     "execution_count": 32,
     "metadata": {},
     "output_type": "execute_result"
    }
   ],
   "source": [
    "y_labeled[y_labeled['Data Retention']==1].index"
   ]
  },
  {
   "cell_type": "markdown",
   "metadata": {
    "scrolled": false
   },
   "source": [
    "for label in ['Data Retention', 'Data Security', 'Policy Change']:\n",
    "    \n",
    "    print(label)\n",
    "    indexes = y_labeled[y_labeled[label]==1].index\n",
    "    print(calculate_average_similarity(X_labeled.loc[indexes]))"
   ]
  },
  {
   "cell_type": "markdown",
   "metadata": {},
   "source": [
    "calculate_average_similarity(X_labeled.loc[y_labeled[['Data Retention', 'Data Security', 'Policy Change']].index])"
   ]
  },
  {
   "cell_type": "code",
   "execution_count": null,
   "metadata": {},
   "outputs": [],
   "source": [
    "for col in ['Data Retention', 'Data Security']:\n",
    "    print(col)\n",
    "    print('*'*100)\n",
    "    for i in y_labeled[y_labeled[col]==1].index:\n",
    "        for j in y_labeled[y_labeled['Data Security']==1].index:\n",
    "            print(calculate_average_similarity(X_labeled.loc[[i,j]]))"
   ]
  },
  {
   "cell_type": "code",
   "execution_count": null,
   "metadata": {},
   "outputs": [],
   "source": [
    "X_labeled.loc[[2787,1899]]"
   ]
  },
  {
   "cell_type": "code",
   "execution_count": null,
   "metadata": {},
   "outputs": [],
   "source": [
    "X_labeled[1874], X_labeled[3263]"
   ]
  },
  {
   "cell_type": "code",
   "execution_count": null,
   "metadata": {},
   "outputs": [],
   "source": []
  },
  {
   "cell_type": "code",
   "execution_count": null,
   "metadata": {},
   "outputs": [],
   "source": []
  },
  {
   "cell_type": "code",
   "execution_count": null,
   "metadata": {},
   "outputs": [],
   "source": [
    "model = SentenceTransformer('stsb-roberta-large')"
   ]
  },
  {
   "cell_type": "markdown",
   "metadata": {},
   "source": [
    "# context based models\n",
    "source: https://medium.com/nlplanet/two-minutes-nlp-11-word-embeddings-models-you-should-know-a0581763b9a9"
   ]
  },
  {
   "cell_type": "code",
   "execution_count": null,
   "metadata": {},
   "outputs": [],
   "source": [
    "elmo"
   ]
  },
  {
   "cell_type": "code",
   "execution_count": null,
   "metadata": {},
   "outputs": [],
   "source": [
    "cove"
   ]
  },
  {
   "cell_type": "code",
   "execution_count": null,
   "metadata": {},
   "outputs": [],
   "source": [
    "xlm"
   ]
  },
  {
   "cell_type": "code",
   "execution_count": null,
   "metadata": {},
   "outputs": [],
   "source": []
  },
  {
   "cell_type": "code",
   "execution_count": null,
   "metadata": {},
   "outputs": [],
   "source": []
  },
  {
   "cell_type": "code",
   "execution_count": null,
   "metadata": {},
   "outputs": [],
   "source": [
    "embedding1 = model.encode(sentence1, convert_to_tensor=True)\n",
    "embedding2 = model.encode(sentence2, convert_to_tensor=True)\n",
    "# compute similarity scores of two embeddings\n",
    "cosine_scores = util.pytorch_cos_sim(embedding1, embedding2)\n",
    "print(\"Sentence 1:\", sentence1)\n",
    "print(\"Sentence 2:\", sentence2)\n",
    "print(\"Similarity score:\", cosine_scores.item())"
   ]
  },
  {
   "cell_type": "code",
   "execution_count": null,
   "metadata": {},
   "outputs": [],
   "source": [
    "from sentence_transformers import SentenceTransformer\n",
    "model = SentenceTransformer('stsb-roberta-large')\n",
    "#Sentences we want to encode. Example:\n",
    "sentence = ['This framework generates embeddings for each input sentence']\n",
    "#Sentences are encoded by calling model.encode()\n",
    "embedding = model.encode(sentence)"
   ]
  },
  {
   "cell_type": "code",
   "execution_count": null,
   "metadata": {},
   "outputs": [],
   "source": [
    "Bert legal - https://huggingface.co/nlpaueb/legal-bert-base-uncased\n",
    "'legal-bert-base-uncased'\n",
    "'legal-bert-small-uncased'\n",
    "from transformers import AutoTokenizer, AutoModel\n",
    "tokenizer = AutoTokenizer.from_pretrained(\"nlpaueb/legal-bert-base-uncased\")\n",
    "model = AutoModel.from_pretrained(\"nlpaueb/legal-bert-base-uncased\")\n",
    "\n",
    "Roberta legal - https://huggingface.co/saibo/legal-roberta-base\n",
    "'legal-roberta-base'\n",
    "from transformers import AutoTokenizer, AutoModel\n",
    "tokenizer = AutoTokenizer.from_pretrained(\"saibo/legal-roberta-base\")\n",
    "model = AutoModel.from_pretrained(\"saibo/legal-roberta-base\")\n",
    "\n",
    "Albert - https://huggingface.co/albert-base-v2\n",
    "'albert-base-v2'\n",
    "'ALBERT-xlarge'\n",
    "'ALBERT-xxlarge'\n",
    "from transformers import AlbertTokenizer, AlbertModel\n",
    "tokenizer = AlbertTokenizer.from_pretrained('albert-base-v2')\n",
    "model = AlbertModel.from_pretrained(\"albert-base-v2\")\n",
    "text = \"Replace me by any text you'd like.\"\n",
    "encoded_input = tokenizer(text, return_tensors='pt')\n",
    "output = model(**encoded_input)\n",
    "\n",
    "XLM - https://huggingface.co/sentence-transformers/paraphrase-xlm-r-multilingual-v1\n",
    "\n",
    "Sentence transformers\n",
    "\n",
    "from sentence_transformers import SentenceTransformer\n",
    "sentences = [\"This is an example sentence\", \"Each sentence is converted\"]\n",
    "model = SentenceTransformer('sentence-transformers/paraphrase-xlm-r-multilingual-v1')\n",
    "embeddings = model.encode(sentences)\n",
    "print(embeddings)\n",
    "\n",
    "\n",
    "all-MiniLM-L12-v2 - https://huggingface.co/sentence-transformers/all-MiniLM-L12-v2\n",
    "all-mpnet-base-v2 - https://huggingface.co/sentence-transformers/all-mpnet-base-v2\n",
    "all-distilroberta-v1 - https://huggingface.co/sentence-transformers/all-distilroberta-v1\n",
    "multi-qa-mpnet-base-dot-v1 - https://huggingface.co/sentence-transformers/multi-qa-mpnet-base-dot-v1"
   ]
  },
  {
   "cell_type": "markdown",
   "metadata": {
    "scrolled": true
   },
   "source": [
    "### fine-tuning sentence-embedding models\n",
    "\n",
    "it is possible to fine-tune sentence similarity models by using cosine similarity loss function. \n",
    "some pair of sentences and similarity between them are given as training data and models can be fine-tuned\n",
    "by using in-class similarity as high score and between-class similarity as low score we can tune the model to find more instances by the similarity\n",
    "\n",
    "https://www.sbert.net/docs/training/overview.html"
   ]
  },
  {
   "cell_type": "code",
   "execution_count": null,
   "metadata": {},
   "outputs": [],
   "source": []
  },
  {
   "cell_type": "code",
   "execution_count": null,
   "metadata": {},
   "outputs": [],
   "source": []
  },
  {
   "cell_type": "code",
   "execution_count": null,
   "metadata": {},
   "outputs": [],
   "source": []
  },
  {
   "cell_type": "code",
   "execution_count": null,
   "metadata": {},
   "outputs": [],
   "source": [
    "sentence1 = \"I like Python because I can build AI applications\"\n",
    "sentence2 = \"I like Python because I can do data analytics\"\n",
    "# encode sentences to get their embeddings\n",
    "embedding1 = model.encode(sentence1, convert_to_tensor=True)\n",
    "embedding2 = model.encode(sentence2, convert_to_tensor=True)\n",
    "# compute similarity scores of two embeddings\n",
    "cosine_scores = util.pytorch_cos_sim(embedding1, embedding2)\n",
    "print(\"Sentence 1:\", sentence1)\n",
    "print(\"Sentence 2:\", sentence2)\n",
    "print(\"Similarity score:\", cosine_scores.item())"
   ]
  },
  {
   "cell_type": "code",
   "execution_count": null,
   "metadata": {},
   "outputs": [],
   "source": [
    "sentences1 = [\"I like Python because I can build AI applications\", \"The cat sits on the ground\"]   \n",
    "sentences2 = [\"I like Python because I can do data analytics\", \"The cat walks on the sidewalk\"]\n",
    "# encode list of sentences to get their embeddings\n",
    "embedding1 = model.encode(sentences1, convert_to_tensor=True)\n",
    "embedding2 = model.encode(sentences2, convert_to_tensor=True)\n",
    "# compute similarity scores of two embeddings\n",
    "cosine_scores = util.pytorch_cos_sim(embedding1, embedding2)\n",
    "for i in range(len(sentences1)):\n",
    "    for j in range(len(sentences2)):\n",
    "        print(\"Sentence 1:\", sentences1[i])\n",
    "        print(\"Sentence 2:\", sentences2[j])\n",
    "        print(\"Similarity Score:\", cosine_scores[i][j].item())\n",
    "        print()"
   ]
  },
  {
   "cell_type": "code",
   "execution_count": null,
   "metadata": {},
   "outputs": [],
   "source": [
    "corpus = [\"I like Python because I can build AI applications\",\n",
    "          \"I like Python because I can do data analytics\",\n",
    "          \"The cat sits on the ground\",\n",
    "         \"The cat walks on the sidewalk\"]\n",
    "\n",
    "query = \"I like Javascript because I can build web applications\""
   ]
  },
  {
   "cell_type": "code",
   "execution_count": null,
   "metadata": {},
   "outputs": [],
   "source": [
    "\n",
    "# encode corpus to get corpus embeddings\n",
    "corpus_embeddings = model.encode(corpus, convert_to_tensor=True)\n",
    "sentence = \"I like Javascript because I can build web applications\"\n",
    "# encode sentence to get sentence embeddings\n",
    "sentence_embedding = model.encode(sentence, convert_to_tensor=True)\n",
    "# top_k results to return\n",
    "top_k=2\n",
    "# compute similarity scores of the sentence with the corpus\n",
    "cos_scores = util.pytorch_cos_sim(sentence_embedding, corpus_embeddings)[0]\n",
    "# Sort the results in decreasing order and get the first top_k\n",
    "top_results = np.argpartition(-cos_scores, range(top_k))[0:top_k]\n",
    "print(\"Sentence:\", sentence, \"\\n\")\n",
    "print(\"Top\", top_k, \"most similar sentences in corpus:\")\n",
    "for idx in top_results[0:top_k]:\n",
    "    print(corpus[idx], \"(Score: %.4f)\" % (cos_scores[idx]))"
   ]
  },
  {
   "cell_type": "code",
   "execution_count": null,
   "metadata": {},
   "outputs": [],
   "source": []
  },
  {
   "cell_type": "code",
   "execution_count": null,
   "metadata": {},
   "outputs": [],
   "source": [
    "\n",
    "from sklearn.feature_extraction.text import TfidfVectorizer\n",
    "from sklearn.metrics.pairwise import linear_kernel\n",
    "\n",
    "search_terms = 'fruit and vegetables'\n",
    "documents = ['cars drive on the road', 'tomatoes are actually fruit']\n",
    "\n",
    "doc_vectors = TfidfVectorizer().fit_transform([search_terms] + documents)\n",
    "\n",
    "cosine_similarities = linear_kernel(doc_vectors[0:1], doc_vectors).flatten()\n",
    "document_scores = [item.item() for item in cosine_similarities[1:]]\n",
    "document_scores"
   ]
  },
  {
   "cell_type": "code",
   "execution_count": null,
   "metadata": {},
   "outputs": [],
   "source": [
    "from sklearn.feature_extraction.text import TfidfVectorizer\n",
    "from sklearn.metrics.pairwise import linear_kernel\n",
    "from nltk import word_tokenize          \n",
    "from nltk.stem import WordNetLemmatizer\n",
    "import nltk\n",
    "from nltk.corpus import stopwords\n",
    "\n",
    "# Download stopwords list\n",
    "nltk.download('punkt')\n",
    "stop_words = set(stopwords.words('english')) \n",
    "\n",
    "# Interface lemma tokenizer from nltk with sklearn\n",
    "class LemmaTokenizer:\n",
    "    ignore_tokens = [',', '.', ';', ':', '\"', '``', \"''\", '`']\n",
    "    def __init__(self):\n",
    "        self.wnl = WordNetLemmatizer()\n",
    "    def __call__(self, doc):\n",
    "        return [self.wnl.lemmatize(t) for t in word_tokenize(doc) if t not in self.ignore_tokens]\n",
    "\n",
    "# Lemmatize the stop words\n",
    "tokenizer=LemmaTokenizer()\n",
    "token_stop = tokenizer(' '.join(stop_words))\n",
    "\n",
    "search_terms = 'red tomato'\n",
    "documents = ['cars drive on the road', 'tomatoes are actually fruit']\n",
    "\n",
    "# Create TF-idf model\n",
    "vectorizer = TfidfVectorizer(stop_words=token_stop, \n",
    "                              tokenizer=tokenizer)\n",
    "doc_vectors = vectorizer.fit_transform([search_terms] + documents)\n",
    "\n",
    "# Calculate similarity\n",
    "cosine_similarities = linear_kernel(doc_vectors[0:1], doc_vectors).flatten()\n",
    "document_scores = [item.item() for item in cosine_similarities[1:]]\n",
    "document_scores"
   ]
  },
  {
   "cell_type": "code",
   "execution_count": null,
   "metadata": {},
   "outputs": [],
   "source": [
    "from re import sub\n",
    "from gensim.utils import simple_preprocess\n",
    "import gensim.downloader as api\n",
    "from gensim.corpora import Dictionary\n",
    "from gensim.models import TfidfModel\n",
    "from gensim.similarities import WordEmbeddingSimilarityIndex\n",
    "from gensim.similarities import SparseTermSimilarityMatrix\n",
    "from gensim.similarities import SoftCosineSimilarity"
   ]
  },
  {
   "cell_type": "code",
   "execution_count": null,
   "metadata": {},
   "outputs": [],
   "source": [
    "query_string = 'fruit and vegetables'\n",
    "documents = ['cars drive on the road', 'tomatoes are actually fruit']\n",
    "\n",
    "stopwords = ['the', 'and', 'are', 'a']\n",
    "\n",
    "# From: https://github.com/RaRe-Technologies/gensim/blob/develop/docs/notebooks/soft_cosine_tutorial.ipynb\n",
    "def preprocess(doc):\n",
    "    # Tokenize, clean up input document string\n",
    "    doc = sub(r'<img[^<>]+(>|$)', \" image_token \", doc)\n",
    "    doc = sub(r'<[^<>]+(>|$)', \" \", doc)\n",
    "    doc = sub(r'\\[img_assist[^]]*?\\]', \" \", doc)\n",
    "    doc = sub(r'http[s]?://(?:[a-zA-Z]|[0-9]|[$-_@.&+]|[!*\\(\\),]|(?:%[0-9a-fA-F][0-9a-fA-F]))+', \" url_token \", doc)\n",
    "    return [token for token in simple_preprocess(doc, min_len=0, max_len=float(\"inf\")) if token not in stopwords]"
   ]
  },
  {
   "cell_type": "code",
   "execution_count": null,
   "metadata": {},
   "outputs": [],
   "source": [
    "query_string = 'fruit and vegetables'\n",
    "documents = ['cars drive on the road', 'tomatoes are actually fruit']"
   ]
  },
  {
   "cell_type": "code",
   "execution_count": null,
   "metadata": {},
   "outputs": [],
   "source": [
    "documents = [\"I like Python because I can build AI applications\",\n",
    "          \"I like Python because I can do data analytics\",\n",
    "          \"The cat sits on the ground\",\n",
    "         \"The cat walks on the sidewalk\"]\n",
    "\n",
    "query_string = \"I like Javascript because I can build web applications\""
   ]
  },
  {
   "cell_type": "code",
   "execution_count": null,
   "metadata": {},
   "outputs": [],
   "source": [
    "# Preprocess the documents, including the query string\n",
    "corpus = [preprocess(document) for document in documents]\n",
    "query = preprocess(query_string)"
   ]
  },
  {
   "cell_type": "code",
   "execution_count": null,
   "metadata": {},
   "outputs": [],
   "source": [
    "# Load the model: this is a big file, can take a while to download and open\n",
    "glove = api.load(\"glove-wiki-gigaword-50\")    \n",
    "similarity_index = WordEmbeddingSimilarityIndex(glove)\n",
    "\n",
    "# Build the term dictionary, TF-idf model\n",
    "dictionary = Dictionary(corpus+[query])\n",
    "tfidf = TfidfModel(dictionary=dictionary)\n",
    "\n",
    "# Create the term similarity matrix.  \n",
    "similarity_matrix = SparseTermSimilarityMatrix(similarity_index, dictionary, tfidf)"
   ]
  },
  {
   "cell_type": "code",
   "execution_count": null,
   "metadata": {},
   "outputs": [],
   "source": [
    "# Compute Soft Cosine Measure between the query and the documents.\n",
    "# From: https://github.com/RaRe-Technologies/gensim/blob/develop/docs/notebooks/soft_cosine_tutorial.ipynb\n",
    "query_tf = tfidf[dictionary.doc2bow(query)]\n",
    "\n",
    "index = SoftCosineSimilarity(\n",
    "            tfidf[[dictionary.doc2bow(document) for document in corpus]],\n",
    "            similarity_matrix)\n",
    "\n",
    "doc_similarity_scores = index[query_tf]\n",
    "\n",
    "# Output the sorted similarity scores and documents\n",
    "sorted_indexes = np.argsort(doc_similarity_scores)[::-1]\n",
    "for idx in sorted_indexes:\n",
    "    print(f'{idx} \\t {doc_similarity_scores[idx]:0.3f} \\t {documents[idx]}')\n"
   ]
  },
  {
   "cell_type": "code",
   "execution_count": null,
   "metadata": {},
   "outputs": [],
   "source": [
    "http://www.scielo.org.mx/scielo.php?script=sci_arttext&pid=S1405-55462016000400647"
   ]
  },
  {
   "cell_type": "code",
   "execution_count": null,
   "metadata": {},
   "outputs": [],
   "source": []
  }
 ],
 "metadata": {
  "kernelspec": {
   "display_name": "Python 3",
   "language": "python",
   "name": "python3"
  },
  "language_info": {
   "codemirror_mode": {
    "name": "ipython",
    "version": 3
   },
   "file_extension": ".py",
   "mimetype": "text/x-python",
   "name": "python",
   "nbconvert_exporter": "python",
   "pygments_lexer": "ipython3",
   "version": "3.8.5"
  },
  "latex_envs": {
   "LaTeX_envs_menu_present": true,
   "autoclose": false,
   "autocomplete": true,
   "bibliofile": "biblio.bib",
   "cite_by": "apalike",
   "current_citInitial": 1,
   "eqLabelWithNumbers": true,
   "eqNumInitial": 1,
   "hotkeys": {
    "equation": "Ctrl-E",
    "itemize": "Ctrl-I"
   },
   "labels_anchors": false,
   "latex_user_defs": false,
   "report_style_numbering": false,
   "user_envs_cfg": false
  }
 },
 "nbformat": 4,
 "nbformat_minor": 4
}
