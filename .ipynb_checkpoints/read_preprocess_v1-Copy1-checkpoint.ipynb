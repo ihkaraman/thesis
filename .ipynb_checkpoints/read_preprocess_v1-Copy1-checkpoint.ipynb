{
 "cells": [
  {
   "cell_type": "markdown",
   "metadata": {},
   "source": [
    "- using individual anotations and applying majority voting for final label\n",
    "- concating htmls with labels\n",
    "- preprocessing html text\n",
    "- tfidf - (1-4) grams\n",
    "- visualization\n",
    "- new metrics\n",
    "- multilabel classification\n",
    "    - linear svm\n",
    "    - random forest\n",
    "    - gradient boosting"
   ]
  },
  {
   "cell_type": "code",
   "execution_count": 1,
   "metadata": {},
   "outputs": [],
   "source": [
    "import os\n",
    "import re\n",
    "import ast\n",
    "import pandas as pd\n",
    "import glob\n",
    "from nltk.corpus import stopwords\n",
    "from nltk.stem import WordNetLemmatizer\n",
    "import matplotlib.pyplot as plt\n",
    "from sklearn import metrics\n",
    "from sklearn.metrics import accuracy_score, precision_score, recall_score, f1_score, confusion_matrix, hamming_loss\n",
    "import warnings\n",
    "warnings.filterwarnings('ignore')"
   ]
  },
  {
   "cell_type": "code",
   "execution_count": 2,
   "metadata": {},
   "outputs": [],
   "source": [
    "show_data_info = True"
   ]
  },
  {
   "cell_type": "code",
   "execution_count": 3,
   "metadata": {},
   "outputs": [
    {
     "data": {
      "text/plain": [
       "'\\nnot used: \\n\\nFirst Party Collection/Use\\nPrivacy practice describing data collection or data use by the company/organization owning the website or mobile app.\\n\\nThird Party Sharing/Collection\\nPrivacy practice describing data sharing with third parties or data collection by third parties. A third party is a company/organization other than the first party  company/organization that owns the website or mobile app.\\n\\nUser Choice/Control\\nPractice that describes general choices and control options available to users.\\n\\nUser Access, Edit and Deletion\\nPrivacy practice that allows users to access, edit or delete the data that the company/organization has about them.\\n\\nData Retention\\nPrivacy practice specifying the retention period for collected user information.\\n\\nData Security\\nPractice that describes how users’ information is secured and protected, e.g., from confidentiality, integrity, or availability breaches. Common practices include the encryption of stored data and online communications.\\n\\nPolicy Change\\nThe company/organization’s practices concerning if and how users will be informed of changes to its privacy policy, including any choices offered to users.\\n\\nDo Not Track\\nPractices that explain if and how Do Not Track signals (DNT) for online tracking and advertising are honored.\\n\\nInternational and Specific Audiences\\nSpecific audiences mentioned in the company/organization’s privacy policy, such as children or international users, for which the company/organization may provide special provisions.\\n\\nOther\\nAnother aspect not covered in the other categories is discussed in the text segment.\\n\\n'"
      ]
     },
     "execution_count": 3,
     "metadata": {},
     "output_type": "execute_result"
    }
   ],
   "source": [
    "col_names = ['Data Security', 'Do Not Track', 'First Party Collection/Use',\n",
    "           'International and Specific Audiences', 'Policy Change',\n",
    "           'Third Party Sharing/Collection', 'User Choice/Control', \n",
    "             'User Access, Edit and Deletion','Data Retention', 'Other']\n",
    "\n",
    "'''\n",
    "not used: \n",
    "\n",
    "First Party Collection/Use\n",
    "Privacy practice describing data collection or data use by the company/organization owning the website or mobile app.\n",
    "\n",
    "Third Party Sharing/Collection\n",
    "Privacy practice describing data sharing with third parties or data collection by third parties. A third party is a company/organization other than the first party  company/organization that owns the website or mobile app.\n",
    "\n",
    "User Choice/Control\n",
    "Practice that describes general choices and control options available to users.\n",
    "\n",
    "User Access, Edit and Deletion\n",
    "Privacy practice that allows users to access, edit or delete the data that the company/organization has about them.\n",
    "\n",
    "Data Retention\n",
    "Privacy practice specifying the retention period for collected user information.\n",
    "\n",
    "Data Security\n",
    "Practice that describes how users’ information is secured and protected, e.g., from confidentiality, integrity, or availability breaches. Common practices include the encryption of stored data and online communications.\n",
    "\n",
    "Policy Change\n",
    "The company/organization’s practices concerning if and how users will be informed of changes to its privacy policy, including any choices offered to users.\n",
    "\n",
    "Do Not Track\n",
    "Practices that explain if and how Do Not Track signals (DNT) for online tracking and advertising are honored.\n",
    "\n",
    "International and Specific Audiences\n",
    "Specific audiences mentioned in the company/organization’s privacy policy, such as children or international users, for which the company/organization may provide special provisions.\n",
    "\n",
    "Other\n",
    "Another aspect not covered in the other categories is discussed in the text segment.\n",
    "\n",
    "'''"
   ]
  },
  {
   "cell_type": "code",
   "execution_count": 4,
   "metadata": {},
   "outputs": [],
   "source": [
    "stop_words = stopwords.words('english')"
   ]
  },
  {
   "cell_type": "code",
   "execution_count": 5,
   "metadata": {},
   "outputs": [],
   "source": [
    "path = r'C:\\Users\\IsmailKaraman\\workspace\\data\\privacy_policy_data\\OPP-115_v1'\n",
    "path_labels= path + r'\\annotations'\n",
    "path_for_html = path + r'\\sanitized_policies'"
   ]
  },
  {
   "cell_type": "code",
   "execution_count": 6,
   "metadata": {},
   "outputs": [
    {
     "data": {
      "text/plain": [
       "115"
      ]
     },
     "execution_count": 6,
     "metadata": {},
     "output_type": "execute_result"
    }
   ],
   "source": [
    "path_for_labels = glob.glob(path_labels + \"/*.csv\")\n",
    "len(path_for_labels)"
   ]
  },
  {
   "cell_type": "code",
   "execution_count": 7,
   "metadata": {},
   "outputs": [
    {
     "data": {
      "text/plain": [
       "115"
      ]
     },
     "execution_count": 7,
     "metadata": {},
     "output_type": "execute_result"
    }
   ],
   "source": [
    "all_html_files = glob.glob(path_for_html + \"/*.html\")\n",
    "len(all_html_files)"
   ]
  },
  {
   "cell_type": "code",
   "execution_count": 8,
   "metadata": {},
   "outputs": [],
   "source": [
    "def read_and_concat_as_df(file_names_list):\n",
    "    all_dfs = []\n",
    "\n",
    "    for filename in file_names_list:\n",
    "        df = pd.read_csv(filename, index_col=None, header=None)\n",
    "        all_dfs.append(df)\n",
    "\n",
    "    all_label_data = pd.concat(all_dfs, axis=0, ignore_index=True)\n",
    "    \n",
    "    return all_label_data"
   ]
  },
  {
   "cell_type": "code",
   "execution_count": 9,
   "metadata": {},
   "outputs": [],
   "source": [
    "labels = read_and_concat_as_df(path_for_labels)"
   ]
  },
  {
   "cell_type": "code",
   "execution_count": 10,
   "metadata": {},
   "outputs": [
    {
     "data": {
      "text/plain": [
       "First Party Collection/Use              8935\n",
       "Third Party Sharing/Collection          5221\n",
       "Other                                   3548\n",
       "User Choice/Control                     1789\n",
       "Data Security                           1008\n",
       "International and Specific Audiences     939\n",
       "User Access, Edit and Deletion           746\n",
       "Policy Change                            548\n",
       "Data Retention                           370\n",
       "Do Not Track                              90\n",
       "Name: 5, dtype: int64"
      ]
     },
     "execution_count": 10,
     "metadata": {},
     "output_type": "execute_result"
    }
   ],
   "source": [
    "# dropping rows that belongs to different classes\n",
    "labels = labels[labels[5].isin(col_names)]\n",
    "labels[5].value_counts()"
   ]
  },
  {
   "cell_type": "code",
   "execution_count": 11,
   "metadata": {},
   "outputs": [
    {
     "data": {
      "text/html": [
       "<div>\n",
       "<style scoped>\n",
       "    .dataframe tbody tr th:only-of-type {\n",
       "        vertical-align: middle;\n",
       "    }\n",
       "\n",
       "    .dataframe tbody tr th {\n",
       "        vertical-align: top;\n",
       "    }\n",
       "\n",
       "    .dataframe thead th {\n",
       "        text-align: right;\n",
       "    }\n",
       "</style>\n",
       "<table border=\"1\" class=\"dataframe\">\n",
       "  <thead>\n",
       "    <tr style=\"text-align: right;\">\n",
       "      <th></th>\n",
       "      <th>0</th>\n",
       "      <th>1</th>\n",
       "      <th>2</th>\n",
       "      <th>3</th>\n",
       "      <th>4</th>\n",
       "      <th>5</th>\n",
       "      <th>6</th>\n",
       "      <th>7</th>\n",
       "      <th>8</th>\n",
       "    </tr>\n",
       "  </thead>\n",
       "  <tbody>\n",
       "    <tr>\n",
       "      <th>0</th>\n",
       "      <td>20137</td>\n",
       "      <td>test_category_labeling_highlight_fordham_aaaaa</td>\n",
       "      <td>121</td>\n",
       "      <td>3905</td>\n",
       "      <td>0</td>\n",
       "      <td>Other</td>\n",
       "      <td>{\"Other Type\": {\"selectedText\": \"Sci-News.com ...</td>\n",
       "      <td>Not specified</td>\n",
       "      <td>http://www.sci-news.com/privacy-policy.html</td>\n",
       "    </tr>\n",
       "    <tr>\n",
       "      <th>1</th>\n",
       "      <td>20324</td>\n",
       "      <td>test_category_labeling_highlight_fordham_aaaaa</td>\n",
       "      <td>121</td>\n",
       "      <td>3905</td>\n",
       "      <td>1</td>\n",
       "      <td>First Party Collection/Use</td>\n",
       "      <td>{\"Collection Mode\": {\"selectedText\": \"nformati...</td>\n",
       "      <td>Not specified</td>\n",
       "      <td>http://www.sci-news.com/privacy-policy.html</td>\n",
       "    </tr>\n",
       "    <tr>\n",
       "      <th>2</th>\n",
       "      <td>20325</td>\n",
       "      <td>test_category_labeling_highlight_fordham_aaaaa</td>\n",
       "      <td>121</td>\n",
       "      <td>3905</td>\n",
       "      <td>1</td>\n",
       "      <td>First Party Collection/Use</td>\n",
       "      <td>{\"Collection Mode\": {\"selectedText\": \"nformati...</td>\n",
       "      <td>Not specified</td>\n",
       "      <td>http://www.sci-news.com/privacy-policy.html</td>\n",
       "    </tr>\n",
       "    <tr>\n",
       "      <th>3</th>\n",
       "      <td>20326</td>\n",
       "      <td>test_category_labeling_highlight_fordham_aaaaa</td>\n",
       "      <td>121</td>\n",
       "      <td>3905</td>\n",
       "      <td>2</td>\n",
       "      <td>Data Retention</td>\n",
       "      <td>{\"Personal Information Type\": {\"selectedText\":...</td>\n",
       "      <td>Not specified</td>\n",
       "      <td>http://www.sci-news.com/privacy-policy.html</td>\n",
       "    </tr>\n",
       "    <tr>\n",
       "      <th>4</th>\n",
       "      <td>20327</td>\n",
       "      <td>test_category_labeling_highlight_fordham_aaaaa</td>\n",
       "      <td>121</td>\n",
       "      <td>3905</td>\n",
       "      <td>3</td>\n",
       "      <td>First Party Collection/Use</td>\n",
       "      <td>{\"Collection Mode\": {\"selectedText\": \"Not sele...</td>\n",
       "      <td>Not specified</td>\n",
       "      <td>http://www.sci-news.com/privacy-policy.html</td>\n",
       "    </tr>\n",
       "    <tr>\n",
       "      <th>...</th>\n",
       "      <td>...</td>\n",
       "      <td>...</td>\n",
       "      <td>...</td>\n",
       "      <td>...</td>\n",
       "      <td>...</td>\n",
       "      <td>...</td>\n",
       "      <td>...</td>\n",
       "      <td>...</td>\n",
       "      <td>...</td>\n",
       "    </tr>\n",
       "    <tr>\n",
       "      <th>23189</th>\n",
       "      <td>5977</td>\n",
       "      <td>test_category_labeling_highlight</td>\n",
       "      <td>88</td>\n",
       "      <td>3722</td>\n",
       "      <td>5</td>\n",
       "      <td>Other</td>\n",
       "      <td>{\"Other Type\": {\"endIndexInSegment\": 220, \"sta...</td>\n",
       "      <td>Not specified</td>\n",
       "      <td>http://mohegansun.com/about-mohegan-sun/privac...</td>\n",
       "    </tr>\n",
       "    <tr>\n",
       "      <th>23190</th>\n",
       "      <td>6753</td>\n",
       "      <td>test_category_labeling_highlight</td>\n",
       "      <td>82</td>\n",
       "      <td>3722</td>\n",
       "      <td>5</td>\n",
       "      <td>Other</td>\n",
       "      <td>{\"Other Type\": {\"endIndexInSegment\": 220, \"sta...</td>\n",
       "      <td>Not specified</td>\n",
       "      <td>http://mohegansun.com/about-mohegan-sun/privac...</td>\n",
       "    </tr>\n",
       "    <tr>\n",
       "      <th>23191</th>\n",
       "      <td>4949</td>\n",
       "      <td>test_category_labeling_highlight</td>\n",
       "      <td>84</td>\n",
       "      <td>3722</td>\n",
       "      <td>6</td>\n",
       "      <td>Other</td>\n",
       "      <td>{\"Other Type\": {\"endIndexInSegment\": 190, \"sta...</td>\n",
       "      <td>Not specified</td>\n",
       "      <td>http://mohegansun.com/about-mohegan-sun/privac...</td>\n",
       "    </tr>\n",
       "    <tr>\n",
       "      <th>23192</th>\n",
       "      <td>5976</td>\n",
       "      <td>test_category_labeling_highlight</td>\n",
       "      <td>88</td>\n",
       "      <td>3722</td>\n",
       "      <td>6</td>\n",
       "      <td>Other</td>\n",
       "      <td>{\"Other Type\": {\"endIndexInSegment\": 151, \"sta...</td>\n",
       "      <td>Not specified</td>\n",
       "      <td>http://mohegansun.com/about-mohegan-sun/privac...</td>\n",
       "    </tr>\n",
       "    <tr>\n",
       "      <th>23193</th>\n",
       "      <td>6754</td>\n",
       "      <td>test_category_labeling_highlight</td>\n",
       "      <td>82</td>\n",
       "      <td>3722</td>\n",
       "      <td>6</td>\n",
       "      <td>Other</td>\n",
       "      <td>{\"Other Type\": {\"endIndexInSegment\": 190, \"sta...</td>\n",
       "      <td>Not specified</td>\n",
       "      <td>http://mohegansun.com/about-mohegan-sun/privac...</td>\n",
       "    </tr>\n",
       "  </tbody>\n",
       "</table>\n",
       "<p>23194 rows × 9 columns</p>\n",
       "</div>"
      ],
      "text/plain": [
       "           0                                               1    2     3  4  \\\n",
       "0      20137  test_category_labeling_highlight_fordham_aaaaa  121  3905  0   \n",
       "1      20324  test_category_labeling_highlight_fordham_aaaaa  121  3905  1   \n",
       "2      20325  test_category_labeling_highlight_fordham_aaaaa  121  3905  1   \n",
       "3      20326  test_category_labeling_highlight_fordham_aaaaa  121  3905  2   \n",
       "4      20327  test_category_labeling_highlight_fordham_aaaaa  121  3905  3   \n",
       "...      ...                                             ...  ...   ... ..   \n",
       "23189   5977                test_category_labeling_highlight   88  3722  5   \n",
       "23190   6753                test_category_labeling_highlight   82  3722  5   \n",
       "23191   4949                test_category_labeling_highlight   84  3722  6   \n",
       "23192   5976                test_category_labeling_highlight   88  3722  6   \n",
       "23193   6754                test_category_labeling_highlight   82  3722  6   \n",
       "\n",
       "                                5  \\\n",
       "0                           Other   \n",
       "1      First Party Collection/Use   \n",
       "2      First Party Collection/Use   \n",
       "3                  Data Retention   \n",
       "4      First Party Collection/Use   \n",
       "...                           ...   \n",
       "23189                       Other   \n",
       "23190                       Other   \n",
       "23191                       Other   \n",
       "23192                       Other   \n",
       "23193                       Other   \n",
       "\n",
       "                                                       6              7  \\\n",
       "0      {\"Other Type\": {\"selectedText\": \"Sci-News.com ...  Not specified   \n",
       "1      {\"Collection Mode\": {\"selectedText\": \"nformati...  Not specified   \n",
       "2      {\"Collection Mode\": {\"selectedText\": \"nformati...  Not specified   \n",
       "3      {\"Personal Information Type\": {\"selectedText\":...  Not specified   \n",
       "4      {\"Collection Mode\": {\"selectedText\": \"Not sele...  Not specified   \n",
       "...                                                  ...            ...   \n",
       "23189  {\"Other Type\": {\"endIndexInSegment\": 220, \"sta...  Not specified   \n",
       "23190  {\"Other Type\": {\"endIndexInSegment\": 220, \"sta...  Not specified   \n",
       "23191  {\"Other Type\": {\"endIndexInSegment\": 190, \"sta...  Not specified   \n",
       "23192  {\"Other Type\": {\"endIndexInSegment\": 151, \"sta...  Not specified   \n",
       "23193  {\"Other Type\": {\"endIndexInSegment\": 190, \"sta...  Not specified   \n",
       "\n",
       "                                                       8  \n",
       "0            http://www.sci-news.com/privacy-policy.html  \n",
       "1            http://www.sci-news.com/privacy-policy.html  \n",
       "2            http://www.sci-news.com/privacy-policy.html  \n",
       "3            http://www.sci-news.com/privacy-policy.html  \n",
       "4            http://www.sci-news.com/privacy-policy.html  \n",
       "...                                                  ...  \n",
       "23189  http://mohegansun.com/about-mohegan-sun/privac...  \n",
       "23190  http://mohegansun.com/about-mohegan-sun/privac...  \n",
       "23191  http://mohegansun.com/about-mohegan-sun/privac...  \n",
       "23192  http://mohegansun.com/about-mohegan-sun/privac...  \n",
       "23193  http://mohegansun.com/about-mohegan-sun/privac...  \n",
       "\n",
       "[23194 rows x 9 columns]"
      ]
     },
     "execution_count": 11,
     "metadata": {},
     "output_type": "execute_result"
    }
   ],
   "source": [
    "labels"
   ]
  },
  {
   "cell_type": "code",
   "execution_count": 12,
   "metadata": {},
   "outputs": [],
   "source": [
    "all_htmls = {}\n",
    "file_path = 'C:\\\\Users\\\\IsmailKaraman\\\\workspace\\\\data\\\\privacy_policy_data\\\\OPP-115_v1\\\\sanitized_policies\\\\'\n",
    "\n",
    "for filename in all_html_files:\n",
    "    \n",
    "    html = open(filename).read()\n",
    "    key = filename.replace(file_path,'').split('_')[1].replace('www.','').replace('.html','')\n",
    "    all_htmls[key] = html"
   ]
  },
  {
   "cell_type": "code",
   "execution_count": 13,
   "metadata": {},
   "outputs": [],
   "source": [
    "labels.columns = ['annotation ID', 'batch ID', 'annotator ID', 'policy ID', 'segment ID', 'Label', 'data_raw', 'date', 'url']"
   ]
  },
  {
   "cell_type": "code",
   "execution_count": 14,
   "metadata": {},
   "outputs": [],
   "source": [
    "def group_by_segment(df):\n",
    "    df1 = pd.concat([df, pd.get_dummies(df['Label'])], axis=1)\n",
    "    df1 = df1.groupby(['url','segment ID', 'annotator ID']).max()\n",
    "    grouped_df = df1.groupby(['url','segment ID']).sum()\n",
    "    grouped_df = grouped_df.reset_index()\n",
    "    return grouped_df"
   ]
  },
  {
   "cell_type": "code",
   "execution_count": 15,
   "metadata": {},
   "outputs": [],
   "source": [
    "def remove_urls_emails(text):\n",
    "    text = re.sub(r'[\\S]+\\.(net|com|org|info|edu|gov|uk|de|ca|jp|fr|au|us|ru|ch|it|nel|se|no|es|mil)[\\S]*\\s?', 'url',text)\n",
    "    text = re.sub(r'\\S*@\\S*\\s?', ' ', text)\n",
    "    return text"
   ]
  },
  {
   "cell_type": "code",
   "execution_count": 16,
   "metadata": {},
   "outputs": [],
   "source": [
    "def remove_nonword_chars(text):\n",
    "    return re.sub(r'[\\W_]+', ' ', text)"
   ]
  },
  {
   "cell_type": "code",
   "execution_count": 17,
   "metadata": {},
   "outputs": [],
   "source": [
    "def remove_emails(text):\n",
    "    return re.sub(r'(^[a-zA-Z0-9_.+-]+@[a-zA-Z0-9-]+\\.[a-zA-Z0-9-.]+$)', 'email', text)"
   ]
  },
  {
   "cell_type": "code",
   "execution_count": 18,
   "metadata": {},
   "outputs": [],
   "source": [
    "def remove_word_contains_numeric(text):\n",
    "    return re.sub(r'\\w*\\d\\w*', ' ', text)"
   ]
  },
  {
   "cell_type": "code",
   "execution_count": 19,
   "metadata": {},
   "outputs": [],
   "source": [
    "def remove_nonword_chars(text):\n",
    "    return re.sub(r'[\\W_]+', ' ', text)"
   ]
  },
  {
   "cell_type": "code",
   "execution_count": 20,
   "metadata": {},
   "outputs": [],
   "source": [
    "def remove_stopwords(words):\n",
    "    new_words = [word for word in words if word not in stop_words]\n",
    "    return new_words"
   ]
  },
  {
   "cell_type": "code",
   "execution_count": 21,
   "metadata": {},
   "outputs": [],
   "source": [
    "def lemmatize_verbs(words):\n",
    "    lemmatizer = WordNetLemmatizer()\n",
    "    lemmas = []\n",
    "    for word in words:\n",
    "        lemma = lemmatizer.lemmatize(word, pos='v')\n",
    "        lemmas.append(lemma)\n",
    "    return lemmas"
   ]
  },
  {
   "cell_type": "code",
   "execution_count": 24,
   "metadata": {
    "scrolled": true
   },
   "outputs": [
    {
     "data": {
      "text/html": [
       "<div>\n",
       "<style scoped>\n",
       "    .dataframe tbody tr th:only-of-type {\n",
       "        vertical-align: middle;\n",
       "    }\n",
       "\n",
       "    .dataframe tbody tr th {\n",
       "        vertical-align: top;\n",
       "    }\n",
       "\n",
       "    .dataframe thead th {\n",
       "        text-align: right;\n",
       "    }\n",
       "</style>\n",
       "<table border=\"1\" class=\"dataframe\">\n",
       "  <thead>\n",
       "    <tr style=\"text-align: right;\">\n",
       "      <th></th>\n",
       "      <th>url</th>\n",
       "      <th>segment ID</th>\n",
       "      <th>annotation ID</th>\n",
       "      <th>policy ID</th>\n",
       "      <th>Data Retention</th>\n",
       "      <th>Data Security</th>\n",
       "      <th>Do Not Track</th>\n",
       "      <th>First Party Collection/Use</th>\n",
       "      <th>International and Specific Audiences</th>\n",
       "      <th>Other</th>\n",
       "      <th>Policy Change</th>\n",
       "      <th>Third Party Sharing/Collection</th>\n",
       "      <th>User Access, Edit and Deletion</th>\n",
       "      <th>User Choice/Control</th>\n",
       "    </tr>\n",
       "  </thead>\n",
       "  <tbody>\n",
       "    <tr>\n",
       "      <th>0</th>\n",
       "      <td>http://acbj.com/privacy/#VI</td>\n",
       "      <td>0</td>\n",
       "      <td>31901</td>\n",
       "      <td>7418</td>\n",
       "      <td>0</td>\n",
       "      <td>0</td>\n",
       "      <td>0</td>\n",
       "      <td>0</td>\n",
       "      <td>0</td>\n",
       "      <td>2</td>\n",
       "      <td>0</td>\n",
       "      <td>0</td>\n",
       "      <td>0</td>\n",
       "      <td>0</td>\n",
       "    </tr>\n",
       "    <tr>\n",
       "      <th>1</th>\n",
       "      <td>http://acbj.com/privacy/#VI</td>\n",
       "      <td>1</td>\n",
       "      <td>41138</td>\n",
       "      <td>11127</td>\n",
       "      <td>0</td>\n",
       "      <td>0</td>\n",
       "      <td>0</td>\n",
       "      <td>0</td>\n",
       "      <td>1</td>\n",
       "      <td>2</td>\n",
       "      <td>1</td>\n",
       "      <td>0</td>\n",
       "      <td>0</td>\n",
       "      <td>1</td>\n",
       "    </tr>\n",
       "  </tbody>\n",
       "</table>\n",
       "</div>"
      ],
      "text/plain": [
       "                           url  segment ID  annotation ID  policy ID  \\\n",
       "0  http://acbj.com/privacy/#VI           0          31901       7418   \n",
       "1  http://acbj.com/privacy/#VI           1          41138      11127   \n",
       "\n",
       "   Data Retention  Data Security  Do Not Track  First Party Collection/Use  \\\n",
       "0               0              0             0                           0   \n",
       "1               0              0             0                           0   \n",
       "\n",
       "   International and Specific Audiences  Other  Policy Change  \\\n",
       "0                                     0      2              0   \n",
       "1                                     1      2              1   \n",
       "\n",
       "   Third Party Sharing/Collection  User Access, Edit and Deletion  \\\n",
       "0                               0                               0   \n",
       "1                               0                               0   \n",
       "\n",
       "   User Choice/Control  \n",
       "0                    0  \n",
       "1                    1  "
      ]
     },
     "execution_count": 24,
     "metadata": {},
     "output_type": "execute_result"
    }
   ],
   "source": [
    "labels = group_by_segment(labels)\n",
    "labels.head(2)"
   ]
  },
  {
   "cell_type": "code",
   "execution_count": 25,
   "metadata": {},
   "outputs": [
    {
     "data": {
      "text/plain": [
       "(3792, 14)"
      ]
     },
     "execution_count": 25,
     "metadata": {},
     "output_type": "execute_result"
    }
   ],
   "source": [
    "labels.shape"
   ]
  },
  {
   "cell_type": "code",
   "execution_count": 26,
   "metadata": {},
   "outputs": [],
   "source": [
    "labels['domain'] = labels['url'].apply(lambda x: x.split('/')[2].replace('www.', ''))\n",
    "labels['domain'] = labels['domain'].apply(lambda x: '.'.join(x.split('.')[-2:]))"
   ]
  },
  {
   "cell_type": "code",
   "execution_count": 27,
   "metadata": {},
   "outputs": [],
   "source": [
    "for key, value in all_htmls.items():\n",
    "    \n",
    "    new_values = []\n",
    "    \n",
    "    value = value.lower()\n",
    "    value = value.replace('<br> <br>', '')\n",
    "    value = remove_word_contains_numeric(value)\n",
    "    value = remove_urls_emails(value)\n",
    "    value_list = value.split('|||')\n",
    "    \n",
    "    for words in value_list:\n",
    "        \n",
    "        words = remove_nonword_chars(words)\n",
    "        words = words.split(' ')\n",
    "        words = remove_stopwords(words)\n",
    "        words = lemmatize_verbs(words)\n",
    "        words = [i for i in words if i!='']\n",
    "        words = [word for word in words if len(word) < 25 and len(word) >= 2]\n",
    "        words = ' '.join(words)\n",
    "        new_values.append(words)\n",
    "        \n",
    "    all_htmls[key] = {i:j for i, j in enumerate(new_values)}"
   ]
  },
  {
   "cell_type": "code",
   "execution_count": 28,
   "metadata": {},
   "outputs": [],
   "source": [
    "htmls_df = pd.DataFrame(all_htmls)"
   ]
  },
  {
   "cell_type": "code",
   "execution_count": 44,
   "metadata": {},
   "outputs": [],
   "source": [
    "def combine_datasets(df):\n",
    "    \n",
    "    df['segment'] = ''\n",
    "    missing_domains = []\n",
    "    \n",
    "    for idx, row in df.iterrows():\n",
    "\n",
    "        if row['domain'] in htmls_df.columns:\n",
    "            df.loc[idx, 'segment'] = htmls_df.loc[row['segment ID'], row['domain']]\n",
    "        else:\n",
    "            missing_domains.append(row['domain'])\n",
    "    \n",
    "    return df, missing_domains"
   ]
  },
  {
   "cell_type": "code",
   "execution_count": 45,
   "metadata": {},
   "outputs": [],
   "source": [
    "labels, missing_domains = combine_datasets(labels)"
   ]
  },
  {
   "cell_type": "code",
   "execution_count": 46,
   "metadata": {},
   "outputs": [],
   "source": [
    "labels = labels[labels['segment']!='']\n",
    "labels.dropna(inplace=True)"
   ]
  },
  {
   "cell_type": "code",
   "execution_count": 47,
   "metadata": {},
   "outputs": [],
   "source": [
    "for col in col_names:\n",
    "    labels[col] = labels[col].apply(lambda x: 1 if x>1 else 0)"
   ]
  },
  {
   "cell_type": "code",
   "execution_count": 48,
   "metadata": {},
   "outputs": [
    {
     "data": {
      "text/plain": [
       "'service use share information use personally identifiable information supply service provide merchandise product service content request example subscribe publications may use mail address send confirmation notice mail address send publication similarly enter online sweepstakes use information notify winner may also use information communicate new feature products service improve service offer tailor need'"
      ]
     },
     "execution_count": 48,
     "metadata": {},
     "output_type": "execute_result"
    }
   ],
   "source": [
    "labels.loc[7, 'segment']"
   ]
  },
  {
   "cell_type": "code",
   "execution_count": 49,
   "metadata": {},
   "outputs": [],
   "source": [
    "X = labels['segment']\n",
    "y = labels[col_names]"
   ]
  },
  {
   "cell_type": "code",
   "execution_count": 50,
   "metadata": {},
   "outputs": [],
   "source": [
    "def plot_barchart(X_train, X_test, y_train, y_test):\n",
    "\n",
    "    labels = y_train.columns\n",
    "    fig, ax = plt.subplots(figsize=(8,5))\n",
    "    ax.barh(labels, y_train.sum(), 0.6, label='Train', color='C2')\n",
    "    ax.barh(labels, y_test.sum(), 0.5, left=y_train.sum(), label='Test', color='C3')\n",
    "    ax.set_title('Value Counts')\n",
    "    ax.legend()\n",
    "    plt.ylim(-0.5, ax.get_yticks()[-1] + 0.5)\n",
    "    ax.set_axisbelow(True)\n",
    "    ax.xaxis.grid(color='gray', linestyle='dashed')\n",
    "    plt.show()"
   ]
  },
  {
   "cell_type": "code",
   "execution_count": 51,
   "metadata": {
    "scrolled": true
   },
   "outputs": [
    {
     "data": {
      "text/plain": [
       "Data Security                            197\n",
       "Do Not Track                              28\n",
       "First Party Collection/Use              1128\n",
       "International and Specific Audiences     270\n",
       "Policy Change                            110\n",
       "Third Party Sharing/Collection           878\n",
       "User Choice/Control                      333\n",
       "User Access, Edit and Deletion           135\n",
       "Data Retention                            72\n",
       "Other                                    988\n",
       "dtype: int64"
      ]
     },
     "execution_count": 51,
     "metadata": {},
     "output_type": "execute_result"
    }
   ],
   "source": [
    "y.sum()"
   ]
  },
  {
   "cell_type": "code",
   "execution_count": 52,
   "metadata": {},
   "outputs": [
    {
     "data": {
      "text/plain": [
       "<matplotlib.axes._subplots.AxesSubplot at 0x1f5b4736100>"
      ]
     },
     "execution_count": 52,
     "metadata": {},
     "output_type": "execute_result"
    },
    {
     "data": {
      "image/png": "[encoded data removed]",
      "text/plain": [
       "<Figure size 432x288 with 1 Axes>"
      ]
     },
     "metadata": {
      "needs_background": "light"
     },
     "output_type": "display_data"
    }
   ],
   "source": [
    "y.sum().plot(kind='bar')"
   ]
  },
  {
   "cell_type": "code",
   "execution_count": 53,
   "metadata": {},
   "outputs": [
    {
     "data": {
      "text/plain": [
       "(3534, 16)"
      ]
     },
     "execution_count": 53,
     "metadata": {},
     "output_type": "execute_result"
    }
   ],
   "source": [
    "labels.shape"
   ]
  },
  {
   "cell_type": "code",
   "execution_count": 54,
   "metadata": {},
   "outputs": [],
   "source": [
    "labels[['segment']+col_names].to_csv(path+r'\\preprocessed_v1.csv')"
   ]
  },
  {
   "cell_type": "code",
   "execution_count": 55,
   "metadata": {},
   "outputs": [
    {
     "data": {
      "text/html": [
       "<div>\n",
       "<style scoped>\n",
       "    .dataframe tbody tr th:only-of-type {\n",
       "        vertical-align: middle;\n",
       "    }\n",
       "\n",
       "    .dataframe tbody tr th {\n",
       "        vertical-align: top;\n",
       "    }\n",
       "\n",
       "    .dataframe thead th {\n",
       "        text-align: right;\n",
       "    }\n",
       "</style>\n",
       "<table border=\"1\" class=\"dataframe\">\n",
       "  <thead>\n",
       "    <tr style=\"text-align: right;\">\n",
       "      <th></th>\n",
       "      <th>url</th>\n",
       "      <th>segment ID</th>\n",
       "      <th>annotation ID</th>\n",
       "      <th>policy ID</th>\n",
       "      <th>Data Retention</th>\n",
       "      <th>Data Security</th>\n",
       "      <th>Do Not Track</th>\n",
       "      <th>First Party Collection/Use</th>\n",
       "      <th>International and Specific Audiences</th>\n",
       "      <th>Other</th>\n",
       "      <th>Policy Change</th>\n",
       "      <th>Third Party Sharing/Collection</th>\n",
       "      <th>User Access, Edit and Deletion</th>\n",
       "      <th>User Choice/Control</th>\n",
       "      <th>domain</th>\n",
       "      <th>segment</th>\n",
       "    </tr>\n",
       "  </thead>\n",
       "  <tbody>\n",
       "    <tr>\n",
       "      <th>0</th>\n",
       "      <td>http://acbj.com/privacy/#VI</td>\n",
       "      <td>0</td>\n",
       "      <td>31901</td>\n",
       "      <td>7418</td>\n",
       "      <td>0</td>\n",
       "      <td>0</td>\n",
       "      <td>0</td>\n",
       "      <td>0</td>\n",
       "      <td>0</td>\n",
       "      <td>1</td>\n",
       "      <td>0</td>\n",
       "      <td>0</td>\n",
       "      <td>0</td>\n",
       "      <td>0</td>\n",
       "      <td>acbj.com</td>\n",
       "      <td>user agreement privacy policy</td>\n",
       "    </tr>\n",
       "    <tr>\n",
       "      <th>1</th>\n",
       "      <td>http://acbj.com/privacy/#VI</td>\n",
       "      <td>1</td>\n",
       "      <td>41138</td>\n",
       "      <td>11127</td>\n",
       "      <td>0</td>\n",
       "      <td>0</td>\n",
       "      <td>0</td>\n",
       "      <td>0</td>\n",
       "      <td>0</td>\n",
       "      <td>1</td>\n",
       "      <td>0</td>\n",
       "      <td>0</td>\n",
       "      <td>0</td>\n",
       "      <td>0</td>\n",
       "      <td>acbj.com</td>\n",
       "      <td>last revise december jump privacy policy click...</td>\n",
       "    </tr>\n",
       "    <tr>\n",
       "      <th>2</th>\n",
       "      <td>http://acbj.com/privacy/#VI</td>\n",
       "      <td>2</td>\n",
       "      <td>31909</td>\n",
       "      <td>7418</td>\n",
       "      <td>0</td>\n",
       "      <td>0</td>\n",
       "      <td>0</td>\n",
       "      <td>0</td>\n",
       "      <td>0</td>\n",
       "      <td>1</td>\n",
       "      <td>0</td>\n",
       "      <td>0</td>\n",
       "      <td>0</td>\n",
       "      <td>0</td>\n",
       "      <td>acbj.com</td>\n",
       "      <td>strong privacy policy strong type information ...</td>\n",
       "    </tr>\n",
       "    <tr>\n",
       "      <th>3</th>\n",
       "      <td>http://acbj.com/privacy/#VI</td>\n",
       "      <td>3</td>\n",
       "      <td>41143</td>\n",
       "      <td>11127</td>\n",
       "      <td>0</td>\n",
       "      <td>0</td>\n",
       "      <td>0</td>\n",
       "      <td>0</td>\n",
       "      <td>0</td>\n",
       "      <td>1</td>\n",
       "      <td>0</td>\n",
       "      <td>0</td>\n",
       "      <td>0</td>\n",
       "      <td>0</td>\n",
       "      <td>acbj.com</td>\n",
       "      <td>follow privacy policy summarize various ways t...</td>\n",
       "    </tr>\n",
       "    <tr>\n",
       "      <th>4</th>\n",
       "      <td>http://acbj.com/privacy/#VI</td>\n",
       "      <td>4</td>\n",
       "      <td>41163</td>\n",
       "      <td>11127</td>\n",
       "      <td>0</td>\n",
       "      <td>0</td>\n",
       "      <td>0</td>\n",
       "      <td>1</td>\n",
       "      <td>0</td>\n",
       "      <td>0</td>\n",
       "      <td>0</td>\n",
       "      <td>0</td>\n",
       "      <td>0</td>\n",
       "      <td>0</td>\n",
       "      <td>acbj.com</td>\n",
       "      <td>service generally collect personally identifia...</td>\n",
       "    </tr>\n",
       "    <tr>\n",
       "      <th>...</th>\n",
       "      <td>...</td>\n",
       "      <td>...</td>\n",
       "      <td>...</td>\n",
       "      <td>...</td>\n",
       "      <td>...</td>\n",
       "      <td>...</td>\n",
       "      <td>...</td>\n",
       "      <td>...</td>\n",
       "      <td>...</td>\n",
       "      <td>...</td>\n",
       "      <td>...</td>\n",
       "      <td>...</td>\n",
       "      <td>...</td>\n",
       "      <td>...</td>\n",
       "      <td>...</td>\n",
       "      <td>...</td>\n",
       "    </tr>\n",
       "    <tr>\n",
       "      <th>3787</th>\n",
       "      <td>https://www.washingtonpost.com/privacy-policy/...</td>\n",
       "      <td>38</td>\n",
       "      <td>2053</td>\n",
       "      <td>10866</td>\n",
       "      <td>0</td>\n",
       "      <td>0</td>\n",
       "      <td>0</td>\n",
       "      <td>0</td>\n",
       "      <td>0</td>\n",
       "      <td>0</td>\n",
       "      <td>0</td>\n",
       "      <td>0</td>\n",
       "      <td>0</td>\n",
       "      <td>1</td>\n",
       "      <td>washingtonpost.com</td>\n",
       "      <td>browsers accept cookies automatically configur...</td>\n",
       "    </tr>\n",
       "    <tr>\n",
       "      <th>3788</th>\n",
       "      <td>https://www.washingtonpost.com/privacy-policy/...</td>\n",
       "      <td>39</td>\n",
       "      <td>2209</td>\n",
       "      <td>10866</td>\n",
       "      <td>0</td>\n",
       "      <td>0</td>\n",
       "      <td>0</td>\n",
       "      <td>1</td>\n",
       "      <td>0</td>\n",
       "      <td>0</td>\n",
       "      <td>0</td>\n",
       "      <td>1</td>\n",
       "      <td>0</td>\n",
       "      <td>0</td>\n",
       "      <td>washingtonpost.com</td>\n",
       "      <td>strong beacon strong along third party also ma...</td>\n",
       "    </tr>\n",
       "    <tr>\n",
       "      <th>3789</th>\n",
       "      <td>https://www.washingtonpost.com/privacy-policy/...</td>\n",
       "      <td>40</td>\n",
       "      <td>2217</td>\n",
       "      <td>10866</td>\n",
       "      <td>0</td>\n",
       "      <td>0</td>\n",
       "      <td>0</td>\n",
       "      <td>1</td>\n",
       "      <td>0</td>\n",
       "      <td>0</td>\n",
       "      <td>0</td>\n",
       "      <td>1</td>\n",
       "      <td>0</td>\n",
       "      <td>0</td>\n",
       "      <td>washingtonpost.com</td>\n",
       "      <td>strong local storage track technologies strong...</td>\n",
       "    </tr>\n",
       "    <tr>\n",
       "      <th>3790</th>\n",
       "      <td>https://www.washingtonpost.com/privacy-policy/...</td>\n",
       "      <td>41</td>\n",
       "      <td>2198</td>\n",
       "      <td>10866</td>\n",
       "      <td>0</td>\n",
       "      <td>0</td>\n",
       "      <td>0</td>\n",
       "      <td>1</td>\n",
       "      <td>0</td>\n",
       "      <td>0</td>\n",
       "      <td>0</td>\n",
       "      <td>1</td>\n",
       "      <td>0</td>\n",
       "      <td>0</td>\n",
       "      <td>washingtonpost.com</td>\n",
       "      <td>strong additional choices respect target adver...</td>\n",
       "    </tr>\n",
       "    <tr>\n",
       "      <th>3791</th>\n",
       "      <td>https://www.washingtonpost.com/privacy-policy/...</td>\n",
       "      <td>42</td>\n",
       "      <td>2198</td>\n",
       "      <td>10866</td>\n",
       "      <td>0</td>\n",
       "      <td>0</td>\n",
       "      <td>0</td>\n",
       "      <td>0</td>\n",
       "      <td>0</td>\n",
       "      <td>0</td>\n",
       "      <td>0</td>\n",
       "      <td>0</td>\n",
       "      <td>0</td>\n",
       "      <td>1</td>\n",
       "      <td>washingtonpost.com</td>\n",
       "      <td>addition disable cookies track technologies de...</td>\n",
       "    </tr>\n",
       "  </tbody>\n",
       "</table>\n",
       "<p>3534 rows × 16 columns</p>\n",
       "</div>"
      ],
      "text/plain": [
       "                                                    url  segment ID  \\\n",
       "0                           http://acbj.com/privacy/#VI           0   \n",
       "1                           http://acbj.com/privacy/#VI           1   \n",
       "2                           http://acbj.com/privacy/#VI           2   \n",
       "3                           http://acbj.com/privacy/#VI           3   \n",
       "4                           http://acbj.com/privacy/#VI           4   \n",
       "...                                                 ...         ...   \n",
       "3787  https://www.washingtonpost.com/privacy-policy/...          38   \n",
       "3788  https://www.washingtonpost.com/privacy-policy/...          39   \n",
       "3789  https://www.washingtonpost.com/privacy-policy/...          40   \n",
       "3790  https://www.washingtonpost.com/privacy-policy/...          41   \n",
       "3791  https://www.washingtonpost.com/privacy-policy/...          42   \n",
       "\n",
       "      annotation ID  policy ID  Data Retention  Data Security  Do Not Track  \\\n",
       "0             31901       7418               0              0             0   \n",
       "1             41138      11127               0              0             0   \n",
       "2             31909       7418               0              0             0   \n",
       "3             41143      11127               0              0             0   \n",
       "4             41163      11127               0              0             0   \n",
       "...             ...        ...             ...            ...           ...   \n",
       "3787           2053      10866               0              0             0   \n",
       "3788           2209      10866               0              0             0   \n",
       "3789           2217      10866               0              0             0   \n",
       "3790           2198      10866               0              0             0   \n",
       "3791           2198      10866               0              0             0   \n",
       "\n",
       "      First Party Collection/Use  International and Specific Audiences  Other  \\\n",
       "0                              0                                     0      1   \n",
       "1                              0                                     0      1   \n",
       "2                              0                                     0      1   \n",
       "3                              0                                     0      1   \n",
       "4                              1                                     0      0   \n",
       "...                          ...                                   ...    ...   \n",
       "3787                           0                                     0      0   \n",
       "3788                           1                                     0      0   \n",
       "3789                           1                                     0      0   \n",
       "3790                           1                                     0      0   \n",
       "3791                           0                                     0      0   \n",
       "\n",
       "      Policy Change  Third Party Sharing/Collection  \\\n",
       "0                 0                               0   \n",
       "1                 0                               0   \n",
       "2                 0                               0   \n",
       "3                 0                               0   \n",
       "4                 0                               0   \n",
       "...             ...                             ...   \n",
       "3787              0                               0   \n",
       "3788              0                               1   \n",
       "3789              0                               1   \n",
       "3790              0                               1   \n",
       "3791              0                               0   \n",
       "\n",
       "      User Access, Edit and Deletion  User Choice/Control              domain  \\\n",
       "0                                  0                    0            acbj.com   \n",
       "1                                  0                    0            acbj.com   \n",
       "2                                  0                    0            acbj.com   \n",
       "3                                  0                    0            acbj.com   \n",
       "4                                  0                    0            acbj.com   \n",
       "...                              ...                  ...                 ...   \n",
       "3787                               0                    1  washingtonpost.com   \n",
       "3788                               0                    0  washingtonpost.com   \n",
       "3789                               0                    0  washingtonpost.com   \n",
       "3790                               0                    0  washingtonpost.com   \n",
       "3791                               0                    1  washingtonpost.com   \n",
       "\n",
       "                                                segment  \n",
       "0                         user agreement privacy policy  \n",
       "1     last revise december jump privacy policy click...  \n",
       "2     strong privacy policy strong type information ...  \n",
       "3     follow privacy policy summarize various ways t...  \n",
       "4     service generally collect personally identifia...  \n",
       "...                                                 ...  \n",
       "3787  browsers accept cookies automatically configur...  \n",
       "3788  strong beacon strong along third party also ma...  \n",
       "3789  strong local storage track technologies strong...  \n",
       "3790  strong additional choices respect target adver...  \n",
       "3791  addition disable cookies track technologies de...  \n",
       "\n",
       "[3534 rows x 16 columns]"
      ]
     },
     "execution_count": 55,
     "metadata": {},
     "output_type": "execute_result"
    }
   ],
   "source": [
    "labels"
   ]
  },
  {
   "cell_type": "code",
   "execution_count": null,
   "metadata": {},
   "outputs": [],
   "source": [
    "labels[labels['policy ID']]"
   ]
  },
  {
   "cell_type": "code",
   "execution_count": null,
   "metadata": {},
   "outputs": [],
   "source": [
    "labels.shape"
   ]
  },
  {
   "cell_type": "code",
   "execution_count": null,
   "metadata": {},
   "outputs": [],
   "source": []
  }
 ],
 "metadata": {
  "kernelspec": {
   "display_name": "Python 3",
   "language": "python",
   "name": "python3"
  },
  "language_info": {
   "codemirror_mode": {
    "name": "ipython",
    "version": 3
   },
   "file_extension": ".py",
   "mimetype": "text/x-python",
   "name": "python",
   "nbconvert_exporter": "python",
   "pygments_lexer": "ipython3",
   "version": "3.8.3"
  }
 },
 "nbformat": 4,
 "nbformat_minor": 2
}
