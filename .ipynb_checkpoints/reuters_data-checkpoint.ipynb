{
 "cells": [
  {
   "cell_type": "code",
   "execution_count": 1,
   "id": "096b0769",
   "metadata": {},
   "outputs": [],
   "source": [
    "label_path = r'C:\\Users\\IsmailKaraman\\workspace\\GitHub\\thesis\\data\\Reuters21578\\cats.txt'\n",
    "test_path = r'C:\\Users\\IsmailKaraman\\workspace\\GitHub\\thesis\\data\\Reuters21578\\test'\n",
    "train_path = r'C:\\Users\\IsmailKaraman\\workspace\\GitHub\\thesis\\data\\Reuters21578\\training'"
   ]
  },
  {
   "cell_type": "code",
   "execution_count": 2,
   "id": "501a8f4d",
   "metadata": {},
   "outputs": [],
   "source": [
    "import os \n",
    "import pandas as pd"
   ]
  },
  {
   "cell_type": "code",
   "execution_count": null,
   "id": "d265b8f3",
   "metadata": {},
   "outputs": [],
   "source": [
    "data = {}\n",
    "for path in [test_path, train_path]:\n",
    "    for i in os.listdir(path):\n",
    "        with open(path + '\\\\' + i) as f:\n",
    "            data[i] = f.read()"
   ]
  },
  {
   "cell_type": "code",
   "execution_count": null,
   "id": "cd465ffb",
   "metadata": {},
   "outputs": [],
   "source": [
    "with open(label_path) as f:\n",
    "    labels_raw = f.readlines()"
   ]
  },
  {
   "cell_type": "code",
   "execution_count": null,
   "id": "88ed5145",
   "metadata": {},
   "outputs": [],
   "source": [
    "labels = {}\n",
    "for line in labels_raw:\n",
    "    splitted_line = line.replace('\\n','').split(' ')\n",
    "    idx = splitted_line[0].split('/')[1]\n",
    "    label = ' '.join(splitted_line[1:])\n",
    "    labels[idx] = label"
   ]
  },
  {
   "cell_type": "code",
   "execution_count": null,
   "id": "a7ac5b52",
   "metadata": {},
   "outputs": [],
   "source": [
    "data_df = pd.DataFrame.from_dict(data, orient='index', columns=['text'])\n",
    "label_df = pd.DataFrame.from_dict(labels, orient='index', columns=['label'])\n",
    "df_raw = pd.concat([data_df, label_df], axis=1).reset_index()"
   ]
  },
  {
   "cell_type": "code",
   "execution_count": null,
   "id": "6b75243c",
   "metadata": {},
   "outputs": [],
   "source": [
    "from sklearn.feature_extraction.text import CountVectorizer\n",
    "vectorizer = CountVectorizer()\n",
    "df = pd.DataFrame(vectorizer.fit_transform(df['label']).toarray(), columns=vectorizer.get_feature_names())\n",
    "df['text'] = df_raw['text']"
   ]
  },
  {
   "cell_type": "code",
   "execution_count": null,
   "id": "409c9c7c",
   "metadata": {},
   "outputs": [],
   "source": [
    "df"
   ]
  }
 ],
 "metadata": {
  "kernelspec": {
   "display_name": "Python 3 (ipykernel)",
   "language": "python",
   "name": "python3"
  },
  "language_info": {
   "codemirror_mode": {
    "name": "ipython",
    "version": 3
   },
   "file_extension": ".py",
   "mimetype": "text/x-python",
   "name": "python",
   "nbconvert_exporter": "python",
   "pygments_lexer": "ipython3",
   "version": "3.8.12"
  },
  "latex_envs": {
   "LaTeX_envs_menu_present": true,
   "autoclose": false,
   "autocomplete": true,
   "bibliofile": "biblio.bib",
   "cite_by": "apalike",
   "current_citInitial": 1,
   "eqLabelWithNumbers": true,
   "eqNumInitial": 1,
   "hotkeys": {
    "equation": "Ctrl-E",
    "itemize": "Ctrl-I"
   },
   "labels_anchors": false,
   "latex_user_defs": false,
   "report_style_numbering": false,
   "user_envs_cfg": false
  }
 },
 "nbformat": 4,
 "nbformat_minor": 5
}
