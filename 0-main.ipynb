{
 "cells": [
  {
   "cell_type": "code",
   "execution_count": 1,
   "id": "8edd5e50",
   "metadata": {
    "scrolled": false
   },
   "outputs": [],
   "source": [
    "import pickle\n",
    "import pandas as pd\n",
    "import numpy as np\n",
    "import utilities\n",
    "import preprocess\n",
    "import parameters\n",
    "\n",
    "from sklearn.metrics import accuracy_score, hamming_loss\n",
    "from sklearn.model_selection import train_test_split\n",
    "from sklearn.svm import LinearSVC\n",
    "from sentence_transformers import util, SentenceTransformer\n",
    "from sklearn.metrics import hamming_loss, accuracy_score, f1_score, classification_report\n",
    "from sklearn.utils.class_weight import compute_class_weight\n",
    "from sklearn.multiclass import OneVsRestClassifier\n",
    "from sklearn.linear_model import LogisticRegression"
   ]
  },
  {
   "cell_type": "code",
   "execution_count": 2,
   "id": "095e9601",
   "metadata": {},
   "outputs": [],
   "source": [
    "import warnings\n",
    "warnings.filterwarnings(\"ignore\")"
   ]
  },
  {
   "cell_type": "markdown",
   "id": "decimal-packing",
   "metadata": {},
   "source": [
    "## parameters"
   ]
  },
  {
   "cell_type": "code",
   "execution_count": 3,
   "id": "f677899c",
   "metadata": {},
   "outputs": [],
   "source": [
    "# importing algorithm parameters\n",
    "sim_type = parameters.sim_type\n",
    "random_state = parameters.random_state\n",
    "test_size = parameters.test_size\n",
    "\n",
    "# doe\n",
    "balance_ratio = parameters.balance_ratio\n",
    "sim_calculation_type = parameters.sim_calculation_type\n",
    "\n",
    "success_metric = parameters.success_metric\n",
    "embedding_method = parameters.embedding_method\n",
    "data_paths = parameters.data_paths\n",
    "X_num_paths = parameters.X_num_paths\n",
    "unlabeled_ratios = parameters.unlabeled_ratios\n",
    "\n",
    "np.random.seed(random_state)"
   ]
  },
  {
   "cell_type": "code",
   "execution_count": 4,
   "id": "hundred-reading",
   "metadata": {},
   "outputs": [],
   "source": [
    "# classifier_object = LinearSVC(class_weight='balanced')\n",
    "classifier_object = LogisticRegression(class_weight='balanced')"
   ]
  },
  {
   "cell_type": "code",
   "execution_count": 5,
   "id": "9d2e44ec",
   "metadata": {},
   "outputs": [],
   "source": [
    "def split_data(X, y):\n",
    "    \n",
    "    X_train, X_test, y_train, y_test = train_test_split(X, y, test_size=test_size, random_state=random_state)\n",
    "    X_labeled, X_unlabeled, y_labeled, y_unlabeled = train_test_split(X_train, y_train, test_size=unlabeled_ratios[data], \n",
    "                                                                  random_state=random_state)\n",
    "    \n",
    "    return X_labeled, y_labeled, X_unlabeled, y_unlabeled, X_test, y_test"
   ]
  },
  {
   "cell_type": "code",
   "execution_count": 6,
   "id": "a51e834f",
   "metadata": {},
   "outputs": [],
   "source": [
    "def split_data_KFold(X, y, cv):\n",
    "    \n",
    "    from sklearn.model_selection import KFold, StratifiedKFold\n",
    "    \n",
    "    sorted_y = y.sum().sort_values(ascending=False)\n",
    "    for col, _ in zip(sorted_y.index, sorted_y):\n",
    "        y.loc[y[y[col]==1].index, 'dominant_label'] = col\n",
    "        \n",
    "    stratify_flag = y['dominant_label']\n",
    "    y.drop(['dominant_label'], axis=1, inplace=True)\n",
    "    \n",
    "    kf = StratifiedKFold(n_splits=cv, random_state=random_state, shuffle=True)\n",
    "    \n",
    "    splits = []\n",
    "    for train_idx, test_idx in kf.split(X.index, stratify_flag):\n",
    "        \n",
    "        labeled_idx, unlabeled_idx = train_test_split(train_idx, test_size=unlabeled_ratios[data], random_state=random_state)\n",
    "        \n",
    "        splits.append((labeled_idx, unlabeled_idx, test_idx))\n",
    "        \n",
    "    return splits    "
   ]
  },
  {
   "cell_type": "code",
   "execution_count": 7,
   "id": "8d2d996f",
   "metadata": {},
   "outputs": [],
   "source": [
    "def read_data(data):\n",
    "    # reading data\n",
    "    df = utilities.read_data(data_paths[data])\n",
    "    # X = df['text'].apply(preprocess.preprocess_text)\n",
    "    y = df.drop(['text'], axis=1)\n",
    "    # ------------------------------------------------------------------------------------------------------------------------------\n",
    "    # reading from a pickle instead of applying vectorization\n",
    "    # X_num = utilities.vectorize_data(X, embedding_method)\n",
    "    # X_num = pd.Series([np.squeeze(i) for i in X_num])\n",
    "    X = pd.read_pickle(X_num_paths[data])\n",
    "    \n",
    "    return X, y"
   ]
  },
  {
   "cell_type": "code",
   "execution_count": 8,
   "id": "8a0b3fb1",
   "metadata": {},
   "outputs": [],
   "source": [
    "def reduce_dimension(X, n_comp=200):\n",
    "    \n",
    "    X_ = np.vstack(X.values)\n",
    "\n",
    "    from sklearn.decomposition import TruncatedSVD\n",
    "    svd = TruncatedSVD(n_components=n_comp)\n",
    "    X_reduced = svd.fit_transform(X_)\n",
    "    \n",
    "    return pd.Series([np.squeeze(i) for i in X_reduced], index=X.index)"
   ]
  },
  {
   "cell_type": "markdown",
   "id": "framed-george",
   "metadata": {},
   "source": [
    "# main"
   ]
  },
  {
   "cell_type": "code",
   "execution_count": 9,
   "id": "british-gross",
   "metadata": {},
   "outputs": [],
   "source": [
    "def main(data, balance_ratio, sim_calculation_type, single_metric, oversampler_version, batch_size, n_iter=None):\n",
    "    \n",
    "    print('*'*100)\n",
    "    print('\\x1b[1;31m'+data+'\\x1b[0m')\n",
    "    \n",
    "    X, y = read_data(data)\n",
    "    random_state=6\n",
    "    X_train, X_test, y_train, y_test = train_test_split(X, y, test_size=test_size, random_state=random_state)\n",
    "    X_labeled, X_unlabeled, y_labeled, y_unlabeled = train_test_split(X_train, y_train, test_size=unlabeled_ratios[data], \n",
    "                                                                  random_state=random_state)\n",
    "    print(y_labeled.sum())\n",
    "    shape_before = X_labeled.shape[0]\n",
    "    print(X_labeled.shape, X_unlabeled.shape, X_test.shape)\n",
    "    s_metric = utilities.multilabel_classifier(np.vstack(X_labeled), y_labeled, np.vstack(X_test), y_test, \n",
    "                                               success_metric=success_metric,\n",
    "                                               classifier_object = classifier_object, \n",
    "                                               print_results=True)\n",
    "    # -----------------------------------------------------------------------------------------------------------------------------\n",
    "    # calculation number of instances to balance dataset\n",
    "    num_of_new_instances = utilities.calculate_balancing_num_instance_multiclass(y_labeled, balance_ratio, \n",
    "                                                                                 calculation_type='metric_based', \n",
    "                                                                                 s_metrics=s_metric)\n",
    "    # -----------------------------------------------------------------------------------------------------------------------------\n",
    "    # oversampling dataset using unlabeled data with the given ratios\n",
    "    # print('num_of_new_instances : ',num_of_new_instances)\n",
    "    if oversampler_version == 'v1':\n",
    "        validation, X_labeled, y_labeled, X_unlabeled, y_unlabeled = utilities.oversample_dataset_v1(\n",
    "                                                                        num_of_new_instances, X_labeled, y_labeled, \n",
    "                                                                        X_unlabeled, y_unlabeled, X_test, y_test, \n",
    "                                                                        sim_calculation_type=sim_calculation_type,\n",
    "                                                                        batch_size=batch_size)\n",
    "    elif oversampler_version == 'v2':\n",
    "        validation, X_labeled, y_labeled, X_unlabeled, y_unlabeled = utilities.oversample_dataset_v2(\n",
    "                                                                        num_of_new_instances, X_labeled, y_labeled, \n",
    "                                                                        X_unlabeled, y_unlabeled, X_test, y_test, \n",
    "                                                                        sim_calculation_type=sim_calculation_type,\n",
    "                                                                        batch_size=batch_size)\n",
    "    elif oversampler_version == 'v3':\n",
    "        validation, X_labeled, y_labeled, X_unlabeled, y_unlabeled = utilities.oversample_dataset_v3(\n",
    "                                                                        num_of_new_instances, X_labeled, y_labeled, \n",
    "                                                                        X_unlabeled, y_unlabeled, X_test, y_test, \n",
    "                                                                        sim_calculation_type=sim_calculation_type,\n",
    "                                                                        batch_size=batch_size, \n",
    "                                                                        n_iter=n_iter, \n",
    "                                                                        single_score=single_metric)\n",
    "    elif oversampler_version == 'v4':\n",
    "        validation, X_labeled, y_labeled, X_unlabeled, y_unlabeled, metric_history = utilities.oversample_dataset_v4(\n",
    "                                                                                         num_of_new_instances, \n",
    "                                                                                         X_labeled, y_labeled, \n",
    "                                                                                         X_unlabeled, y_unlabeled, \n",
    "                                                                                         X_test, y_test, \n",
    "                                                                                         sim_calculation_type=sim_calculation_type, \n",
    "                                                                                         batch_size=batch_size, \n",
    "                                                                                         n_iter=n_iter,\n",
    "                                                                                         balance_ratio=balance_ratio,\n",
    "                                                                                         success_metric=success_metric,\n",
    "                                                                                         single_score=single_metric)\n",
    "    # -----------------------------------------------------------------------------------------------------------------------------\n",
    "    # check if the result gets better\n",
    "    shape_after = X_labeled.shape[0]\n",
    "    s_metric = utilities.multilabel_classifier(np.vstack(X_labeled), y_labeled, np.vstack(X_test), y_test, \n",
    "                                               success_metric=success_metric,\n",
    "                                               classifier_object = classifier_object, \n",
    "                                               print_results=True)\n",
    "    # comparing the found labels and ground truth\n",
    "    y_true, y_pred = [], []\n",
    "    for _, _, _, y_t, y_p in validation:\n",
    "        y_true.append(list(y_t.values))\n",
    "        y_pred.append(list(y_p.values()))\n",
    "    \n",
    "    acc = 1-hamming_loss(y_true, y_pred)\n",
    "    emr = accuracy_score(y_true, y_pred)  \n",
    "    print('-'*30)\n",
    "    print(f'Shape: before {shape_before}, after {shape_after} : {shape_after-shape_before} instances added...')\n",
    "    print(f'Exact match ratio : {emr:.2f} ')\n",
    "    print(f'Accuracy          : {acc:.2f} ')\n",
    "    print(classification_report(y_true, y_pred))\n",
    "    print('-'*30)\n",
    "    \n",
    "    if oversampler_version == 'v4':\n",
    "        return metric_history"
   ]
  },
  {
   "cell_type": "code",
   "execution_count": 10,
   "id": "4078cc38",
   "metadata": {},
   "outputs": [],
   "source": [
    "def run_CV(data, balance_ratio, sim_calculation_type, single_metric, oversampler_version, batch_size, n_iter=None):\n",
    "    \n",
    "    CV_results = []\n",
    "    \n",
    "    X, y = read_data(data)\n",
    "    X = reduce_dimension(X)        \n",
    "\n",
    "    splits = split_data_KFold(X, y, 5)\n",
    "\n",
    "    for labeled_idx, unlabeled_idx, test_idx in splits:\n",
    "\n",
    "        X_labeled = X.loc[labeled_idx]\n",
    "        y_labeled = y.loc[labeled_idx]\n",
    "        X_unlabeled = X.loc[unlabeled_idx]\n",
    "        y_unlabeled = y.loc[unlabeled_idx]\n",
    "        X_test = X.loc[test_idx]\n",
    "        y_test = y.loc[test_idx]\n",
    "    \n",
    "    \n",
    "        shape_before = X_labeled.shape[0]\n",
    "\n",
    "        s_metric_before, initial_scores = utilities.multilabel_classifier(np.vstack(X_labeled), y_labeled, np.vstack(X_test), y_test, \n",
    "                                                   success_metric=success_metric,\n",
    "                                                   classifier_object = classifier_object, \n",
    "                                                   print_results=False, return_scores=True)\n",
    "        # -----------------------------------------------------------------------------------------------------------------------------\n",
    "        # calculation number of instances to balance dataset\n",
    "        num_of_new_instances = utilities.calculate_balancing_num_instance_multiclass(y_labeled, balance_ratio, \n",
    "                                                                                     calculation_type='metric_based', \n",
    "                                                                                     s_metrics=s_metric_before)\n",
    "        # -----------------------------------------------------------------------------------------------------------------------------\n",
    "        # oversampling dataset using unlabeled data with the given ratios\n",
    "        # print('num_of_new_instances : ',num_of_new_instances)\n",
    "        if oversampler_version == 'v1':\n",
    "            validation, X_labeled, y_labeled, X_unlabeled, y_unlabeled = utilities.oversample_dataset_v1(\n",
    "                                                                            num_of_new_instances, X_labeled, y_labeled, \n",
    "                                                                            X_unlabeled, y_unlabeled, X_test, y_test, \n",
    "                                                                            sim_calculation_type=sim_calculation_type,\n",
    "                                                                            batch_size=batch_size)\n",
    "        elif oversampler_version == 'v2':\n",
    "            validation, X_labeled, y_labeled, X_unlabeled, y_unlabeled = utilities.oversample_dataset_v2(\n",
    "                                                                            num_of_new_instances, X_labeled, y_labeled, \n",
    "                                                                            X_unlabeled, y_unlabeled, X_test, y_test, \n",
    "                                                                            sim_calculation_type=sim_calculation_type,\n",
    "                                                                            batch_size=batch_size)\n",
    "        elif oversampler_version == 'v3':\n",
    "            validation, X_labeled, y_labeled, X_unlabeled, y_unlabeled = utilities.oversample_dataset_v3(\n",
    "                                                                            num_of_new_instances, X_labeled, y_labeled, \n",
    "                                                                            X_unlabeled, y_unlabeled, X_test, y_test, \n",
    "                                                                            sim_calculation_type=sim_calculation_type,\n",
    "                                                                            batch_size=batch_size, \n",
    "                                                                            n_iter=n_iter, \n",
    "                                                                            single_score=single_metric)\n",
    "        elif oversampler_version == 'v4':\n",
    "            validation, X_labeled, y_labeled, X_unlabeled, y_unlabeled, metric_history = utilities.oversample_dataset_v4(\n",
    "                                                                                             num_of_new_instances, \n",
    "                                                                                             X_labeled, y_labeled, \n",
    "                                                                                             X_unlabeled, y_unlabeled, \n",
    "                                                                                             X_test, y_test, \n",
    "                                                                                             sim_calculation_type=sim_calculation_type, \n",
    "                                                                                             batch_size=batch_size, \n",
    "                                                                                             n_iter=n_iter,\n",
    "                                                                                             balance_ratio=balance_ratio,\n",
    "                                                                                             success_metric=success_metric,\n",
    "                                                                                             single_score=single_metric)\n",
    "        # -----------------------------------------------------------------------------------------------------------------------------\n",
    "        # check if the result gets better\n",
    "        shape_after = X_labeled.shape[0]\n",
    "        s_metric_after, final_scores = utilities.multilabel_classifier(np.vstack(X_labeled), y_labeled, np.vstack(X_test), y_test, \n",
    "                                                   success_metric=success_metric,\n",
    "                                                   classifier_object = classifier_object, \n",
    "                                                   print_results=False, return_scores=True)\n",
    "        # comparing the found labels and ground truth\n",
    "        y_true, y_pred = [], []\n",
    "        for _, _, _, y_t, y_p in validation:\n",
    "            y_true.append(list(y_t.values))\n",
    "            y_pred.append(list(y_p.values()))\n",
    "\n",
    "        acc = 1-hamming_loss(y_true, y_pred)\n",
    "        emr = accuracy_score(y_true, y_pred)  \n",
    "        '''\n",
    "        print('-'*30)\n",
    "        print(f'Shape: before {shape_before}, after {shape_after} : {shape_after-shape_before} instances added...')\n",
    "        print(f'Exact match ratio : {emr:.2f} ')\n",
    "        print(f'Accuracy          : {acc:.2f} ')\n",
    "        print(classification_report(y_true, y_pred))\n",
    "        print('-'*30)\n",
    "        '''\n",
    "        \n",
    "        CV_results.append({'shape_before':shape_before,'shape_after':shape_after, 'val_accuracy':acc, 'val_exact_match':emr, \n",
    "                          's_metric_before':s_metric_before, 's_metric_after':s_metric_after, 'initial_scores':initial_scores,\n",
    "                          'final_scores':final_scores, 'validation':validation, 'clf_report':classification_report(y_true, y_pred)})\n",
    "        \n",
    "    return CV_results"
   ]
  },
  {
   "cell_type": "code",
   "execution_count": 11,
   "id": "07e5f54a",
   "metadata": {},
   "outputs": [],
   "source": [
    "def main_CV(data, balance_ratio, sim_calculation_type, single_metric, oversampler_version, batch_size, n_iter):\n",
    "    \n",
    "    CV_results = run_CV(data, balance_ratio, sim_calculation_type, single_metric, oversampler_version, batch_size, n_iter)\n",
    "    \n",
    "    return CV_results"
   ]
  },
  {
   "cell_type": "code",
   "execution_count": 12,
   "id": "46d15f68",
   "metadata": {},
   "outputs": [],
   "source": [
    "data = 'opp115'\n",
    "balance_ratio = 0.5\n",
    "sim_calculation_type = 'average'\n",
    "single_metric = 'f1_score'\n",
    "batch_size = 1\n",
    "n_iter = 200"
   ]
  },
  {
   "cell_type": "markdown",
   "id": "0ea954a2",
   "metadata": {
    "scrolled": false
   },
   "source": [
    "metric_history_v1 = main(data, balance_ratio, sim_calculation_type, single_metric, 'v1', batch_size, n_iter)"
   ]
  },
  {
   "cell_type": "markdown",
   "id": "3122c7f4",
   "metadata": {
    "scrolled": false
   },
   "source": [
    "metric_history_v2 = main(data, balance_ratio, sim_calculation_type, single_metric, 'v2', batch_size, n_iter)"
   ]
  },
  {
   "cell_type": "markdown",
   "id": "a866dc72",
   "metadata": {},
   "source": [
    "metric_history_v3 = main(data, balance_ratio, sim_calculation_type, single_metric, 'v3', batch_size, n_iter)"
   ]
  },
  {
   "cell_type": "code",
   "execution_count": 13,
   "id": "6990f6f4",
   "metadata": {
    "scrolled": true
   },
   "outputs": [
    {
     "name": "stdout",
     "output_type": "stream",
     "text": [
      "Shapes --------------\n",
      "(169,) (2351,)\n",
      "Shapes --------------\n",
      "(188,) (2172,)\n",
      "Shapes --------------\n",
      "(146,) (2241,)\n",
      "Shapes --------------\n",
      "(151,) (2208,)\n",
      "Shapes --------------\n",
      "(156,) (2281,)\n"
     ]
    }
   ],
   "source": [
    "CV_res = main_CV(data, balance_ratio, sim_calculation_type, single_metric, 'v4', batch_size, 500)"
   ]
  },
  {
   "cell_type": "code",
   "execution_count": 14,
   "id": "416f53ac",
   "metadata": {},
   "outputs": [
    {
     "name": "stdout",
     "output_type": "stream",
     "text": [
      "0.5863809991931965\n",
      "0.5286224103285927\n",
      "135 169\n",
      "-----\n",
      "0.596741038512938\n",
      "0.5325931521573523\n",
      "135 188\n",
      "-----\n",
      "0.5758388097620388\n",
      "0.5728683542374746\n",
      "135 146\n",
      "-----\n",
      "0.5900775576598388\n",
      "0.5507608393741729\n",
      "135 151\n",
      "-----\n",
      "0.6111166690356505\n",
      "0.5854400754170543\n",
      "136 156\n",
      "-----\n"
     ]
    }
   ],
   "source": [
    "for i in CV_res:\n",
    "    print(i['initial_scores']['f1_score']) \n",
    "    print(i['final_scores']['f1_score'])\n",
    "    print(i['shape_before'], i['shape_after'])\n",
    "    print('-----')"
   ]
  },
  {
   "cell_type": "code",
   "execution_count": 15,
   "id": "5ef5bfbb",
   "metadata": {},
   "outputs": [
    {
     "ename": "SyntaxError",
     "evalue": "illegal target for annotation (1886476715.py, line 1)",
     "output_type": "error",
     "traceback": [
      "\u001b[1;36m  Input \u001b[1;32mIn [15]\u001b[1;36m\u001b[0m\n\u001b[1;33m    'shape_before':shape_before,\u001b[0m\n\u001b[1;37m    ^\u001b[0m\n\u001b[1;31mSyntaxError\u001b[0m\u001b[1;31m:\u001b[0m illegal target for annotation\n"
     ]
    }
   ],
   "source": [
    "'shape_before':shape_before,\n",
    "'shape_after':shape_after, \n",
    "'val_accuracy':acc,\n",
    "'val_exact_match':emr, \n",
    "'s_metric_before':s_metric_before, \n",
    "'s_metric_after':s_metric_after, \n",
    "'initial_scores':initial_scores,\n",
    "'final_scores':final_scores, \n",
    "'validation':validation, \n",
    "'clf_report':classification_report"
   ]
  },
  {
   "cell_type": "code",
   "execution_count": null,
   "id": "27b766bd",
   "metadata": {},
   "outputs": [],
   "source": [
    "CV_res"
   ]
  },
  {
   "cell_type": "code",
   "execution_count": null,
   "id": "348bba67",
   "metadata": {},
   "outputs": [],
   "source": [
    "def arrange_results(res):\n",
    "    "
   ]
  },
  {
   "cell_type": "markdown",
   "id": "ea4b43cd",
   "metadata": {},
   "source": [
    "Shape: before 135, after 175 : 40 instances added..."
   ]
  },
  {
   "cell_type": "markdown",
   "id": "9a436c54",
   "metadata": {},
   "source": [
    "### dimensionality reduction"
   ]
  },
  {
   "cell_type": "code",
   "execution_count": null,
   "id": "f819e43b",
   "metadata": {},
   "outputs": [],
   "source": [
    "def reduce_dimension(X, y, method):\n",
    "    X_ = np.vstack(X.values)\n",
    "    if method == 'pca':\n",
    "        from sklearn.decomposition import PCA\n",
    "        pca = PCA(n_components=0.99)\n",
    "        X_reduced = pca.fit_transform(X_)\n",
    "    elif method == 'svd':\n",
    "        from sklearn.decomposition import TruncatedSVD\n",
    "        svd = TruncatedSVD(n_components=100)\n",
    "        X_reduced = svd.fit_transform(X_)\n",
    "    elif method == 'kpca':\n",
    "        from sklearn.decomposition import KernelPCA\n",
    "        kpca = KernelPCA(n_components=100, kernel='rbf', gamma=15, random_state=42)\n",
    "        X_reduced = kpca.fit_transform(X_)\n",
    "    elif method == 'tsne':\n",
    "        from sklearn.manifold import TSNE\n",
    "        tsne = TSNE(n_components=100, random_state=1)\n",
    "        X_reduced = tsne.fit_transform(X_)\n",
    "    elif method == 'isomap':\n",
    "        from sklearn.manifold import Isomap\n",
    "        isomap = Isomap(n_neighbors=5, n_components=100, eigen_solver='auto')\n",
    "        X_reduced = isomap.fit_transform(X_)\n",
    "    elif method == 'mds':\n",
    "        from sklearn.manifold import MDS\n",
    "        mds = MDS(n_components=100, metric=True, random_state=1)\n",
    "        X_reduced = mds.fit_transform(X_)\n",
    "    elif method == 'kbest':\n",
    "        from sklearn.feature_selection import SelectKBest, f_classif\n",
    "        kbest = SelectKBest(f_classif, k=100)\n",
    "        X_reduced = kbest.fit_transform(X_, y)\n",
    "    elif method == 'max-pooling':\n",
    "        from skimage.measure import block_reduce\n",
    "        return X.apply(lambda x: block_reduce(x, (4,), np.max))\n",
    "    \n",
    "    return pd.Series([np.squeeze(i) for i in X_reduced], index=X.index)"
   ]
  },
  {
   "cell_type": "code",
   "execution_count": null,
   "id": "621fb58c",
   "metadata": {},
   "outputs": [],
   "source": [
    "def reduce_dimension(X, n_comp):\n",
    "    X_ = np.vstack(X.values)\n",
    "\n",
    "    from sklearn.decomposition import TruncatedSVD\n",
    "    svd = TruncatedSVD(n_components=n_comp)\n",
    "    X_reduced = svd.fit_transform(X_)\n",
    "    \n",
    "    return pd.Series([np.squeeze(i) for i in X_reduced], index=X.index)"
   ]
  },
  {
   "cell_type": "code",
   "execution_count": null,
   "id": "e85878a6",
   "metadata": {
    "scrolled": true
   },
   "outputs": [],
   "source": [
    "def main(data, balance_ratio, sim_calculation_type, single_metric, oversampler_version, batch_size, n_iter=None):\n",
    "    \n",
    "    random_state = 2\n",
    "    \n",
    "    for n_comp in [10, 20, 30, 50, 100, 200, 300, 500]:\n",
    "        \n",
    "        print('*'*100)\n",
    "        print('\\x1b[1;31m'+str(n_comp)+'\\x1b[0m')\n",
    "        X, y = read_data(data)\n",
    "        try:\n",
    "            X = reduce_dimension(X, n_comp)\n",
    "        except Exception as e:\n",
    "            print('error with ', n_comp, e)\n",
    "            continue\n",
    "    \n",
    "        X_train, X_test, y_train, y_test = train_test_split(X, y, test_size=test_size, random_state=random_state)\n",
    "        X_labeled, X_unlabeled, y_labeled, y_unlabeled = train_test_split(X_train, y_train, test_size=unlabeled_ratios[data], \n",
    "                                                                      random_state=random_state)\n",
    "\n",
    "        shape_before = X_labeled.shape[0]\n",
    "        print(X_labeled.shape, X_unlabeled.shape, X_test.shape)\n",
    "        s_metric = utilities.multilabel_classifier(np.vstack(X_labeled), y_labeled, np.vstack(X_test), y_test, \n",
    "                                                   success_metric=success_metric,\n",
    "                                                   classifier_object = classifier_object, \n",
    "                                                   print_results=True)\n",
    "        # -----------------------------------------------------------------------------------------------------------------------------\n",
    "        # calculation number of instances to balance dataset\n",
    "        num_of_new_instances = utilities.calculate_balancing_num_instance_multiclass(y_labeled, balance_ratio, \n",
    "                                                                                     calculation_type='metric_based', \n",
    "                                                                                     s_metrics=s_metric)\n",
    "        # -----------------------------------------------------------------------------------------------------------------------------\n",
    "        # oversampling dataset using unlabeled data with the given ratios\n",
    "        # print('num_of_new_instances : ',num_of_new_instances)\n",
    "        if oversampler_version == 'v1':\n",
    "            validation, X_labeled, y_labeled, X_unlabeled, y_unlabeled = utilities.oversample_dataset_v1(\n",
    "                                                                            num_of_new_instances, X_labeled, y_labeled, \n",
    "                                                                            X_unlabeled, y_unlabeled, X_test, y_test, \n",
    "                                                                            sim_calculation_type=sim_calculation_type,\n",
    "                                                                            batch_size=batch_size)\n",
    "        elif oversampler_version == 'v2':\n",
    "            validation, X_labeled, y_labeled, X_unlabeled, y_unlabeled = utilities.oversample_dataset_v2(\n",
    "                                                                            num_of_new_instances, X_labeled, y_labeled, \n",
    "                                                                            X_unlabeled, y_unlabeled, X_test, y_test, \n",
    "                                                                            sim_calculation_type=sim_calculation_type,\n",
    "                                                                            batch_size=batch_size)\n",
    "        elif oversampler_version == 'v3':\n",
    "            validation, X_labeled, y_labeled, X_unlabeled, y_unlabeled = utilities.oversample_dataset_v3(\n",
    "                                                                            num_of_new_instances, X_labeled, y_labeled, \n",
    "                                                                            X_unlabeled, y_unlabeled, X_test, y_test, \n",
    "                                                                            sim_calculation_type=sim_calculation_type,\n",
    "                                                                            batch_size=batch_size, \n",
    "                                                                            n_iter=n_iter, \n",
    "                                                                            single_score=single_metric)\n",
    "        elif oversampler_version == 'v4':\n",
    "            validation, X_labeled, y_labeled, X_unlabeled, y_unlabeled, metric_history = utilities.oversample_dataset_v4(\n",
    "                                                                                             num_of_new_instances, \n",
    "                                                                                             X_labeled, y_labeled, \n",
    "                                                                                             X_unlabeled, y_unlabeled, \n",
    "                                                                                             X_test, y_test, \n",
    "                                                                                             sim_calculation_type=sim_calculation_type, \n",
    "                                                                                             batch_size=batch_size, \n",
    "                                                                                             n_iter=n_iter,\n",
    "                                                                                             balance_ratio=balance_ratio,\n",
    "                                                                                             success_metric=success_metric,\n",
    "                                                                                             single_score=single_metric)\n",
    "        # -----------------------------------------------------------------------------------------------------------------------------\n",
    "        # check if the result gets better\n",
    "        shape_after = X_labeled.shape[0]\n",
    "        s_metric = utilities.multilabel_classifier(np.vstack(X_labeled), y_labeled, np.vstack(X_test), y_test, \n",
    "                                                   success_metric=success_metric,\n",
    "                                                   classifier_object = classifier_object, \n",
    "                                                   print_results=True)\n",
    "        # comparing the found labels and ground truth\n",
    "        y_true, y_pred = [], []\n",
    "        for _, _, _, y_t, y_p in validation:\n",
    "            y_true.append(list(y_t.values))\n",
    "            y_pred.append(list(y_p.values()))\n",
    "\n",
    "        acc = 1-hamming_loss(y_true, y_pred)\n",
    "        emr = accuracy_score(y_true, y_pred)  \n",
    "        print('-'*30)\n",
    "        print(f'Shape: before {shape_before}, after {shape_after} : {shape_after-shape_before} instances added...')\n",
    "        print(f'Exact match ratio : {emr:.2f} ')\n",
    "        print(f'Accuracy          : {acc:.2f} ')\n",
    "        print(classification_report(y_true, y_pred))\n",
    "        print('-'*30)\n",
    "        \n",
    "        print('*'*300)\n",
    "\n",
    "    if oversampler_version == 'v4':\n",
    "        return metric_history"
   ]
  },
  {
   "cell_type": "code",
   "execution_count": null,
   "id": "5d011c02",
   "metadata": {},
   "outputs": [],
   "source": [
    "dim_red_methods = ['svd', 'isomap'] # ['pca', 'svd' ,'kpca', 'tsne', 'isomap', 'mds', 'kbest', 'max-pooling']"
   ]
  },
  {
   "cell_type": "markdown",
   "id": "8484d2dc",
   "metadata": {},
   "source": [
    "svd"
   ]
  },
  {
   "cell_type": "code",
   "execution_count": null,
   "id": "9e629439",
   "metadata": {
    "scrolled": false
   },
   "outputs": [],
   "source": [
    "metric_history_v4 = main(data, balance_ratio, sim_calculation_type, single_metric, 'v4', batch_size, 200)"
   ]
  },
  {
   "cell_type": "code",
   "execution_count": null,
   "id": "079d7014",
   "metadata": {},
   "outputs": [],
   "source": [
    "stop"
   ]
  },
  {
   "cell_type": "code",
   "execution_count": null,
   "id": "58ba1042",
   "metadata": {},
   "outputs": [],
   "source": [
    "data = 'opp115'\n",
    "balance_ratio = 0.5\n",
    "sim_calculation_type = 'average'\n",
    "single_metric = 'f1_score'\n",
    "oversampler_version = 'v4'\n",
    "batch_size = 1\n",
    "n_iter = 500"
   ]
  },
  {
   "cell_type": "code",
   "execution_count": null,
   "id": "e3ea2c9a",
   "metadata": {
    "scrolled": false
   },
   "outputs": [],
   "source": [
    "main(data, balance_ratio, sim_calculation_type, single_metric, oversampler_version, batch_size, n_iter)"
   ]
  },
  {
   "cell_type": "code",
   "execution_count": null,
   "id": "110701a8",
   "metadata": {
    "scrolled": false
   },
   "outputs": [],
   "source": [
    "main(data, balance_ratio, sim_calculation_type, single_metric, oversampler_version, batch_size, n_iter)"
   ]
  },
  {
   "cell_type": "code",
   "execution_count": null,
   "id": "9325e1a8",
   "metadata": {},
   "outputs": [],
   "source": [
    "stop"
   ]
  },
  {
   "cell_type": "code",
   "execution_count": null,
   "id": "97757a32",
   "metadata": {},
   "outputs": [],
   "source": [
    "main('opp115', balance_ratio, sim_calculation_type, single_metric, 'v1', batch_size)"
   ]
  },
  {
   "cell_type": "code",
   "execution_count": null,
   "id": "371045bc",
   "metadata": {},
   "outputs": [],
   "source": [
    "main('opp115', balance_ratio, sim_calculation_type,  single_metric, 'v2', batch_size)"
   ]
  },
  {
   "cell_type": "code",
   "execution_count": null,
   "id": "6d22560e",
   "metadata": {
    "scrolled": false
   },
   "outputs": [],
   "source": [
    "main('opp115', balance_ratio, sim_calculation_type,  'coverage', 'v3', batch_size, n_iter)"
   ]
  },
  {
   "cell_type": "code",
   "execution_count": null,
   "id": "453970a4",
   "metadata": {
    "scrolled": false
   },
   "outputs": [],
   "source": [
    "main('opp115', balance_ratio, sim_calculation_type, 'coverage', 'v4', batch_size, n_iter)"
   ]
  },
  {
   "cell_type": "code",
   "execution_count": null,
   "id": "c27227a8",
   "metadata": {
    "scrolled": true
   },
   "outputs": [],
   "source": [
    "ss"
   ]
  },
  {
   "cell_type": "code",
   "execution_count": null,
   "id": "a7d4d488",
   "metadata": {},
   "outputs": [],
   "source": [
    "data = 'opp115'\n",
    "balance_ratio = 0.5\n",
    "sim_calculation_type = 'average'\n",
    "single_metric = 'coverage'\n",
    "oversampler_version = 'v1'\n",
    "batch_size = 1\n",
    "n_iter = 500"
   ]
  },
  {
   "cell_type": "code",
   "execution_count": null,
   "id": "b17bd4a3",
   "metadata": {},
   "outputs": [],
   "source": [
    "parameters = {\n",
    "'data' : ['opp115', 'ohsumed', 'reuters'],\n",
    "'balance_ratio' : [0.2, 0.5],\n",
    "'sim_calculation_type' : ['average', 'safe_interval'],\n",
    "'single_metric' : ['accuracy', 'f1_score', 'coverage', 'label_ranking', 'roc_auc_score', 'log_loss', 'average_precision',\n",
    "                   'brier_loss', 'hamming_loss', 'precision', 'recall', 'zero_one_loss', 'label_ranking_average_precision'],\n",
    "'oversampler_version' : ['v1', 'v2', 'v3', 'v4'],\n",
    "'batch_size' : [1,3,5],\n",
    "'n_iter' : [100, 1000],\n",
    "}"
   ]
  },
  {
   "cell_type": "code",
   "execution_count": null,
   "id": "f48d4d93",
   "metadata": {},
   "outputs": [],
   "source": [
    "replication_size = 5"
   ]
  },
  {
   "cell_type": "code",
   "execution_count": null,
   "id": "45e2d65e",
   "metadata": {},
   "outputs": [],
   "source": [
    "for data in parameters['data']:\n",
    "    for balance_ratio in parameters['balance_ratio']:\n",
    "        for sim_calculation_type in parameters['sim_calculation_type']:\n",
    "            for single_metric in parameters['single_metric']:\n",
    "                for oversampler_version in parameters['oversampler_version']:\n",
    "                    for batch_size in parameters['batch_size']:\n",
    "                        for n_iter in parameters['n_iter']:\n",
    "                            \n",
    "                            results = []\n",
    "                            param_list = [data, balance_ratio, sim_calculation_type, single_metric, oversampler_version,\n",
    "                                         batch_size, n_iter]\n",
    "                            \n",
    "                            for i in range(replication_size):\n",
    "                                results.append(main(data, balance_ratio, sim_calculation_type, single_metric, \n",
    "                                                    oversampler_version, batch_size, n_iter))\n",
    "                            "
   ]
  },
  {
   "cell_type": "code",
   "execution_count": null,
   "id": "5f2215e3",
   "metadata": {},
   "outputs": [],
   "source": [
    "num_of_new_instances = {'a':20, 'b':30, 'c':50}\n",
    "n_iter = 200"
   ]
  },
  {
   "cell_type": "code",
   "execution_count": null,
   "id": "de984fcc",
   "metadata": {},
   "outputs": [],
   "source": [
    "n_iter_dist = {k:int(n_iter*v/sum(num_of_new_instances.values())) for k,v in num_of_new_instances.items()}"
   ]
  },
  {
   "cell_type": "code",
   "execution_count": null,
   "id": "5eafbb8d",
   "metadata": {},
   "outputs": [],
   "source": [
    "n_iter_dist"
   ]
  },
  {
   "cell_type": "code",
   "execution_count": null,
   "id": "03052345",
   "metadata": {
    "scrolled": false
   },
   "outputs": [],
   "source": [
    "main('opp115', embedding_method, classifier_object, sim_type, sim_calculation_type, success_metric, 'label-ranking')"
   ]
  },
  {
   "cell_type": "code",
   "execution_count": null,
   "id": "88df929d",
   "metadata": {},
   "outputs": [],
   "source": [
    "asdas"
   ]
  },
  {
   "cell_type": "code",
   "execution_count": null,
   "id": "fab2dfb5",
   "metadata": {},
   "outputs": [],
   "source": [
    "# oversampling methods\n",
    "\n",
    "oversample_dataset_v2(num_of_new_instances, X_labeled, y_labeled, X_unlabeled, y_unlabeled, X_test, y_test, sim_calculation_type, batch_size)\n",
    "oversample_dataset_v3(num_of_new_instances, X_labeled, y_labeled, X_unlabeled, y_unlabeled, X_test, y_test, sim_calculation_type, batch_size, n_iter)\n",
    "oversample_dataset_v4(num_of_new_instances, X_labeled, y_labeled, X_unlabeled, y_unlabeled, X_test, y_test, sim_calculation_type, batch_size, n_iter, balance_ratio, success_metric)"
   ]
  },
  {
   "cell_type": "code",
   "execution_count": null,
   "id": "satisfactory-socket",
   "metadata": {
    "scrolled": false
   },
   "outputs": [],
   "source": [
    "for data in data_paths.keys():\n",
    "    main(data, embedding_method, classifier_object, sim_type, sim_calculation_type, success_metric)"
   ]
  },
  {
   "cell_type": "code",
   "execution_count": null,
   "id": "04f970f5",
   "metadata": {},
   "outputs": [],
   "source": [
    "stop"
   ]
  },
  {
   "cell_type": "code",
   "execution_count": null,
   "id": "09141a9d",
   "metadata": {},
   "outputs": [],
   "source": []
  },
  {
   "cell_type": "code",
   "execution_count": null,
   "id": "50d9a2c0",
   "metadata": {},
   "outputs": [],
   "source": []
  },
  {
   "cell_type": "code",
   "execution_count": null,
   "id": "d4b4bd52",
   "metadata": {},
   "outputs": [],
   "source": [
    "import numpy as np"
   ]
  },
  {
   "cell_type": "code",
   "execution_count": null,
   "id": "fallen-klein",
   "metadata": {},
   "outputs": [],
   "source": [
    "df = utilities.read_data(data_paths[data])\n",
    "X = df['text'].apply(preprocess.preprocess_text)\n",
    "y = df.drop(['text'], axis=1)"
   ]
  },
  {
   "cell_type": "code",
   "execution_count": null,
   "id": "removable-niger",
   "metadata": {},
   "outputs": [],
   "source": [
    "y[y[col] == 1].index"
   ]
  },
  {
   "cell_type": "code",
   "execution_count": null,
   "id": "9841b3c7",
   "metadata": {},
   "outputs": [],
   "source": []
  },
  {
   "cell_type": "code",
   "execution_count": null,
   "id": "85b0d050",
   "metadata": {},
   "outputs": [],
   "source": []
  }
 ],
 "metadata": {
  "kernelspec": {
   "display_name": "Python 3 (ipykernel)",
   "language": "python",
   "name": "python3"
  },
  "language_info": {
   "codemirror_mode": {
    "name": "ipython",
    "version": 3
   },
   "file_extension": ".py",
   "mimetype": "text/x-python",
   "name": "python",
   "nbconvert_exporter": "python",
   "pygments_lexer": "ipython3",
   "version": "3.9.12"
  },
  "latex_envs": {
   "LaTeX_envs_menu_present": true,
   "autoclose": false,
   "autocomplete": true,
   "bibliofile": "biblio.bib",
   "cite_by": "apalike",
   "current_citInitial": 1,
   "eqLabelWithNumbers": true,
   "eqNumInitial": 1,
   "hotkeys": {
    "equation": "Ctrl-E",
    "itemize": "Ctrl-I"
   },
   "labels_anchors": false,
   "latex_user_defs": false,
   "report_style_numbering": false,
   "user_envs_cfg": false
  }
 },
 "nbformat": 4,
 "nbformat_minor": 5
}
