{
 "cells": [
  {
   "cell_type": "code",
   "execution_count": 1,
   "id": "8edd5e50",
   "metadata": {
    "scrolled": false
   },
   "outputs": [],
   "source": [
    "import pickle\n",
    "import pandas as pd\n",
    "import numpy as np\n",
    "import utilities\n",
    "import preprocess\n",
    "import parameters\n",
    "\n",
    "from sklearn.metrics import accuracy_score, hamming_loss\n",
    "from sklearn.model_selection import train_test_split\n",
    "from sklearn.svm import LinearSVC\n",
    "from sentence_transformers import util, SentenceTransformer\n",
    "from sklearn.metrics import hamming_loss, accuracy_score, f1_score, classification_report\n",
    "from sklearn.utils.class_weight import compute_class_weight\n",
    "from sklearn.multiclass import OneVsRestClassifier"
   ]
  },
  {
   "cell_type": "code",
   "execution_count": 2,
   "id": "095e9601",
   "metadata": {},
   "outputs": [],
   "source": [
    "import warnings\n",
    "warnings.filterwarnings(\"ignore\")"
   ]
  },
  {
   "cell_type": "markdown",
   "id": "decimal-packing",
   "metadata": {},
   "source": [
    "## parameters"
   ]
  },
  {
   "cell_type": "code",
   "execution_count": 3,
   "id": "f677899c",
   "metadata": {},
   "outputs": [],
   "source": [
    "# importing algorithm parameters\n",
    "balance_ratio = parameters.balance_ratio\n",
    "random_state = parameters.random_state\n",
    "threshold_factor = parameters.threshold_factor\n",
    "test_size = parameters.test_size\n",
    "sim_calculation_type = parameters.sim_calculation_type\n",
    "sim_type = parameters.sim_type\n",
    "success_metric = parameters.success_metric\n",
    "embedding_method = parameters.embedding_method\n",
    "data_paths = parameters.data_paths\n",
    "unlabaled_ratios = parameters.unlabaled_ratios\n",
    "\n",
    "np.random.seed(random_state)"
   ]
  },
  {
   "cell_type": "code",
   "execution_count": 4,
   "id": "hundred-reading",
   "metadata": {},
   "outputs": [],
   "source": [
    "classifier_object = LinearSVC(class_weight='balanced')"
   ]
  },
  {
   "cell_type": "markdown",
   "id": "framed-george",
   "metadata": {},
   "source": [
    "# main"
   ]
  },
  {
   "cell_type": "code",
   "execution_count": 8,
   "id": "british-gross",
   "metadata": {},
   "outputs": [],
   "source": [
    "def main(data, embedding_method, classifier_object, sim_type, sim_calculation_type, success_metric):\n",
    "    print('*'*100)\n",
    "    print('\\x1b[1;31m'+data+'\\x1b[0m')\n",
    "    # reading data\n",
    "    df = utilities.read_data(data_paths[data])\n",
    "    X = df['text'].apply(preprocess.preprocess_text)\n",
    "    y = df.drop(['text'], axis=1)\n",
    "    # ------------------------------------------------------------------------------------------------------------------------------\n",
    "    # reading from a pickle instead of applying vectorization\n",
    "    X_num = utilities.vectorize_data(X, embedding_method)\n",
    "    X_num = pd.Series([np.squeeze(i) for i in X_num])\n",
    "    X_train, X_test, y_train, y_test = train_test_split(X_num, y, test_size=test_size, random_state=random_state)\n",
    "    X_labeled, X_unlabeled, y_labeled, y_unlabeled = train_test_split(X_train, y_train, test_size=unlabaled_ratios[data], \n",
    "                                                                  random_state=random_state)\n",
    "    \n",
    "    print(X_labeled.shape, y_labeled.shape, X_unlabeled.shape, y_unlabeled.shape)\n",
    "    s_metric = utilities.multilabel_classifier(np.vstack(X_labeled), y_labeled, np.vstack(X_test), y_test, \n",
    "                                               classifier_object, success_metric='col_f1-score')\n",
    "    # -----------------------------------------------------------------------------------------------------------------------------\n",
    "    # calculation number of instances to balance dataset\n",
    "    num_of_new_instances = utilities.calculate_balancing_num_instance_multiclass(y_labeled, balance_ratio, \n",
    "                                                                                 calculation_type='metric_based', \n",
    "                                                                                 s_metrics=s_metric)\n",
    "    # -----------------------------------------------------------------------------------------------------------------------------\n",
    "    # oversampling dataset using unlabeled data with the given ratios\n",
    "    print('num_of_new_instances : ',num_of_new_instances)\n",
    "    validation, X_labeled, y_labeled, X_unlabeled, y_unlabeled = utilities.oversample_dataset_v4(\\\n",
    "                                                                 num_of_new_instances, \n",
    "                                                                 X_labeled, y_labeled, \n",
    "                                                                 X_unlabeled, y_unlabeled, \n",
    "                                                                 X_test, y_test, \\\n",
    "                                                                 sim_calculation_type=sim_calculation_type, \n",
    "                                                                 batch_size=5, \n",
    "                                                                 n_iter=20,\n",
    "                                                                 balance_ratio=balance_ratio,\n",
    "                                                                 success_metric=success_metric)\n",
    "    # -----------------------------------------------------------------------------------------------------------------------------\n",
    "    # check if the result gets better\n",
    "    print(X_labeled.shape, X_unlabeled.shape, X_test.shape)\n",
    "    s_metric = utilities.multilabel_classifier(np.vstack(X_labeled), y_labeled, np.vstack(X_test), y_test, \n",
    "                                               classifier_object, success_metric=success_metric)\n",
    "    # comparing the found labels and ground truth\n",
    "    y_true, y_pred = [], []\n",
    "    for _, _, _, y_t, y_p in validation:\n",
    "        y_true.append(list(y_t.values))\n",
    "        y_pred.append(list(y_p.values()))\n",
    "    \n",
    "    acc = 1-hamming_loss(y_true, y_pred)\n",
    "    emr = accuracy_score(y_true, y_pred)  \n",
    "    print('-'*30)\n",
    "    print(f'Exact match ratio : {emr:.2f} ')\n",
    "    print(f'Accuracy          : {acc:.2f} ')\n",
    "    print('-'*30)\n",
    "    \n",
    "    print('*'*100)\n",
    "    print('/'*100)\n",
    "    print('*'*100)"
   ]
  },
  {
   "cell_type": "code",
   "execution_count": 9,
   "id": "453970a4",
   "metadata": {},
   "outputs": [
    {
     "name": "stdout",
     "output_type": "stream",
     "text": [
      "****************************************************************************************************\n",
      "\u001b[1;31mohsumed\u001b[0m\n",
      "(959,) (959, 15) (18229,) (18229, 15)\n",
      "| | | | | | | | | | | | | | | | | | | | | | | | | | | | | | | | | | | | | | | | | | | | | | | | | | \n",
      "\u001b[1mMultilabel Classifier Results\u001b[0m\n",
      "\u001b[1mLinearSVC\u001b[0m\n",
      "------------------------------\n",
      "Hamming Loss\n",
      "Training : 0.05\n",
      "Test     : 0.11\n",
      "Exact Match Ratio\n",
      "Training : 0.47\n",
      "Test     : 0.19\n",
      "Macro F1-Score\n",
      "Training : 0.79\n",
      "Test     : 0.50\n",
      "------------------------------\n",
      "\u001b[1mClassification Report\u001b[0m\n",
      "              precision    recall  f1-score   support\n",
      "\n",
      "         c01       0.41      0.65      0.50       542\n",
      "         c02       0.36      0.57      0.44       250\n",
      "         c05       0.36      0.64      0.46       339\n",
      "         c06       0.47      0.69      0.56       596\n",
      "         c08       0.60      0.73      0.66       559\n",
      "         c10       0.52      0.68      0.59       760\n",
      "         c11       0.55      0.66      0.60       215\n",
      "         c12       0.48      0.72      0.57       479\n",
      "         c13       0.46      0.72      0.57       305\n",
      "         c15       0.18      0.44      0.26       229\n",
      "         c16       0.26      0.43      0.33       210\n",
      "         c17       0.31      0.57      0.40       357\n",
      "         c18       0.55      0.62      0.59       385\n",
      "         c20       0.39      0.67      0.49       600\n",
      "         c21       0.45      0.62      0.53       604\n",
      "\n",
      "   micro avg       0.43      0.65      0.52      6430\n",
      "   macro avg       0.42      0.63      0.50      6430\n",
      "weighted avg       0.45      0.65      0.53      6430\n",
      " samples avg       0.46      0.67      0.52      6430\n",
      "\n",
      "| | | | | | | | | | | | | | | | | | | | | | | | | | | | | | | | | | | | | | | | | | | | | | | | | | | | | | | | | | | | | | | | | | | | | | | | | | | | | | | | | | | | | | | | | | | | | | | | | | | | \n",
      "num_of_new_instances :  {'c01': 369, 'c02': 491, 'c05': 436, 'c06': 310, 'c08': 261, 'c10': 261, 'c11': 355, 'c12': 312, 'c13': 356, 'c15': 637, 'c16': 592, 'c17': 494, 'c18': 343, 'c20': 344, 'c21': 352}\n",
      "class_similarities :  {'c01': 0.3387210540683013, 'c02': 0.36103942107136655, 'c05': 0.34703215798348913, 'c06': 0.3500088448389884, 'c08': 0.3480573183040976, 'c10': 0.33650140700885844, 'c11': 0.36156621558798685, 'c12': 0.36021459419645285, 'c13': 0.33634799628503437, 'c15': 0.3617308397864809, 'c16': 0.34080523294516096, 'c17': 0.31677162163842654, 'c18': 0.37160919448719004, 'c20': 0.3294710865847284, 'c21': 0.28963264033044267}\n",
      "similarity_factors :  {'c01': 1.7182205302419244, 'c02': 1.664265797111073, 'c05': 1.697520937199233, 'c06': 1.6902871519952438, 'c08': 1.6950191733850875, 'c10': 1.7238781210588445, 'c11': 1.6630529547130362, 'c12': 1.6661701428120574, 'c13': 1.7242712128037776, 'c15': 1.6626744828135347, 'c16': 1.7129586234770886, 'c17': 1.7767522171775274, 'c18': 1.6404264929267707, 'c20': 1.7421732691495893, 'c21': 1.8581306551729109}\n"
     ]
    },
    {
     "ename": "TypeError",
     "evalue": "multilabel_classifier() missing 1 required positional argument: 'classifier_object'",
     "output_type": "error",
     "traceback": [
      "\u001b[1;31m---------------------------------------------------------------------------\u001b[0m",
      "\u001b[1;31mTypeError\u001b[0m                                 Traceback (most recent call last)",
      "Input \u001b[1;32mIn [9]\u001b[0m, in \u001b[0;36m<cell line: 1>\u001b[1;34m()\u001b[0m\n\u001b[1;32m----> 1\u001b[0m \u001b[43mmain\u001b[49m\u001b[43m(\u001b[49m\u001b[38;5;124;43m'\u001b[39;49m\u001b[38;5;124;43mohsumed\u001b[39;49m\u001b[38;5;124;43m'\u001b[39;49m\u001b[43m,\u001b[49m\u001b[43m \u001b[49m\u001b[43membedding_method\u001b[49m\u001b[43m,\u001b[49m\u001b[43m \u001b[49m\u001b[43mclassifier_object\u001b[49m\u001b[43m,\u001b[49m\u001b[43m \u001b[49m\u001b[43msim_type\u001b[49m\u001b[43m,\u001b[49m\u001b[43m \u001b[49m\u001b[43msim_calculation_type\u001b[49m\u001b[43m,\u001b[49m\u001b[43m \u001b[49m\u001b[43msuccess_metric\u001b[49m\u001b[43m)\u001b[49m\n",
      "Input \u001b[1;32mIn [8]\u001b[0m, in \u001b[0;36mmain\u001b[1;34m(data, embedding_method, classifier_object, sim_type, sim_calculation_type, success_metric)\u001b[0m\n\u001b[0;32m     24\u001b[0m \u001b[38;5;66;03m# -----------------------------------------------------------------------------------------------------------------------------\u001b[39;00m\n\u001b[0;32m     25\u001b[0m \u001b[38;5;66;03m# oversampling dataset using unlabeled data with the given ratios\u001b[39;00m\n\u001b[0;32m     26\u001b[0m \u001b[38;5;28mprint\u001b[39m(\u001b[38;5;124m'\u001b[39m\u001b[38;5;124mnum_of_new_instances : \u001b[39m\u001b[38;5;124m'\u001b[39m,num_of_new_instances)\n\u001b[1;32m---> 27\u001b[0m validation, X_labeled, y_labeled, X_unlabeled, y_unlabeled \u001b[38;5;241m=\u001b[39m \u001b[43mutilities\u001b[49m\u001b[38;5;241;43m.\u001b[39;49m\u001b[43moversample_dataset_v4\u001b[49m\u001b[43m(\u001b[49m\u001b[43m\\\u001b[49m\n\u001b[0;32m     28\u001b[0m \u001b[43m                                                             \u001b[49m\u001b[43mnum_of_new_instances\u001b[49m\u001b[43m,\u001b[49m\u001b[43m \u001b[49m\n\u001b[0;32m     29\u001b[0m \u001b[43m                                                             \u001b[49m\u001b[43mX_labeled\u001b[49m\u001b[43m,\u001b[49m\u001b[43m \u001b[49m\u001b[43my_labeled\u001b[49m\u001b[43m,\u001b[49m\u001b[43m \u001b[49m\n\u001b[0;32m     30\u001b[0m \u001b[43m                                                             \u001b[49m\u001b[43mX_unlabeled\u001b[49m\u001b[43m,\u001b[49m\u001b[43m \u001b[49m\u001b[43my_unlabeled\u001b[49m\u001b[43m,\u001b[49m\u001b[43m \u001b[49m\n\u001b[0;32m     31\u001b[0m \u001b[43m                                                             \u001b[49m\u001b[43mX_test\u001b[49m\u001b[43m,\u001b[49m\u001b[43m \u001b[49m\u001b[43my_test\u001b[49m\u001b[43m,\u001b[49m\u001b[43m \u001b[49m\u001b[43m\\\u001b[49m\n\u001b[0;32m     32\u001b[0m \u001b[43m                                                             \u001b[49m\u001b[43msim_calculation_type\u001b[49m\u001b[38;5;241;43m=\u001b[39;49m\u001b[43msim_calculation_type\u001b[49m\u001b[43m,\u001b[49m\u001b[43m \u001b[49m\n\u001b[0;32m     33\u001b[0m \u001b[43m                                                             \u001b[49m\u001b[43mbatch_size\u001b[49m\u001b[38;5;241;43m=\u001b[39;49m\u001b[38;5;241;43m5\u001b[39;49m\u001b[43m,\u001b[49m\u001b[43m \u001b[49m\n\u001b[0;32m     34\u001b[0m \u001b[43m                                                             \u001b[49m\u001b[43mn_iter\u001b[49m\u001b[38;5;241;43m=\u001b[39;49m\u001b[38;5;241;43m20\u001b[39;49m\u001b[43m,\u001b[49m\n\u001b[0;32m     35\u001b[0m \u001b[43m                                                             \u001b[49m\u001b[43mbalance_ratio\u001b[49m\u001b[38;5;241;43m=\u001b[39;49m\u001b[43mbalance_ratio\u001b[49m\u001b[43m,\u001b[49m\n\u001b[0;32m     36\u001b[0m \u001b[43m                                                             \u001b[49m\u001b[43msuccess_metric\u001b[49m\u001b[38;5;241;43m=\u001b[39;49m\u001b[43msuccess_metric\u001b[49m\u001b[43m)\u001b[49m\n\u001b[0;32m     37\u001b[0m \u001b[38;5;66;03m# -----------------------------------------------------------------------------------------------------------------------------\u001b[39;00m\n\u001b[0;32m     38\u001b[0m \u001b[38;5;66;03m# check if the result gets better\u001b[39;00m\n\u001b[0;32m     39\u001b[0m \u001b[38;5;28mprint\u001b[39m(X_labeled\u001b[38;5;241m.\u001b[39mshape, X_unlabeled\u001b[38;5;241m.\u001b[39mshape, X_test\u001b[38;5;241m.\u001b[39mshape)\n",
      "File \u001b[1;32m~\\workspace\\GitHub\\thesis\\utilities.py:600\u001b[0m, in \u001b[0;36moversample_dataset_v4\u001b[1;34m(num_of_new_instances, X_labeled, y_labeled, X_unlabeled, y_unlabeled, X_test, y_test, sim_calculation_type, batch_size, n_iter, balance_ratio, success_metric)\u001b[0m\n\u001b[0;32m    597\u001b[0m validation \u001b[38;5;241m=\u001b[39m []\n\u001b[0;32m    599\u001b[0m \u001b[38;5;66;03m# an initial classification\u001b[39;00m\n\u001b[1;32m--> 600\u001b[0m col_metrics, general_score_before \u001b[38;5;241m=\u001b[39m \u001b[43mmultilabel_classifier\u001b[49m\u001b[43m(\u001b[49m\u001b[43mnp\u001b[49m\u001b[38;5;241;43m.\u001b[39;49m\u001b[43mvstack\u001b[49m\u001b[43m(\u001b[49m\u001b[43mX_labeled\u001b[49m\u001b[43m)\u001b[49m\u001b[43m,\u001b[49m\u001b[43m \u001b[49m\u001b[43my_labeled\u001b[49m\u001b[43m,\u001b[49m\u001b[43m \u001b[49m\u001b[43mnp\u001b[49m\u001b[38;5;241;43m.\u001b[39;49m\u001b[43mvstack\u001b[49m\u001b[43m(\u001b[49m\u001b[43mX_test\u001b[49m\u001b[43m)\u001b[49m\u001b[43m,\u001b[49m\u001b[43m \u001b[49m\u001b[43my_test\u001b[49m\u001b[43m,\u001b[49m\u001b[43m \u001b[49m\n\u001b[0;32m    601\u001b[0m \u001b[43m                                           \u001b[49m\u001b[43msuccess_metric\u001b[49m\u001b[38;5;241;43m=\u001b[39;49m\u001b[43m[\u001b[49m\u001b[43msuccess_metric\u001b[49m\u001b[43m,\u001b[49m\u001b[43m \u001b[49m\u001b[38;5;124;43m'\u001b[39;49m\u001b[38;5;124;43msingle_f1-score\u001b[39;49m\u001b[38;5;124;43m'\u001b[39;49m\u001b[43m]\u001b[49m\u001b[43m)\u001b[49m\n\u001b[0;32m    603\u001b[0m general_score_before \u001b[38;5;241m=\u001b[39m multilabel_classifier(X_labeled, y_labeled, X_test, y_test, success_metric\u001b[38;5;241m=\u001b[39m\u001b[38;5;124m'\u001b[39m\u001b[38;5;124msingle_f1-score\u001b[39m\u001b[38;5;124m'\u001b[39m)\n\u001b[0;32m    605\u001b[0m iter_num \u001b[38;5;241m=\u001b[39m \u001b[38;5;241m0\u001b[39m\n",
      "\u001b[1;31mTypeError\u001b[0m: multilabel_classifier() missing 1 required positional argument: 'classifier_object'"
     ]
    }
   ],
   "source": [
    "main('ohsumed', embedding_method, classifier_object, sim_type, sim_calculation_type, success_metric)"
   ]
  },
  {
   "cell_type": "code",
   "execution_count": null,
   "id": "fab2dfb5",
   "metadata": {},
   "outputs": [],
   "source": [
    "# oversampling methods\n",
    "oversample_dataset_v1(num_of_new_instances, X_labeled, y_labeled, X_unlabeled, y_unlabeled, X_test, y_test, sim_calculation_type, batch_size)\n",
    "oversample_dataset_v2(num_of_new_instances, X_labeled, y_labeled, X_unlabeled, y_unlabeled, X_test, y_test, sim_calculation_type, batch_size)\n",
    "oversample_dataset_v3(num_of_new_instances, X_labeled, y_labeled, X_unlabeled, y_unlabeled, X_test, y_test, sim_calculation_type, batch_size, n_iter)\n",
    "oversample_dataset_v4(num_of_new_instances, X_labeled, y_labeled, X_unlabeled, y_unlabeled, X_test, y_test, sim_calculation_type, batch_size, n_iter, balance_ratio, success_metric)"
   ]
  },
  {
   "cell_type": "code",
   "execution_count": null,
   "id": "satisfactory-socket",
   "metadata": {
    "scrolled": false
   },
   "outputs": [],
   "source": [
    "for data in data_paths.keys():\n",
    "    main(data, embedding_method, classifier_object, sim_type, sim_calculation_type, success_metric)"
   ]
  },
  {
   "cell_type": "code",
   "execution_count": null,
   "id": "04f970f5",
   "metadata": {},
   "outputs": [],
   "source": [
    "stop"
   ]
  },
  {
   "cell_type": "code",
   "execution_count": null,
   "id": "09141a9d",
   "metadata": {},
   "outputs": [],
   "source": []
  },
  {
   "cell_type": "code",
   "execution_count": null,
   "id": "50d9a2c0",
   "metadata": {},
   "outputs": [],
   "source": []
  },
  {
   "cell_type": "code",
   "execution_count": null,
   "id": "d4b4bd52",
   "metadata": {},
   "outputs": [],
   "source": [
    "import numpy as np"
   ]
  },
  {
   "cell_type": "code",
   "execution_count": null,
   "id": "fallen-klein",
   "metadata": {},
   "outputs": [],
   "source": [
    "df = utilities.read_data(data_paths[data])\n",
    "X = df['text'].apply(preprocess.preprocess_text)\n",
    "y = df.drop(['text'], axis=1)"
   ]
  },
  {
   "cell_type": "code",
   "execution_count": null,
   "id": "removable-niger",
   "metadata": {},
   "outputs": [],
   "source": [
    "y[y[col] == 1].index"
   ]
  },
  {
   "cell_type": "code",
   "execution_count": null,
   "id": "9841b3c7",
   "metadata": {},
   "outputs": [],
   "source": []
  }
 ],
 "metadata": {
  "kernelspec": {
   "display_name": "Python 3 (ipykernel)",
   "language": "python",
   "name": "python3"
  },
  "language_info": {
   "codemirror_mode": {
    "name": "ipython",
    "version": 3
   },
   "file_extension": ".py",
   "mimetype": "text/x-python",
   "name": "python",
   "nbconvert_exporter": "python",
   "pygments_lexer": "ipython3",
   "version": "3.9.12"
  },
  "latex_envs": {
   "LaTeX_envs_menu_present": true,
   "autoclose": false,
   "autocomplete": true,
   "bibliofile": "biblio.bib",
   "cite_by": "apalike",
   "current_citInitial": 1,
   "eqLabelWithNumbers": true,
   "eqNumInitial": 1,
   "hotkeys": {
    "equation": "Ctrl-E",
    "itemize": "Ctrl-I"
   },
   "labels_anchors": false,
   "latex_user_defs": false,
   "report_style_numbering": false,
   "user_envs_cfg": false
  }
 },
 "nbformat": 4,
 "nbformat_minor": 5
}
