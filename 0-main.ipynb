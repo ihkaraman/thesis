{
 "cells": [
  {
   "cell_type": "code",
   "execution_count": 1,
   "id": "8edd5e50",
   "metadata": {
    "scrolled": false
   },
   "outputs": [],
   "source": [
    "import pickle\n",
    "import pandas as pd\n",
    "import numpy as np\n",
    "import utilities\n",
    "import preprocess\n",
    "import parameters\n",
    "\n",
    "from sklearn.metrics import accuracy_score, hamming_loss\n",
    "from sklearn.model_selection import train_test_split\n",
    "from sklearn.svm import LinearSVC\n",
    "from sentence_transformers import util, SentenceTransformer\n",
    "from sklearn.metrics import hamming_loss, accuracy_score, f1_score, classification_report\n",
    "from sklearn.utils.class_weight import compute_class_weight\n",
    "from sklearn.multiclass import OneVsRestClassifier\n",
    "from sklearn.linear_model import LogisticRegression"
   ]
  },
  {
   "cell_type": "code",
   "execution_count": 2,
   "id": "095e9601",
   "metadata": {},
   "outputs": [],
   "source": [
    "import warnings\n",
    "warnings.filterwarnings(\"ignore\")"
   ]
  },
  {
   "cell_type": "markdown",
   "id": "decimal-packing",
   "metadata": {},
   "source": [
    "## parameters"
   ]
  },
  {
   "cell_type": "code",
   "execution_count": 3,
   "id": "f677899c",
   "metadata": {},
   "outputs": [],
   "source": [
    "# importing algorithm parameters\n",
    "balance_ratio = parameters.balance_ratio\n",
    "random_state = parameters.random_state\n",
    "threshold_factor = parameters.threshold_factor\n",
    "test_size = parameters.test_size\n",
    "sim_calculation_type = parameters.sim_calculation_type\n",
    "sim_type = parameters.sim_type\n",
    "success_metric = parameters.success_metric\n",
    "embedding_method = parameters.embedding_method\n",
    "data_paths = parameters.data_paths\n",
    "unlabaled_ratios = parameters.unlabaled_ratios\n",
    "\n",
    "np.random.seed(random_state)"
   ]
  },
  {
   "cell_type": "code",
   "execution_count": 4,
   "id": "hundred-reading",
   "metadata": {},
   "outputs": [],
   "source": [
    "# classifier_object = LinearSVC(class_weight='balanced')\n",
    "classifier_object = LogisticRegression(class_weight='balanced')"
   ]
  },
  {
   "cell_type": "markdown",
   "id": "framed-george",
   "metadata": {},
   "source": [
    "# main"
   ]
  },
  {
   "cell_type": "code",
   "execution_count": 5,
   "id": "british-gross",
   "metadata": {},
   "outputs": [],
   "source": [
    "def main(data, embedding_method, classifier_object, sim_type, sim_calculation_type, success_metric, \n",
    "         single_metric, oversampler_version):\n",
    "    print('*'*100)\n",
    "    print('\\x1b[1;31m'+data+'\\x1b[0m')\n",
    "    # reading data\n",
    "    df = utilities.read_data(data_paths[data])\n",
    "    X = df['text'].apply(preprocess.preprocess_text)\n",
    "    y = df.drop(['text'], axis=1)\n",
    "    # ------------------------------------------------------------------------------------------------------------------------------\n",
    "    # reading from a pickle instead of applying vectorization\n",
    "    # X_num = utilities.vectorize_data(X, embedding_method)\n",
    "    # X_num = pd.Series([np.squeeze(i) for i in X_num])\n",
    "    X_num = pd.read_pickle('X_num_opp115.p')\n",
    "    X_train, X_test, y_train, y_test = train_test_split(X_num, y, test_size=test_size, random_state=random_state)\n",
    "    X_labeled, X_unlabeled, y_labeled, y_unlabeled = train_test_split(X_train, y_train, test_size=unlabaled_ratios[data], \n",
    "                                                                  random_state=random_state)\n",
    "    \n",
    "    print(X_labeled.shape, X_unlabeled.shape, X_test.shape)\n",
    "    s_metric = utilities.multilabel_classifier(np.vstack(X_labeled), y_labeled, np.vstack(X_test), y_test, \n",
    "                                               success_metric=success_metric,\n",
    "                                               classifier_object = classifier_object, print_results=True)\n",
    "    # -----------------------------------------------------------------------------------------------------------------------------\n",
    "    # calculation number of instances to balance dataset\n",
    "    num_of_new_instances = utilities.calculate_balancing_num_instance_multiclass(y_labeled, balance_ratio, \n",
    "                                                                                 calculation_type='metric_based', \n",
    "                                                                                 s_metrics=s_metric)\n",
    "    # -----------------------------------------------------------------------------------------------------------------------------\n",
    "    # oversampling dataset using unlabeled data with the given ratios\n",
    "    # print('num_of_new_instances : ',num_of_new_instances)\n",
    "    if oversampler_version == 'v1':\n",
    "        validation, X_labeled, y_labeled, X_unlabeled, y_unlabeled = utilities.oversample_dataset_v1(\n",
    "                                                                        num_of_new_instances, X_labeled, y_labeled, \n",
    "                                                                        X_unlabeled, y_unlabeled, X_test, y_test, \n",
    "                                                                        sim_calculation_type=sim_calculation_type,\n",
    "                                                                        batch_size=1)\n",
    "    elif oversampler_version == 'v2':\n",
    "        validation, X_labeled, y_labeled, X_unlabeled, y_unlabeled = utilities.oversample_dataset_v2(\n",
    "                                                                        num_of_new_instances, X_labeled, y_labeled, \n",
    "                                                                        X_unlabeled, y_unlabeled, X_test, y_test, \n",
    "                                                                        sim_calculation_type=sim_calculation_type,\n",
    "                                                                        batch_size=1)\n",
    "    elif oversampler_version == 'v3':\n",
    "        validation, X_labeled, y_labeled, X_unlabeled, y_unlabeled = utilities.oversample_dataset_v3(\n",
    "                                                                        num_of_new_instances, X_labeled, y_labeled, \n",
    "                                                                        X_unlabeled, y_unlabeled, X_test, y_test, \n",
    "                                                                        sim_calculation_type=sim_calculation_type,\n",
    "                                                                        batch_size=1, n_iter=1000, single_score=single_metric)\n",
    "    elif oversampler_version == 'v4':\n",
    "        validation, X_labeled, y_labeled, X_unlabeled, y_unlabeled = utilities.oversample_dataset_v4(\\\n",
    "                                                                     num_of_new_instances, \n",
    "                                                                     X_labeled, y_labeled, \n",
    "                                                                     X_unlabeled, y_unlabeled, \n",
    "                                                                     X_test, y_test, \\\n",
    "                                                                     sim_calculation_type=sim_calculation_type, \n",
    "                                                                     batch_size=1, \n",
    "                                                                     n_iter=1000,\n",
    "                                                                     balance_ratio=balance_ratio,\n",
    "                                                                     success_metric=success_metric,\n",
    "                                                                     single_score=single_metric)\n",
    "    # -----------------------------------------------------------------------------------------------------------------------------\n",
    "    # check if the result gets better\n",
    "    print(X_labeled.shape, X_unlabeled.shape, X_test.shape)\n",
    "    s_metric = utilities.multilabel_classifier(np.vstack(X_labeled), y_labeled, np.vstack(X_test), y_test, \n",
    "                                               success_metric=success_metric,\n",
    "                                               classifier_object = classifier_object, print_results=True)\n",
    "    # comparing the found labels and ground truth\n",
    "    y_true, y_pred = [], []\n",
    "    for _, _, _, y_t, y_p in validation:\n",
    "        y_true.append(list(y_t.values))\n",
    "        y_pred.append(list(y_p.values()))\n",
    "    \n",
    "    acc = 1-hamming_loss(y_true, y_pred)\n",
    "    emr = accuracy_score(y_true, y_pred)  \n",
    "    print('-'*30)\n",
    "    print(f'Exact match ratio : {emr:.2f} ')\n",
    "    print(f'Accuracy          : {acc:.2f} ')\n",
    "    print('-'*30)"
   ]
  },
  {
   "cell_type": "markdown",
   "id": "863d2a8a",
   "metadata": {},
   "source": [
    "'accuracy'\n",
    "'f1_score'\n",
    "'coverage'\n",
    "'label_ranking'\n",
    "'roc_auc_score'\n",
    "'log_loss'\n",
    "'average_precision'\n",
    "'brier_loss'\n",
    "'hamming_loss'\n",
    "'precision'\n",
    "'recall'\n",
    "'zero_one_loss'\n",
    "'label_ranking_average_precision'"
   ]
  },
  {
   "cell_type": "code",
   "execution_count": 6,
   "id": "819ca1cd",
   "metadata": {
    "scrolled": false
   },
   "outputs": [
    {
     "name": "stdout",
     "output_type": "stream",
     "text": [
      "****************************************************************************************************\n",
      "\u001b[1;31mopp115\u001b[0m\n",
      "(135,) (2584,) (680,)\n",
      "\u001b[1mMultilabel Classifier Results\u001b[0m\n",
      "\u001b[1mLogisticRegression\u001b[0m\n",
      "------------------------------\n",
      "Hamming Loss\n",
      "Training : 0.05\n",
      "Test     : 0.08\n",
      "Exact Match Ratio\n",
      "Training : 0.55\n",
      "Test     : 0.39\n",
      "Macro F1-Score\n",
      "Training : 0.74\n",
      "Test     : 0.64\n",
      "Coverage Error\n",
      "Training : 1.46\n",
      "Test     : 2.06\n",
      "Ranking Loss Error\n",
      "Training : 0.02\n",
      "Test     : 0.07\n",
      "------------------------------\n",
      "\u001b[1mClassification Report\u001b[0m\n",
      "                                      precision    recall  f1-score   support\n",
      "\n",
      "                      Data Retention       0.35      0.74      0.47        19\n",
      "                       Data Security       0.70      0.82      0.76        51\n",
      "                        Do Not Track       0.65      0.92      0.76        12\n",
      "          First Party Collection/Use       0.67      0.72      0.70       218\n",
      "International and Specific Audiences       0.73      0.84      0.78        55\n",
      "                Introductory/Generic       0.44      0.73      0.55        75\n",
      "                       Policy Change       0.65      0.92      0.76        24\n",
      "                Practice not covered       0.40      0.72      0.52        32\n",
      "         Privacy contact information       0.52      0.83      0.64        36\n",
      "      Third Party Sharing/Collection       0.82      0.76      0.79       182\n",
      "      User Access, Edit and Deletion       0.27      0.78      0.40        27\n",
      "                 User Choice/Control       0.55      0.71      0.62        79\n",
      "\n",
      "                           micro avg       0.59      0.76      0.67       810\n",
      "                           macro avg       0.56      0.79      0.64       810\n",
      "                        weighted avg       0.64      0.76      0.68       810\n",
      "                         samples avg       0.65      0.80      0.69       810\n",
      "\n",
      "* * * * * * * * * * * * * * * * * * * * * * * * * * * * * * * * * * * * * * * * \n",
      "Shapes --------------\n",
      "(294,) (2180,)\n",
      "(294,) (2180,) (680,)\n",
      "\u001b[1mMultilabel Classifier Results\u001b[0m\n",
      "\u001b[1mLogisticRegression\u001b[0m\n",
      "------------------------------\n",
      "Hamming Loss\n",
      "Training : 0.06\n",
      "Test     : 0.08\n",
      "Exact Match Ratio\n",
      "Training : 0.46\n",
      "Test     : 0.33\n",
      "Macro F1-Score\n",
      "Training : 0.76\n",
      "Test     : 0.64\n",
      "Coverage Error\n",
      "Training : 1.48\n",
      "Test     : 2.07\n",
      "Ranking Loss Error\n",
      "Training : 0.02\n",
      "Test     : 0.07\n",
      "------------------------------\n",
      "\u001b[1mClassification Report\u001b[0m\n",
      "                                      precision    recall  f1-score   support\n",
      "\n",
      "                      Data Retention       0.33      0.74      0.46        19\n",
      "                       Data Security       0.70      0.84      0.77        51\n",
      "                        Do Not Track       0.61      0.92      0.73        12\n",
      "          First Party Collection/Use       0.57      0.80      0.67       218\n",
      "International and Specific Audiences       0.72      0.85      0.78        55\n",
      "                Introductory/Generic       0.40      0.77      0.53        75\n",
      "                       Policy Change       0.61      0.92      0.73        24\n",
      "                Practice not covered       0.37      0.72      0.49        32\n",
      "         Privacy contact information       0.64      0.81      0.72        36\n",
      "      Third Party Sharing/Collection       0.60      0.77      0.67       182\n",
      "      User Access, Edit and Deletion       0.42      0.70      0.53        27\n",
      "                 User Choice/Control       0.64      0.66      0.65        79\n",
      "\n",
      "                           micro avg       0.56      0.78      0.65       810\n",
      "                           macro avg       0.55      0.79      0.64       810\n",
      "                        weighted avg       0.57      0.78      0.66       810\n",
      "                         samples avg       0.61      0.81      0.67       810\n",
      "\n",
      "* * * * * * * * * * * * * * * * * * * * * * * * * * * * * * * * * * * * * * * * \n",
      "------------------------------\n",
      "Exact match ratio : 0.44 \n",
      "Accuracy          : 0.91 \n",
      "------------------------------\n"
     ]
    }
   ],
   "source": [
    "main('opp115', embedding_method, classifier_object, sim_type, sim_calculation_type, success_metric, 'coverage', 'v1')"
   ]
  },
  {
   "cell_type": "code",
   "execution_count": 7,
   "id": "f034edd5",
   "metadata": {
    "scrolled": false
   },
   "outputs": [
    {
     "name": "stdout",
     "output_type": "stream",
     "text": [
      "****************************************************************************************************\n",
      "\u001b[1;31mopp115\u001b[0m\n",
      "(135,) (2584,) (680,)\n",
      "\u001b[1mMultilabel Classifier Results\u001b[0m\n",
      "\u001b[1mLogisticRegression\u001b[0m\n",
      "------------------------------\n",
      "Hamming Loss\n",
      "Training : 0.05\n",
      "Test     : 0.08\n",
      "Exact Match Ratio\n",
      "Training : 0.55\n",
      "Test     : 0.39\n",
      "Macro F1-Score\n",
      "Training : 0.74\n",
      "Test     : 0.64\n",
      "Coverage Error\n",
      "Training : 1.46\n",
      "Test     : 2.06\n",
      "Ranking Loss Error\n",
      "Training : 0.02\n",
      "Test     : 0.07\n",
      "------------------------------\n",
      "\u001b[1mClassification Report\u001b[0m\n",
      "                                      precision    recall  f1-score   support\n",
      "\n",
      "                      Data Retention       0.35      0.74      0.47        19\n",
      "                       Data Security       0.70      0.82      0.76        51\n",
      "                        Do Not Track       0.65      0.92      0.76        12\n",
      "          First Party Collection/Use       0.67      0.72      0.70       218\n",
      "International and Specific Audiences       0.73      0.84      0.78        55\n",
      "                Introductory/Generic       0.44      0.73      0.55        75\n",
      "                       Policy Change       0.65      0.92      0.76        24\n",
      "                Practice not covered       0.40      0.72      0.52        32\n",
      "         Privacy contact information       0.52      0.83      0.64        36\n",
      "      Third Party Sharing/Collection       0.82      0.76      0.79       182\n",
      "      User Access, Edit and Deletion       0.27      0.78      0.40        27\n",
      "                 User Choice/Control       0.55      0.71      0.62        79\n",
      "\n",
      "                           micro avg       0.59      0.76      0.67       810\n",
      "                           macro avg       0.56      0.79      0.64       810\n",
      "                        weighted avg       0.64      0.76      0.68       810\n",
      "                         samples avg       0.65      0.80      0.69       810\n",
      "\n",
      "* * * * * * * * * * * * * * * * * * * * * * * * * * * * * * * * * * * * * * * * \n",
      "Shapes --------------\n",
      "(153,) (2566,)\n",
      "(153,) (2566,) (680,)\n",
      "\u001b[1mMultilabel Classifier Results\u001b[0m\n",
      "\u001b[1mLogisticRegression\u001b[0m\n",
      "------------------------------\n",
      "Hamming Loss\n",
      "Training : 0.05\n",
      "Test     : 0.07\n",
      "Exact Match Ratio\n",
      "Training : 0.46\n",
      "Test     : 0.38\n",
      "Macro F1-Score\n",
      "Training : 0.73\n",
      "Test     : 0.65\n",
      "Coverage Error\n",
      "Training : 1.41\n",
      "Test     : 2.05\n",
      "Ranking Loss Error\n",
      "Training : 0.02\n",
      "Test     : 0.07\n",
      "------------------------------\n",
      "\u001b[1mClassification Report\u001b[0m\n",
      "                                      precision    recall  f1-score   support\n",
      "\n",
      "                      Data Retention       0.35      0.74      0.47        19\n",
      "                       Data Security       0.70      0.84      0.77        51\n",
      "                        Do Not Track       0.61      0.92      0.73        12\n",
      "          First Party Collection/Use       0.66      0.75      0.71       218\n",
      "International and Specific Audiences       0.74      0.84      0.79        55\n",
      "                Introductory/Generic       0.43      0.72      0.54        75\n",
      "                       Policy Change       0.65      0.92      0.76        24\n",
      "                Practice not covered       0.40      0.72      0.51        32\n",
      "         Privacy contact information       0.56      0.78      0.65        36\n",
      "      Third Party Sharing/Collection       0.73      0.79      0.76       182\n",
      "      User Access, Edit and Deletion       0.40      0.70      0.51        27\n",
      "                 User Choice/Control       0.52      0.71      0.60        79\n",
      "\n",
      "                           micro avg       0.59      0.77      0.67       810\n",
      "                           macro avg       0.56      0.79      0.65       810\n",
      "                        weighted avg       0.62      0.77      0.68       810\n",
      "                         samples avg       0.65      0.80      0.69       810\n",
      "\n",
      "* * * * * * * * * * * * * * * * * * * * * * * * * * * * * * * * * * * * * * * * \n",
      "------------------------------\n",
      "Exact match ratio : 0.22 \n",
      "Accuracy          : 0.89 \n",
      "------------------------------\n"
     ]
    }
   ],
   "source": [
    "main('opp115', embedding_method, classifier_object, sim_type, sim_calculation_type, success_metric, 'coverage', 'v2')"
   ]
  },
  {
   "cell_type": "code",
   "execution_count": 8,
   "id": "86058a26",
   "metadata": {
    "scrolled": false
   },
   "outputs": [
    {
     "name": "stdout",
     "output_type": "stream",
     "text": [
      "****************************************************************************************************\n",
      "\u001b[1;31mopp115\u001b[0m\n",
      "(135,) (2584,) (680,)\n",
      "\u001b[1mMultilabel Classifier Results\u001b[0m\n",
      "\u001b[1mLogisticRegression\u001b[0m\n",
      "------------------------------\n",
      "Hamming Loss\n",
      "Training : 0.05\n",
      "Test     : 0.08\n",
      "Exact Match Ratio\n",
      "Training : 0.55\n",
      "Test     : 0.39\n",
      "Macro F1-Score\n",
      "Training : 0.74\n",
      "Test     : 0.64\n",
      "Coverage Error\n",
      "Training : 1.46\n",
      "Test     : 2.06\n",
      "Ranking Loss Error\n",
      "Training : 0.02\n",
      "Test     : 0.07\n",
      "------------------------------\n",
      "\u001b[1mClassification Report\u001b[0m\n",
      "                                      precision    recall  f1-score   support\n",
      "\n",
      "                      Data Retention       0.35      0.74      0.47        19\n",
      "                       Data Security       0.70      0.82      0.76        51\n",
      "                        Do Not Track       0.65      0.92      0.76        12\n",
      "          First Party Collection/Use       0.67      0.72      0.70       218\n",
      "International and Specific Audiences       0.73      0.84      0.78        55\n",
      "                Introductory/Generic       0.44      0.73      0.55        75\n",
      "                       Policy Change       0.65      0.92      0.76        24\n",
      "                Practice not covered       0.40      0.72      0.52        32\n",
      "         Privacy contact information       0.52      0.83      0.64        36\n",
      "      Third Party Sharing/Collection       0.82      0.76      0.79       182\n",
      "      User Access, Edit and Deletion       0.27      0.78      0.40        27\n",
      "                 User Choice/Control       0.55      0.71      0.62        79\n",
      "\n",
      "                           micro avg       0.59      0.76      0.67       810\n",
      "                           macro avg       0.56      0.79      0.64       810\n",
      "                        weighted avg       0.64      0.76      0.68       810\n",
      "                         samples avg       0.65      0.80      0.69       810\n",
      "\n",
      "* * * * * * * * * * * * * * * * * * * * * * * * * * * * * * * * * * * * * * * * \n",
      "0  iteration ...\n"
     ]
    },
    {
     "ename": "TypeError",
     "evalue": "'list' object is not callable",
     "output_type": "error",
     "traceback": [
      "\u001b[1;31m---------------------------------------------------------------------------\u001b[0m",
      "\u001b[1;31mTypeError\u001b[0m                                 Traceback (most recent call last)",
      "Input \u001b[1;32mIn [8]\u001b[0m, in \u001b[0;36m<cell line: 1>\u001b[1;34m()\u001b[0m\n\u001b[1;32m----> 1\u001b[0m \u001b[43mmain\u001b[49m\u001b[43m(\u001b[49m\u001b[38;5;124;43m'\u001b[39;49m\u001b[38;5;124;43mopp115\u001b[39;49m\u001b[38;5;124;43m'\u001b[39;49m\u001b[43m,\u001b[49m\u001b[43m \u001b[49m\u001b[43membedding_method\u001b[49m\u001b[43m,\u001b[49m\u001b[43m \u001b[49m\u001b[43mclassifier_object\u001b[49m\u001b[43m,\u001b[49m\u001b[43m \u001b[49m\u001b[43msim_type\u001b[49m\u001b[43m,\u001b[49m\u001b[43m \u001b[49m\u001b[43msim_calculation_type\u001b[49m\u001b[43m,\u001b[49m\u001b[43m \u001b[49m\u001b[43msuccess_metric\u001b[49m\u001b[43m,\u001b[49m\u001b[43m \u001b[49m\u001b[38;5;124;43m'\u001b[39;49m\u001b[38;5;124;43mcoverage\u001b[39;49m\u001b[38;5;124;43m'\u001b[39;49m\u001b[43m,\u001b[49m\u001b[43m \u001b[49m\u001b[38;5;124;43m'\u001b[39;49m\u001b[38;5;124;43mv3\u001b[39;49m\u001b[38;5;124;43m'\u001b[39;49m\u001b[43m)\u001b[49m\n",
      "Input \u001b[1;32mIn [5]\u001b[0m, in \u001b[0;36mmain\u001b[1;34m(data, embedding_method, classifier_object, sim_type, sim_calculation_type, success_metric, single_metric, oversampler_version)\u001b[0m\n\u001b[0;32m     37\u001b[0m     validation, X_labeled, y_labeled, X_unlabeled, y_unlabeled \u001b[38;5;241m=\u001b[39m utilities\u001b[38;5;241m.\u001b[39moversample_dataset_v2(\n\u001b[0;32m     38\u001b[0m                                                                     num_of_new_instances, X_labeled, y_labeled, \n\u001b[0;32m     39\u001b[0m                                                                     X_unlabeled, y_unlabeled, X_test, y_test, \n\u001b[0;32m     40\u001b[0m                                                                     sim_calculation_type\u001b[38;5;241m=\u001b[39msim_calculation_type,\n\u001b[0;32m     41\u001b[0m                                                                     batch_size\u001b[38;5;241m=\u001b[39m\u001b[38;5;241m1\u001b[39m)\n\u001b[0;32m     42\u001b[0m \u001b[38;5;28;01melif\u001b[39;00m oversampler_version \u001b[38;5;241m==\u001b[39m \u001b[38;5;124m'\u001b[39m\u001b[38;5;124mv3\u001b[39m\u001b[38;5;124m'\u001b[39m:\n\u001b[1;32m---> 43\u001b[0m     validation, X_labeled, y_labeled, X_unlabeled, y_unlabeled \u001b[38;5;241m=\u001b[39m \u001b[43mutilities\u001b[49m\u001b[38;5;241;43m.\u001b[39;49m\u001b[43moversample_dataset_v3\u001b[49m\u001b[43m(\u001b[49m\n\u001b[0;32m     44\u001b[0m \u001b[43m                                                                    \u001b[49m\u001b[43mnum_of_new_instances\u001b[49m\u001b[43m,\u001b[49m\u001b[43m \u001b[49m\u001b[43mX_labeled\u001b[49m\u001b[43m,\u001b[49m\u001b[43m \u001b[49m\u001b[43my_labeled\u001b[49m\u001b[43m,\u001b[49m\u001b[43m \u001b[49m\n\u001b[0;32m     45\u001b[0m \u001b[43m                                                                    \u001b[49m\u001b[43mX_unlabeled\u001b[49m\u001b[43m,\u001b[49m\u001b[43m \u001b[49m\u001b[43my_unlabeled\u001b[49m\u001b[43m,\u001b[49m\u001b[43m \u001b[49m\u001b[43mX_test\u001b[49m\u001b[43m,\u001b[49m\u001b[43m \u001b[49m\u001b[43my_test\u001b[49m\u001b[43m,\u001b[49m\u001b[43m \u001b[49m\n\u001b[0;32m     46\u001b[0m \u001b[43m                                                                    \u001b[49m\u001b[43msim_calculation_type\u001b[49m\u001b[38;5;241;43m=\u001b[39;49m\u001b[43msim_calculation_type\u001b[49m\u001b[43m,\u001b[49m\n\u001b[0;32m     47\u001b[0m \u001b[43m                                                                    \u001b[49m\u001b[43mbatch_size\u001b[49m\u001b[38;5;241;43m=\u001b[39;49m\u001b[38;5;241;43m1\u001b[39;49m\u001b[43m,\u001b[49m\u001b[43m \u001b[49m\u001b[43mn_iter\u001b[49m\u001b[38;5;241;43m=\u001b[39;49m\u001b[38;5;241;43m1000\u001b[39;49m\u001b[43m,\u001b[49m\u001b[43m \u001b[49m\u001b[43msingle_score\u001b[49m\u001b[38;5;241;43m=\u001b[39;49m\u001b[43msingle_metric\u001b[49m\u001b[43m)\u001b[49m\n\u001b[0;32m     48\u001b[0m \u001b[38;5;28;01melif\u001b[39;00m oversampler_version \u001b[38;5;241m==\u001b[39m \u001b[38;5;124m'\u001b[39m\u001b[38;5;124mv4\u001b[39m\u001b[38;5;124m'\u001b[39m:\n\u001b[0;32m     49\u001b[0m     validation, X_labeled, y_labeled, X_unlabeled, y_unlabeled \u001b[38;5;241m=\u001b[39m utilities\u001b[38;5;241m.\u001b[39moversample_dataset_v4(\\\n\u001b[0;32m     50\u001b[0m                                                                  num_of_new_instances, \n\u001b[0;32m     51\u001b[0m                                                                  X_labeled, y_labeled, \n\u001b[1;32m   (...)\u001b[0m\n\u001b[0;32m     58\u001b[0m                                                                  success_metric\u001b[38;5;241m=\u001b[39msuccess_metric,\n\u001b[0;32m     59\u001b[0m                                                                  single_score\u001b[38;5;241m=\u001b[39msingle_metric)\n",
      "File \u001b[1;32m~\\workspace\\GitHub\\thesis\\utilities.py:626\u001b[0m, in \u001b[0;36moversample_dataset_v3\u001b[1;34m(num_of_new_instances, X_labeled, y_labeled, X_unlabeled, y_unlabeled, X_test, y_test, sim_calculation_type, batch_size, n_iter, single_score)\u001b[0m\n\u001b[0;32m    621\u001b[0m general_score_before \u001b[38;5;241m=\u001b[39m multilabel_classifier(np\u001b[38;5;241m.\u001b[39mvstack(X_labeled), y_labeled, np\u001b[38;5;241m.\u001b[39mvstack(X_test), y_test,\n\u001b[0;32m    622\u001b[0m                                              success_metric\u001b[38;5;241m=\u001b[39msingle_score, print_results\u001b[38;5;241m=\u001b[39m\u001b[38;5;28;01mFalse\u001b[39;00m)\n\u001b[0;32m    624\u001b[0m candidate_instances \u001b[38;5;241m=\u001b[39m []\n\u001b[1;32m--> 626\u001b[0m \u001b[38;5;28;01mfor\u001b[39;00m idx \u001b[38;5;129;01min\u001b[39;00m \u001b[43mpotential_instance_keys\u001b[49m\u001b[43m(\u001b[49m\u001b[43m)\u001b[49m:\n\u001b[0;32m    627\u001b[0m                         \n\u001b[0;32m    628\u001b[0m     \u001b[38;5;66;03m# check results for each instance,\u001b[39;00m\n\u001b[0;32m    629\u001b[0m     \u001b[38;5;66;03m# print('Shapes --------------')\u001b[39;00m\n\u001b[0;32m    630\u001b[0m     \u001b[38;5;66;03m# print(X_labeled.values.shape, X_labeled.values.append(X_unlabeled.loc[idx]).shape)\u001b[39;00m\n\u001b[0;32m    631\u001b[0m     \u001b[38;5;66;03m# print(y_labeled[col_name].values.shape, y_labeled[col_name].values.append([1]).shape)\u001b[39;00m\n\u001b[0;32m    632\u001b[0m     binary_score_after \u001b[38;5;241m=\u001b[39m binary_classifier(np\u001b[38;5;241m.\u001b[39mvstack(X_labeled\u001b[38;5;241m.\u001b[39mvalues\u001b[38;5;241m.\u001b[39mappend(X_unlabeled\u001b[38;5;241m.\u001b[39mloc[idx])),\n\u001b[0;32m    633\u001b[0m                                                      y_labeled[col_name]\u001b[38;5;241m.\u001b[39mvalues,\n\u001b[0;32m    634\u001b[0m                                                      np\u001b[38;5;241m.\u001b[39mvstack(X_test\u001b[38;5;241m.\u001b[39mvalues), y_test[col_name])\n\u001b[0;32m    636\u001b[0m     \u001b[38;5;28;01mif\u001b[39;00m binary_score_after \u001b[38;5;241m>\u001b[39m\u001b[38;5;241m=\u001b[39m binary_score_before:\n",
      "\u001b[1;31mTypeError\u001b[0m: 'list' object is not callable"
     ]
    }
   ],
   "source": [
    "main('opp115', embedding_method, classifier_object, sim_type, sim_calculation_type, success_metric, 'coverage', 'v3')"
   ]
  },
  {
   "cell_type": "code",
   "execution_count": null,
   "id": "453970a4",
   "metadata": {
    "scrolled": false
   },
   "outputs": [],
   "source": [
    "main('opp115', embedding_method, classifier_object, sim_type, sim_calculation_type, success_metric, 'coverage', 'v4')"
   ]
  },
  {
   "cell_type": "code",
   "execution_count": null,
   "id": "c27227a8",
   "metadata": {},
   "outputs": [],
   "source": [
    "ss"
   ]
  },
  {
   "cell_type": "code",
   "execution_count": null,
   "id": "03052345",
   "metadata": {
    "scrolled": false
   },
   "outputs": [],
   "source": [
    "main('opp115', embedding_method, classifier_object, sim_type, sim_calculation_type, success_metric, 'label-ranking')"
   ]
  },
  {
   "cell_type": "code",
   "execution_count": null,
   "id": "88df929d",
   "metadata": {},
   "outputs": [],
   "source": [
    "asdas"
   ]
  },
  {
   "cell_type": "code",
   "execution_count": null,
   "id": "fab2dfb5",
   "metadata": {},
   "outputs": [],
   "source": [
    "# oversampling methods\n",
    "\n",
    "oversample_dataset_v2(num_of_new_instances, X_labeled, y_labeled, X_unlabeled, y_unlabeled, X_test, y_test, sim_calculation_type, batch_size)\n",
    "oversample_dataset_v3(num_of_new_instances, X_labeled, y_labeled, X_unlabeled, y_unlabeled, X_test, y_test, sim_calculation_type, batch_size, n_iter)\n",
    "oversample_dataset_v4(num_of_new_instances, X_labeled, y_labeled, X_unlabeled, y_unlabeled, X_test, y_test, sim_calculation_type, batch_size, n_iter, balance_ratio, success_metric)"
   ]
  },
  {
   "cell_type": "code",
   "execution_count": null,
   "id": "satisfactory-socket",
   "metadata": {
    "scrolled": false
   },
   "outputs": [],
   "source": [
    "for data in data_paths.keys():\n",
    "    main(data, embedding_method, classifier_object, sim_type, sim_calculation_type, success_metric)"
   ]
  },
  {
   "cell_type": "code",
   "execution_count": null,
   "id": "04f970f5",
   "metadata": {},
   "outputs": [],
   "source": [
    "stop"
   ]
  },
  {
   "cell_type": "code",
   "execution_count": null,
   "id": "09141a9d",
   "metadata": {},
   "outputs": [],
   "source": []
  },
  {
   "cell_type": "code",
   "execution_count": null,
   "id": "50d9a2c0",
   "metadata": {},
   "outputs": [],
   "source": []
  },
  {
   "cell_type": "code",
   "execution_count": null,
   "id": "d4b4bd52",
   "metadata": {},
   "outputs": [],
   "source": [
    "import numpy as np"
   ]
  },
  {
   "cell_type": "code",
   "execution_count": null,
   "id": "fallen-klein",
   "metadata": {},
   "outputs": [],
   "source": [
    "df = utilities.read_data(data_paths[data])\n",
    "X = df['text'].apply(preprocess.preprocess_text)\n",
    "y = df.drop(['text'], axis=1)"
   ]
  },
  {
   "cell_type": "code",
   "execution_count": null,
   "id": "removable-niger",
   "metadata": {},
   "outputs": [],
   "source": [
    "y[y[col] == 1].index"
   ]
  },
  {
   "cell_type": "code",
   "execution_count": null,
   "id": "9841b3c7",
   "metadata": {},
   "outputs": [],
   "source": []
  }
 ],
 "metadata": {
  "kernelspec": {
   "display_name": "Python 3 (ipykernel)",
   "language": "python",
   "name": "python3"
  },
  "language_info": {
   "codemirror_mode": {
    "name": "ipython",
    "version": 3
   },
   "file_extension": ".py",
   "mimetype": "text/x-python",
   "name": "python",
   "nbconvert_exporter": "python",
   "pygments_lexer": "ipython3",
   "version": "3.9.12"
  },
  "latex_envs": {
   "LaTeX_envs_menu_present": true,
   "autoclose": false,
   "autocomplete": true,
   "bibliofile": "biblio.bib",
   "cite_by": "apalike",
   "current_citInitial": 1,
   "eqLabelWithNumbers": true,
   "eqNumInitial": 1,
   "hotkeys": {
    "equation": "Ctrl-E",
    "itemize": "Ctrl-I"
   },
   "labels_anchors": false,
   "latex_user_defs": false,
   "report_style_numbering": false,
   "user_envs_cfg": false
  }
 },
 "nbformat": 4,
 "nbformat_minor": 5
}
