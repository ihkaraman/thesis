{
 "cells": [
  {
   "cell_type": "code",
   "execution_count": 21,
   "id": "b50cd132",
   "metadata": {},
   "outputs": [],
   "source": [
    "import pandas as pd\n",
    "import numpy as np\n",
    "import utilities\n",
    "import preprocess\n",
    "from itertools import combinations\n",
    "\n",
    "from sentence_transformers import SentenceTransformer, InputExample, losses\n",
    "from torch.utils.data import DataLoader"
   ]
  },
  {
   "cell_type": "code",
   "execution_count": 22,
   "id": "47826c83",
   "metadata": {},
   "outputs": [],
   "source": [
    "np.random.seed(random_state)\n",
    "\n",
    "data = 'opp115'\n",
    "random_state = 1\n",
    "embedding_method = 'distilbert-base-nli-mean-tokens'\n",
    "\n",
    "data_paths = {'opp115'   : r'C:\\Users\\IsmailKaraman\\workspace\\data\\privacy_policy_data\\OPP-115_v2\\majority.csv',\n",
    "              'ohsumed'  : r'C:\\Users\\IsmailKaraman\\workspace\\GitHub\\thesis\\data\\ohsumed.csv',\n",
    "              'reuters'  : r'C:\\Users\\IsmailKaraman\\workspace\\GitHub\\thesis\\data\\Reuters21578.csv'}"
   ]
  },
  {
   "cell_type": "code",
   "execution_count": 23,
   "id": "497097fe",
   "metadata": {},
   "outputs": [],
   "source": [
    "df = utilities.read_data(data_paths[data])\n",
    "X = df['text'].apply(preprocess.preprocess_text)\n",
    "y = df.drop(['text'], axis=1)"
   ]
  },
  {
   "cell_type": "code",
   "execution_count": 24,
   "id": "02ea420c",
   "metadata": {},
   "outputs": [],
   "source": [
    "def calculate_between_class_similarities(col1, col2, X, y):\n",
    "    \n",
    "    sims = []\n",
    "    \n",
    "    for idx1 in y[y[col1]==1].index:\n",
    "        for idx2 in y[y[col2]==1].index:\n",
    "            sims.append(similarities.vector_similarity(X.loc[idx1], X.loc[idx2]))\n",
    "    \n",
    "    return sum(sims)/len(sims)     "
   ]
  },
  {
   "cell_type": "code",
   "execution_count": 25,
   "id": "28c0fb25",
   "metadata": {},
   "outputs": [],
   "source": [
    "def calculate_similarity_matrix(X, y, sim_method='cosine'):\n",
    "    \n",
    "    import similarities\n",
    "    \n",
    "    sim_df = pd.DataFrame(index=y.columns, columns=y.columns)\n",
    "    \n",
    "    for col in y.columns:\n",
    "    \n",
    "        indexes = y[y[col]==1].index\n",
    "        sim_df.loc[col, col] = similarities.calculate_within_class_similarity(X.loc[indexes])\n",
    "    \n",
    "    for col1, col2 in list(combinations(y.columns, 2)):\n",
    "        sim_df.loc[col1, col2] = calculate_between_class_similarities(col1, col2, X, y)\n",
    "    \n",
    "    return sim_df"
   ]
  },
  {
   "cell_type": "code",
   "execution_count": null,
   "id": "b9fa69ab",
   "metadata": {},
   "outputs": [
    {
     "data": {
      "application/vnd.jupyter.widget-view+json": {
       "model_id": "2acbbcf0826e4070ba258b72c46ddaa6",
       "version_major": 2,
       "version_minor": 0
      },
      "text/plain": [
       "Downloading:   0%|          | 0.00/690 [00:00<?, ?B/s]"
      ]
     },
     "metadata": {},
     "output_type": "display_data"
    },
    {
     "data": {
      "application/vnd.jupyter.widget-view+json": {
       "model_id": "4a343f9e76c44129a501cbdf2a72297c",
       "version_major": 2,
       "version_minor": 0
      },
      "text/plain": [
       "Downloading:   0%|          | 0.00/3.99k [00:00<?, ?B/s]"
      ]
     },
     "metadata": {},
     "output_type": "display_data"
    },
    {
     "data": {
      "application/vnd.jupyter.widget-view+json": {
       "model_id": "04c9233342de4fe783dc71617a845a7a",
       "version_major": 2,
       "version_minor": 0
      },
      "text/plain": [
       "Downloading:   0%|          | 0.00/550 [00:00<?, ?B/s]"
      ]
     },
     "metadata": {},
     "output_type": "display_data"
    },
    {
     "data": {
      "application/vnd.jupyter.widget-view+json": {
       "model_id": "5526e4745588402399f7282382c322e1",
       "version_major": 2,
       "version_minor": 0
      },
      "text/plain": [
       "Downloading:   0%|          | 0.00/122 [00:00<?, ?B/s]"
      ]
     },
     "metadata": {},
     "output_type": "display_data"
    },
    {
     "data": {
      "application/vnd.jupyter.widget-view+json": {
       "model_id": "d5821f15559c48f1b8a7b037ff2a5dad",
       "version_major": 2,
       "version_minor": 0
      },
      "text/plain": [
       "Downloading:   0%|          | 0.00/229 [00:00<?, ?B/s]"
      ]
     },
     "metadata": {},
     "output_type": "display_data"
    },
    {
     "data": {
      "application/vnd.jupyter.widget-view+json": {
       "model_id": "764f117949e74a90b5ce11b80687467d",
       "version_major": 2,
       "version_minor": 0
      },
      "text/plain": [
       "Downloading:   0%|          | 0.00/265M [00:00<?, ?B/s]"
      ]
     },
     "metadata": {},
     "output_type": "display_data"
    }
   ],
   "source": [
    "X_num = utilities.vectorize_data(X, embedding_method)\n",
    "X_num = pd.Series([np.squeeze(i) for i in X_num])\n",
    "sim_df = calculate_similarity_matrix(X_num, y)\n",
    "\n",
    "l_sum = 100*np.diag(sim_df).sum()/12 - (sim_df.sum().sum()-np.diag(sim_df).sum())/66\n",
    "print(f'{l_sum:.2f}')  "
   ]
  },
  {
   "cell_type": "code",
   "execution_count": null,
   "id": "73408fdc",
   "metadata": {},
   "outputs": [],
   "source": [
    "# plt.figure()\n",
    "\n",
    "sns.heatmap(sim_df.fillna(0), annot=True,\n",
    "xticklabels=sim_df.columns,\n",
    "yticklabels=sim_df.columns, cmap=\"rocket_r\", ax=ax1)\n",
    "\n",
    "# plt.show()"
   ]
  },
  {
   "cell_type": "code",
   "execution_count": 20,
   "id": "296b099c",
   "metadata": {},
   "outputs": [
    {
     "name": "stdout",
     "output_type": "stream",
     "text": [
      "['information security has technical administrative and physical safeguards in place to help protect against unauthorized access to use or disclosure of user information we maintain under our security practices and policies access to personally identifiable information is authorized only for those who have business need for such access and sensitive records are to be retained only as long as necessary for business or legal needs and destroyed before disposal although we work hard to protect personal information that we collect and store no program is one hundred percent secure and we cannot guarantee that our safeguards will prevent every unauthorized attempt to access use or disclose personal information', 'data retention we will retain your information for the period necessary to fulfill the purposes outlined in this privacy policy unless longer retention period is required or allowed by applicable law']\n",
      "['security we place priority on the security of personal information and we undertake reasonable security measures to help protect the data that resides on our servers we also use secure server software ssl to process all financial transactions that occur on the site ssl technology can encrypt personal information transmitted over the internet however no security system is impenetrable we do not warrant the security of our servers nor do we warrant that your information including personal information will be completely secure or not be intercepted while being transmitted over the internet', 'how do we protect your information has implemented many security measures to protect against the loss misuse and alteration of your information we protect your account information through the use of password to protect the confidentiality of your information you must keep your password confidential and not disclose it to any other person we also work to protect the security of your credit card information during transmission through the use of third party payment processors using secure sockets layer ssl software which encrypts the information you input however keep in mind that no security measures are perfect or impenetrable']\n",
      "['california do not track disclosures california business and professions code section requires us to disclose how we respond to do not track signals we currently take no action to respond to do not track signals', 'california do not track notice some browsers offer do not track feature that lets you tell websites that you do not want to have your online activities tracked we do not respond to these do not track signals at this time we do not track your personal information about your online activities over time and across third party websites we also do not authorize third parties to collect any personal information from you on the sites for these purposes']\n",
      "['contact us link if you contact us through the contact us link on this site we ask you for information such as your first name mail address and other information so we can respond to your questions and comments you may choose to provide additional information as well', 'information automatically collected there are circumstances in which we automatically receive and collect information from you the most common sources of this information include web server logs cookies tags or clear graphics interchange format files known as gifs targeted advertising your device or apps you use including geolocation wireless networks operated by noble in retail stores social networking sites your college or university business partners contractors and other third parties']\n",
      "['your california privacy rights under california shine the light law california residents who provide personal information in obtaining products or services for personal family or household use are entitled to request and obtain from us once per calendar year information about the customer information we shared if any with other businesses for their own direct marketing uses if applicable this information would include the categories of customer information and the names and addresses of those businesses with which we shared customer information for the immediately prior calendar year requests made in will receive information regarding sharing activities', 'governing law safe harbor the site is designed and targeted to audiences and is governed by and operated in accordance with the laws of the we make no representation that this site is operated in accordance with the laws or regulations of or governed by other nations by participating in our site activities you certify that you meet the age and other eligibility requirements for this site as set forth in our terms of use agreement if you do not meet such age and other eligibility requirements please discontinue using the site immediately as your continued use of the site indicates that you are agreeing to the collection use disclosure management and storage of your information as described in this privacy policy']\n",
      "['information we collect we collect the following types of information', 'introduction fox sports digital which is operated and controlled by fox networks group inc has developed this privacy policy to describe how we collect use and disclose information from and about you this privacy policy describes our practices in connection with information collected through the sports related websites the sites mobile sites applications apps widgets and other content and services that are linked to this privacy policy collectively the services including the following sites and tv']\n",
      "['changes to our privacy policy may modify or update this privacy policy from time to time so please review it periodically we may provide you additional forms of notice of modifications or updates as appropriate under the circumstances your continued use of or the service after any modification to this privacy policy will constitute your acceptance of such modification', 'changes to this privacy policy and notice we reserve the right to revise this privacy policy at any time by posting an updated privacy policy without advance notice to you such revisions shall be effective immediately upon posting notice of material changes will be posted on the site homepage and or will be provided by mailing you or notifying you upon login about these changes the form of such notice is at our discretion however we encourage you to check this privacy policy and terms of use agreement often for updates']\n",
      "['enforcement when we receive formal written complaints alleging privacy policy violations we will contact the person who made the complaint to follow up and review compliance with this privacy policy', 'miscellaneous accuracy and confidentiality it is your responsibility to give us current complete truthful and accurate information including personal information and to keep such information up to date we cannot and will not be responsible for any problems or liability that may arise if you do not give us accurate truthful or complete information or personal information or you fail to update such information or personal information we will reject and delete any entry that we believe in good faith to be false fraudulent or inconsistent with this privacy policy']\n",
      "['comments and questions if you have comment or question about this privacy policy please contact guest services our sites and applications may contain links to other sites not owned or controlled by us and we are not responsible for the privacy practices of those sites we encourage you to be aware when you leave our sites or applications and to read the privacy policies of other sites that may collect your personal information', 'how to contact us if you have any questions regarding privacy or this policy you may contact us as follows telephone email address everyday health street floor new york ny privacy policy changes we reserve the right to change modify add or remove portions of this policy at any time and without prior notice and any changes will become effective immediately upon being posted unless we advise you otherwise your continued use of the site or services after this policy has been amended shall be deemed to be your continued acceptance of the terms and conditions of the policy as amended we encourage you to bookmark this web page and review this policy regularly']\n",
      "['ii you have entered contest or sponsored by third party in which case the information you provide via the contest or may be shared by us with that third party for their use in their discretion including direct marketing some of our contests and will ask you at the time of entry whether you would like to have your personal information shared with the sponsor in which case we will honor your selection other contests will not give you that option and in that event if you do not want your information to be shared you should not enter the contest the privacy policies of such third party companies apply to their use and disclosure of your information that we collect and disclose to such third party companies', 'web beacons military web pages and the web pages of our partners also utilize electronic images known as web beacons sometimes called single gifs clear gifs or action tags that allow us to collect certain information about users visits to these web pages including the number of users who have visited those pages measure and improve the effectiveness of advertisements and job postings and deliver co branded services web beacons are not used to access your personally identifiable information they are technique used to compile aggregated statistics about web site usage web beacons collect only limited set of information including cookie number time and date of page view and description of the page on which the web beacon resides this information may be shared with third party processors for processing on behalf of military as well as with clients partners and other third parties so that they can understand the kinds of visitors to the web pages how those visitors use those web pages and the effectiveness of their advertisements and job postings you will find information about current third party processor used by military at we may use other third party processors as well']\n",
      "['right to inspect and copy records you have the right to inspect and obtain copy of any of your health information that may be used to make decisions about you and your treatment for as long as we maintain this information in our records this includes medical and billing records to inspect or obtain copy of your health information please submit your request in writing to the health hospital or clinic at which you received your care if you request copy of the information health may charge fee for the costs of copying mailing or other supplies we use to fulfill your request the standard fee is per page and must generally be paid before or at the time we give the copies to you', 'right to amend records if you believe that the health information we have about you is incorrect or incomplete you may ask health to amend the information you have the right to request an amendment for as long as the information is kept in our records to request an amendment please write to the health privacy officer exchange street suite buffalo ny your request should include the reasons why you think health should make the amendment ordinarily health will respond to your request within days if health needs additional time to respond we will notify you in writing within days to explain the reason for the delay and when you can expect to have final answer to your request']\n",
      "['how we disclose information to third parties we may share your personal information with third parties as specifically approved by you or under the circumstances described below if you do not want us to use or disclose personal information collected about you in the ways identified in this policy you should not use the site or services', 'opting out of certain uses of your personal information and other information other than wireless marketing services and associated promotional opportunities opting out of certain uses of personal information in connection with marketing and promotional mail and offers you may opt out of receiving marketing and promotional mails from us at any time by going to the site home page logging in clicking the account link to deactivate your account or change or edit your preferences you may also use the opt out mechanism that is contained in each such email please note that when you opt out of receiving marketing and promotional mails from us you are not opting out of receiving newsletters from us that you have requested further when you use the opt out mechanism that is contained in an email you are not opting out of receiving marketing and promotional mails from other brands please see section ii below for your newsletter options']\n"
     ]
    }
   ],
   "source": [
    "train_set = []\n",
    "\n",
    "for col in y.columns:\n",
    "    \n",
    "    idxs = y[y[col]==1].index\n",
    "    tmp_set = X.loc[idxs]\n",
    "    \n",
    "    for pair in combinations(tmp_set, 2):\n",
    "        train_set.append(InputExample(texts=list(pair), label=1))"
   ]
  },
  {
   "cell_type": "code",
   "execution_count": null,
   "id": "eb5b228c",
   "metadata": {},
   "outputs": [],
   "source": [
    "model = SentenceTransformer(embedding_method, device='cuda') # stsb-roberta-large\n",
    "\n",
    "train_dataloader = DataLoader(train_set, shuffle=True, batch_size=16)\n",
    "train_loss = losses.CosineSimilarityLoss(model)\n",
    "\n",
    "\n",
    "model.fit(train_objectives=[(train_dataloader, train_loss)], epochs=1, warmup_steps=100)"
   ]
  }
 ],
 "metadata": {
  "kernelspec": {
   "display_name": "Python 3 (ipykernel)",
   "language": "python",
   "name": "python3"
  },
  "language_info": {
   "codemirror_mode": {
    "name": "ipython",
    "version": 3
   },
   "file_extension": ".py",
   "mimetype": "text/x-python",
   "name": "python",
   "nbconvert_exporter": "python",
   "pygments_lexer": "ipython3",
   "version": "3.8.12"
  },
  "latex_envs": {
   "LaTeX_envs_menu_present": true,
   "autoclose": false,
   "autocomplete": true,
   "bibliofile": "biblio.bib",
   "cite_by": "apalike",
   "current_citInitial": 1,
   "eqLabelWithNumbers": true,
   "eqNumInitial": 1,
   "hotkeys": {
    "equation": "Ctrl-E",
    "itemize": "Ctrl-I"
   },
   "labels_anchors": false,
   "latex_user_defs": false,
   "report_style_numbering": false,
   "user_envs_cfg": false
  }
 },
 "nbformat": 4,
 "nbformat_minor": 5
}
