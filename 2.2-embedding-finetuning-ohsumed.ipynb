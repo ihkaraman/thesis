{
 "cells": [
  {
   "cell_type": "code",
   "execution_count": 1,
   "id": "b50cd132",
   "metadata": {},
   "outputs": [],
   "source": [
    "import pandas as pd\n",
    "import numpy as np\n",
    "import os\n",
    "import time\n",
    "import random\n",
    "import torch\n",
    "import pickle\n",
    "import utilities\n",
    "import preprocess\n",
    "import similarities\n",
    "import parameters\n",
    "import seaborn as sns\n",
    "import matplotlib.pyplot as plt\n",
    "from itertools import combinations, product\n",
    "\n",
    "from sentence_transformers import SentenceTransformer, InputExample, losses\n",
    "from torch.utils.data import DataLoader"
   ]
  },
  {
   "cell_type": "code",
   "execution_count": 2,
   "id": "ab8f78de",
   "metadata": {},
   "outputs": [],
   "source": [
    "result_file_name = 'embedding_tuning_ohsumed-3.p'"
   ]
  },
  {
   "cell_type": "code",
   "execution_count": 3,
   "id": "37ae07a6",
   "metadata": {},
   "outputs": [],
   "source": [
    "data = 'ohsumed'"
   ]
  },
  {
   "cell_type": "code",
   "execution_count": 4,
   "id": "fef480da",
   "metadata": {},
   "outputs": [],
   "source": [
    "embedding_methods = ['all-MiniLM-L6-v2', \n",
    "                     'all-MiniLM-L12-v2', \n",
    "                     'all-mpnet-base-v1', \n",
    "                     'all-mpnet-base-v2', \n",
    "                     'all-roberta-large-v1', \n",
    "                     'all-distilroberta-v1']"
   ]
  },
  {
   "cell_type": "code",
   "execution_count": 5,
   "id": "47826c83",
   "metadata": {},
   "outputs": [],
   "source": [
    "random_state = parameters.random_state\n",
    "np.random.seed(random_state)\n",
    "data_paths = parameters.data_paths"
   ]
  },
  {
   "cell_type": "code",
   "execution_count": 6,
   "id": "497097fe",
   "metadata": {},
   "outputs": [],
   "source": [
    "df = utilities.read_data(data_paths[data])\n",
    "X = df['text'].apply(preprocess.preprocess_text)\n",
    "y = df.drop(['text'], axis=1)"
   ]
  },
  {
   "cell_type": "code",
   "execution_count": 7,
   "id": "972cc765",
   "metadata": {},
   "outputs": [],
   "source": [
    "total_samples = dict(y.sum())"
   ]
  },
  {
   "cell_type": "code",
   "execution_count": 8,
   "id": "02ea420c",
   "metadata": {},
   "outputs": [],
   "source": [
    "def calculate_between_class_similarities(col1, col2, X, y):\n",
    "    \n",
    "    sims = []\n",
    "    \n",
    "    for idx1 in y[y[col1]==1].index:\n",
    "        for idx2 in y[y[col2]==1].index:\n",
    "            sims.append(similarities.vector_similarity(X.loc[idx1], X.loc[idx2]))\n",
    "    \n",
    "    return sum(sims)/len(sims)     "
   ]
  },
  {
   "cell_type": "code",
   "execution_count": 9,
   "id": "28c0fb25",
   "metadata": {},
   "outputs": [],
   "source": [
    "def calculate_similarity_matrix(X, y, sim_method='cosine'):\n",
    "    \n",
    "    import similarities\n",
    "    \n",
    "    sim_df = pd.DataFrame(index=y.columns, columns=y.columns)\n",
    "    \n",
    "    for col in y.columns:\n",
    "        sim_df.loc[col, col] = similarities.calculate_similarity_within_classes(X.loc[y[y[col]==1].index], sim_calculation_type='average')\n",
    "    \n",
    "    for col1, col2 in list(combinations(y.columns, 2)):\n",
    "        sim_df.loc[col1, col2] = similarities.calculate_similarity_between_classes(X.loc[y[y[col1]==1].index], X.loc[y[y[col2]==1].index], sim_calculation_type='average')\n",
    "    \n",
    "    return sim_df"
   ]
  },
  {
   "cell_type": "markdown",
   "id": "9b6ce54a",
   "metadata": {},
   "source": [
    "def calculate_similarity_matrix(X, y, sim_method='cosine'):\n",
    "    \n",
    "    import similarities\n",
    "    import ray\n",
    "    ray.init(num_cpus=2)\n",
    "    \n",
    "    @ray.remote\n",
    "    def run1(indexes):\n",
    "        sims = similarities.calculate_similarity_within_classes(indexes, 'average')\n",
    "        return sims\n",
    "\n",
    "    sim_df = pd.DataFrame(index=y.columns, columns=y.columns)\n",
    "    \n",
    "    futures = [run1.remote(X.loc[y[y[col]==1].index]) for col in y.columns]\n",
    "    results = ray.get(futures)\n",
    "    \n",
    "    for idx, col in enumerate(y.columns):\n",
    "        sim_df.loc[col, col] = results[idx]\n",
    "    \n",
    "    @ray.remote\n",
    "    def run2(indexes1, indexes2):\n",
    "        sims = similarities.calculate_similarity_between_classes(indexes1, indexes2, 'average')\n",
    "        return sims\n",
    "    \n",
    "    futures2 = [run2.remote(X.loc[y[y[col1]==1].index], X.loc[y[y[col2]==1].index]) for col1, col2 in list(combinations(y.columns, 2))]\n",
    "    results2 = ray.get(futures2)    \n",
    "    \n",
    "    for idx, cols in enumerate(list(combinations(y.columns, 2))):\n",
    "        \n",
    "        col1, col2 = cols\n",
    "        sim_df.loc[col1, col2] = results2[idx]\n",
    "    \n",
    "    return sim_df"
   ]
  },
  {
   "cell_type": "code",
   "execution_count": 10,
   "id": "86cd219f",
   "metadata": {},
   "outputs": [],
   "source": [
    "def calculate_matrix_score(sim_df):\n",
    "    scores = []\n",
    "    for col in sim_df.columns:\n",
    "        scores.append((sim_df.loc[col, col] - sim_df.loc[col].drop(col).max())/sim_df.loc[col, col])\n",
    "    return scores"
   ]
  },
  {
   "cell_type": "code",
   "execution_count": 11,
   "id": "8626a2a8",
   "metadata": {},
   "outputs": [],
   "source": [
    "def vectorize_data(text, model):\n",
    "    \n",
    "    # model = SentenceTransformer(model_name)\n",
    "    device = \"cuda:0\" if torch.cuda.is_available() else \"cpu\"\n",
    "    vectors = model.encode(text, convert_to_tensor=False, device=device)\n",
    "    \n",
    "    return vectors"
   ]
  },
  {
   "cell_type": "code",
   "execution_count": 12,
   "id": "c60b6b91",
   "metadata": {},
   "outputs": [],
   "source": [
    "def create_train_data(X, y, samples):\n",
    "    \n",
    "    train_set = []\n",
    "\n",
    "    for col in y.columns:\n",
    "\n",
    "        idxs = y[y[col]==1].index\n",
    "        \n",
    "        tmp_set = X.loc[idxs].sample(samples[col])\n",
    "        \n",
    "        for pair in combinations(tmp_set, 2):\n",
    "            train_set.append(InputExample(texts=list(pair), label=1.0))\n",
    "\n",
    "    for col1, col2 in combinations(y.columns,2):\n",
    "        \n",
    "        sample_num = samples[(col1, col2)]\n",
    "        idxs1 = y[(y[col1]==1)&(y[col2]==0)].index\n",
    "        idxs2 = y[(y[col2]==1)&(y[col1]==0)].index\n",
    "        tmp_samples = random.sample(list(product(idxs1, idxs2)), sample_num)\n",
    "        \n",
    "        tmp_set1 = X.loc[[i[0] for i in tmp_samples]]\n",
    "        tmp_set2 = X.loc[[i[1] for i in tmp_samples]]\n",
    "        \n",
    "        for pair in zip(tmp_set1, tmp_set2):\n",
    "            train_set.append(InputExample(texts=list(pair), label=0.0))\n",
    "\n",
    "    print(len(train_set))\n",
    "    \n",
    "    return train_set"
   ]
  },
  {
   "cell_type": "code",
   "execution_count": 13,
   "id": "3685199c",
   "metadata": {},
   "outputs": [],
   "source": [
    "def create_initial_samples(y, sample_nums, between_col):    \n",
    "    samples = {}\n",
    "\n",
    "    for col in y.columns:\n",
    "        samples[col] = sample_nums[col]\n",
    "\n",
    "    for col1, col2 in combinations(y.columns, 2):\n",
    "        samples[(col1, col2)] = between_col[(col1, col2)]\n",
    "        \n",
    "    return samples"
   ]
  },
  {
   "cell_type": "code",
   "execution_count": 14,
   "id": "9a08701b",
   "metadata": {},
   "outputs": [],
   "source": [
    "def update_sample_sizes(simd_df, samples):\n",
    "    \n",
    "    for col1, col2 in combinations(simd_df.columns, 2):\n",
    "        if simd_df.loc[col1, col2] > 0.2:\n",
    "            samples[(col1, col2)] = int((1/(1-simd_df.loc[col1, col2]))*samples[(col1, col2)])\n",
    "        \n",
    "        if samples[(col1, col2)] > total_samples[col1]*total_samples[col2]:\n",
    "            samples[(col1, col2)] = int(total_samples[col1]*total_samples[col2])\n",
    "            \n",
    "    for col in simd_df.columns:\n",
    "        if simd_df.loc[col, col] < 0.5:\n",
    "            samples[col] = int((1/simd_df.loc[col, col])*samples[col])\n",
    "            \n",
    "        if samples[col] > total_samples[col]:\n",
    "            samples[col] = total_samples[col]\n",
    "            \n",
    "    return samples"
   ]
  },
  {
   "cell_type": "code",
   "execution_count": 15,
   "id": "ae824b2a",
   "metadata": {},
   "outputs": [],
   "source": [
    "if not os.path.exists(result_file_name):\n",
    "    tuning_results = {}\n",
    "    with open(result_file_name, 'wb') as f:\n",
    "        pickle.dump(tuning_results, f)"
   ]
  },
  {
   "cell_type": "code",
   "execution_count": 16,
   "id": "6fd2384f",
   "metadata": {},
   "outputs": [],
   "source": [
    "with open(result_file_name, 'rb') as f:\n",
    "    tuning_results = pickle.load(f)"
   ]
  },
  {
   "cell_type": "code",
   "execution_count": 17,
   "id": "dc97401e",
   "metadata": {},
   "outputs": [],
   "source": [
    "def fill_symmetry(sim_df):\n",
    "    for col1, col2 in combinations(sim_df.columns, 2):\n",
    "        sim_df.loc[col2, col1] = sim_df.loc[col1, col2] \n",
    "    return sim_dfb"
   ]
  },
  {
   "cell_type": "code",
   "execution_count": 18,
   "id": "4f5695d8",
   "metadata": {},
   "outputs": [],
   "source": [
    "def scoring(sim_df):    \n",
    "    scores = calculate_matrix_score(sim_df)[:-1]\n",
    "    print(f'max: {max(scores):.2f}, min: {min(scores):.2f}, avg: {sum(scores)/len(scores):.2f}')\n",
    "\n",
    "    l_sum = 100*np.diag(sim_df).sum()/12 - (sim_df.sum().sum()-np.diag(sim_df).sum())/66\n",
    "    print(f'{l_sum:.2f}') "
   ]
  },
  {
   "cell_type": "code",
   "execution_count": 19,
   "id": "879757d6",
   "metadata": {},
   "outputs": [],
   "source": [
    "with open('embedding_results_ohsumed.p', 'rb') as f:\n",
    "    initial_results = pickle.load(f)"
   ]
  },
  {
   "cell_type": "code",
   "execution_count": 20,
   "id": "fa8bd1a9",
   "metadata": {},
   "outputs": [],
   "source": [
    "sample_nums = dict(zip(y.columns, [60]*len(y.columns)))\n",
    "sample_nums['c01'] = 100\n",
    "sample_nums['c05'] = 100\n",
    "sample_nums['c10'] = 100\n",
    "sample_nums['c20'] = 100\n",
    "sample_nums['c15'] = 100\n",
    "sample_nums['c21'] = 100"
   ]
  },
  {
   "cell_type": "code",
   "execution_count": 21,
   "id": "b5bf560d",
   "metadata": {},
   "outputs": [],
   "source": [
    "between_col_samples = dict(zip(list(combinations(y.columns,2)), [100]*len(list(combinations(y.columns,2)))))\n",
    "between_col_samples[('c01', '20')] = 200\n",
    "between_col_samples[('c02', 'c20')] = 400\n",
    "between_col_samples[('c05', 'c21')] = 200\n",
    "between_col_samples[('c13', 'c16')] = 200\n",
    "between_col_samples[('c15', 'c20')] = 200\n",
    "between_col_samples[('c15', 'c20')] = 200"
   ]
  },
  {
   "cell_type": "code",
   "execution_count": null,
   "id": "297fe5c1",
   "metadata": {},
   "outputs": [],
   "source": [
    "embedding_method = 'all-mpnet-base-v1'\n",
    "# all-MiniLM-L6-v2\n",
    "\n",
    "before_X_num = utilities.vectorize_data(X, embedding_method)\n",
    "sim_df2 = calculate_similarity_matrix(before_X_num, y)"
   ]
  },
  {
   "cell_type": "code",
   "execution_count": null,
   "id": "1ccb0805",
   "metadata": {
    "scrolled": false
   },
   "outputs": [],
   "source": [
    "samples = create_initial_samples(y, sample_nums, between_col_samples)\n",
    "i = 0       \n",
    "for seed in range(1):\n",
    "    \n",
    "    model = SentenceTransformer(embedding_method, device='cuda')\n",
    "\n",
    "    t1 = time.time() \n",
    "    train_set = create_train_data(X, y, samples)\n",
    "    \n",
    "    train_dataloader = DataLoader(train_set, shuffle=True, batch_size=6)\n",
    "    train_loss = losses.CosineSimilarityLoss(model)\n",
    "    model.fit(train_objectives=[(train_dataloader, train_loss)], epochs=2, warmup_steps=50)\n",
    "    t2 = time.time()\n",
    "    print('fit time: ',(t2-t1)/60)\n",
    "    X_num = vectorize_data(X, model)\n",
    "    X_num = pd.Series([np.squeeze(i) for i in X_num])\n",
    "    sim_df = calculate_similarity_matrix(X_num, y)\n",
    "    t3 = time.time()\n",
    "    print('sim calc time: ',(t3-t2)/60)\n",
    "    plt.figure(i, figsize=(8,5)) \n",
    "    sns.heatmap(sim_df.fillna(0), annot=True,\n",
    "                         xticklabels=sim_df.columns,\n",
    "                         yticklabels=sim_df.columns, cmap=\"rocket_r\")\n",
    "    plt.show()\n",
    "    i += 1\n",
    "    \n",
    "    \n",
    "    \n",
    "    plt.figure(i, figsize=(8,5)) \n",
    "    sns.heatmap(sim_df2.fillna(0), annot=True,\n",
    "                         xticklabels=sim_df2.columns,\n",
    "                         yticklabels=sim_df2.columns, cmap=\"rocket_r\")\n",
    "    "
   ]
  },
  {
   "cell_type": "code",
   "execution_count": null,
   "id": "014ca632",
   "metadata": {},
   "outputs": [],
   "source": [
    "stop"
   ]
  },
  {
   "cell_type": "code",
   "execution_count": null,
   "id": "1bf9308a",
   "metadata": {},
   "outputs": [],
   "source": [
    "plt.figure(i, figsize=(8,5)) \n",
    "sns.heatmap(sim_df.fillna(0), annot=True,\n",
    "                     xticklabels=sim_df.columns,\n",
    "                     yticklabels=sim_df.columns, cmap=\"rocket_r\")\n",
    "plt.show()\n",
    "i += 1\n",
    "\n",
    "\n",
    "\n",
    "plt.figure(i, figsize=(8,5)) \n",
    "sns.heatmap(sim_df2.fillna(0), annot=True,\n",
    "                     xticklabels=sim_df2.columns,\n",
    "                     yticklabels=sim_df2.columns, cmap=\"rocket_r\")"
   ]
  },
  {
   "cell_type": "code",
   "execution_count": null,
   "id": "ac1623b6",
   "metadata": {},
   "outputs": [],
   "source": [
    "fit time:  59.23926930427551\n",
    "sim calc time:  252.00236877600352"
   ]
  },
  {
   "cell_type": "code",
   "execution_count": null,
   "id": "a896e387",
   "metadata": {
    "scrolled": false
   },
   "outputs": [],
   "source": [
    "tuning_results['all-MiniLM-L6-v2']"
   ]
  },
  {
   "cell_type": "code",
   "execution_count": null,
   "id": "a165751b",
   "metadata": {},
   "outputs": [],
   "source": [
    "with open(result_file_name, 'rb') as f:\n",
    "    tuning_results = pickle.load(f)"
   ]
  },
  {
   "cell_type": "code",
   "execution_count": null,
   "id": "1e9a67f6",
   "metadata": {},
   "outputs": [],
   "source": [
    "aa.keys()"
   ]
  },
  {
   "cell_type": "code",
   "execution_count": null,
   "id": "a43fd1a0",
   "metadata": {},
   "outputs": [],
   "source": [
    "def scoring(sim_df):    \n",
    "    scores = calculate_matrix_score(sim_df)[:-1]\n",
    "    print(f'max: {max(scores):.2f}, min: {min(scores):.2f}, avg: {sum(scores)/len(scores):.2f}')\n",
    "\n",
    "    l_sum = 100*np.diag(sim_df).sum()/12 - (sim_df.sum().sum()-np.diag(sim_df).sum())/66\n",
    "    print(f'{l_sum:.2f}') "
   ]
  },
  {
   "cell_type": "code",
   "execution_count": null,
   "id": "dd4afb9f",
   "metadata": {
    "scrolled": false
   },
   "outputs": [],
   "source": [
    "for k,v in tuning_results.items():\n",
    "    print(k)\n",
    "    print('before')\n",
    "    scoring(v[0])\n",
    "    print('after')\n",
    "    scoring(v[1])\n",
    "    \n",
    "    # fig, axes = plt.subplots(1, 2, figsize=(16,5), squeeze=False)\n",
    "    fig, axes = plt.subplots(ncols=2, figsize=(18, 6))\n",
    "    ax1, ax2 = axes\n",
    "    sns.heatmap(v[0].fillna(0), annot=True,\n",
    "                        xticklabels=v[0].columns,\n",
    "                        yticklabels=v[0].columns, ax=ax1, cmap=\"rocket_r\")\n",
    "    sns.heatmap(v[1].fillna(0), annot=True,\n",
    "                        xticklabels=v[1].columns,\n",
    "                        yticklabels=v[1].columns, ax=ax2, cmap=\"rocket_r\")\n",
    "\n",
    "    plt.show()\n",
    "\n",
    "    print('*'*70)"
   ]
  },
  {
   "cell_type": "code",
   "execution_count": null,
   "id": "4e647fa8",
   "metadata": {},
   "outputs": [],
   "source": []
  }
 ],
 "metadata": {
  "kernelspec": {
   "display_name": "Python 3 (ipykernel)",
   "language": "python",
   "name": "python3"
  },
  "language_info": {
   "codemirror_mode": {
    "name": "ipython",
    "version": 3
   },
   "file_extension": ".py",
   "mimetype": "text/x-python",
   "name": "python",
   "nbconvert_exporter": "python",
   "pygments_lexer": "ipython3",
   "version": "3.9.12"
  },
  "latex_envs": {
   "LaTeX_envs_menu_present": true,
   "autoclose": false,
   "autocomplete": true,
   "bibliofile": "biblio.bib",
   "cite_by": "apalike",
   "current_citInitial": 1,
   "eqLabelWithNumbers": true,
   "eqNumInitial": 1,
   "hotkeys": {
    "equation": "Ctrl-E",
    "itemize": "Ctrl-I"
   },
   "labels_anchors": false,
   "latex_user_defs": false,
   "report_style_numbering": false,
   "user_envs_cfg": false
  }
 },
 "nbformat": 4,
 "nbformat_minor": 5
}
