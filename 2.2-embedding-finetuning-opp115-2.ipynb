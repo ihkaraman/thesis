{
 "cells": [
  {
   "cell_type": "code",
   "execution_count": 1,
   "id": "b50cd132",
   "metadata": {},
   "outputs": [],
   "source": [
    "import pandas as pd\n",
    "import numpy as np\n",
    "import os\n",
    "import random\n",
    "import torch\n",
    "import pickle\n",
    "import utilities\n",
    "import preprocess\n",
    "import similarities\n",
    "import parameters\n",
    "import seaborn as sns\n",
    "import matplotlib.pyplot as plt\n",
    "from itertools import combinations, product\n",
    "\n",
    "from sentence_transformers import SentenceTransformer, InputExample, losses\n",
    "from torch.utils.data import DataLoader"
   ]
  },
  {
   "cell_type": "code",
   "execution_count": 2,
   "id": "ab8f78de",
   "metadata": {},
   "outputs": [],
   "source": [
    "result_file_name = 'embedding_tuning_opp115-6.p'"
   ]
  },
  {
   "cell_type": "code",
   "execution_count": 3,
   "id": "37ae07a6",
   "metadata": {},
   "outputs": [],
   "source": [
    "data = 'opp115'"
   ]
  },
  {
   "cell_type": "code",
   "execution_count": 4,
   "id": "fef480da",
   "metadata": {},
   "outputs": [],
   "source": [
    "embedding_methods = ['stsb-roberta-large',\n",
    "                     'paraphrase-MiniLM-L6-v2',\n",
    "                     'all-mpnet-base-v1',\n",
    "                     'all-mpnet-base-v2',\n",
    "                     'distiluse-base-multilingual-cased-v1']"
   ]
  },
  {
   "cell_type": "code",
   "execution_count": 5,
   "id": "47826c83",
   "metadata": {},
   "outputs": [],
   "source": [
    "random_state = parameters.random_state\n",
    "np.random.seed(random_state)\n",
    "data_paths = parameters.data_paths"
   ]
  },
  {
   "cell_type": "code",
   "execution_count": 6,
   "id": "497097fe",
   "metadata": {},
   "outputs": [],
   "source": [
    "df = utilities.read_data(data_paths[data])\n",
    "X = df['text'].apply(preprocess.preprocess_text)\n",
    "y = df.drop(['text'], axis=1)"
   ]
  },
  {
   "cell_type": "code",
   "execution_count": 7,
   "id": "02ea420c",
   "metadata": {},
   "outputs": [],
   "source": [
    "def calculate_between_class_similarities(col1, col2, X, y):\n",
    "    \n",
    "    sims = []\n",
    "    \n",
    "    for idx1 in y[y[col1]==1].index:\n",
    "        for idx2 in y[y[col2]==1].index:\n",
    "            sims.append(similarities.vector_similarity(X.loc[idx1], X.loc[idx2]))\n",
    "    \n",
    "    return sum(sims)/len(sims)     "
   ]
  },
  {
   "cell_type": "code",
   "execution_count": 8,
   "id": "28c0fb25",
   "metadata": {},
   "outputs": [],
   "source": [
    "def calculate_similarity_matrix(X, y, sim_method='cosine'):\n",
    "    \n",
    "    import similarities\n",
    "    \n",
    "    sim_df = pd.DataFrame(index=y.columns, columns=y.columns)\n",
    "    \n",
    "    for col in y.columns:\n",
    "        sim_df.loc[col, col] = similarities.calculate_similarity_within_classes(X.loc[y[y[col]==1].index], sim_calculation_type='average')\n",
    "    \n",
    "    for col1, col2 in list(combinations(y.columns, 2)):\n",
    "        sim_df.loc[col1, col2] = similarities.calculate_similarity_between_classes(X.loc[y[y[col1]==1].index], X.loc[y[y[col2]==1].index], sim_calculation_type='average')\n",
    "    \n",
    "    return sim_df"
   ]
  },
  {
   "cell_type": "code",
   "execution_count": 9,
   "id": "86cd219f",
   "metadata": {},
   "outputs": [],
   "source": [
    "def calculate_matrix_score(sim_df):\n",
    "    scores = []\n",
    "    for col in sim_df.columns:\n",
    "        scores.append((sim_df.loc[col, col] - sim_df.loc[col].drop(col).max())/sim_df.loc[col, col])\n",
    "    return scores"
   ]
  },
  {
   "cell_type": "code",
   "execution_count": 10,
   "id": "8626a2a8",
   "metadata": {},
   "outputs": [],
   "source": [
    "def vectorize_data(text, model):\n",
    "    \n",
    "    # model = SentenceTransformer(model_name)\n",
    "    device = \"cuda:0\" if torch.cuda.is_available() else \"cpu\"\n",
    "    vectors = model.encode(text, convert_to_tensor=False, device=device)\n",
    "    \n",
    "    return vectors"
   ]
  },
  {
   "cell_type": "code",
   "execution_count": 11,
   "id": "3ba995cd",
   "metadata": {},
   "outputs": [],
   "source": [
    "def find_best_samples(X_set, sample_size):\n",
    "    \n",
    "    sims = {}\n",
    "    for idx in X_set.index:\n",
    "        \n",
    "        all_idxs = list(X_set.index)\n",
    "        all_idxs.remove(idx)\n",
    "        \n",
    "        sims[idx] = similarities.calculate_similarity_between_vector_and_class(X_set.loc[idx], X_set.loc[all_idxs], \n",
    "                                                                               sim_calculation_type='average', sim_type='cosine')\n",
    "        \n",
    "    top_ins = sorted(sims, key=sims.get, reverse=True)[:sample_size]\n",
    "    \n",
    "    return top_ins"
   ]
  },
  {
   "cell_type": "code",
   "execution_count": 12,
   "id": "c60b6b91",
   "metadata": {},
   "outputs": [],
   "source": [
    "def create_train_data(X, y, samples, seed=8):\n",
    "    \n",
    "    train_set = []\n",
    "    np.random.seed(seed)\n",
    "    for col in y.columns:\n",
    "\n",
    "        idxs = y[y[col]==1].index\n",
    "\n",
    "        tmp_set = X.loc[idxs].sample(samples[col])\n",
    "        \n",
    "        for pair in combinations(tmp_set, 2):\n",
    "            train_set.append(InputExample(texts=list(pair), label=1.0))\n",
    "\n",
    "    for col1, col2 in combinations(y.columns,2):\n",
    "        \n",
    "        sample_num = samples[(col1, col2)]\n",
    "        \n",
    "        idxs1 = y[(y[col1]==1)&(y[col2]==0)].index\n",
    "        idxs2 = y[(y[col2]==1)&(y[col1]==0)].index\n",
    "        tmp_samples = random.sample(list(product(idxs1, idxs2)), sample_num)\n",
    "        \n",
    "        tmp_set1 = X.loc[[i[0] for i in tmp_samples]]\n",
    "        tmp_set2 = X.loc[[i[1] for i in tmp_samples]]\n",
    "        \n",
    "        for pair in zip(tmp_set1, tmp_set2):\n",
    "            train_set.append(InputExample(texts=list(pair), label=0.0))\n",
    "\n",
    "    print(len(train_set))\n",
    "    \n",
    "    return train_set"
   ]
  },
  {
   "cell_type": "code",
   "execution_count": 13,
   "id": "ae824b2a",
   "metadata": {},
   "outputs": [],
   "source": [
    "if not os.path.exists(result_file_name):\n",
    "    tuning_results = []\n",
    "    with open(result_file_name, 'wb') as f:\n",
    "        pickle.dump(tuning_results, f)"
   ]
  },
  {
   "cell_type": "code",
   "execution_count": 14,
   "id": "6fd2384f",
   "metadata": {},
   "outputs": [],
   "source": [
    "with open(result_file_name, 'rb') as f:\n",
    "    tuning_results = pickle.load(f)"
   ]
  },
  {
   "cell_type": "code",
   "execution_count": 15,
   "id": "0981934a",
   "metadata": {},
   "outputs": [],
   "source": [
    "total_samples = dict(y.sum())"
   ]
  },
  {
   "cell_type": "code",
   "execution_count": 16,
   "id": "d3b78a5e",
   "metadata": {},
   "outputs": [],
   "source": [
    "def create_train_data_with_all_data(X, y):\n",
    "    \n",
    "    train_set = []\n",
    "    \n",
    "    for col in y.columns:\n",
    "\n",
    "        idxs = y[y[col]==1].index\n",
    "\n",
    "        tmp_set = X.loc[idxs]\n",
    "\n",
    "        for pair in combinations(tmp_set, 2):\n",
    "            train_set.append(InputExample(texts=list(pair), label=1.0))\n",
    "\n",
    "    for col1, col2 in combinations(y.columns,2):\n",
    "        \n",
    "        \n",
    "        idxs1 = y[(y[col1]==1)&(y[col2]==0)].index\n",
    "        idxs2 = y[(y[col2]==1)&(y[col1]==0)].index\n",
    "        tmp_samples = list(product(idxs1, idxs2))\n",
    "\n",
    "        tmp_set1 = X.loc[[i[0] for i in tmp_samples]]\n",
    "        tmp_set2 = X.loc[[i[1] for i in tmp_samples]]\n",
    "        \n",
    "        for pair in zip(tmp_set1, tmp_set2):\n",
    "            train_set.append(InputExample(texts=list(pair), label=0.0))\n",
    "\n",
    "    print(len(train_set))\n",
    "    \n",
    "    return train_set\n"
   ]
  },
  {
   "cell_type": "code",
   "execution_count": 17,
   "id": "968a7cd8",
   "metadata": {},
   "outputs": [],
   "source": [
    "def create_initial_samples(y, sample_nums, between_col):    \n",
    "    samples = {}\n",
    "\n",
    "    for col in y.columns:\n",
    "        samples[col] = sample_nums[col]\n",
    "\n",
    "    for col1, col2 in combinations(y.columns, 2):\n",
    "        samples[(col1, col2)] = between_col[(col1, col2)]\n",
    "        \n",
    "    return samples"
   ]
  },
  {
   "cell_type": "code",
   "execution_count": 18,
   "id": "8641c036",
   "metadata": {},
   "outputs": [],
   "source": [
    "def update_sample_sizes(simd_df, samples):\n",
    "    \n",
    "    for col1, col2 in combinations(simd_df.columns, 2):\n",
    "        if simd_df.loc[col1, col2] > 0.2:\n",
    "            samples[(col1, col2)] = int((1/(1-simd_df.loc[col1, col2]))*samples[(col1, col2)])\n",
    "        \n",
    "        if samples[(col1, col2)] > total_samples[col1]*total_samples[col2]:\n",
    "            samples[(col1, col2)] = int(total_samples[col1]*total_samples[col2])\n",
    "            \n",
    "    for col in simd_df.columns:\n",
    "        if simd_df.loc[col, col] < 0.5:\n",
    "            samples[col] = int((1/simd_df.loc[col, col])*samples[col])\n",
    "            \n",
    "        if samples[col] > total_samples[col]:\n",
    "            samples[col] = total_samples[col]\n",
    "            \n",
    "    return samples"
   ]
  },
  {
   "cell_type": "code",
   "execution_count": 19,
   "id": "f6c0d3d4",
   "metadata": {},
   "outputs": [],
   "source": [
    "def fill_symmetry(sim_df):\n",
    "    for col1, col2 in combinations(sim_df.columns, 2):\n",
    "        sim_df.loc[col2, col1] = sim_df.loc[col1, col2] \n",
    "    return sim_df"
   ]
  },
  {
   "cell_type": "code",
   "execution_count": 20,
   "id": "17c76b9e",
   "metadata": {},
   "outputs": [],
   "source": [
    "def check_stopping(sim_df):\n",
    "    \n",
    "    sim_df = fill_symmetry(sim_df)\n",
    "    \n",
    "    for col in sim_df.columns:\n",
    "        if sim_df.loc[col, col] < 1.5*(max(sim_df.loc[col].drop(col))):\n",
    "            return False\n",
    "        \n",
    "    return True"
   ]
  },
  {
   "cell_type": "code",
   "execution_count": 21,
   "id": "82569d9b",
   "metadata": {},
   "outputs": [],
   "source": [
    "def scoring(sim_df):    \n",
    "    scores = calculate_matrix_score(sim_df)[:-1]\n",
    "    print(f'max: {max(scores):.2f}, min: {min(scores):.2f}, avg: {sum(scores)/len(scores):.2f}')\n",
    "\n",
    "    l_sum = 100*np.diag(sim_df).sum()/12 - (sim_df.sum().sum()-np.diag(sim_df).sum())/66\n",
    "    print(f'{l_sum:.2f}') "
   ]
  },
  {
   "cell_type": "code",
   "execution_count": 22,
   "id": "8b1488da",
   "metadata": {},
   "outputs": [],
   "source": [
    "sample_nums = {'Data Retention': 25,\n",
    " 'Data Security': 25,\n",
    " 'Do Not Track': 25,\n",
    " 'First Party Collection/Use': 180,\n",
    " 'International and Specific Audiences': 20,\n",
    " 'Introductory/Generic': 100,\n",
    " 'Policy Change': 20,\n",
    " 'Practice not covered': 75,\n",
    " 'Privacy contact information': 20,\n",
    " 'Third Party Sharing/Collection': 200,\n",
    " 'User Access, Edit and Deletion': 40,\n",
    " 'User Choice/Control': 40}"
   ]
  },
  {
   "cell_type": "code",
   "execution_count": 23,
   "id": "67dc14a2",
   "metadata": {},
   "outputs": [],
   "source": [
    "between_col_samples = dict(zip(list(combinations(y.columns,2)), [40]*len(list(combinations(y.columns,2)))))\n",
    "between_col_samples[('First Party Collection/Use', 'Third Party Sharing/Collection')] = 600\n",
    "between_col_samples[('First Party Collection/Use', 'Practice not covered')] = 150\n",
    "between_col_samples[('First Party Collection/Use', 'Introductory/Generic')] = 50\n",
    "between_col_samples[('Introductory/Generic', 'Practice not covered')] = 100\n",
    "between_col_samples[('Practice not covered', 'Third Party Sharing/Collection')] = 150\n",
    "between_col_samples[('Data Retention', 'User Access, Edit and Deletion')] = 30\n",
    "between_col_samples[('User Access, Edit and Deletion', 'User Choice/Control')] = 50"
   ]
  },
  {
   "cell_type": "code",
   "execution_count": 24,
   "id": "955e5fb4",
   "metadata": {},
   "outputs": [],
   "source": [
    "def reduce_dimension(X, n_comp=200):\n",
    "    \n",
    "    X_ = np.vstack(X.values)\n",
    "\n",
    "    from sklearn.decomposition import TruncatedSVD\n",
    "    svd = TruncatedSVD(n_components=n_comp)\n",
    "    X_reduced = svd.fit_transform(X_)\n",
    "    \n",
    "    return pd.Series([np.squeeze(i) for i in X_reduced], index=X.index)"
   ]
  },
  {
   "cell_type": "code",
   "execution_count": null,
   "id": "afcad784",
   "metadata": {
    "scrolled": false
   },
   "outputs": [
    {
     "name": "stdout",
     "output_type": "stream",
     "text": [
      "50255\n"
     ]
    },
    {
     "name": "stderr",
     "output_type": "stream",
     "text": [
      "C:\\Users\\IsmailKaraman\\anaconda3\\lib\\site-packages\\transformers\\optimization.py:306: FutureWarning: This implementation of AdamW is deprecated and will be removed in a future version. Use the PyTorch implementation torch.optim.AdamW instead, or set `no_deprecation_warning=True` to disable this warning\n",
      "  warnings.warn(\n"
     ]
    },
    {
     "data": {
      "application/vnd.jupyter.widget-view+json": {
       "model_id": "72921d37c8344c358c879d350f0f0e32",
       "version_major": 2,
       "version_minor": 0
      },
      "text/plain": [
       "Epoch:   0%|          | 0/3 [00:00<?, ?it/s]"
      ]
     },
     "metadata": {},
     "output_type": "display_data"
    },
    {
     "data": {
      "application/vnd.jupyter.widget-view+json": {
       "model_id": "78144960e4e945669181c0d85c928c66",
       "version_major": 2,
       "version_minor": 0
      },
      "text/plain": [
       "Iteration:   0%|          | 0/8376 [00:00<?, ?it/s]"
      ]
     },
     "metadata": {},
     "output_type": "display_data"
    },
    {
     "data": {
      "application/vnd.jupyter.widget-view+json": {
       "model_id": "32283062642c4849a3aee8d579ff7ebd",
       "version_major": 2,
       "version_minor": 0
      },
      "text/plain": [
       "Iteration:   0%|          | 0/8376 [00:00<?, ?it/s]"
      ]
     },
     "metadata": {},
     "output_type": "display_data"
    }
   ],
   "source": [
    "embedding_method = 'all-mpnet-base-v1'\n",
    "# X_num = utilities.vectorize_data(X, embedding_method)\n",
    "# sim_df = calculate_similarity_matrix(X_num, y)\n",
    "\n",
    "i = 0\n",
    "\n",
    "samples = create_initial_samples(y, sample_nums, between_col_samples)\n",
    "before_X_num = pd.read_pickle('data/X_num_opp115.p')\n",
    "\n",
    "for seed in range(1):\n",
    "    \n",
    "    model = SentenceTransformer(embedding_method, device='cuda')\n",
    "    \n",
    "    if not samples:\n",
    "        samples = create_initial_samples(y, sample_nums, between_col_samples)\n",
    "        print('initial samples are created!')\n",
    "     \n",
    "    train_set = create_train_data(X, y, samples)\n",
    "    \n",
    "    train_dataloader = DataLoader(train_set, shuffle=True, batch_size=6)\n",
    "    train_loss = losses.CosineSimilarityLoss(model)\n",
    "    model.fit(train_objectives=[(train_dataloader, train_loss)], epochs=3, warmup_steps=25)\n",
    "    \n",
    "    X_num = vectorize_data(X, model)\n",
    "    X_num = reduce_dimension(X_num)\n",
    "    X_num = pd.Series([np.squeeze(i) for i in X_num])\n",
    "    sim_df = calculate_similarity_matrix(X_num, y)\n",
    "    \n",
    "    plt.figure(i, figsize=(8,5)) \n",
    "    sns.heatmap(sim_df.fillna(0), annot=True,\n",
    "                         xticklabels=sim_df.columns,\n",
    "                         yticklabels=sim_df.columns, cmap=\"rocket_r\")\n",
    "    plt.show()\n",
    "    i += 1\n",
    "    \n",
    "    sim_df2 = calculate_similarity_matrix(before_X_num, y)\n",
    "    \n",
    "    plt.figure(i, figsize=(8,5)) \n",
    "    sns.heatmap(sim_df2.fillna(0), annot=True,\n",
    "                         xticklabels=sim_df2.columns,\n",
    "                         yticklabels=sim_df2.columns, cmap=\"rocket_r\")\n",
    "    \n",
    "    \n",
    "    # samples = update_sample_sizes(sim_df, samples)"
   ]
  },
  {
   "cell_type": "code",
   "execution_count": null,
   "id": "8e3f8a2a",
   "metadata": {},
   "outputs": [],
   "source": [
    "ss"
   ]
  },
  {
   "cell_type": "code",
   "execution_count": null,
   "id": "8d6482fe",
   "metadata": {},
   "outputs": [],
   "source": [
    "X_num"
   ]
  },
  {
   "cell_type": "code",
   "execution_count": null,
   "id": "7894b2d0",
   "metadata": {},
   "outputs": [],
   "source": [
    "X_num.to_pickle('X_num_opp115.p')"
   ]
  },
  {
   "cell_type": "code",
   "execution_count": null,
   "id": "7b8f24e8",
   "metadata": {},
   "outputs": [],
   "source": [
    "at = pd.read_pickle('X_num_opp115.p')\n",
    "at"
   ]
  },
  {
   "cell_type": "code",
   "execution_count": null,
   "id": "d73491d0",
   "metadata": {
    "scrolled": false
   },
   "outputs": [],
   "source": [
    "embedding_method = 'all-mpnet-base-v1'\n",
    "X_num = utilities.vectorize_data(X, embedding_method)\n",
    "sim_df = calculate_similarity_matrix(X_num, y)\n",
    "tuning_results.append(sim_df)\n",
    "\n",
    "model = SentenceTransformer(embedding_method, device='cuda') \n",
    "\n",
    "i = 0\n",
    "while True:\n",
    "    \n",
    "    samples = update_sample_sizes(sim_df, samples)\n",
    "    train_set = create_train_data(X, y, samples)\n",
    "    print(samples)\n",
    "    train_dataloader = DataLoader(train_set, shuffle=True, batch_size=6)\n",
    "    train_loss = losses.CosineSimilarityLoss(model)\n",
    "    model.fit(train_objectives=[(train_dataloader, train_loss)], epochs=5, warmup_steps=50)\n",
    "    \n",
    "    X_num = vectorize_data(X, model)\n",
    "    X_num = pd.Series([np.squeeze(i) for i in X_num])\n",
    "    sim_df = calculate_similarity_matrix(X_num, y)\n",
    "    \n",
    "    tuning_results.append((sim_df, model, X_num)) \n",
    "    \n",
    "    plt.figure(i, figsize=(8,5)) \n",
    "    sns.heatmap(sim_df.fillna(0), annot=True,\n",
    "                         xticklabels=sim_df.columns,\n",
    "                         yticklabels=sim_df.columns, cmap=\"rocket_r\")\n",
    "    plt.show()\n",
    "    i += 1\n",
    "    with open(result_file_name, 'wb') as f:\n",
    "        pickle.dump(tuning_results, f)\n",
    "        \n",
    "    if check_stopping(sim_df):\n",
    "        break"
   ]
  },
  {
   "cell_type": "code",
   "execution_count": null,
   "id": "4cd7ef67",
   "metadata": {},
   "outputs": [],
   "source": [
    "stop"
   ]
  },
  {
   "cell_type": "code",
   "execution_count": null,
   "id": "39f3ee95",
   "metadata": {},
   "outputs": [],
   "source": [
    "train_set"
   ]
  },
  {
   "cell_type": "code",
   "execution_count": null,
   "id": "e8cbb480",
   "metadata": {},
   "outputs": [],
   "source": [
    "X_num = vectorize_data(X, model)\n",
    "X_num = pd.Series([np.squeeze(i) for i in X_num])\n",
    "sim_df = calculate_similarity_matrix(X_num, y)\n",
    "\n",
    "tuning_results.append((sim_df, model, X_num)) \n",
    "\n",
    "plt.figure(0, figsize=(8,5)) \n",
    "sns.heatmap(sim_df.fillna(0), annot=True,\n",
    "                     xticklabels=sim_df.columns,\n",
    "                     yticklabels=sim_df.columns, cmap=\"rocket_r\")"
   ]
  },
  {
   "cell_type": "code",
   "execution_count": null,
   "id": "1ccb0805",
   "metadata": {
    "scrolled": true
   },
   "outputs": [],
   "source": [
    "for embedding_method in iterate:\n",
    "    \n",
    "       \n",
    "    train_set = create_train_data(X, y, sample_size=25)\n",
    "    model = SentenceTransformer(embedding_method, device='cuda') \n",
    "\n",
    "    train_dataloader = DataLoader(train_set, shuffle=True, batch_size=6)\n",
    "    train_loss = losses.CosineSimilarityLoss(model)\n",
    "\n",
    "    model.fit(train_objectives=[(train_dataloader, train_loss)], epochs=20, warmup_steps=50)\n",
    "\n",
    "    X_num_tuned = vectorize_data(X, model)\n",
    "    X_num_tuned = pd.Series([np.squeeze(i) for i in X_num_tuned])\n",
    "    sim_df_after = calculate_similarity_matrix(X_num_tuned, y)\n",
    "    \n",
    "    tuning_results[embedding_method] = (sim_df_before, sim_df_after)\n",
    "    \n",
    "    with open(result_file_name, 'wb') as f:\n",
    "        pickle.dump(tuning_results, f)"
   ]
  },
  {
   "cell_type": "code",
   "execution_count": null,
   "id": "10cfe49e",
   "metadata": {},
   "outputs": [],
   "source": [
    "stop"
   ]
  },
  {
   "cell_type": "code",
   "execution_count": null,
   "id": "a165751b",
   "metadata": {},
   "outputs": [],
   "source": [
    "with open(result_file_name, 'rb') as f:\n",
    "    tuning_results = pickle.load(f)"
   ]
  },
  {
   "cell_type": "code",
   "execution_count": null,
   "id": "a43fd1a0",
   "metadata": {},
   "outputs": [],
   "source": [
    "def scoring(sim_df):    \n",
    "    scores = calculate_matrix_score(sim_df)[:-1]\n",
    "    print(f'max: {max(scores):.2f}, min: {min(scores):.2f}, avg: {sum(scores)/len(scores):.2f}')\n",
    "\n",
    "    l_sum = 100*np.diag(sim_df).sum()/12 - (sim_df.sum().sum()-np.diag(sim_df).sum())/66\n",
    "    print(f'{l_sum:.2f}') "
   ]
  },
  {
   "cell_type": "code",
   "execution_count": null,
   "id": "dd4afb9f",
   "metadata": {
    "scrolled": true
   },
   "outputs": [],
   "source": [
    "for k,v in tuning_results.items():\n",
    "    print(k)\n",
    "    print('before')\n",
    "    scoring(v[0])\n",
    "    print('after')\n",
    "    scoring(v[1])\n",
    "    \n",
    "    # fig, axes = plt.subplots(1, 2, figsize=(16,5), squeeze=False)\n",
    "    fig, axes = plt.subplots(ncols=2, figsize=(15, 4))\n",
    "    ax1, ax2 = axes\n",
    "    sns.heatmap(v[0].fillna(0), annot=True,\n",
    "                        xticklabels=v[0].columns,\n",
    "                        yticklabels=v[0].columns, ax=ax1, cmap=\"rocket_r\")\n",
    "    sns.heatmap(v[1].fillna(0), annot=True,\n",
    "                        xticklabels=v[1].columns,\n",
    "                        yticklabels=v[1].columns, ax=ax2, cmap=\"rocket_r\")\n",
    "\n",
    "    plt.show()\n",
    "\n",
    "    print('*'*70)"
   ]
  },
  {
   "cell_type": "code",
   "execution_count": null,
   "id": "b1be3706",
   "metadata": {},
   "outputs": [],
   "source": []
  },
  {
   "cell_type": "code",
   "execution_count": null,
   "id": "19f61079",
   "metadata": {},
   "outputs": [],
   "source": [
    "embedding_method = 'all-mpnet-base-v1'\n",
    "X_num = utilities.vectorize_data(X, embedding_method)"
   ]
  },
  {
   "cell_type": "code",
   "execution_count": null,
   "id": "da088663",
   "metadata": {},
   "outputs": [],
   "source": [
    "while True:\n",
    "    \n",
    "    sim_df_before = calculate_similarity_matrix(X_num, y)\n",
    "    \n",
    "    \n",
    "    train_set = create_train_data(X, y, sample_size=25)\n",
    "    model = SentenceTransformer(embedding_method, device='cuda') \n",
    "\n",
    "    train_dataloader = DataLoader(train_set, shuffle=True, batch_size=6)\n",
    "    train_loss = losses.CosineSimilarityLoss(model)\n",
    "\n",
    "    model.fit(train_objectives=[(train_dataloader, train_loss)], epochs=20, warmup_steps=50)\n",
    "\n",
    "    X_num_tuned = vectorize_data(X, model)\n",
    "    X_num_tuned = pd.Series([np.squeeze(i) for i in X_num_tuned])\n",
    "    sim_df_after = calculate_similarity_matrix(X_num_tuned, y)\n",
    "    \n",
    "    tuning_results[embedding_method] = (sim_df_before, sim_df_after)\n",
    "    \n",
    "    with open(result_file_name, 'wb') as f:\n",
    "        pickle.dump(tuning_results, f)"
   ]
  },
  {
   "cell_type": "code",
   "execution_count": null,
   "id": "6aef6184",
   "metadata": {},
   "outputs": [],
   "source": []
  },
  {
   "cell_type": "code",
   "execution_count": null,
   "id": "40401d04",
   "metadata": {},
   "outputs": [],
   "source": [
    "df1 = tuning_results['all-mpnet-base-v1'][1]"
   ]
  },
  {
   "cell_type": "code",
   "execution_count": null,
   "id": "5ece7d95",
   "metadata": {},
   "outputs": [],
   "source": [
    "col1 - col1 > 0.5\n",
    "col1 - col2 < 0.2"
   ]
  },
  {
   "cell_type": "code",
   "execution_count": null,
   "id": "3e0d47e5",
   "metadata": {},
   "outputs": [],
   "source": [
    "total_samples = dict(y.sum())\n",
    "total_samples"
   ]
  },
  {
   "cell_type": "code",
   "execution_count": null,
   "id": "a8b12c49",
   "metadata": {},
   "outputs": [],
   "source": [
    "for col1, col2 in combinations(df1.columns, 2):\n",
    "    "
   ]
  },
  {
   "cell_type": "code",
   "execution_count": null,
   "id": "7606e7cd",
   "metadata": {},
   "outputs": [],
   "source": [
    "df1.columns"
   ]
  },
  {
   "cell_type": "code",
   "execution_count": null,
   "id": "cb7999f7",
   "metadata": {},
   "outputs": [],
   "source": [
    "plt.figure(figsize=(8,5))\n",
    "sns.heatmap(df1.fillna(0), annot=True,\n",
    "                        xticklabels=df1.columns,\n",
    "                        yticklabels=df1.columns, cmap=\"rocket_r\")"
   ]
  },
  {
   "cell_type": "code",
   "execution_count": null,
   "id": "2459dc81",
   "metadata": {},
   "outputs": [],
   "source": []
  },
  {
   "cell_type": "code",
   "execution_count": null,
   "id": "22b1a7c5",
   "metadata": {},
   "outputs": [],
   "source": [
    "for k,v in tuning_results.items():\n",
    "    print(k)\n",
    "    print('before')\n",
    "    scoring(v[0])\n",
    "    print('after')\n",
    "    scoring(v[1])"
   ]
  },
  {
   "cell_type": "code",
   "execution_count": null,
   "id": "ba7cfa14",
   "metadata": {},
   "outputs": [],
   "source": [
    "df1 = tuning_results['stsb-roberta-large'][1]"
   ]
  },
  {
   "cell_type": "code",
   "execution_count": null,
   "id": "0604a7a9",
   "metadata": {},
   "outputs": [],
   "source": []
  },
  {
   "cell_type": "code",
   "execution_count": null,
   "id": "2f75106d",
   "metadata": {},
   "outputs": [],
   "source": [
    "samples = {}\n",
    "for col1, col2 in list(combinations(df1.columns, 2)):\n",
    "    if df1.loc[col1, col2] > 0.2:\n",
    "        samples[(col1, col2)] = 100"
   ]
  },
  {
   "cell_type": "code",
   "execution_count": null,
   "id": "c2af8ce2",
   "metadata": {},
   "outputs": [],
   "source": [
    "samples"
   ]
  },
  {
   "cell_type": "code",
   "execution_count": null,
   "id": "f24b0671",
   "metadata": {},
   "outputs": [],
   "source": [
    "y.sum()"
   ]
  },
  {
   "cell_type": "code",
   "execution_count": null,
   "id": "64f7260b",
   "metadata": {},
   "outputs": [],
   "source": []
  },
  {
   "cell_type": "code",
   "execution_count": null,
   "id": "b9fa69ab",
   "metadata": {
    "scrolled": false
   },
   "outputs": [],
   "source": [
    "def scoring(simdf):    \n",
    "    scores = calculate_matrix_score(sim_df)[:-1]\n",
    "    print(f'{embedding} --- max: {max(scores):.2f}, min: {min(scores):.2f}, avg: {sum(scores)/len(scores):.2f}')\n",
    "\n",
    "    l_sum = 100*np.diag(sim_df).sum()/12 - (sim_df.sum().sum()-np.diag(sim_df).sum())/66\n",
    "    print(f'{l_sum:.2f}')  "
   ]
  },
  {
   "cell_type": "code",
   "execution_count": null,
   "id": "73408fdc",
   "metadata": {
    "scrolled": false
   },
   "outputs": [],
   "source": [
    "plt.figure(figsize=(7,5))\n",
    "\n",
    "sns.heatmap(sim_df.fillna(0), annot=True,\n",
    "xticklabels=sim_df.columns,\n",
    "yticklabels=sim_df.columns, cmap=\"rocket_r\")\n",
    "\n",
    "plt.show()"
   ]
  }
 ],
 "metadata": {
  "kernelspec": {
   "display_name": "Python 3 (ipykernel)",
   "language": "python",
   "name": "python3"
  },
  "language_info": {
   "codemirror_mode": {
    "name": "ipython",
    "version": 3
   },
   "file_extension": ".py",
   "mimetype": "text/x-python",
   "name": "python",
   "nbconvert_exporter": "python",
   "pygments_lexer": "ipython3",
   "version": "3.9.12"
  },
  "latex_envs": {
   "LaTeX_envs_menu_present": true,
   "autoclose": false,
   "autocomplete": true,
   "bibliofile": "biblio.bib",
   "cite_by": "apalike",
   "current_citInitial": 1,
   "eqLabelWithNumbers": true,
   "eqNumInitial": 1,
   "hotkeys": {
    "equation": "Ctrl-E",
    "itemize": "Ctrl-I"
   },
   "labels_anchors": false,
   "latex_user_defs": false,
   "report_style_numbering": false,
   "user_envs_cfg": false
  }
 },
 "nbformat": 4,
 "nbformat_minor": 5
}
