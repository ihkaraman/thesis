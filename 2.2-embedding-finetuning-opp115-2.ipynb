{
 "cells": [
  {
   "cell_type": "code",
   "execution_count": 5,
   "id": "b50cd132",
   "metadata": {},
   "outputs": [],
   "source": [
    "import pandas as pd\n",
    "import numpy as np\n",
    "import os\n",
    "import random\n",
    "import torch\n",
    "import pickle\n",
    "import utilities\n",
    "import preprocess\n",
    "import similarities\n",
    "import parameters\n",
    "import seaborn as sns\n",
    "import matplotlib.pyplot as plt\n",
    "from itertools import combinations, product\n",
    "\n",
    "from sentence_transformers import SentenceTransformer, InputExample, losses\n",
    "from torch.utils.data import DataLoader"
   ]
  },
  {
   "cell_type": "code",
   "execution_count": 6,
   "id": "ab8f78de",
   "metadata": {},
   "outputs": [],
   "source": [
    "result_file_name = 'embedding_tuning_opp115-6.p'"
   ]
  },
  {
   "cell_type": "code",
   "execution_count": 7,
   "id": "37ae07a6",
   "metadata": {},
   "outputs": [],
   "source": [
    "data = 'opp115'"
   ]
  },
  {
   "cell_type": "code",
   "execution_count": 8,
   "id": "fef480da",
   "metadata": {},
   "outputs": [],
   "source": [
    "embedding_methods = ['stsb-roberta-large',\n",
    "                     'paraphrase-MiniLM-L6-v2',\n",
    "                     'all-mpnet-base-v1',\n",
    "                     'all-mpnet-base-v2',\n",
    "                     'distiluse-base-multilingual-cased-v1']"
   ]
  },
  {
   "cell_type": "code",
   "execution_count": 9,
   "id": "47826c83",
   "metadata": {},
   "outputs": [],
   "source": [
    "random_state = parameters.random_state\n",
    "np.random.seed(random_state)\n",
    "data_paths = parameters.data_paths"
   ]
  },
  {
   "cell_type": "code",
   "execution_count": 10,
   "id": "497097fe",
   "metadata": {},
   "outputs": [],
   "source": [
    "df = utilities.read_data(data_paths[data])\n",
    "X = df['text'].apply(preprocess.preprocess_text)\n",
    "y = df.drop(['text'], axis=1)"
   ]
  },
  {
   "cell_type": "code",
   "execution_count": 11,
   "id": "02ea420c",
   "metadata": {},
   "outputs": [],
   "source": [
    "def calculate_between_class_similarities(col1, col2, X, y):\n",
    "    \n",
    "    sims = []\n",
    "    \n",
    "    for idx1 in y[y[col1]==1].index:\n",
    "        for idx2 in y[y[col2]==1].index:\n",
    "            sims.append(similarities.vector_similarity(X.loc[idx1], X.loc[idx2]))\n",
    "    \n",
    "    return sum(sims)/len(sims)     "
   ]
  },
  {
   "cell_type": "code",
   "execution_count": 12,
   "id": "28c0fb25",
   "metadata": {},
   "outputs": [],
   "source": [
    "def calculate_similarity_matrix(X, y, sim_method='cosine'):\n",
    "    \n",
    "    import similarities\n",
    "    \n",
    "    sim_df = pd.DataFrame(index=y.columns, columns=y.columns)\n",
    "    \n",
    "    for col in y.columns:\n",
    "        sim_df.loc[col, col] = similarities.calculate_similarity_within_classes(X.loc[y[y[col]==1].index], sim_calculation_type='average')\n",
    "    \n",
    "    for col1, col2 in list(combinations(y.columns, 2)):\n",
    "        sim_df.loc[col1, col2] = similarities.calculate_similarity_between_classes(X.loc[y[y[col1]==1].index], X.loc[y[y[col2]==1].index], sim_calculation_type='average')\n",
    "    \n",
    "    return sim_df"
   ]
  },
  {
   "cell_type": "code",
   "execution_count": 13,
   "id": "86cd219f",
   "metadata": {},
   "outputs": [],
   "source": [
    "def calculate_matrix_score(sim_df):\n",
    "    scores = []\n",
    "    for col in sim_df.columns:\n",
    "        scores.append((sim_df.loc[col, col] - sim_df.loc[col].drop(col).max())/sim_df.loc[col, col])\n",
    "    return scores"
   ]
  },
  {
   "cell_type": "code",
   "execution_count": 14,
   "id": "8626a2a8",
   "metadata": {},
   "outputs": [],
   "source": [
    "def vectorize_data(text, model):\n",
    "    \n",
    "    # model = SentenceTransformer(model_name)\n",
    "    device = \"cuda:0\" if torch.cuda.is_available() else \"cpu\"\n",
    "    vectors = model.encode(text, convert_to_tensor=False, device=device)\n",
    "    \n",
    "    return vectors"
   ]
  },
  {
   "cell_type": "code",
   "execution_count": 15,
   "id": "3ba995cd",
   "metadata": {},
   "outputs": [],
   "source": [
    "def find_best_samples(X_set, sample_size):\n",
    "    \n",
    "    sims = {}\n",
    "    for idx in X_set.index:\n",
    "        \n",
    "        all_idxs = list(X_set.index)\n",
    "        all_idxs.remove(idx)\n",
    "        \n",
    "        sims[idx] = similarities.calculate_similarity_between_vector_and_class(X_set.loc[idx], X_set.loc[all_idxs], \n",
    "                                                                               sim_calculation_type='average', sim_type='cosine')\n",
    "        \n",
    "    top_ins = sorted(sims, key=sims.get, reverse=True)[:sample_size]\n",
    "    \n",
    "    return top_ins"
   ]
  },
  {
   "cell_type": "code",
   "execution_count": 16,
   "id": "c60b6b91",
   "metadata": {},
   "outputs": [],
   "source": [
    "def create_train_data(X_num, X, y, samples):\n",
    "    \n",
    "    train_set = []\n",
    "\n",
    "    for col in y.columns:\n",
    "\n",
    "        idxs = y[y[col]==1].index\n",
    "        \n",
    "        # idx_set = find_best_samples(X_num.loc[idxs], samples[col])\n",
    "        # tmp_set = X.loc[idx_set]\n",
    "        \n",
    "        tmps_set = X.loc[idx_set].sample(samples[col])\n",
    "        \n",
    "        for pair in combinations(tmps_set, 2):\n",
    "            train_set.append(InputExample(texts=list(pair), label=1.0))\n",
    "\n",
    "    for col1, col2 in combinations(y.columns,2):\n",
    "        \n",
    "        sample_num = samples[(col1, col2)]\n",
    "        idxs1 = y[(y[col1]==1)&(y[col2]==0)].index\n",
    "        idxs2 = y[(y[col2]==1)&(y[col1]==0)].index\n",
    "        tmp_samples = random.sample(list(product(idxs1, idxs2)), sample_num)\n",
    "        \n",
    "        tmp_set1 = X.loc[[i[0] for i in tmp_samples]]\n",
    "        tmp_set2 = X.loc[[i[1] for i in tmp_samples]]\n",
    "        \n",
    "        for pair in zip(tmp_set1, tmp_set2):\n",
    "            train_set.append(InputExample(texts=list(pair), label=0.0))\n",
    "\n",
    "    print(len(train_set))\n",
    "    \n",
    "    return train_set"
   ]
  },
  {
   "cell_type": "code",
   "execution_count": 17,
   "id": "ae824b2a",
   "metadata": {},
   "outputs": [],
   "source": [
    "if not os.path.exists(result_file_name):\n",
    "    tuning_results = []\n",
    "    with open(result_file_name, 'wb') as f:\n",
    "        pickle.dump(tuning_results, f)"
   ]
  },
  {
   "cell_type": "code",
   "execution_count": 18,
   "id": "6fd2384f",
   "metadata": {},
   "outputs": [],
   "source": [
    "with open(result_file_name, 'rb') as f:\n",
    "    tuning_results = pickle.load(f)"
   ]
  },
  {
   "cell_type": "code",
   "execution_count": 19,
   "id": "0981934a",
   "metadata": {},
   "outputs": [
    {
     "data": {
      "text/plain": [
       "{'Data Retention': 78,\n",
       " 'Data Security': 207,\n",
       " 'Do Not Track': 31,\n",
       " 'First Party Collection/Use': 1181,\n",
       " 'International and Specific Audiences': 296,\n",
       " 'Introductory/Generic': 378,\n",
       " 'Policy Change': 116,\n",
       " 'Practice not covered': 129,\n",
       " 'Privacy contact information': 202,\n",
       " 'Third Party Sharing/Collection': 931,\n",
       " 'User Access, Edit and Deletion': 147,\n",
       " 'User Choice/Control': 352}"
      ]
     },
     "execution_count": 19,
     "metadata": {},
     "output_type": "execute_result"
    }
   ],
   "source": [
    "total_samples = dict(y.sum())\n",
    "total_samples"
   ]
  },
  {
   "cell_type": "code",
   "execution_count": 20,
   "id": "d3b78a5e",
   "metadata": {},
   "outputs": [],
   "source": [
    "def create_train_data_with_all_data(X, y):\n",
    "    \n",
    "    train_set = []\n",
    "    \n",
    "    for col in y.columns:\n",
    "\n",
    "        idxs = y[y[col]==1].index\n",
    "\n",
    "        tmp_set = X.loc[idxs].sample(30)\n",
    "\n",
    "        for pair in combinations(tmp_set, 2):\n",
    "            train_set.append(InputExample(texts=list(pair), label=1.0))\n",
    "\n",
    "    for col1, col2 in combinations(y.columns,2):\n",
    "        \n",
    "        \n",
    "        idxs1 = y[(y[col1]==1)&(y[col2]==0)].index\n",
    "        idxs2 = y[(y[col2]==1)&(y[col1]==0)].index\n",
    "        tmp_samples = random.sample(list(product(idxs1, idxs2)), 50)\n",
    "\n",
    "        tmp_set1 = X.loc[[i[0] for i in tmp_samples]]\n",
    "        tmp_set2 = X.loc[[i[1] for i in tmp_samples]]\n",
    "        \n",
    "        for pair in zip(tmp_set1, tmp_set2):\n",
    "            train_set.append(InputExample(texts=list(pair), label=0.0))\n",
    "\n",
    "    print(len(train_set))\n",
    "    \n",
    "    return train_set\n"
   ]
  },
  {
   "cell_type": "code",
   "execution_count": 21,
   "id": "968a7cd8",
   "metadata": {},
   "outputs": [],
   "source": [
    "def create_initial_samples(within_col, between_col):    \n",
    "    samples = {}\n",
    "\n",
    "    for col in y.columns:\n",
    "        samples[col] = within_col\n",
    "\n",
    "    for col1, col2 in combinations(y.columns, 2):\n",
    "        samples[(col1, col2)] = between_col\n",
    "        \n",
    "    return samples"
   ]
  },
  {
   "cell_type": "code",
   "execution_count": 22,
   "id": "8641c036",
   "metadata": {},
   "outputs": [],
   "source": [
    "def update_sample_sizes(simd_df, samples):\n",
    "    \n",
    "    for col1, col2 in combinations(simd_df.columns, 2):\n",
    "        samples[(col1, col2)] = int((1/(1-simd_df.loc[col1, col2])**2)*samples[(col1, col2)])\n",
    "        \n",
    "        if samples[(col1, col2)] > total_samples[col1]*total_samples[col2]:\n",
    "            samples[(col1, col2)] = int(total_samples[col1]*total_samples[col2])\n",
    "            \n",
    "    for col in simd_df.columns:\n",
    "        samples[col] = int((1/simd_df.loc[col, col])*samples[col])\n",
    "        if samples[col] > total_samples[col]:\n",
    "            samples[col] = total_samples[col]\n",
    "            \n",
    "    return samples"
   ]
  },
  {
   "cell_type": "code",
   "execution_count": 23,
   "id": "f6c0d3d4",
   "metadata": {},
   "outputs": [],
   "source": [
    "def fill_symmetry(sim_df):\n",
    "    for col1, col2 in combinations(sim_df.columns, 2):\n",
    "        sim_df.loc[col2, col1] = sim_df.loc[col1, col2] \n",
    "    return sim_df"
   ]
  },
  {
   "cell_type": "code",
   "execution_count": 24,
   "id": "17c76b9e",
   "metadata": {},
   "outputs": [],
   "source": [
    "def check_stopping(sim_df):\n",
    "    \n",
    "    sim_df = fill_symmetry(sim_df)\n",
    "    \n",
    "    for col in sim_df.columns:\n",
    "        if sim_df.loc[col, col] < 1.5*(max(sim_df.loc[col].drop(col))):\n",
    "            return False\n",
    "        \n",
    "    return True"
   ]
  },
  {
   "cell_type": "code",
   "execution_count": 25,
   "id": "82569d9b",
   "metadata": {},
   "outputs": [],
   "source": [
    "def scoring(sim_df):    \n",
    "    scores = calculate_matrix_score(sim_df)[:-1]\n",
    "    print(f'max: {max(scores):.2f}, min: {min(scores):.2f}, avg: {sum(scores)/len(scores):.2f}')\n",
    "\n",
    "    l_sum = 100*np.diag(sim_df).sum()/12 - (sim_df.sum().sum()-np.diag(sim_df).sum())/66\n",
    "    print(f'{l_sum:.2f}') "
   ]
  },
  {
   "cell_type": "code",
   "execution_count": 26,
   "id": "14beff6e",
   "metadata": {},
   "outputs": [
    {
     "ename": "NameError",
     "evalue": "name 'asda' is not defined",
     "output_type": "error",
     "traceback": [
      "\u001b[1;31m---------------------------------------------------------------------------\u001b[0m",
      "\u001b[1;31mNameError\u001b[0m                                 Traceback (most recent call last)",
      "Input \u001b[1;32mIn [26]\u001b[0m, in \u001b[0;36m<cell line: 1>\u001b[1;34m()\u001b[0m\n\u001b[1;32m----> 1\u001b[0m \u001b[43masda\u001b[49m\n",
      "\u001b[1;31mNameError\u001b[0m: name 'asda' is not defined"
     ]
    }
   ],
   "source": [
    "asda"
   ]
  },
  {
   "cell_type": "code",
   "execution_count": null,
   "id": "afcad784",
   "metadata": {
    "scrolled": false
   },
   "outputs": [],
   "source": [
    "embedding_method = 'all-mpnet-base-v1'\n",
    "X_num = utilities.vectorize_data(X, embedding_method)\n",
    "sim_df = calculate_similarity_matrix(X_num, y)\n",
    "\n",
    "i = 0\n",
    "\n",
    "for epoch_num in range(1, 6):\n",
    "    \n",
    "    model = SentenceTransformer(embedding_method, device='cuda')\n",
    "    # samples = create_initial_samples(i, j)\n",
    "    # samples = update_sample_sizes(sim_df, samples)\n",
    "    train_set = create_train_data_with_all_data(X, y)\n",
    "    \n",
    "    train_dataloader = DataLoader(train_set, shuffle=True, batch_size=6)\n",
    "    train_loss = losses.CosineSimilarityLoss(model)\n",
    "    model.fit(train_objectives=[(train_dataloader, train_loss)], epochs=epoch_num, warmup_steps=50)\n",
    "    \n",
    "    X_num = vectorize_data(X, model)\n",
    "    X_num = pd.Series([np.squeeze(i) for i in X_num])\n",
    "    sim_df = calculate_similarity_matrix(X_num, y)\n",
    "    \n",
    "    plt.figure(i, figsize=(8,5)) \n",
    "    sns.heatmap(sim_df.fillna(0), annot=True,\n",
    "                         xticklabels=sim_df.columns,\n",
    "                         yticklabels=sim_df.columns, cmap=\"rocket_r\")\n",
    "    plt.show()\n",
    "    i += 1"
   ]
  },
  {
   "cell_type": "code",
   "execution_count": null,
   "id": "8e3f8a2a",
   "metadata": {},
   "outputs": [],
   "source": [
    "ss"
   ]
  },
  {
   "cell_type": "code",
   "execution_count": null,
   "id": "d73491d0",
   "metadata": {
    "scrolled": false
   },
   "outputs": [],
   "source": [
    "embedding_method = 'all-mpnet-base-v1'\n",
    "X_num = utilities.vectorize_data(X, embedding_method)\n",
    "sim_df = calculate_similarity_matrix(X_num, y)\n",
    "tuning_results.append(sim_df)\n",
    "\n",
    "model = SentenceTransformer(embedding_method, device='cuda') \n",
    "\n",
    "i = 0\n",
    "while True:\n",
    "    \n",
    "    samples = update_sample_sizes(sim_df, samples)\n",
    "    train_set = create_train_data(X, y, samples)\n",
    "    print(samples)\n",
    "    train_dataloader = DataLoader(train_set, shuffle=True, batch_size=6)\n",
    "    train_loss = losses.CosineSimilarityLoss(model)\n",
    "    model.fit(train_objectives=[(train_dataloader, train_loss)], epochs=5, warmup_steps=50)\n",
    "    \n",
    "    X_num = vectorize_data(X, model)\n",
    "    X_num = pd.Series([np.squeeze(i) for i in X_num])\n",
    "    sim_df = calculate_similarity_matrix(X_num, y)\n",
    "    \n",
    "    tuning_results.append((sim_df, model, X_num)) \n",
    "    \n",
    "    plt.figure(i, figsize=(8,5)) \n",
    "    sns.heatmap(sim_df.fillna(0), annot=True,\n",
    "                         xticklabels=sim_df.columns,\n",
    "                         yticklabels=sim_df.columns, cmap=\"rocket_r\")\n",
    "    plt.show()\n",
    "    i += 1\n",
    "    with open(result_file_name, 'wb') as f:\n",
    "        pickle.dump(tuning_results, f)\n",
    "        \n",
    "    if check_stopping(sim_df):\n",
    "        break"
   ]
  },
  {
   "cell_type": "code",
   "execution_count": null,
   "id": "4cd7ef67",
   "metadata": {},
   "outputs": [],
   "source": [
    "stop"
   ]
  },
  {
   "cell_type": "code",
   "execution_count": null,
   "id": "39f3ee95",
   "metadata": {},
   "outputs": [],
   "source": [
    "train_set"
   ]
  },
  {
   "cell_type": "code",
   "execution_count": null,
   "id": "e8cbb480",
   "metadata": {},
   "outputs": [],
   "source": [
    "X_num = vectorize_data(X, model)\n",
    "X_num = pd.Series([np.squeeze(i) for i in X_num])\n",
    "sim_df = calculate_similarity_matrix(X_num, y)\n",
    "\n",
    "tuning_results.append((sim_df, model, X_num)) \n",
    "\n",
    "plt.figure(0, figsize=(8,5)) \n",
    "sns.heatmap(sim_df.fillna(0), annot=True,\n",
    "                     xticklabels=sim_df.columns,\n",
    "                     yticklabels=sim_df.columns, cmap=\"rocket_r\")"
   ]
  },
  {
   "cell_type": "code",
   "execution_count": null,
   "id": "1ccb0805",
   "metadata": {
    "scrolled": true
   },
   "outputs": [],
   "source": [
    "for embedding_method in iterate:\n",
    "    \n",
    "       \n",
    "    train_set = create_train_data(X, y, sample_size=25)\n",
    "    model = SentenceTransformer(embedding_method, device='cuda') \n",
    "\n",
    "    train_dataloader = DataLoader(train_set, shuffle=True, batch_size=6)\n",
    "    train_loss = losses.CosineSimilarityLoss(model)\n",
    "\n",
    "    model.fit(train_objectives=[(train_dataloader, train_loss)], epochs=20, warmup_steps=50)\n",
    "\n",
    "    X_num_tuned = vectorize_data(X, model)\n",
    "    X_num_tuned = pd.Series([np.squeeze(i) for i in X_num_tuned])\n",
    "    sim_df_after = calculate_similarity_matrix(X_num_tuned, y)\n",
    "    \n",
    "    tuning_results[embedding_method] = (sim_df_before, sim_df_after)\n",
    "    \n",
    "    with open(result_file_name, 'wb') as f:\n",
    "        pickle.dump(tuning_results, f)"
   ]
  },
  {
   "cell_type": "code",
   "execution_count": null,
   "id": "10cfe49e",
   "metadata": {},
   "outputs": [],
   "source": [
    "stop"
   ]
  },
  {
   "cell_type": "code",
   "execution_count": null,
   "id": "a165751b",
   "metadata": {},
   "outputs": [],
   "source": [
    "with open(result_file_name, 'rb') as f:\n",
    "    tuning_results = pickle.load(f)"
   ]
  },
  {
   "cell_type": "code",
   "execution_count": null,
   "id": "a43fd1a0",
   "metadata": {},
   "outputs": [],
   "source": [
    "def scoring(sim_df):    \n",
    "    scores = calculate_matrix_score(sim_df)[:-1]\n",
    "    print(f'max: {max(scores):.2f}, min: {min(scores):.2f}, avg: {sum(scores)/len(scores):.2f}')\n",
    "\n",
    "    l_sum = 100*np.diag(sim_df).sum()/12 - (sim_df.sum().sum()-np.diag(sim_df).sum())/66\n",
    "    print(f'{l_sum:.2f}') "
   ]
  },
  {
   "cell_type": "code",
   "execution_count": null,
   "id": "dd4afb9f",
   "metadata": {
    "scrolled": true
   },
   "outputs": [],
   "source": [
    "for k,v in tuning_results.items():\n",
    "    print(k)\n",
    "    print('before')\n",
    "    scoring(v[0])\n",
    "    print('after')\n",
    "    scoring(v[1])\n",
    "    \n",
    "    # fig, axes = plt.subplots(1, 2, figsize=(16,5), squeeze=False)\n",
    "    fig, axes = plt.subplots(ncols=2, figsize=(15, 4))\n",
    "    ax1, ax2 = axes\n",
    "    sns.heatmap(v[0].fillna(0), annot=True,\n",
    "                        xticklabels=v[0].columns,\n",
    "                        yticklabels=v[0].columns, ax=ax1, cmap=\"rocket_r\")\n",
    "    sns.heatmap(v[1].fillna(0), annot=True,\n",
    "                        xticklabels=v[1].columns,\n",
    "                        yticklabels=v[1].columns, ax=ax2, cmap=\"rocket_r\")\n",
    "\n",
    "    plt.show()\n",
    "\n",
    "    print('*'*70)"
   ]
  },
  {
   "cell_type": "code",
   "execution_count": null,
   "id": "b1be3706",
   "metadata": {},
   "outputs": [],
   "source": []
  },
  {
   "cell_type": "code",
   "execution_count": null,
   "id": "19f61079",
   "metadata": {},
   "outputs": [],
   "source": [
    "embedding_method = 'all-mpnet-base-v1'\n",
    "X_num = utilities.vectorize_data(X, embedding_method)"
   ]
  },
  {
   "cell_type": "code",
   "execution_count": null,
   "id": "da088663",
   "metadata": {},
   "outputs": [],
   "source": [
    "while True:\n",
    "    \n",
    "    sim_df_before = calculate_similarity_matrix(X_num, y)\n",
    "    \n",
    "    \n",
    "    train_set = create_train_data(X, y, sample_size=25)\n",
    "    model = SentenceTransformer(embedding_method, device='cuda') \n",
    "\n",
    "    train_dataloader = DataLoader(train_set, shuffle=True, batch_size=6)\n",
    "    train_loss = losses.CosineSimilarityLoss(model)\n",
    "\n",
    "    model.fit(train_objectives=[(train_dataloader, train_loss)], epochs=20, warmup_steps=50)\n",
    "\n",
    "    X_num_tuned = vectorize_data(X, model)\n",
    "    X_num_tuned = pd.Series([np.squeeze(i) for i in X_num_tuned])\n",
    "    sim_df_after = calculate_similarity_matrix(X_num_tuned, y)\n",
    "    \n",
    "    tuning_results[embedding_method] = (sim_df_before, sim_df_after)\n",
    "    \n",
    "    with open(result_file_name, 'wb') as f:\n",
    "        pickle.dump(tuning_results, f)"
   ]
  },
  {
   "cell_type": "code",
   "execution_count": null,
   "id": "6aef6184",
   "metadata": {},
   "outputs": [],
   "source": []
  },
  {
   "cell_type": "code",
   "execution_count": null,
   "id": "40401d04",
   "metadata": {},
   "outputs": [],
   "source": [
    "df1 = tuning_results['all-mpnet-base-v1'][1]"
   ]
  },
  {
   "cell_type": "code",
   "execution_count": null,
   "id": "5ece7d95",
   "metadata": {},
   "outputs": [],
   "source": [
    "col1 - col1 > 0.5\n",
    "col1 - col2 < 0.2"
   ]
  },
  {
   "cell_type": "code",
   "execution_count": null,
   "id": "3e0d47e5",
   "metadata": {},
   "outputs": [],
   "source": [
    "total_samples = dict(y.sum())\n",
    "total_samples"
   ]
  },
  {
   "cell_type": "code",
   "execution_count": null,
   "id": "a8b12c49",
   "metadata": {},
   "outputs": [],
   "source": [
    "for col1, col2 in combinations(df1.columns, 2):\n",
    "    "
   ]
  },
  {
   "cell_type": "code",
   "execution_count": null,
   "id": "7606e7cd",
   "metadata": {},
   "outputs": [],
   "source": [
    "df1.columns"
   ]
  },
  {
   "cell_type": "code",
   "execution_count": null,
   "id": "cb7999f7",
   "metadata": {},
   "outputs": [],
   "source": [
    "plt.figure(figsize=(8,5))\n",
    "sns.heatmap(df1.fillna(0), annot=True,\n",
    "                        xticklabels=df1.columns,\n",
    "                        yticklabels=df1.columns, cmap=\"rocket_r\")"
   ]
  },
  {
   "cell_type": "code",
   "execution_count": null,
   "id": "2459dc81",
   "metadata": {},
   "outputs": [],
   "source": []
  },
  {
   "cell_type": "code",
   "execution_count": null,
   "id": "22b1a7c5",
   "metadata": {},
   "outputs": [],
   "source": [
    "for k,v in tuning_results.items():\n",
    "    print(k)\n",
    "    print('before')\n",
    "    scoring(v[0])\n",
    "    print('after')\n",
    "    scoring(v[1])"
   ]
  },
  {
   "cell_type": "code",
   "execution_count": null,
   "id": "ba7cfa14",
   "metadata": {},
   "outputs": [],
   "source": [
    "df1 = tuning_results['stsb-roberta-large'][1]"
   ]
  },
  {
   "cell_type": "code",
   "execution_count": null,
   "id": "0604a7a9",
   "metadata": {},
   "outputs": [],
   "source": []
  },
  {
   "cell_type": "code",
   "execution_count": null,
   "id": "2f75106d",
   "metadata": {},
   "outputs": [],
   "source": [
    "samples = {}\n",
    "for col1, col2 in list(combinations(df1.columns, 2)):\n",
    "    if df1.loc[col1, col2] > 0.2:\n",
    "        samples[(col1, col2)] = 100"
   ]
  },
  {
   "cell_type": "code",
   "execution_count": null,
   "id": "c2af8ce2",
   "metadata": {},
   "outputs": [],
   "source": [
    "samples"
   ]
  },
  {
   "cell_type": "code",
   "execution_count": null,
   "id": "f24b0671",
   "metadata": {},
   "outputs": [],
   "source": [
    "y.sum()"
   ]
  },
  {
   "cell_type": "code",
   "execution_count": null,
   "id": "64f7260b",
   "metadata": {},
   "outputs": [],
   "source": []
  },
  {
   "cell_type": "code",
   "execution_count": null,
   "id": "b9fa69ab",
   "metadata": {
    "scrolled": false
   },
   "outputs": [],
   "source": [
    "def scoring(simdf):    \n",
    "    scores = calculate_matrix_score(sim_df)[:-1]\n",
    "    print(f'{embedding} --- max: {max(scores):.2f}, min: {min(scores):.2f}, avg: {sum(scores)/len(scores):.2f}')\n",
    "\n",
    "    l_sum = 100*np.diag(sim_df).sum()/12 - (sim_df.sum().sum()-np.diag(sim_df).sum())/66\n",
    "    print(f'{l_sum:.2f}')  "
   ]
  },
  {
   "cell_type": "code",
   "execution_count": null,
   "id": "73408fdc",
   "metadata": {
    "scrolled": false
   },
   "outputs": [],
   "source": [
    "plt.figure(figsize=(7,5))\n",
    "\n",
    "sns.heatmap(sim_df.fillna(0), annot=True,\n",
    "xticklabels=sim_df.columns,\n",
    "yticklabels=sim_df.columns, cmap=\"rocket_r\")\n",
    "\n",
    "plt.show()"
   ]
  }
 ],
 "metadata": {
  "kernelspec": {
   "display_name": "Python 3 (ipykernel)",
   "language": "python",
   "name": "python3"
  },
  "language_info": {
   "codemirror_mode": {
    "name": "ipython",
    "version": 3
   },
   "file_extension": ".py",
   "mimetype": "text/x-python",
   "name": "python",
   "nbconvert_exporter": "python",
   "pygments_lexer": "ipython3",
   "version": "3.9.12"
  },
  "latex_envs": {
   "LaTeX_envs_menu_present": true,
   "autoclose": false,
   "autocomplete": true,
   "bibliofile": "biblio.bib",
   "cite_by": "apalike",
   "current_citInitial": 1,
   "eqLabelWithNumbers": true,
   "eqNumInitial": 1,
   "hotkeys": {
    "equation": "Ctrl-E",
    "itemize": "Ctrl-I"
   },
   "labels_anchors": false,
   "latex_user_defs": false,
   "report_style_numbering": false,
   "user_envs_cfg": false
  }
 },
 "nbformat": 4,
 "nbformat_minor": 5
}
