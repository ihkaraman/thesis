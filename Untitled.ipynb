{
 "cells": [
  {
   "cell_type": "code",
   "execution_count": 40,
   "id": "a779f780",
   "metadata": {},
   "outputs": [],
   "source": [
    "import pandas as pd\n",
    "from sklearn.model_selection import train_test_split\n",
    "from sklearn.multiclass import OneVsRestClassifier\n",
    "from sklearn.svm import LinearSVC, SVC\n",
    "import numpy as np\n",
    "from sklearn.metrics import classification_report\n",
    "from sklearn.linear_model import LogisticRegression"
   ]
  },
  {
   "cell_type": "code",
   "execution_count": 14,
   "id": "9efec7ac",
   "metadata": {},
   "outputs": [],
   "source": [
    "df = pd.read_csv('data/opp-115.csv')"
   ]
  },
  {
   "cell_type": "code",
   "execution_count": 19,
   "id": "2b697003",
   "metadata": {},
   "outputs": [],
   "source": [
    "X_num = pd.read_pickle('X_num_opp115.p')\n",
    "y = df.drop('text', axis=1)"
   ]
  },
  {
   "cell_type": "code",
   "execution_count": 22,
   "id": "24b9dea7",
   "metadata": {},
   "outputs": [],
   "source": [
    "X_train, X_test, y_train, y_test = train_test_split(X_num, y, test_size=0.2, random_state=1)"
   ]
  },
  {
   "cell_type": "code",
   "execution_count": 37,
   "id": "40391c47",
   "metadata": {
    "scrolled": false
   },
   "outputs": [
    {
     "name": "stdout",
     "output_type": "stream",
     "text": [
      "              precision    recall  f1-score   support\n",
      "\n",
      "           0       0.67      0.46      0.55        13\n",
      "           1       0.92      0.85      0.88        40\n",
      "           2       1.00      1.00      1.00         6\n",
      "           3       0.84      0.80      0.82       230\n",
      "           4       0.91      0.85      0.88        68\n",
      "           5       0.83      0.63      0.72        76\n",
      "           6       0.88      1.00      0.94        22\n",
      "           7       0.63      0.71      0.67        24\n",
      "           8       0.79      0.68      0.73        40\n",
      "           9       0.91      0.71      0.80       183\n",
      "          10       0.88      0.54      0.67        28\n",
      "          11       0.88      0.58      0.70        66\n",
      "\n",
      "   micro avg       0.86      0.73      0.79       796\n",
      "   macro avg       0.84      0.73      0.78       796\n",
      "weighted avg       0.86      0.73      0.79       796\n",
      " samples avg       0.83      0.78      0.79       796\n",
      "\n"
     ]
    },
    {
     "name": "stderr",
     "output_type": "stream",
     "text": [
      "C:\\ProgramData\\Anaconda3\\lib\\site-packages\\sklearn\\metrics\\_classification.py:1318: UndefinedMetricWarning: Precision and F-score are ill-defined and being set to 0.0 in samples with no predicted labels. Use `zero_division` parameter to control this behavior.\n",
      "  _warn_prf(average, modifier, msg_start, len(result))\n"
     ]
    }
   ],
   "source": [
    "clf = OneVsRestClassifier(LinearSVC())\n",
    "clf.fit(np.vstack(X_train), y_train.values)\n",
    "preds = clf.predict(np.vstack(X_test))\n",
    "print(classification_report(y_test, preds))"
   ]
  },
  {
   "cell_type": "code",
   "execution_count": 41,
   "id": "6730e432",
   "metadata": {},
   "outputs": [
    {
     "name": "stdout",
     "output_type": "stream",
     "text": [
      "              precision    recall  f1-score   support\n",
      "\n",
      "           0       0.00      0.00      0.00        13\n",
      "           1       0.83      0.85      0.84        40\n",
      "           2       1.00      1.00      1.00         6\n",
      "           3       0.84      0.77      0.81       230\n",
      "           4       0.87      0.79      0.83        68\n",
      "           5       0.88      0.61      0.72        76\n",
      "           6       0.88      0.95      0.91        22\n",
      "           7       0.74      0.71      0.72        24\n",
      "           8       0.79      0.65      0.71        40\n",
      "           9       0.91      0.67      0.77       183\n",
      "          10       0.88      0.50      0.64        28\n",
      "          11       0.84      0.56      0.67        66\n",
      "\n",
      "   micro avg       0.86      0.70      0.77       796\n",
      "   macro avg       0.79      0.67      0.72       796\n",
      "weighted avg       0.85      0.70      0.76       796\n",
      " samples avg       0.80      0.75      0.76       796\n",
      "\n"
     ]
    },
    {
     "name": "stderr",
     "output_type": "stream",
     "text": [
      "C:\\ProgramData\\Anaconda3\\lib\\site-packages\\sklearn\\metrics\\_classification.py:1318: UndefinedMetricWarning: Precision and F-score are ill-defined and being set to 0.0 in labels with no predicted samples. Use `zero_division` parameter to control this behavior.\n",
      "  _warn_prf(average, modifier, msg_start, len(result))\n",
      "C:\\ProgramData\\Anaconda3\\lib\\site-packages\\sklearn\\metrics\\_classification.py:1318: UndefinedMetricWarning: Precision and F-score are ill-defined and being set to 0.0 in samples with no predicted labels. Use `zero_division` parameter to control this behavior.\n",
      "  _warn_prf(average, modifier, msg_start, len(result))\n"
     ]
    }
   ],
   "source": [
    "clf = OneVsRestClassifier(LogisticRegression())\n",
    "clf.fit(np.vstack(X_train), y_train.values)\n",
    "preds = clf.predict(np.vstack(X_test))\n",
    "print(classification_report(y_test, preds))"
   ]
  },
  {
   "cell_type": "code",
   "execution_count": 39,
   "id": "5f2e7929",
   "metadata": {},
   "outputs": [
    {
     "name": "stdout",
     "output_type": "stream",
     "text": [
      "              precision    recall  f1-score   support\n",
      "\n",
      "           0       0.00      0.00      0.00        13\n",
      "           1       0.81      0.85      0.83        40\n",
      "           2       1.00      1.00      1.00         6\n",
      "           3       0.86      0.78      0.82       230\n",
      "           4       0.89      0.85      0.87        68\n",
      "           5       0.88      0.64      0.74        76\n",
      "           6       0.88      1.00      0.94        22\n",
      "           7       0.59      0.71      0.64        24\n",
      "           8       0.79      0.65      0.71        40\n",
      "           9       0.92      0.67      0.78       183\n",
      "          10       0.94      0.57      0.71        28\n",
      "          11       0.83      0.58      0.68        66\n",
      "\n",
      "   micro avg       0.86      0.71      0.78       796\n",
      "   macro avg       0.78      0.69      0.73       796\n",
      "weighted avg       0.85      0.71      0.77       796\n",
      " samples avg       0.82      0.77      0.78       796\n",
      "\n"
     ]
    },
    {
     "name": "stderr",
     "output_type": "stream",
     "text": [
      "C:\\ProgramData\\Anaconda3\\lib\\site-packages\\sklearn\\metrics\\_classification.py:1318: UndefinedMetricWarning: Precision and F-score are ill-defined and being set to 0.0 in labels with no predicted samples. Use `zero_division` parameter to control this behavior.\n",
      "  _warn_prf(average, modifier, msg_start, len(result))\n",
      "C:\\ProgramData\\Anaconda3\\lib\\site-packages\\sklearn\\metrics\\_classification.py:1318: UndefinedMetricWarning: Precision and F-score are ill-defined and being set to 0.0 in samples with no predicted labels. Use `zero_division` parameter to control this behavior.\n",
      "  _warn_prf(average, modifier, msg_start, len(result))\n"
     ]
    }
   ],
   "source": [
    "clf = OneVsRestClassifier(SVC(kernel='linear',probability=True, random_state=1))\n",
    "clf.fit(np.vstack(X_train), y_train.values)\n",
    "preds = clf.predict(np.vstack(X_test))\n",
    "print(classification_report(y_test, preds))"
   ]
  },
  {
   "cell_type": "code",
   "execution_count": 31,
   "id": "949fcc28",
   "metadata": {},
   "outputs": [
    {
     "ename": "AttributeError",
     "evalue": "This 'OneVsRestClassifier' has no attribute 'predict_proba'",
     "output_type": "error",
     "traceback": [
      "\u001b[1;31m---------------------------------------------------------------------------\u001b[0m",
      "\u001b[1;31mAttributeError\u001b[0m                            Traceback (most recent call last)",
      "\u001b[1;32mC:\\Users\\ISMAIL~1\\AppData\\Local\\Temp/ipykernel_17324/3031985842.py\u001b[0m in \u001b[0;36m<module>\u001b[1;34m\u001b[0m\n\u001b[1;32m----> 1\u001b[1;33m \u001b[0mclf\u001b[0m\u001b[1;33m.\u001b[0m\u001b[0mpredict_proba\u001b[0m\u001b[1;33m(\u001b[0m\u001b[0mnp\u001b[0m\u001b[1;33m.\u001b[0m\u001b[0mvstack\u001b[0m\u001b[1;33m(\u001b[0m\u001b[0mX_test\u001b[0m\u001b[1;33m)\u001b[0m\u001b[1;33m)\u001b[0m\u001b[1;33m\u001b[0m\u001b[1;33m\u001b[0m\u001b[0m\n\u001b[0m",
      "\u001b[1;32mC:\\ProgramData\\Anaconda3\\lib\\site-packages\\sklearn\\utils\\metaestimators.py\u001b[0m in \u001b[0;36m__get__\u001b[1;34m(self, obj, owner)\u001b[0m\n\u001b[0;32m    108\u001b[0m             \u001b[1;31m# this is to allow access to the docstrings.\u001b[0m\u001b[1;33m\u001b[0m\u001b[1;33m\u001b[0m\u001b[1;33m\u001b[0m\u001b[0m\n\u001b[0;32m    109\u001b[0m             \u001b[1;32mif\u001b[0m \u001b[1;32mnot\u001b[0m \u001b[0mself\u001b[0m\u001b[1;33m.\u001b[0m\u001b[0mcheck\u001b[0m\u001b[1;33m(\u001b[0m\u001b[0mobj\u001b[0m\u001b[1;33m)\u001b[0m\u001b[1;33m:\u001b[0m\u001b[1;33m\u001b[0m\u001b[1;33m\u001b[0m\u001b[0m\n\u001b[1;32m--> 110\u001b[1;33m                 \u001b[1;32mraise\u001b[0m \u001b[0mattr_err\u001b[0m\u001b[1;33m\u001b[0m\u001b[1;33m\u001b[0m\u001b[0m\n\u001b[0m\u001b[0;32m    111\u001b[0m \u001b[1;33m\u001b[0m\u001b[0m\n\u001b[0;32m    112\u001b[0m             \u001b[1;31m# lambda, but not partial, allows help() to work with update_wrapper\u001b[0m\u001b[1;33m\u001b[0m\u001b[1;33m\u001b[0m\u001b[1;33m\u001b[0m\u001b[0m\n",
      "\u001b[1;31mAttributeError\u001b[0m: This 'OneVsRestClassifier' has no attribute 'predict_proba'"
     ]
    }
   ],
   "source": [
    "clf.predict_proba(np.vstack(X_test))"
   ]
  },
  {
   "cell_type": "code",
   "execution_count": null,
   "id": "0122e156",
   "metadata": {},
   "outputs": [],
   "source": []
  }
 ],
 "metadata": {
  "kernelspec": {
   "display_name": "Python 3 (ipykernel)",
   "language": "python",
   "name": "python3"
  },
  "language_info": {
   "codemirror_mode": {
    "name": "ipython",
    "version": 3
   },
   "file_extension": ".py",
   "mimetype": "text/x-python",
   "name": "python",
   "nbconvert_exporter": "python",
   "pygments_lexer": "ipython3",
   "version": "3.8.12"
  },
  "latex_envs": {
   "LaTeX_envs_menu_present": true,
   "autoclose": false,
   "autocomplete": true,
   "bibliofile": "biblio.bib",
   "cite_by": "apalike",
   "current_citInitial": 1,
   "eqLabelWithNumbers": true,
   "eqNumInitial": 1,
   "hotkeys": {
    "equation": "Ctrl-E",
    "itemize": "Ctrl-I"
   },
   "labels_anchors": false,
   "latex_user_defs": false,
   "report_style_numbering": false,
   "user_envs_cfg": false
  }
 },
 "nbformat": 4,
 "nbformat_minor": 5
}
