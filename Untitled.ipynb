{
 "cells": [
  {
   "cell_type": "code",
   "execution_count": 40,
   "id": "b8b5506f",
   "metadata": {},
   "outputs": [],
   "source": [
    "import pandas as pd\n",
    "from sklearn.model_selection import train_test_split\n",
    "from sklearn.multiclass import OneVsRestClassifier\n",
    "from sklearn.svm import LinearSVC, SVC\n",
    "import numpy as np\n",
    "from sklearn.metrics import classification_report\n",
    "from sklearn.linear_model import LogisticRegression"
   ]
  },
  {
   "cell_type": "code",
   "execution_count": 14,
   "id": "ed65a54f",
   "metadata": {},
   "outputs": [],
   "source": [
    "df = pd.read_csv('data/opp-115.csv')"
   ]
  },
  {
   "cell_type": "code",
   "execution_count": 19,
   "id": "a7dde549",
   "metadata": {},
   "outputs": [],
   "source": [
    "X_num = pd.read_pickle('X_num_opp115.p')\n",
    "y = df.drop('text', axis=1)"
   ]
  },
  {
   "cell_type": "code",
   "execution_count": 22,
   "id": "6a125750",
   "metadata": {},
   "outputs": [],
   "source": [
    "X_train, X_test, y_train, y_test = train_test_split(X_num, y, test_size=0.2, random_state=1)"
   ]
  },
  {
   "cell_type": "code",
   "execution_count": 37,
   "id": "314b3053",
   "metadata": {
    "scrolled": false
   },
   "outputs": [
    {
     "name": "stdout",
     "output_type": "stream",
     "text": [
      "              precision    recall  f1-score   support\n",
      "\n",
      "           0       0.67      0.46      0.55        13\n",
      "           1       0.92      0.85      0.88        40\n",
      "           2       1.00      1.00      1.00         6\n",
      "           3       0.84      0.80      0.82       230\n",
      "           4       0.91      0.85      0.88        68\n",
      "           5       0.83      0.63      0.72        76\n",
      "           6       0.88      1.00      0.94        22\n",
      "           7       0.63      0.71      0.67        24\n",
      "           8       0.79      0.68      0.73        40\n",
      "           9       0.91      0.71      0.80       183\n",
      "          10       0.88      0.54      0.67        28\n",
      "          11       0.88      0.58      0.70        66\n",
      "\n",
      "   micro avg       0.86      0.73      0.79       796\n",
      "   macro avg       0.84      0.73      0.78       796\n",
      "weighted avg       0.86      0.73      0.79       796\n",
      " samples avg       0.83      0.78      0.79       796\n",
      "\n"
     ]
    },
    {
     "name": "stderr",
     "output_type": "stream",
     "text": [
      "C:\\ProgramData\\Anaconda3\\lib\\site-packages\\sklearn\\metrics\\_classification.py:1318: UndefinedMetricWarning: Precision and F-score are ill-defined and being set to 0.0 in samples with no predicted labels. Use `zero_division` parameter to control this behavior.\n",
      "  _warn_prf(average, modifier, msg_start, len(result))\n"
     ]
    }
   ],
   "source": [
    "clf = OneVsRestClassifier(LinearSVC())\n",
    "clf.fit(np.vstack(X_train), y_train.values)\n",
    "preds = clf.predict(np.vstack(X_test))\n",
    "print(classification_report(y_test, preds))"
   ]
  },
  {
   "cell_type": "code",
   "execution_count": 42,
   "id": "fd19a8e7",
   "metadata": {},
   "outputs": [
    {
     "name": "stdout",
     "output_type": "stream",
     "text": [
      "              precision    recall  f1-score   support\n",
      "\n",
      "           0       0.00      0.00      0.00        13\n",
      "           1       0.83      0.85      0.84        40\n",
      "           2       1.00      1.00      1.00         6\n",
      "           3       0.84      0.77      0.81       230\n",
      "           4       0.87      0.79      0.83        68\n",
      "           5       0.88      0.61      0.72        76\n",
      "           6       0.88      0.95      0.91        22\n",
      "           7       0.74      0.71      0.72        24\n",
      "           8       0.79      0.65      0.71        40\n",
      "           9       0.91      0.67      0.77       183\n",
      "          10       0.88      0.50      0.64        28\n",
      "          11       0.84      0.56      0.67        66\n",
      "\n",
      "   micro avg       0.86      0.70      0.77       796\n",
      "   macro avg       0.79      0.67      0.72       796\n",
      "weighted avg       0.85      0.70      0.76       796\n",
      " samples avg       0.80      0.75      0.76       796\n",
      "\n"
     ]
    },
    {
     "name": "stderr",
     "output_type": "stream",
     "text": [
      "C:\\ProgramData\\Anaconda3\\lib\\site-packages\\sklearn\\metrics\\_classification.py:1318: UndefinedMetricWarning: Precision and F-score are ill-defined and being set to 0.0 in labels with no predicted samples. Use `zero_division` parameter to control this behavior.\n",
      "  _warn_prf(average, modifier, msg_start, len(result))\n",
      "C:\\ProgramData\\Anaconda3\\lib\\site-packages\\sklearn\\metrics\\_classification.py:1318: UndefinedMetricWarning: Precision and F-score are ill-defined and being set to 0.0 in samples with no predicted labels. Use `zero_division` parameter to control this behavior.\n",
      "  _warn_prf(average, modifier, msg_start, len(result))\n"
     ]
    }
   ],
   "source": [
    "clf = OneVsRestClassifier(LogisticRegression(random_state=1))\n",
    "clf.fit(np.vstack(X_train), y_train.values)\n",
    "preds = clf.predict(np.vstack(X_test))\n",
    "print(classification_report(y_test, preds))"
   ]
  },
  {
   "cell_type": "code",
   "execution_count": 39,
   "id": "fcd80dee",
   "metadata": {},
   "outputs": [
    {
     "name": "stdout",
     "output_type": "stream",
     "text": [
      "              precision    recall  f1-score   support\n",
      "\n",
      "           0       0.00      0.00      0.00        13\n",
      "           1       0.81      0.85      0.83        40\n",
      "           2       1.00      1.00      1.00         6\n",
      "           3       0.86      0.78      0.82       230\n",
      "           4       0.89      0.85      0.87        68\n",
      "           5       0.88      0.64      0.74        76\n",
      "           6       0.88      1.00      0.94        22\n",
      "           7       0.59      0.71      0.64        24\n",
      "           8       0.79      0.65      0.71        40\n",
      "           9       0.92      0.67      0.78       183\n",
      "          10       0.94      0.57      0.71        28\n",
      "          11       0.83      0.58      0.68        66\n",
      "\n",
      "   micro avg       0.86      0.71      0.78       796\n",
      "   macro avg       0.78      0.69      0.73       796\n",
      "weighted avg       0.85      0.71      0.77       796\n",
      " samples avg       0.82      0.77      0.78       796\n",
      "\n"
     ]
    },
    {
     "name": "stderr",
     "output_type": "stream",
     "text": [
      "C:\\ProgramData\\Anaconda3\\lib\\site-packages\\sklearn\\metrics\\_classification.py:1318: UndefinedMetricWarning: Precision and F-score are ill-defined and being set to 0.0 in labels with no predicted samples. Use `zero_division` parameter to control this behavior.\n",
      "  _warn_prf(average, modifier, msg_start, len(result))\n",
      "C:\\ProgramData\\Anaconda3\\lib\\site-packages\\sklearn\\metrics\\_classification.py:1318: UndefinedMetricWarning: Precision and F-score are ill-defined and being set to 0.0 in samples with no predicted labels. Use `zero_division` parameter to control this behavior.\n",
      "  _warn_prf(average, modifier, msg_start, len(result))\n"
     ]
    }
   ],
   "source": [
    "clf = OneVsRestClassifier(SVC(kernel='linear',probability=True, random_state=1))\n",
    "clf.fit(np.vstack(X_train), y_train.values)\n",
    "preds = clf.predict(np.vstack(X_test))\n",
    "print(classification_report(y_test, preds))"
   ]
  },
  {
   "cell_type": "code",
   "execution_count": 43,
   "id": "9942caed",
   "metadata": {},
   "outputs": [
    {
     "data": {
      "text/plain": [
       "array([[0.01663524, 0.02340508, 0.00236488, ..., 0.07178061, 0.03036663,\n",
       "        0.03374367],\n",
       "       [0.00381456, 0.00507817, 0.00294388, ..., 0.01252976, 0.00190242,\n",
       "        0.02386959],\n",
       "       [0.00609712, 0.00351536, 0.00183193, ..., 0.17214206, 0.00968659,\n",
       "        0.07414876],\n",
       "       ...,\n",
       "       [0.00609494, 0.00916918, 0.00176615, ..., 0.80306086, 0.01445644,\n",
       "        0.02943944],\n",
       "       [0.00512951, 0.00539199, 0.00164066, ..., 0.1600842 , 0.00445632,\n",
       "        0.01745923],\n",
       "       [0.00696457, 0.02251097, 0.00258767, ..., 0.04510835, 0.02009072,\n",
       "        0.02577859]])"
      ]
     },
     "execution_count": 43,
     "metadata": {},
     "output_type": "execute_result"
    }
   ],
   "source": [
    "clf.predict_proba(np.vstack(X_test))"
   ]
  },
  {
   "cell_type": "code",
   "execution_count": 44,
   "id": "a6dce71b",
   "metadata": {},
   "outputs": [
    {
     "name": "stderr",
     "output_type": "stream",
     "text": [
      "C:\\ProgramData\\Anaconda3\\lib\\site-packages\\sklearn\\metrics\\_classification.py:1318: UndefinedMetricWarning: Precision and F-score are ill-defined and being set to 0.0 in labels with no predicted samples. Use `zero_division` parameter to control this behavior.\n",
      "  _warn_prf(average, modifier, msg_start, len(result))\n",
      "C:\\ProgramData\\Anaconda3\\lib\\site-packages\\sklearn\\metrics\\_classification.py:1318: UndefinedMetricWarning: Precision and F-score are ill-defined and being set to 0.0 in samples with no predicted labels. Use `zero_division` parameter to control this behavior.\n",
      "  _warn_prf(average, modifier, msg_start, len(result))\n"
     ]
    }
   ],
   "source": [
    "clf_report = classification_report(y_test, preds)"
   ]
  },
  {
   "cell_type": "code",
   "execution_count": 45,
   "id": "9f85baad",
   "metadata": {},
   "outputs": [
    {
     "data": {
      "text/plain": [
       "'              precision    recall  f1-score   support\\n\\n           0       0.00      0.00      0.00        13\\n           1       0.83      0.85      0.84        40\\n           2       1.00      1.00      1.00         6\\n           3       0.84      0.77      0.81       230\\n           4       0.87      0.79      0.83        68\\n           5       0.88      0.61      0.72        76\\n           6       0.88      0.95      0.91        22\\n           7       0.74      0.71      0.72        24\\n           8       0.79      0.65      0.71        40\\n           9       0.91      0.67      0.77       183\\n          10       0.88      0.50      0.64        28\\n          11       0.84      0.56      0.67        66\\n\\n   micro avg       0.86      0.70      0.77       796\\n   macro avg       0.79      0.67      0.72       796\\nweighted avg       0.85      0.70      0.76       796\\n samples avg       0.80      0.75      0.76       796\\n'"
      ]
     },
     "execution_count": 45,
     "metadata": {},
     "output_type": "execute_result"
    }
   ],
   "source": [
    "clf_report"
   ]
  },
  {
   "cell_type": "code",
   "execution_count": 46,
   "id": "06f043ed",
   "metadata": {},
   "outputs": [
    {
     "data": {
      "text/plain": [
       "['cov']"
      ]
     },
     "execution_count": 46,
     "metadata": {},
     "output_type": "execute_result"
    }
   ],
   "source": [
    "'cov'.split('_')"
   ]
  },
  {
   "cell_type": "code",
   "execution_count": null,
   "id": "351ccc23",
   "metadata": {},
   "outputs": [],
   "source": [
    "    "
   ]
  }
 ],
 "metadata": {
  "kernelspec": {
   "display_name": "Python 3 (ipykernel)",
   "language": "python",
   "name": "python3"
  },
  "language_info": {
   "codemirror_mode": {
    "name": "ipython",
    "version": 3
   },
   "file_extension": ".py",
   "mimetype": "text/x-python",
   "name": "python",
   "nbconvert_exporter": "python",
   "pygments_lexer": "ipython3",
   "version": "3.8.12"
  },
  "latex_envs": {
   "LaTeX_envs_menu_present": true,
   "autoclose": false,
   "autocomplete": true,
   "bibliofile": "biblio.bib",
   "cite_by": "apalike",
   "current_citInitial": 1,
   "eqLabelWithNumbers": true,
   "eqNumInitial": 1,
   "hotkeys": {
    "equation": "Ctrl-E",
    "itemize": "Ctrl-I"
   },
   "labels_anchors": false,
   "latex_user_defs": false,
   "report_style_numbering": false,
   "user_envs_cfg": false
  }
 },
 "nbformat": 4,
 "nbformat_minor": 5
}
