{
 "cells": [
  {
   "cell_type": "code",
   "execution_count": 1,
   "id": "e72e3125",
   "metadata": {},
   "outputs": [],
   "source": [
    "import pandas as pd"
   ]
  },
  {
   "cell_type": "code",
   "execution_count": 2,
   "id": "9f84b934",
   "metadata": {},
   "outputs": [],
   "source": [
    "opp115 = pd.read_csv('data/opp-115.csv')"
   ]
  },
  {
   "cell_type": "code",
   "execution_count": 4,
   "id": "d4b2fa7e",
   "metadata": {},
   "outputs": [
    {
     "data": {
      "text/plain": [
       "(3399, 13)"
      ]
     },
     "execution_count": 4,
     "metadata": {},
     "output_type": "execute_result"
    }
   ],
   "source": [
    "opp115.shape"
   ]
  },
  {
   "cell_type": "code",
   "execution_count": 5,
   "id": "5437f8de",
   "metadata": {},
   "outputs": [
    {
     "data": {
      "text/html": [
       "<div>\n",
       "<style scoped>\n",
       "    .dataframe tbody tr th:only-of-type {\n",
       "        vertical-align: middle;\n",
       "    }\n",
       "\n",
       "    .dataframe tbody tr th {\n",
       "        vertical-align: top;\n",
       "    }\n",
       "\n",
       "    .dataframe thead th {\n",
       "        text-align: right;\n",
       "    }\n",
       "</style>\n",
       "<table border=\"1\" class=\"dataframe\">\n",
       "  <thead>\n",
       "    <tr style=\"text-align: right;\">\n",
       "      <th></th>\n",
       "      <th>text</th>\n",
       "      <th>Data Retention</th>\n",
       "      <th>Data Security</th>\n",
       "      <th>Do Not Track</th>\n",
       "      <th>First Party Collection/Use</th>\n",
       "      <th>International and Specific Audiences</th>\n",
       "      <th>Introductory/Generic</th>\n",
       "      <th>Policy Change</th>\n",
       "      <th>Practice not covered</th>\n",
       "      <th>Privacy contact information</th>\n",
       "      <th>Third Party Sharing/Collection</th>\n",
       "      <th>User Access, Edit and Deletion</th>\n",
       "      <th>User Choice/Control</th>\n",
       "    </tr>\n",
       "  </thead>\n",
       "  <tbody>\n",
       "    <tr>\n",
       "      <th>0</th>\n",
       "      <td>\"\"Contact Us\"\" Link If you contact us through...</td>\n",
       "      <td>0</td>\n",
       "      <td>0</td>\n",
       "      <td>0</td>\n",
       "      <td>1</td>\n",
       "      <td>0</td>\n",
       "      <td>0</td>\n",
       "      <td>0</td>\n",
       "      <td>0</td>\n",
       "      <td>0</td>\n",
       "      <td>0</td>\n",
       "      <td>0</td>\n",
       "      <td>0</td>\n",
       "    </tr>\n",
       "    <tr>\n",
       "      <th>1</th>\n",
       "      <td>(b) Information automatically collected There...</td>\n",
       "      <td>0</td>\n",
       "      <td>0</td>\n",
       "      <td>0</td>\n",
       "      <td>1</td>\n",
       "      <td>0</td>\n",
       "      <td>0</td>\n",
       "      <td>0</td>\n",
       "      <td>0</td>\n",
       "      <td>0</td>\n",
       "      <td>0</td>\n",
       "      <td>0</td>\n",
       "      <td>0</td>\n",
       "    </tr>\n",
       "    <tr>\n",
       "      <th>2</th>\n",
       "      <td>(ii) You have entered a contest or sweepstake...</td>\n",
       "      <td>0</td>\n",
       "      <td>0</td>\n",
       "      <td>0</td>\n",
       "      <td>0</td>\n",
       "      <td>0</td>\n",
       "      <td>0</td>\n",
       "      <td>0</td>\n",
       "      <td>0</td>\n",
       "      <td>0</td>\n",
       "      <td>1</td>\n",
       "      <td>0</td>\n",
       "      <td>0</td>\n",
       "    </tr>\n",
       "    <tr>\n",
       "      <th>3</th>\n",
       "      <td>*Web Beacons: Military Web pages and the Web ...</td>\n",
       "      <td>0</td>\n",
       "      <td>0</td>\n",
       "      <td>0</td>\n",
       "      <td>1</td>\n",
       "      <td>0</td>\n",
       "      <td>0</td>\n",
       "      <td>0</td>\n",
       "      <td>0</td>\n",
       "      <td>0</td>\n",
       "      <td>1</td>\n",
       "      <td>0</td>\n",
       "      <td>0</td>\n",
       "    </tr>\n",
       "    <tr>\n",
       "      <th>4</th>\n",
       "      <td>1. INFORMATION WE COLLECT We collect the foll...</td>\n",
       "      <td>0</td>\n",
       "      <td>0</td>\n",
       "      <td>0</td>\n",
       "      <td>0</td>\n",
       "      <td>0</td>\n",
       "      <td>1</td>\n",
       "      <td>0</td>\n",
       "      <td>0</td>\n",
       "      <td>0</td>\n",
       "      <td>0</td>\n",
       "      <td>0</td>\n",
       "      <td>0</td>\n",
       "    </tr>\n",
       "    <tr>\n",
       "      <th>...</th>\n",
       "      <td>...</td>\n",
       "      <td>...</td>\n",
       "      <td>...</td>\n",
       "      <td>...</td>\n",
       "      <td>...</td>\n",
       "      <td>...</td>\n",
       "      <td>...</td>\n",
       "      <td>...</td>\n",
       "      <td>...</td>\n",
       "      <td>...</td>\n",
       "      <td>...</td>\n",
       "      <td>...</td>\n",
       "      <td>...</td>\n",
       "    </tr>\n",
       "    <tr>\n",
       "      <th>3394</th>\n",
       "      <td>we may combine all the information we collect ...</td>\n",
       "      <td>0</td>\n",
       "      <td>0</td>\n",
       "      <td>0</td>\n",
       "      <td>0</td>\n",
       "      <td>0</td>\n",
       "      <td>0</td>\n",
       "      <td>0</td>\n",
       "      <td>1</td>\n",
       "      <td>0</td>\n",
       "      <td>0</td>\n",
       "      <td>0</td>\n",
       "      <td>0</td>\n",
       "    </tr>\n",
       "    <tr>\n",
       "      <th>3395</th>\n",
       "      <td>when we have a good faith belief that there is...</td>\n",
       "      <td>0</td>\n",
       "      <td>0</td>\n",
       "      <td>0</td>\n",
       "      <td>0</td>\n",
       "      <td>0</td>\n",
       "      <td>0</td>\n",
       "      <td>0</td>\n",
       "      <td>0</td>\n",
       "      <td>0</td>\n",
       "      <td>1</td>\n",
       "      <td>0</td>\n",
       "      <td>0</td>\n",
       "    </tr>\n",
       "    <tr>\n",
       "      <th>3396</th>\n",
       "      <td>when we have a good faith belief that we are r...</td>\n",
       "      <td>0</td>\n",
       "      <td>0</td>\n",
       "      <td>0</td>\n",
       "      <td>0</td>\n",
       "      <td>0</td>\n",
       "      <td>0</td>\n",
       "      <td>0</td>\n",
       "      <td>0</td>\n",
       "      <td>0</td>\n",
       "      <td>1</td>\n",
       "      <td>0</td>\n",
       "      <td>0</td>\n",
       "    </tr>\n",
       "    <tr>\n",
       "      <th>3397</th>\n",
       "      <td>where we believe our sites and services are be...</td>\n",
       "      <td>0</td>\n",
       "      <td>0</td>\n",
       "      <td>0</td>\n",
       "      <td>0</td>\n",
       "      <td>0</td>\n",
       "      <td>0</td>\n",
       "      <td>0</td>\n",
       "      <td>0</td>\n",
       "      <td>0</td>\n",
       "      <td>1</td>\n",
       "      <td>0</td>\n",
       "      <td>0</td>\n",
       "    </tr>\n",
       "    <tr>\n",
       "      <th>3398</th>\n",
       "      <td>| We also may use third party advertisements p...</td>\n",
       "      <td>0</td>\n",
       "      <td>0</td>\n",
       "      <td>0</td>\n",
       "      <td>0</td>\n",
       "      <td>0</td>\n",
       "      <td>0</td>\n",
       "      <td>0</td>\n",
       "      <td>0</td>\n",
       "      <td>0</td>\n",
       "      <td>1</td>\n",
       "      <td>0</td>\n",
       "      <td>0</td>\n",
       "    </tr>\n",
       "  </tbody>\n",
       "</table>\n",
       "<p>3399 rows × 13 columns</p>\n",
       "</div>"
      ],
      "text/plain": [
       "                                                   text  Data Retention  \\\n",
       "0      \"\"Contact Us\"\" Link If you contact us through...               0   \n",
       "1      (b) Information automatically collected There...               0   \n",
       "2      (ii) You have entered a contest or sweepstake...               0   \n",
       "3      *Web Beacons: Military Web pages and the Web ...               0   \n",
       "4      1. INFORMATION WE COLLECT We collect the foll...               0   \n",
       "...                                                 ...             ...   \n",
       "3394  we may combine all the information we collect ...               0   \n",
       "3395  when we have a good faith belief that there is...               0   \n",
       "3396  when we have a good faith belief that we are r...               0   \n",
       "3397  where we believe our sites and services are be...               0   \n",
       "3398  | We also may use third party advertisements p...               0   \n",
       "\n",
       "      Data Security  Do Not Track  First Party Collection/Use  \\\n",
       "0                 0             0                           1   \n",
       "1                 0             0                           1   \n",
       "2                 0             0                           0   \n",
       "3                 0             0                           1   \n",
       "4                 0             0                           0   \n",
       "...             ...           ...                         ...   \n",
       "3394              0             0                           0   \n",
       "3395              0             0                           0   \n",
       "3396              0             0                           0   \n",
       "3397              0             0                           0   \n",
       "3398              0             0                           0   \n",
       "\n",
       "      International and Specific Audiences  Introductory/Generic  \\\n",
       "0                                        0                     0   \n",
       "1                                        0                     0   \n",
       "2                                        0                     0   \n",
       "3                                        0                     0   \n",
       "4                                        0                     1   \n",
       "...                                    ...                   ...   \n",
       "3394                                     0                     0   \n",
       "3395                                     0                     0   \n",
       "3396                                     0                     0   \n",
       "3397                                     0                     0   \n",
       "3398                                     0                     0   \n",
       "\n",
       "      Policy Change  Practice not covered  Privacy contact information  \\\n",
       "0                 0                     0                            0   \n",
       "1                 0                     0                            0   \n",
       "2                 0                     0                            0   \n",
       "3                 0                     0                            0   \n",
       "4                 0                     0                            0   \n",
       "...             ...                   ...                          ...   \n",
       "3394              0                     1                            0   \n",
       "3395              0                     0                            0   \n",
       "3396              0                     0                            0   \n",
       "3397              0                     0                            0   \n",
       "3398              0                     0                            0   \n",
       "\n",
       "      Third Party Sharing/Collection  User Access, Edit and Deletion  \\\n",
       "0                                  0                               0   \n",
       "1                                  0                               0   \n",
       "2                                  1                               0   \n",
       "3                                  1                               0   \n",
       "4                                  0                               0   \n",
       "...                              ...                             ...   \n",
       "3394                               0                               0   \n",
       "3395                               1                               0   \n",
       "3396                               1                               0   \n",
       "3397                               1                               0   \n",
       "3398                               1                               0   \n",
       "\n",
       "      User Choice/Control  \n",
       "0                       0  \n",
       "1                       0  \n",
       "2                       0  \n",
       "3                       0  \n",
       "4                       0  \n",
       "...                   ...  \n",
       "3394                    0  \n",
       "3395                    0  \n",
       "3396                    0  \n",
       "3397                    0  \n",
       "3398                    0  \n",
       "\n",
       "[3399 rows x 13 columns]"
      ]
     },
     "execution_count": 5,
     "metadata": {},
     "output_type": "execute_result"
    }
   ],
   "source": [
    "opp115"
   ]
  },
  {
   "cell_type": "code",
   "execution_count": 8,
   "id": "07ba16a4",
   "metadata": {},
   "outputs": [],
   "source": [
    "ohsumed = pd.read_csv('data/ohsumed.csv')"
   ]
  },
  {
   "cell_type": "code",
   "execution_count": 9,
   "id": "e37bc5ca",
   "metadata": {},
   "outputs": [
    {
     "data": {
      "text/plain": [
       "(23986, 16)"
      ]
     },
     "execution_count": 9,
     "metadata": {},
     "output_type": "execute_result"
    }
   ],
   "source": [
    "ohsumed.shape"
   ]
  },
  {
   "cell_type": "code",
   "execution_count": 10,
   "id": "b8889354",
   "metadata": {},
   "outputs": [
    {
     "data": {
      "text/html": [
       "<div>\n",
       "<style scoped>\n",
       "    .dataframe tbody tr th:only-of-type {\n",
       "        vertical-align: middle;\n",
       "    }\n",
       "\n",
       "    .dataframe tbody tr th {\n",
       "        vertical-align: top;\n",
       "    }\n",
       "\n",
       "    .dataframe thead th {\n",
       "        text-align: right;\n",
       "    }\n",
       "</style>\n",
       "<table border=\"1\" class=\"dataframe\">\n",
       "  <thead>\n",
       "    <tr style=\"text-align: right;\">\n",
       "      <th></th>\n",
       "      <th>c01</th>\n",
       "      <th>c02</th>\n",
       "      <th>c05</th>\n",
       "      <th>c06</th>\n",
       "      <th>c08</th>\n",
       "      <th>c10</th>\n",
       "      <th>c11</th>\n",
       "      <th>c12</th>\n",
       "      <th>c13</th>\n",
       "      <th>c15</th>\n",
       "      <th>c16</th>\n",
       "      <th>c17</th>\n",
       "      <th>c18</th>\n",
       "      <th>c20</th>\n",
       "      <th>c21</th>\n",
       "      <th>text</th>\n",
       "    </tr>\n",
       "  </thead>\n",
       "  <tbody>\n",
       "    <tr>\n",
       "      <th>0</th>\n",
       "      <td>1</td>\n",
       "      <td>0</td>\n",
       "      <td>0</td>\n",
       "      <td>0</td>\n",
       "      <td>0</td>\n",
       "      <td>1</td>\n",
       "      <td>0</td>\n",
       "      <td>0</td>\n",
       "      <td>0</td>\n",
       "      <td>0</td>\n",
       "      <td>0</td>\n",
       "      <td>0</td>\n",
       "      <td>0</td>\n",
       "      <td>0</td>\n",
       "      <td>0</td>\n",
       "      <td>Haemophilus influenzae meningitis with prolong...</td>\n",
       "    </tr>\n",
       "    <tr>\n",
       "      <th>1</th>\n",
       "      <td>1</td>\n",
       "      <td>0</td>\n",
       "      <td>0</td>\n",
       "      <td>0</td>\n",
       "      <td>0</td>\n",
       "      <td>0</td>\n",
       "      <td>0</td>\n",
       "      <td>0</td>\n",
       "      <td>0</td>\n",
       "      <td>0</td>\n",
       "      <td>0</td>\n",
       "      <td>0</td>\n",
       "      <td>0</td>\n",
       "      <td>0</td>\n",
       "      <td>0</td>\n",
       "      <td>Augmentation mentoplasty using Mersilene mesh....</td>\n",
       "    </tr>\n",
       "    <tr>\n",
       "      <th>2</th>\n",
       "      <td>1</td>\n",
       "      <td>0</td>\n",
       "      <td>0</td>\n",
       "      <td>0</td>\n",
       "      <td>0</td>\n",
       "      <td>1</td>\n",
       "      <td>0</td>\n",
       "      <td>0</td>\n",
       "      <td>0</td>\n",
       "      <td>0</td>\n",
       "      <td>0</td>\n",
       "      <td>0</td>\n",
       "      <td>0</td>\n",
       "      <td>0</td>\n",
       "      <td>0</td>\n",
       "      <td>Multiple intracranial mucoceles associated wit...</td>\n",
       "    </tr>\n",
       "  </tbody>\n",
       "</table>\n",
       "</div>"
      ],
      "text/plain": [
       "   c01  c02  c05  c06  c08  c10  c11  c12  c13  c15  c16  c17  c18  c20  c21  \\\n",
       "0    1    0    0    0    0    1    0    0    0    0    0    0    0    0    0   \n",
       "1    1    0    0    0    0    0    0    0    0    0    0    0    0    0    0   \n",
       "2    1    0    0    0    0    1    0    0    0    0    0    0    0    0    0   \n",
       "\n",
       "                                                text  \n",
       "0  Haemophilus influenzae meningitis with prolong...  \n",
       "1  Augmentation mentoplasty using Mersilene mesh....  \n",
       "2  Multiple intracranial mucoceles associated wit...  "
      ]
     },
     "execution_count": 10,
     "metadata": {},
     "output_type": "execute_result"
    }
   ],
   "source": [
    "ohsumed.head(3)"
   ]
  },
  {
   "cell_type": "code",
   "execution_count": 11,
   "id": "a0570728",
   "metadata": {},
   "outputs": [],
   "source": [
    "reuters = pd.read_csv('data/Reuters21578.csv')"
   ]
  },
  {
   "cell_type": "code",
   "execution_count": 12,
   "id": "62dd58b4",
   "metadata": {},
   "outputs": [
    {
     "data": {
      "text/plain": [
       "(10788, 94)"
      ]
     },
     "execution_count": 12,
     "metadata": {},
     "output_type": "execute_result"
    }
   ],
   "source": [
    "reuters.shape"
   ]
  },
  {
   "cell_type": "code",
   "execution_count": 19,
   "id": "af1e4f1c",
   "metadata": {},
   "outputs": [
    {
     "data": {
      "text/plain": [
       "1.3667964404894326"
      ]
     },
     "execution_count": 19,
     "metadata": {},
     "output_type": "execute_result"
    }
   ],
   "source": [
    "reuters.drop('text', axis=1).sum(axis=1).mean()"
   ]
  },
  {
   "cell_type": "code",
   "execution_count": 20,
   "id": "ffa7302d",
   "metadata": {},
   "outputs": [],
   "source": [
    "def calculate_cardinality(df):\n",
    "    card = df.drop('text', axis=1).sum(axis=1).mean()\n",
    "    return card"
   ]
  },
  {
   "cell_type": "code",
   "execution_count": 30,
   "id": "438b30fa",
   "metadata": {},
   "outputs": [],
   "source": [
    "def calculate_density(df):\n",
    "    df_ = df.drop('text', axis=1)\n",
    "    L = df_.shape[1]\n",
    "    dens = (df_.sum(axis=1)/L).mean()\n",
    "    return dens"
   ]
  },
  {
   "cell_type": "code",
   "execution_count": 40,
   "id": "4fac18b3",
   "metadata": {},
   "outputs": [
    {
     "data": {
      "text/plain": [
       "1.3667964404894326"
      ]
     },
     "execution_count": 40,
     "metadata": {},
     "output_type": "execute_result"
    }
   ],
   "source": [
    "calculate_cardinality(reuters)"
   ]
  },
  {
   "cell_type": "code",
   "execution_count": 44,
   "id": "53043f0a",
   "metadata": {},
   "outputs": [
    {
     "data": {
      "text/plain": [
       "0.09924487594390352"
      ]
     },
     "execution_count": 44,
     "metadata": {},
     "output_type": "execute_result"
    }
   ],
   "source": [
    "calculate_density(opp115)"
   ]
  },
  {
   "cell_type": "code",
   "execution_count": 42,
   "id": "4deb1815",
   "metadata": {},
   "outputs": [
    {
     "data": {
      "text/plain": [
       "(10788, 94)"
      ]
     },
     "execution_count": 42,
     "metadata": {},
     "output_type": "execute_result"
    }
   ],
   "source": [
    "reuters.shape"
   ]
  },
  {
   "cell_type": "code",
   "execution_count": 53,
   "id": "4b6a4e1c",
   "metadata": {},
   "outputs": [],
   "source": [
    "import nltk"
   ]
  },
  {
   "cell_type": "code",
   "execution_count": 54,
   "id": "e4ad3036",
   "metadata": {},
   "outputs": [],
   "source": [
    "from nltk.tokenize import word_tokenize"
   ]
  },
  {
   "cell_type": "code",
   "execution_count": 52,
   "id": "1717df6f",
   "metadata": {},
   "outputs": [
    {
     "data": {
      "text/plain": [
       "'Haemophilus influenzae meningitis with prolonged hospital course.\\n A retrospective evaluation of Haemophilus influenzae type b meningitis observed over a 2-year period documented 86 cases.\\n Eight of these patients demonstrated an unusual clinical course characterized by persistent fever (duration: greater than 10 days), cerebrospinal fluid pleocytosis, profound meningeal enhancement on computed tomography, significant morbidity, and a prolonged hospital course.\\n The mean age of these 8 patients was 6 months, in contrast to a mean age of 14 months for the entire group.\\n Two patients had clinical evidence of relapse.\\n Four of the 8 patients tested for latex particle agglutination in the cerebrospinal fluid remained positive after 10 days.\\n All patients received antimicrobial therapy until they were afebrile for a minimum of 5 days.\\n Subsequent neurologic examination revealed a persistent seizure disorder in 5 patients (62.5%), moderate-to-profound hearing loss in 2 (25%), mild ataxia in 1 (12.5%), and developmental delay with hydrocephalus which required shunting in 1 (12.5%).\\n One patient had no sequelae.\\n'"
      ]
     },
     "execution_count": 52,
     "metadata": {},
     "output_type": "execute_result"
    }
   ],
   "source": [
    "ohsumed['text'][0]"
   ]
  },
  {
   "cell_type": "code",
   "execution_count": 56,
   "id": "f4017af9",
   "metadata": {},
   "outputs": [
    {
     "data": {
      "text/plain": [
       "199.53160176769782"
      ]
     },
     "execution_count": 56,
     "metadata": {},
     "output_type": "execute_result"
    }
   ],
   "source": [
    "ohsumed['text'].apply(lambda x: len(word_tokenize(x))).mean()"
   ]
  },
  {
   "cell_type": "code",
   "execution_count": 57,
   "id": "faafbf07",
   "metadata": {},
   "outputs": [
    {
     "data": {
      "text/plain": [
       "143.52753058954394"
      ]
     },
     "execution_count": 57,
     "metadata": {},
     "output_type": "execute_result"
    }
   ],
   "source": [
    "reuters['text'].apply(lambda x: len(word_tokenize(x))).mean()"
   ]
  },
  {
   "cell_type": "code",
   "execution_count": 58,
   "id": "39c35a82",
   "metadata": {},
   "outputs": [
    {
     "data": {
      "text/plain": [
       "82.49161518093557"
      ]
     },
     "execution_count": 58,
     "metadata": {},
     "output_type": "execute_result"
    }
   ],
   "source": [
    "opp115['text'].apply(lambda x: len(word_tokenize(x))).mean()"
   ]
  },
  {
   "cell_type": "code",
   "execution_count": 70,
   "id": "07e9853e",
   "metadata": {},
   "outputs": [],
   "source": [
    "import seaborn as sns\n",
    "import matplotlib.pyplot as plt"
   ]
  },
  {
   "cell_type": "code",
   "execution_count": 91,
   "id": "1eb708fa",
   "metadata": {},
   "outputs": [
    {
     "data": {
      "text/plain": [
       "<AxesSubplot:>"
      ]
     },
     "execution_count": 91,
     "metadata": {},
     "output_type": "execute_result"
    },
    {
     "data": {
      "image/png": "[encoded data removed]",
      "text/plain": [
       "<Figure size 432x288 with 1 Axes>"
      ]
     },
     "metadata": {
      "needs_background": "light"
     },
     "output_type": "display_data"
    }
   ],
   "source": [
    "ohsumed.drop('text', axis=1).sum().plot(kind='barh')"
   ]
  },
  {
   "cell_type": "code",
   "execution_count": 113,
   "id": "430bf843",
   "metadata": {},
   "outputs": [
    {
     "data": {
      "text/plain": [
       "<AxesSubplot:>"
      ]
     },
     "execution_count": 113,
     "metadata": {},
     "output_type": "execute_result"
    },
    {
     "data": {
      "image/png": "[encoded data removed]",
      "text/plain": [
       "<Figure size 432x288 with 1 Axes>"
      ]
     },
     "metadata": {
      "needs_background": "light"
     },
     "output_type": "display_data"
    }
   ],
   "source": [
    "reuters.drop('text', axis=1).sum()[[0, 11, 55, 33,  66, 77, 39, 44, 55, 66, 77, 24, 88, 26, 20, 21, 22, 37 ]].plot(kind='barh')"
   ]
  },
  {
   "cell_type": "code",
   "execution_count": 87,
   "id": "55d8857c",
   "metadata": {},
   "outputs": [
    {
     "data": {
      "text/plain": [
       "31"
      ]
     },
     "execution_count": 87,
     "metadata": {},
     "output_type": "execute_result"
    }
   ],
   "source": [
    "opp115.drop('text', axis=1).sum().min()"
   ]
  },
  {
   "cell_type": "code",
   "execution_count": 96,
   "id": "ea1bd247",
   "metadata": {},
   "outputs": [
    {
     "name": "stdout",
     "output_type": "stream",
     "text": [
      "[0, 1, 2, 3, 4, 5, 6, 7, 8, 9, 10, 11, 12, 13, 14, 15, 16, 17, 18, 19, 20, 21, 22, 23, 24]\n"
     ]
    }
   ],
   "source": [
    "print(list(range(25)))"
   ]
  },
  {
   "cell_type": "code",
   "execution_count": null,
   "id": "a19efc9e",
   "metadata": {},
   "outputs": [],
   "source": []
  }
 ],
 "metadata": {
  "kernelspec": {
   "display_name": "Python 3 (ipykernel)",
   "language": "python",
   "name": "python3"
  },
  "language_info": {
   "codemirror_mode": {
    "name": "ipython",
    "version": 3
   },
   "file_extension": ".py",
   "mimetype": "text/x-python",
   "name": "python",
   "nbconvert_exporter": "python",
   "pygments_lexer": "ipython3",
   "version": "3.8.12"
  },
  "latex_envs": {
   "LaTeX_envs_menu_present": true,
   "autoclose": false,
   "autocomplete": true,
   "bibliofile": "biblio.bib",
   "cite_by": "apalike",
   "current_citInitial": 1,
   "eqLabelWithNumbers": true,
   "eqNumInitial": 1,
   "hotkeys": {
    "equation": "Ctrl-E",
    "itemize": "Ctrl-I"
   },
   "labels_anchors": false,
   "latex_user_defs": false,
   "report_style_numbering": false,
   "user_envs_cfg": false
  }
 },
 "nbformat": 4,
 "nbformat_minor": 5
}
