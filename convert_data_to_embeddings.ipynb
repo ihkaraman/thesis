{
 "cells": [
  {
   "cell_type": "code",
   "execution_count": 1,
   "id": "linear-thong",
   "metadata": {},
   "outputs": [],
   "source": [
    "import utilities\n",
    "import pickle\n",
    "import pandas as pd"
   ]
  },
  {
   "cell_type": "code",
   "execution_count": 2,
   "id": "separated-research",
   "metadata": {},
   "outputs": [],
   "source": [
    "embedding_method = 'stsb-roberta-large'"
   ]
  },
  {
   "cell_type": "code",
   "execution_count": 3,
   "id": "opposed-sunrise",
   "metadata": {},
   "outputs": [],
   "source": [
    "paths = {'ohsumed':r'C:\\Users\\IsmailKaraman\\workspace\\GitHub\\thesis\\data\\ohsumed.csv',\n",
    "         'reuters':r'C:\\Users\\IsmailKaraman\\workspace\\GitHub\\thesis\\data\\Reuters21578.csv'}"
   ]
  },
  {
   "cell_type": "code",
   "execution_count": 5,
   "id": "buried-copper",
   "metadata": {},
   "outputs": [
    {
     "name": "stdout",
     "output_type": "stream",
     "text": [
      "cuda:0\n",
      "cuda:0\n"
     ]
    }
   ],
   "source": [
    "for name, path in paths.items():\n",
    "    \n",
    "    df = utilities.read_data(path)\n",
    "    X = df['text']\n",
    "    X_num = utilities.vectorize_data(X, embedding_method)\n",
    "\n",
    "    with open(f'data\\\\{name}.p', 'wb') as f:\n",
    "        pickle.dump(X_num, f)   "
   ]
  },
  {
   "cell_type": "code",
   "execution_count": 6,
   "id": "color-hazard",
   "metadata": {},
   "outputs": [
    {
     "data": {
      "text/plain": [
       "array([[-0.56243885,  0.84456694, -0.45054343, ..., -0.2513067 ,\n",
       "        -2.2190204 , -0.06316524],\n",
       "       [ 1.5353221 ,  0.8841836 , -0.3983114 , ...,  0.6486219 ,\n",
       "        -0.8760121 ,  0.7212292 ],\n",
       "       [-0.6788519 ,  1.1879511 ,  0.62930644, ...,  0.7607692 ,\n",
       "        -2.8266773 ,  0.2809271 ],\n",
       "       ...,\n",
       "       [-0.30480835,  0.4843411 , -0.5165848 , ...,  0.87371075,\n",
       "        -0.79199284,  1.1030595 ],\n",
       "       [-0.0355458 ,  0.62366045, -0.51087576, ...,  0.46266103,\n",
       "         0.83410347,  0.01787714],\n",
       "       [-1.2285393 ,  1.7167659 , -0.36129478, ..., -0.13551116,\n",
       "        -0.9796883 , -0.53563875]], dtype=float32)"
      ]
     },
     "execution_count": 6,
     "metadata": {},
     "output_type": "execute_result"
    }
   ],
   "source": [
    "X_num"
   ]
  },
  {
   "cell_type": "code",
   "execution_count": null,
   "id": "vocational-median",
   "metadata": {},
   "outputs": [],
   "source": []
  }
 ],
 "metadata": {
  "kernelspec": {
   "display_name": "Python 3 (ipykernel)",
   "language": "python",
   "name": "python3"
  },
  "language_info": {
   "codemirror_mode": {
    "name": "ipython",
    "version": 3
   },
   "file_extension": ".py",
   "mimetype": "text/x-python",
   "name": "python",
   "nbconvert_exporter": "python",
   "pygments_lexer": "ipython3",
   "version": "3.8.12"
  },
  "latex_envs": {
   "LaTeX_envs_menu_present": true,
   "autoclose": false,
   "autocomplete": true,
   "bibliofile": "biblio.bib",
   "cite_by": "apalike",
   "current_citInitial": 1,
   "eqLabelWithNumbers": true,
   "eqNumInitial": 1,
   "hotkeys": {
    "equation": "Ctrl-E",
    "itemize": "Ctrl-I"
   },
   "labels_anchors": false,
   "latex_user_defs": false,
   "report_style_numbering": false,
   "user_envs_cfg": false
  }
 },
 "nbformat": 4,
 "nbformat_minor": 5
}
