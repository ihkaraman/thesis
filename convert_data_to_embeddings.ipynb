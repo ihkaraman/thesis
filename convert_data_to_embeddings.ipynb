{
 "cells": [
  {
   "cell_type": "code",
   "execution_count": 1,
   "id": "linear-thong",
   "metadata": {},
   "outputs": [],
   "source": [
    "import utilities\n",
    "import pickle\n",
    "import pandas as pd"
   ]
  },
  {
   "cell_type": "code",
   "execution_count": 2,
   "id": "separated-research",
   "metadata": {},
   "outputs": [],
   "source": [
    "embedding_method = 'stsb-roberta-large'"
   ]
  },
  {
   "cell_type": "code",
   "execution_count": 4,
   "id": "opposed-sunrise",
   "metadata": {},
   "outputs": [],
   "source": [
    "paths = {'ohsumed':r'C:\\Users\\IsmailKaraman\\workspace\\GitHub\\thesis\\data\\ohsumed.csv',\n",
    "         'reuters':r'C:\\Users\\IsmailKaraman\\workspace\\GitHub\\thesis\\data\\Reuters21578.csv'}"
   ]
  },
  {
   "cell_type": "code",
   "execution_count": null,
   "id": "buried-copper",
   "metadata": {},
   "outputs": [],
   "source": [
    "for name, path in paths.items():\n",
    "    \n",
    "    df = utilities.read_data(path)\n",
    "    X = df['text']\n",
    "    X_num = X.apply(utilities.vectorize_data, embedding_method)\n",
    "\n",
    "    with open(f'{name}.p', 'wb') as f:\n",
    "        pickle.dump(X_num, f)   "
   ]
  },
  {
   "cell_type": "code",
   "execution_count": null,
   "id": "color-hazard",
   "metadata": {},
   "outputs": [],
   "source": []
  }
 ],
 "metadata": {
  "kernelspec": {
   "display_name": "Python 3",
   "language": "python",
   "name": "python3"
  },
  "language_info": {
   "codemirror_mode": {
    "name": "ipython",
    "version": 3
   },
   "file_extension": ".py",
   "mimetype": "text/x-python",
   "name": "python",
   "nbconvert_exporter": "python",
   "pygments_lexer": "ipython3",
   "version": "3.8.5"
  }
 },
 "nbformat": 4,
 "nbformat_minor": 5
}
