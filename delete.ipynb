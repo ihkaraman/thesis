{
 "cells": [
  {
   "cell_type": "code",
   "execution_count": 1,
   "id": "002e566e",
   "metadata": {},
   "outputs": [],
   "source": [
    "import torch\n",
    "import random\n",
    "import parameters\n",
    "import time\n",
    "import preprocess\n",
    "import similarities\n",
    "import pandas as pd\n",
    "import numpy as np\n",
    "import utilities\n",
    "import pandas as pd\n",
    "import numpy as np\n",
    "import preprocess\n",
    "import utilities\n",
    "import seaborn as sns\n",
    "from numpy import dot\n",
    "from numpy.linalg import norm\n",
    "from itertools import combinations\n",
    "import matplotlib.pyplot as plt\n",
    "from tqdm import tqdm"
   ]
  },
  {
   "cell_type": "code",
   "execution_count": 2,
   "id": "779e07ca",
   "metadata": {},
   "outputs": [],
   "source": [
    "paths = parameters.data_paths\n",
    "df = utilities.read_data(paths['ohsumed'])\n",
    "df = df.sample(5000)\n",
    "X = df['text']\n",
    "y = df.drop(['text'], axis=1)\n",
    "X = X.apply(preprocess.preprocess_text)"
   ]
  },
  {
   "cell_type": "code",
   "execution_count": 3,
   "id": "2fbf0601",
   "metadata": {},
   "outputs": [],
   "source": [
    "model_name = 'distiluse-base-multilingual-cased-v1'"
   ]
  },
  {
   "cell_type": "code",
   "execution_count": 4,
   "id": "843e12df",
   "metadata": {},
   "outputs": [],
   "source": [
    "X_num = utilities.vectorize_data(X, model_name)"
   ]
  },
  {
   "cell_type": "code",
   "execution_count": 5,
   "id": "1425b692",
   "metadata": {},
   "outputs": [],
   "source": [
    "text = X"
   ]
  },
  {
   "cell_type": "code",
   "execution_count": 6,
   "id": "c487d52d",
   "metadata": {},
   "outputs": [],
   "source": [
    "data_paths = parameters.data_paths\n",
    "sim_calculation_type = parameters.sim_calculation_type\n",
    "all_sentence_embeddings =  parameters.huggingface_embeddings + parameters.openai_embeddings + parameters.google_embeddings"
   ]
  },
  {
   "cell_type": "code",
   "execution_count": 7,
   "id": "b6373f25",
   "metadata": {},
   "outputs": [],
   "source": [
    "def calculate_similarity_matrix(X, y, sim_method='cosine'):\n",
    "    \n",
    "    import similarities\n",
    "    import time\n",
    "    \n",
    "    sim_df = pd.DataFrame(index=y.columns, columns=y.columns)\n",
    "    t3 = time.time()\n",
    "    for col in y.columns:\n",
    "        indexes = y[y[col]==1].index\n",
    "        sim_df.loc[col, col] = similarities.calculate_similarity_within_classes(X.loc[indexes])\n",
    "    t4 = time.time()\n",
    "    for col1, col2 in list(combinations(y.columns, 2)):\n",
    "        sim_df.loc[col1, col2] = similarities.calculate_similarity_between_classes(X[y[y[col1]==1].index], X[y[y[col2]==1].index])\n",
    "    \n",
    "    return sim_df, t3, t4"
   ]
  },
  {
   "cell_type": "code",
   "execution_count": 8,
   "id": "ccf643e0",
   "metadata": {},
   "outputs": [],
   "source": [
    "def calculate_within_class(X, y, sim_calculation_type, sim_df):\n",
    "    \n",
    "    t1 = time.time()\n",
    "    import ray\n",
    "    ray.init()\n",
    "    \n",
    "    @ray.remote\n",
    "    def run(vecs, sim_calculation_type):\n",
    "        return similarities.calculate_similarity_within_classes(vecs, sim_calculation_type)\n",
    "\n",
    "    futures = [run.remote(X.loc[y[y[col]==1].index], sim_calculation_type) for col in y.columns]\n",
    "    results = ray.get(futures) \n",
    "    \n",
    "    for col, sim in zip(y.columns, results):    \n",
    "        sim_df.loc[col, col] = sim\n",
    "    \n",
    "    ray.shutdown()\n",
    "    print('within class ', time.time() - t1)\n",
    "    return sim_df"
   ]
  },
  {
   "cell_type": "code",
   "execution_count": 9,
   "id": "1e7aea1a",
   "metadata": {},
   "outputs": [],
   "source": [
    "def calculate_between_class(X, y, sim_df):\n",
    "    \n",
    "    t1 = time.time()\n",
    "    import ray\n",
    "    ray.init()\n",
    "    \n",
    "    @ray.remote\n",
    "    def run(vecs1, vecs2):\n",
    "        return similarities.calculate_similarity_between_classes(vecs1, vecs2)\n",
    "    \n",
    "    futures = [run.remote(X[y[y[col1]==1].index], X[y[y[col2]==1].index]) for col1, col2 in list(combinations(y.columns, 2))]\n",
    "    results = ray.get(futures) \n",
    "    \n",
    "    for (col1, col2), sim in zip(list(combinations(y.columns, 2)), results):\n",
    "        sim_df.loc[col1, col2] = sim\n",
    "    \n",
    "    ray.shutdown()\n",
    "    print('between class ', time.time() - t1)\n",
    "    return sim_df"
   ]
  },
  {
   "cell_type": "code",
   "execution_count": 10,
   "id": "f0fe09ab",
   "metadata": {},
   "outputs": [],
   "source": [
    "def calculate_similarity_matrix(X, y, sim_method='cosine'):\n",
    "    \n",
    "    import similarities\n",
    "    \n",
    "    sim_df = pd.DataFrame(index=y.columns, columns=y.columns)\n",
    "    \n",
    "    sim_df = calculate_within_class(X, y, sim_calculation_type, sim_df)\n",
    "    \n",
    "    t4 = time.time()    \n",
    "    \n",
    "    sim_df = calculate_between_class(X, y, sim_df)\n",
    "    \n",
    "    return sim_df, t3, t4"
   ]
  },
  {
   "cell_type": "code",
   "execution_count": 11,
   "id": "f7342964",
   "metadata": {},
   "outputs": [
    {
     "name": "stdout",
     "output_type": "stream",
     "text": [
      "CPU times: total: 1min 55s\n",
      "Wall time: 1min 55s\n"
     ]
    }
   ],
   "source": [
    "%%time\n",
    "ss1 = calculate_similarity_matrix(X_num, y)"
   ]
  },
  {
   "cell_type": "code",
   "execution_count": 16,
   "id": "c1982efa",
   "metadata": {},
   "outputs": [
    {
     "name": "stdout",
     "output_type": "stream",
     "text": [
      "within class  11.716727495193481\n",
      "between class  52.255552768707275\n",
      "CPU times: total: 3.95 s\n",
      "Wall time: 1min 3s\n"
     ]
    }
   ],
   "source": [
    "%%time\n",
    "ss2 = calculate_similarity_matrix2(X_num, y)"
   ]
  },
  {
   "cell_type": "code",
   "execution_count": 13,
   "id": "60f7fd35",
   "metadata": {},
   "outputs": [
    {
     "ename": "NameError",
     "evalue": "name 'asda' is not defined",
     "output_type": "error",
     "traceback": [
      "\u001b[1;31m---------------------------------------------------------------------------\u001b[0m",
      "\u001b[1;31mNameError\u001b[0m                                 Traceback (most recent call last)",
      "Input \u001b[1;32mIn [13]\u001b[0m, in \u001b[0;36m<cell line: 1>\u001b[1;34m()\u001b[0m\n\u001b[1;32m----> 1\u001b[0m \u001b[43masda\u001b[49m\n",
      "\u001b[1;31mNameError\u001b[0m: name 'asda' is not defined"
     ]
    }
   ],
   "source": [
    "asda"
   ]
  },
  {
   "cell_type": "code",
   "execution_count": 17,
   "id": "7d4531c8",
   "metadata": {},
   "outputs": [
    {
     "data": {
      "text/html": [
       "<div>\n",
       "<style scoped>\n",
       "    .dataframe tbody tr th:only-of-type {\n",
       "        vertical-align: middle;\n",
       "    }\n",
       "\n",
       "    .dataframe tbody tr th {\n",
       "        vertical-align: top;\n",
       "    }\n",
       "\n",
       "    .dataframe thead th {\n",
       "        text-align: right;\n",
       "    }\n",
       "</style>\n",
       "<table border=\"1\" class=\"dataframe\">\n",
       "  <thead>\n",
       "    <tr style=\"text-align: right;\">\n",
       "      <th></th>\n",
       "      <th>c01</th>\n",
       "      <th>c02</th>\n",
       "      <th>c05</th>\n",
       "      <th>c06</th>\n",
       "      <th>c08</th>\n",
       "      <th>c10</th>\n",
       "      <th>c11</th>\n",
       "      <th>c12</th>\n",
       "      <th>c13</th>\n",
       "      <th>c15</th>\n",
       "      <th>c16</th>\n",
       "      <th>c17</th>\n",
       "      <th>c18</th>\n",
       "      <th>c20</th>\n",
       "      <th>c21</th>\n",
       "    </tr>\n",
       "  </thead>\n",
       "  <tbody>\n",
       "    <tr>\n",
       "      <th>c01</th>\n",
       "      <td>0.332783</td>\n",
       "      <td>0.319417</td>\n",
       "      <td>0.290775</td>\n",
       "      <td>0.318332</td>\n",
       "      <td>0.308782</td>\n",
       "      <td>0.280624</td>\n",
       "      <td>0.287214</td>\n",
       "      <td>0.298117</td>\n",
       "      <td>0.281763</td>\n",
       "      <td>0.310628</td>\n",
       "      <td>0.279526</td>\n",
       "      <td>0.294399</td>\n",
       "      <td>0.267007</td>\n",
       "      <td>0.309315</td>\n",
       "      <td>0.27288</td>\n",
       "    </tr>\n",
       "    <tr>\n",
       "      <th>c02</th>\n",
       "      <td>NaN</td>\n",
       "      <td>0.353181</td>\n",
       "      <td>0.264831</td>\n",
       "      <td>0.294561</td>\n",
       "      <td>0.291214</td>\n",
       "      <td>0.271293</td>\n",
       "      <td>0.27386</td>\n",
       "      <td>0.280645</td>\n",
       "      <td>0.272244</td>\n",
       "      <td>0.304072</td>\n",
       "      <td>0.264524</td>\n",
       "      <td>0.28143</td>\n",
       "      <td>0.258796</td>\n",
       "      <td>0.322321</td>\n",
       "      <td>0.255097</td>\n",
       "    </tr>\n",
       "    <tr>\n",
       "      <th>c05</th>\n",
       "      <td>NaN</td>\n",
       "      <td>NaN</td>\n",
       "      <td>0.370809</td>\n",
       "      <td>0.306416</td>\n",
       "      <td>0.289918</td>\n",
       "      <td>0.320822</td>\n",
       "      <td>0.309081</td>\n",
       "      <td>0.303307</td>\n",
       "      <td>0.276087</td>\n",
       "      <td>0.310587</td>\n",
       "      <td>0.301303</td>\n",
       "      <td>0.303868</td>\n",
       "      <td>0.27805</td>\n",
       "      <td>0.276071</td>\n",
       "      <td>0.307217</td>\n",
       "    </tr>\n",
       "    <tr>\n",
       "      <th>c06</th>\n",
       "      <td>NaN</td>\n",
       "      <td>NaN</td>\n",
       "      <td>NaN</td>\n",
       "      <td>0.34463</td>\n",
       "      <td>0.303158</td>\n",
       "      <td>0.291694</td>\n",
       "      <td>0.298201</td>\n",
       "      <td>0.321356</td>\n",
       "      <td>0.286849</td>\n",
       "      <td>0.319223</td>\n",
       "      <td>0.290828</td>\n",
       "      <td>0.293861</td>\n",
       "      <td>0.293065</td>\n",
       "      <td>0.293279</td>\n",
       "      <td>0.284471</td>\n",
       "    </tr>\n",
       "    <tr>\n",
       "      <th>c08</th>\n",
       "      <td>NaN</td>\n",
       "      <td>NaN</td>\n",
       "      <td>NaN</td>\n",
       "      <td>NaN</td>\n",
       "      <td>0.372401</td>\n",
       "      <td>0.289816</td>\n",
       "      <td>0.282052</td>\n",
       "      <td>0.284775</td>\n",
       "      <td>0.271883</td>\n",
       "      <td>0.30631</td>\n",
       "      <td>0.301308</td>\n",
       "      <td>0.277891</td>\n",
       "      <td>0.255432</td>\n",
       "      <td>0.301452</td>\n",
       "      <td>0.278444</td>\n",
       "    </tr>\n",
       "    <tr>\n",
       "      <th>c10</th>\n",
       "      <td>NaN</td>\n",
       "      <td>NaN</td>\n",
       "      <td>NaN</td>\n",
       "      <td>NaN</td>\n",
       "      <td>NaN</td>\n",
       "      <td>0.329362</td>\n",
       "      <td>0.301411</td>\n",
       "      <td>0.291705</td>\n",
       "      <td>0.267595</td>\n",
       "      <td>0.300627</td>\n",
       "      <td>0.296934</td>\n",
       "      <td>0.286379</td>\n",
       "      <td>0.279179</td>\n",
       "      <td>0.276882</td>\n",
       "      <td>0.287738</td>\n",
       "    </tr>\n",
       "    <tr>\n",
       "      <th>c11</th>\n",
       "      <td>NaN</td>\n",
       "      <td>NaN</td>\n",
       "      <td>NaN</td>\n",
       "      <td>NaN</td>\n",
       "      <td>NaN</td>\n",
       "      <td>NaN</td>\n",
       "      <td>0.365357</td>\n",
       "      <td>0.291939</td>\n",
       "      <td>0.267133</td>\n",
       "      <td>0.302649</td>\n",
       "      <td>0.290081</td>\n",
       "      <td>0.291506</td>\n",
       "      <td>0.266855</td>\n",
       "      <td>0.276007</td>\n",
       "      <td>0.277223</td>\n",
       "    </tr>\n",
       "    <tr>\n",
       "      <th>c12</th>\n",
       "      <td>NaN</td>\n",
       "      <td>NaN</td>\n",
       "      <td>NaN</td>\n",
       "      <td>NaN</td>\n",
       "      <td>NaN</td>\n",
       "      <td>NaN</td>\n",
       "      <td>NaN</td>\n",
       "      <td>0.355355</td>\n",
       "      <td>0.301128</td>\n",
       "      <td>0.317075</td>\n",
       "      <td>0.28885</td>\n",
       "      <td>0.288173</td>\n",
       "      <td>0.300486</td>\n",
       "      <td>0.282312</td>\n",
       "      <td>0.271567</td>\n",
       "    </tr>\n",
       "    <tr>\n",
       "      <th>c13</th>\n",
       "      <td>NaN</td>\n",
       "      <td>NaN</td>\n",
       "      <td>NaN</td>\n",
       "      <td>NaN</td>\n",
       "      <td>NaN</td>\n",
       "      <td>NaN</td>\n",
       "      <td>NaN</td>\n",
       "      <td>NaN</td>\n",
       "      <td>0.347535</td>\n",
       "      <td>0.290977</td>\n",
       "      <td>0.300924</td>\n",
       "      <td>0.262792</td>\n",
       "      <td>0.262709</td>\n",
       "      <td>0.266546</td>\n",
       "      <td>0.251898</td>\n",
       "    </tr>\n",
       "    <tr>\n",
       "      <th>c15</th>\n",
       "      <td>NaN</td>\n",
       "      <td>NaN</td>\n",
       "      <td>NaN</td>\n",
       "      <td>NaN</td>\n",
       "      <td>NaN</td>\n",
       "      <td>NaN</td>\n",
       "      <td>NaN</td>\n",
       "      <td>NaN</td>\n",
       "      <td>NaN</td>\n",
       "      <td>0.350982</td>\n",
       "      <td>0.301713</td>\n",
       "      <td>0.306897</td>\n",
       "      <td>0.29842</td>\n",
       "      <td>0.312176</td>\n",
       "      <td>0.273494</td>\n",
       "    </tr>\n",
       "    <tr>\n",
       "      <th>c16</th>\n",
       "      <td>NaN</td>\n",
       "      <td>NaN</td>\n",
       "      <td>NaN</td>\n",
       "      <td>NaN</td>\n",
       "      <td>NaN</td>\n",
       "      <td>NaN</td>\n",
       "      <td>NaN</td>\n",
       "      <td>NaN</td>\n",
       "      <td>NaN</td>\n",
       "      <td>NaN</td>\n",
       "      <td>0.323733</td>\n",
       "      <td>0.27283</td>\n",
       "      <td>0.271442</td>\n",
       "      <td>0.27005</td>\n",
       "      <td>0.270106</td>\n",
       "    </tr>\n",
       "    <tr>\n",
       "      <th>c17</th>\n",
       "      <td>NaN</td>\n",
       "      <td>NaN</td>\n",
       "      <td>NaN</td>\n",
       "      <td>NaN</td>\n",
       "      <td>NaN</td>\n",
       "      <td>NaN</td>\n",
       "      <td>NaN</td>\n",
       "      <td>NaN</td>\n",
       "      <td>NaN</td>\n",
       "      <td>NaN</td>\n",
       "      <td>NaN</td>\n",
       "      <td>0.308512</td>\n",
       "      <td>0.265993</td>\n",
       "      <td>0.28932</td>\n",
       "      <td>0.266644</td>\n",
       "    </tr>\n",
       "    <tr>\n",
       "      <th>c18</th>\n",
       "      <td>NaN</td>\n",
       "      <td>NaN</td>\n",
       "      <td>NaN</td>\n",
       "      <td>NaN</td>\n",
       "      <td>NaN</td>\n",
       "      <td>NaN</td>\n",
       "      <td>NaN</td>\n",
       "      <td>NaN</td>\n",
       "      <td>NaN</td>\n",
       "      <td>NaN</td>\n",
       "      <td>NaN</td>\n",
       "      <td>NaN</td>\n",
       "      <td>0.346614</td>\n",
       "      <td>0.266014</td>\n",
       "      <td>0.251177</td>\n",
       "    </tr>\n",
       "    <tr>\n",
       "      <th>c20</th>\n",
       "      <td>NaN</td>\n",
       "      <td>NaN</td>\n",
       "      <td>NaN</td>\n",
       "      <td>NaN</td>\n",
       "      <td>NaN</td>\n",
       "      <td>NaN</td>\n",
       "      <td>NaN</td>\n",
       "      <td>NaN</td>\n",
       "      <td>NaN</td>\n",
       "      <td>NaN</td>\n",
       "      <td>NaN</td>\n",
       "      <td>NaN</td>\n",
       "      <td>NaN</td>\n",
       "      <td>0.317635</td>\n",
       "      <td>0.258496</td>\n",
       "    </tr>\n",
       "    <tr>\n",
       "      <th>c21</th>\n",
       "      <td>NaN</td>\n",
       "      <td>NaN</td>\n",
       "      <td>NaN</td>\n",
       "      <td>NaN</td>\n",
       "      <td>NaN</td>\n",
       "      <td>NaN</td>\n",
       "      <td>NaN</td>\n",
       "      <td>NaN</td>\n",
       "      <td>NaN</td>\n",
       "      <td>NaN</td>\n",
       "      <td>NaN</td>\n",
       "      <td>NaN</td>\n",
       "      <td>NaN</td>\n",
       "      <td>NaN</td>\n",
       "      <td>0.290066</td>\n",
       "    </tr>\n",
       "  </tbody>\n",
       "</table>\n",
       "</div>"
      ],
      "text/plain": [
       "          c01       c02       c05       c06       c08       c10       c11  \\\n",
       "c01  0.332783  0.319417  0.290775  0.318332  0.308782  0.280624  0.287214   \n",
       "c02       NaN  0.353181  0.264831  0.294561  0.291214  0.271293   0.27386   \n",
       "c05       NaN       NaN  0.370809  0.306416  0.289918  0.320822  0.309081   \n",
       "c06       NaN       NaN       NaN   0.34463  0.303158  0.291694  0.298201   \n",
       "c08       NaN       NaN       NaN       NaN  0.372401  0.289816  0.282052   \n",
       "c10       NaN       NaN       NaN       NaN       NaN  0.329362  0.301411   \n",
       "c11       NaN       NaN       NaN       NaN       NaN       NaN  0.365357   \n",
       "c12       NaN       NaN       NaN       NaN       NaN       NaN       NaN   \n",
       "c13       NaN       NaN       NaN       NaN       NaN       NaN       NaN   \n",
       "c15       NaN       NaN       NaN       NaN       NaN       NaN       NaN   \n",
       "c16       NaN       NaN       NaN       NaN       NaN       NaN       NaN   \n",
       "c17       NaN       NaN       NaN       NaN       NaN       NaN       NaN   \n",
       "c18       NaN       NaN       NaN       NaN       NaN       NaN       NaN   \n",
       "c20       NaN       NaN       NaN       NaN       NaN       NaN       NaN   \n",
       "c21       NaN       NaN       NaN       NaN       NaN       NaN       NaN   \n",
       "\n",
       "          c12       c13       c15       c16       c17       c18       c20  \\\n",
       "c01  0.298117  0.281763  0.310628  0.279526  0.294399  0.267007  0.309315   \n",
       "c02  0.280645  0.272244  0.304072  0.264524   0.28143  0.258796  0.322321   \n",
       "c05  0.303307  0.276087  0.310587  0.301303  0.303868   0.27805  0.276071   \n",
       "c06  0.321356  0.286849  0.319223  0.290828  0.293861  0.293065  0.293279   \n",
       "c08  0.284775  0.271883   0.30631  0.301308  0.277891  0.255432  0.301452   \n",
       "c10  0.291705  0.267595  0.300627  0.296934  0.286379  0.279179  0.276882   \n",
       "c11  0.291939  0.267133  0.302649  0.290081  0.291506  0.266855  0.276007   \n",
       "c12  0.355355  0.301128  0.317075   0.28885  0.288173  0.300486  0.282312   \n",
       "c13       NaN  0.347535  0.290977  0.300924  0.262792  0.262709  0.266546   \n",
       "c15       NaN       NaN  0.350982  0.301713  0.306897   0.29842  0.312176   \n",
       "c16       NaN       NaN       NaN  0.323733   0.27283  0.271442   0.27005   \n",
       "c17       NaN       NaN       NaN       NaN  0.308512  0.265993   0.28932   \n",
       "c18       NaN       NaN       NaN       NaN       NaN  0.346614  0.266014   \n",
       "c20       NaN       NaN       NaN       NaN       NaN       NaN  0.317635   \n",
       "c21       NaN       NaN       NaN       NaN       NaN       NaN       NaN   \n",
       "\n",
       "          c21  \n",
       "c01   0.27288  \n",
       "c02  0.255097  \n",
       "c05  0.307217  \n",
       "c06  0.284471  \n",
       "c08  0.278444  \n",
       "c10  0.287738  \n",
       "c11  0.277223  \n",
       "c12  0.271567  \n",
       "c13  0.251898  \n",
       "c15  0.273494  \n",
       "c16  0.270106  \n",
       "c17  0.266644  \n",
       "c18  0.251177  \n",
       "c20  0.258496  \n",
       "c21  0.290066  "
      ]
     },
     "execution_count": 17,
     "metadata": {},
     "output_type": "execute_result"
    }
   ],
   "source": [
    "ss2[0]"
   ]
  },
  {
   "cell_type": "code",
   "execution_count": 15,
   "id": "70e60801",
   "metadata": {},
   "outputs": [
    {
     "data": {
      "text/html": [
       "<div>\n",
       "<style scoped>\n",
       "    .dataframe tbody tr th:only-of-type {\n",
       "        vertical-align: middle;\n",
       "    }\n",
       "\n",
       "    .dataframe tbody tr th {\n",
       "        vertical-align: top;\n",
       "    }\n",
       "\n",
       "    .dataframe thead th {\n",
       "        text-align: right;\n",
       "    }\n",
       "</style>\n",
       "<table border=\"1\" class=\"dataframe\">\n",
       "  <thead>\n",
       "    <tr style=\"text-align: right;\">\n",
       "      <th></th>\n",
       "      <th>c01</th>\n",
       "      <th>c02</th>\n",
       "      <th>c05</th>\n",
       "      <th>c06</th>\n",
       "      <th>c08</th>\n",
       "      <th>c10</th>\n",
       "      <th>c11</th>\n",
       "      <th>c12</th>\n",
       "      <th>c13</th>\n",
       "      <th>c15</th>\n",
       "      <th>c16</th>\n",
       "      <th>c17</th>\n",
       "      <th>c18</th>\n",
       "      <th>c20</th>\n",
       "      <th>c21</th>\n",
       "    </tr>\n",
       "  </thead>\n",
       "  <tbody>\n",
       "    <tr>\n",
       "      <th>c01</th>\n",
       "      <td>0.332783</td>\n",
       "      <td>0.319417</td>\n",
       "      <td>0.290775</td>\n",
       "      <td>0.318332</td>\n",
       "      <td>0.308782</td>\n",
       "      <td>0.280624</td>\n",
       "      <td>0.287214</td>\n",
       "      <td>0.298117</td>\n",
       "      <td>0.281763</td>\n",
       "      <td>0.310628</td>\n",
       "      <td>0.279526</td>\n",
       "      <td>0.294399</td>\n",
       "      <td>0.267007</td>\n",
       "      <td>0.309315</td>\n",
       "      <td>0.27288</td>\n",
       "    </tr>\n",
       "    <tr>\n",
       "      <th>c02</th>\n",
       "      <td>NaN</td>\n",
       "      <td>0.353181</td>\n",
       "      <td>0.264831</td>\n",
       "      <td>0.294561</td>\n",
       "      <td>0.291214</td>\n",
       "      <td>0.271293</td>\n",
       "      <td>0.27386</td>\n",
       "      <td>0.280645</td>\n",
       "      <td>0.272244</td>\n",
       "      <td>0.304072</td>\n",
       "      <td>0.264524</td>\n",
       "      <td>0.28143</td>\n",
       "      <td>0.258796</td>\n",
       "      <td>0.322321</td>\n",
       "      <td>0.255097</td>\n",
       "    </tr>\n",
       "    <tr>\n",
       "      <th>c05</th>\n",
       "      <td>NaN</td>\n",
       "      <td>NaN</td>\n",
       "      <td>0.370809</td>\n",
       "      <td>0.306416</td>\n",
       "      <td>0.289918</td>\n",
       "      <td>0.320822</td>\n",
       "      <td>0.309081</td>\n",
       "      <td>0.303307</td>\n",
       "      <td>0.276087</td>\n",
       "      <td>0.310587</td>\n",
       "      <td>0.301303</td>\n",
       "      <td>0.303868</td>\n",
       "      <td>0.27805</td>\n",
       "      <td>0.276071</td>\n",
       "      <td>0.307217</td>\n",
       "    </tr>\n",
       "    <tr>\n",
       "      <th>c06</th>\n",
       "      <td>NaN</td>\n",
       "      <td>NaN</td>\n",
       "      <td>NaN</td>\n",
       "      <td>0.34463</td>\n",
       "      <td>0.303158</td>\n",
       "      <td>0.291694</td>\n",
       "      <td>0.298201</td>\n",
       "      <td>0.321356</td>\n",
       "      <td>0.286849</td>\n",
       "      <td>0.319223</td>\n",
       "      <td>0.290828</td>\n",
       "      <td>0.293861</td>\n",
       "      <td>0.293065</td>\n",
       "      <td>0.293279</td>\n",
       "      <td>0.284471</td>\n",
       "    </tr>\n",
       "    <tr>\n",
       "      <th>c08</th>\n",
       "      <td>NaN</td>\n",
       "      <td>NaN</td>\n",
       "      <td>NaN</td>\n",
       "      <td>NaN</td>\n",
       "      <td>0.372401</td>\n",
       "      <td>0.289816</td>\n",
       "      <td>0.282052</td>\n",
       "      <td>0.284775</td>\n",
       "      <td>0.271883</td>\n",
       "      <td>0.30631</td>\n",
       "      <td>0.301308</td>\n",
       "      <td>0.277891</td>\n",
       "      <td>0.255432</td>\n",
       "      <td>0.301452</td>\n",
       "      <td>0.278444</td>\n",
       "    </tr>\n",
       "    <tr>\n",
       "      <th>c10</th>\n",
       "      <td>NaN</td>\n",
       "      <td>NaN</td>\n",
       "      <td>NaN</td>\n",
       "      <td>NaN</td>\n",
       "      <td>NaN</td>\n",
       "      <td>0.329362</td>\n",
       "      <td>0.301411</td>\n",
       "      <td>0.291705</td>\n",
       "      <td>0.267595</td>\n",
       "      <td>0.300627</td>\n",
       "      <td>0.296934</td>\n",
       "      <td>0.286379</td>\n",
       "      <td>0.279179</td>\n",
       "      <td>0.276882</td>\n",
       "      <td>0.287738</td>\n",
       "    </tr>\n",
       "    <tr>\n",
       "      <th>c11</th>\n",
       "      <td>NaN</td>\n",
       "      <td>NaN</td>\n",
       "      <td>NaN</td>\n",
       "      <td>NaN</td>\n",
       "      <td>NaN</td>\n",
       "      <td>NaN</td>\n",
       "      <td>0.365357</td>\n",
       "      <td>0.291939</td>\n",
       "      <td>0.267133</td>\n",
       "      <td>0.302649</td>\n",
       "      <td>0.290081</td>\n",
       "      <td>0.291506</td>\n",
       "      <td>0.266855</td>\n",
       "      <td>0.276007</td>\n",
       "      <td>0.277223</td>\n",
       "    </tr>\n",
       "    <tr>\n",
       "      <th>c12</th>\n",
       "      <td>NaN</td>\n",
       "      <td>NaN</td>\n",
       "      <td>NaN</td>\n",
       "      <td>NaN</td>\n",
       "      <td>NaN</td>\n",
       "      <td>NaN</td>\n",
       "      <td>NaN</td>\n",
       "      <td>0.355355</td>\n",
       "      <td>0.301128</td>\n",
       "      <td>0.317075</td>\n",
       "      <td>0.28885</td>\n",
       "      <td>0.288173</td>\n",
       "      <td>0.300486</td>\n",
       "      <td>0.282312</td>\n",
       "      <td>0.271567</td>\n",
       "    </tr>\n",
       "    <tr>\n",
       "      <th>c13</th>\n",
       "      <td>NaN</td>\n",
       "      <td>NaN</td>\n",
       "      <td>NaN</td>\n",
       "      <td>NaN</td>\n",
       "      <td>NaN</td>\n",
       "      <td>NaN</td>\n",
       "      <td>NaN</td>\n",
       "      <td>NaN</td>\n",
       "      <td>0.347535</td>\n",
       "      <td>0.290977</td>\n",
       "      <td>0.300924</td>\n",
       "      <td>0.262792</td>\n",
       "      <td>0.262709</td>\n",
       "      <td>0.266546</td>\n",
       "      <td>0.251898</td>\n",
       "    </tr>\n",
       "    <tr>\n",
       "      <th>c15</th>\n",
       "      <td>NaN</td>\n",
       "      <td>NaN</td>\n",
       "      <td>NaN</td>\n",
       "      <td>NaN</td>\n",
       "      <td>NaN</td>\n",
       "      <td>NaN</td>\n",
       "      <td>NaN</td>\n",
       "      <td>NaN</td>\n",
       "      <td>NaN</td>\n",
       "      <td>0.350982</td>\n",
       "      <td>0.301713</td>\n",
       "      <td>0.306897</td>\n",
       "      <td>0.29842</td>\n",
       "      <td>0.312176</td>\n",
       "      <td>0.273494</td>\n",
       "    </tr>\n",
       "    <tr>\n",
       "      <th>c16</th>\n",
       "      <td>NaN</td>\n",
       "      <td>NaN</td>\n",
       "      <td>NaN</td>\n",
       "      <td>NaN</td>\n",
       "      <td>NaN</td>\n",
       "      <td>NaN</td>\n",
       "      <td>NaN</td>\n",
       "      <td>NaN</td>\n",
       "      <td>NaN</td>\n",
       "      <td>NaN</td>\n",
       "      <td>0.323733</td>\n",
       "      <td>0.27283</td>\n",
       "      <td>0.271442</td>\n",
       "      <td>0.27005</td>\n",
       "      <td>0.270106</td>\n",
       "    </tr>\n",
       "    <tr>\n",
       "      <th>c17</th>\n",
       "      <td>NaN</td>\n",
       "      <td>NaN</td>\n",
       "      <td>NaN</td>\n",
       "      <td>NaN</td>\n",
       "      <td>NaN</td>\n",
       "      <td>NaN</td>\n",
       "      <td>NaN</td>\n",
       "      <td>NaN</td>\n",
       "      <td>NaN</td>\n",
       "      <td>NaN</td>\n",
       "      <td>NaN</td>\n",
       "      <td>0.308512</td>\n",
       "      <td>0.265993</td>\n",
       "      <td>0.28932</td>\n",
       "      <td>0.266644</td>\n",
       "    </tr>\n",
       "    <tr>\n",
       "      <th>c18</th>\n",
       "      <td>NaN</td>\n",
       "      <td>NaN</td>\n",
       "      <td>NaN</td>\n",
       "      <td>NaN</td>\n",
       "      <td>NaN</td>\n",
       "      <td>NaN</td>\n",
       "      <td>NaN</td>\n",
       "      <td>NaN</td>\n",
       "      <td>NaN</td>\n",
       "      <td>NaN</td>\n",
       "      <td>NaN</td>\n",
       "      <td>NaN</td>\n",
       "      <td>0.346614</td>\n",
       "      <td>0.266014</td>\n",
       "      <td>0.251177</td>\n",
       "    </tr>\n",
       "    <tr>\n",
       "      <th>c20</th>\n",
       "      <td>NaN</td>\n",
       "      <td>NaN</td>\n",
       "      <td>NaN</td>\n",
       "      <td>NaN</td>\n",
       "      <td>NaN</td>\n",
       "      <td>NaN</td>\n",
       "      <td>NaN</td>\n",
       "      <td>NaN</td>\n",
       "      <td>NaN</td>\n",
       "      <td>NaN</td>\n",
       "      <td>NaN</td>\n",
       "      <td>NaN</td>\n",
       "      <td>NaN</td>\n",
       "      <td>0.317635</td>\n",
       "      <td>0.258496</td>\n",
       "    </tr>\n",
       "    <tr>\n",
       "      <th>c21</th>\n",
       "      <td>NaN</td>\n",
       "      <td>NaN</td>\n",
       "      <td>NaN</td>\n",
       "      <td>NaN</td>\n",
       "      <td>NaN</td>\n",
       "      <td>NaN</td>\n",
       "      <td>NaN</td>\n",
       "      <td>NaN</td>\n",
       "      <td>NaN</td>\n",
       "      <td>NaN</td>\n",
       "      <td>NaN</td>\n",
       "      <td>NaN</td>\n",
       "      <td>NaN</td>\n",
       "      <td>NaN</td>\n",
       "      <td>0.290066</td>\n",
       "    </tr>\n",
       "  </tbody>\n",
       "</table>\n",
       "</div>"
      ],
      "text/plain": [
       "          c01       c02       c05       c06       c08       c10       c11  \\\n",
       "c01  0.332783  0.319417  0.290775  0.318332  0.308782  0.280624  0.287214   \n",
       "c02       NaN  0.353181  0.264831  0.294561  0.291214  0.271293   0.27386   \n",
       "c05       NaN       NaN  0.370809  0.306416  0.289918  0.320822  0.309081   \n",
       "c06       NaN       NaN       NaN   0.34463  0.303158  0.291694  0.298201   \n",
       "c08       NaN       NaN       NaN       NaN  0.372401  0.289816  0.282052   \n",
       "c10       NaN       NaN       NaN       NaN       NaN  0.329362  0.301411   \n",
       "c11       NaN       NaN       NaN       NaN       NaN       NaN  0.365357   \n",
       "c12       NaN       NaN       NaN       NaN       NaN       NaN       NaN   \n",
       "c13       NaN       NaN       NaN       NaN       NaN       NaN       NaN   \n",
       "c15       NaN       NaN       NaN       NaN       NaN       NaN       NaN   \n",
       "c16       NaN       NaN       NaN       NaN       NaN       NaN       NaN   \n",
       "c17       NaN       NaN       NaN       NaN       NaN       NaN       NaN   \n",
       "c18       NaN       NaN       NaN       NaN       NaN       NaN       NaN   \n",
       "c20       NaN       NaN       NaN       NaN       NaN       NaN       NaN   \n",
       "c21       NaN       NaN       NaN       NaN       NaN       NaN       NaN   \n",
       "\n",
       "          c12       c13       c15       c16       c17       c18       c20  \\\n",
       "c01  0.298117  0.281763  0.310628  0.279526  0.294399  0.267007  0.309315   \n",
       "c02  0.280645  0.272244  0.304072  0.264524   0.28143  0.258796  0.322321   \n",
       "c05  0.303307  0.276087  0.310587  0.301303  0.303868   0.27805  0.276071   \n",
       "c06  0.321356  0.286849  0.319223  0.290828  0.293861  0.293065  0.293279   \n",
       "c08  0.284775  0.271883   0.30631  0.301308  0.277891  0.255432  0.301452   \n",
       "c10  0.291705  0.267595  0.300627  0.296934  0.286379  0.279179  0.276882   \n",
       "c11  0.291939  0.267133  0.302649  0.290081  0.291506  0.266855  0.276007   \n",
       "c12  0.355355  0.301128  0.317075   0.28885  0.288173  0.300486  0.282312   \n",
       "c13       NaN  0.347535  0.290977  0.300924  0.262792  0.262709  0.266546   \n",
       "c15       NaN       NaN  0.350982  0.301713  0.306897   0.29842  0.312176   \n",
       "c16       NaN       NaN       NaN  0.323733   0.27283  0.271442   0.27005   \n",
       "c17       NaN       NaN       NaN       NaN  0.308512  0.265993   0.28932   \n",
       "c18       NaN       NaN       NaN       NaN       NaN  0.346614  0.266014   \n",
       "c20       NaN       NaN       NaN       NaN       NaN       NaN  0.317635   \n",
       "c21       NaN       NaN       NaN       NaN       NaN       NaN       NaN   \n",
       "\n",
       "          c21  \n",
       "c01   0.27288  \n",
       "c02  0.255097  \n",
       "c05  0.307217  \n",
       "c06  0.284471  \n",
       "c08  0.278444  \n",
       "c10  0.287738  \n",
       "c11  0.277223  \n",
       "c12  0.271567  \n",
       "c13  0.251898  \n",
       "c15  0.273494  \n",
       "c16  0.270106  \n",
       "c17  0.266644  \n",
       "c18  0.251177  \n",
       "c20  0.258496  \n",
       "c21  0.290066  "
      ]
     },
     "execution_count": 15,
     "metadata": {},
     "output_type": "execute_result"
    }
   ],
   "source": [
    "ss1[0]"
   ]
  },
  {
   "cell_type": "code",
   "execution_count": null,
   "id": "2c3401c1",
   "metadata": {},
   "outputs": [],
   "source": [
    "ss1"
   ]
  },
  {
   "cell_type": "code",
   "execution_count": null,
   "id": "771ac4bb",
   "metadata": {},
   "outputs": [],
   "source": [
    "t2 = time.time()\n",
    "sim_df, t3, t4 = calculate_similarity_matrix(X_num, y)\n",
    "t5 = time.time()\n",
    "print('total :',(t5-t2)/60, 'between_class: ',(t5-t4)/60, 'within class: ',(t4-t3)/60)"
   ]
  },
  {
   "cell_type": "code",
   "execution_count": null,
   "id": "6753be4d",
   "metadata": {},
   "outputs": [],
   "source": [
    "t2 = time.time()\n",
    "sim_df2, t3, t4 = calculate_similarity_matrix2(X_num, y)\n",
    "t5 = time.time()\n",
    "print('total :',(t5-t2)/60, 'between_class: ',(t5-t4)/60, 'within class: ',(t4-t3)/60)"
   ]
  },
  {
   "cell_type": "code",
   "execution_count": null,
   "id": "61c63b9d",
   "metadata": {},
   "outputs": [],
   "source": [
    "stop"
   ]
  },
  {
   "cell_type": "code",
   "execution_count": null,
   "id": "138256a9",
   "metadata": {},
   "outputs": [],
   "source": [
    "class1_indexes = y[y['c01']==1].index[0:10]\n"
   ]
  },
  {
   "cell_type": "code",
   "execution_count": null,
   "id": "cbb2a664",
   "metadata": {},
   "outputs": [],
   "source": [
    "class1_indexes = y[]"
   ]
  },
  {
   "cell_type": "code",
   "execution_count": 18,
   "id": "1286368d",
   "metadata": {},
   "outputs": [],
   "source": [
    "aa = X_num.copy()"
   ]
  },
  {
   "cell_type": "code",
   "execution_count": 19,
   "id": "9af31a74",
   "metadata": {},
   "outputs": [],
   "source": [
    "X_num = X_num.iloc[0:20].apply(lambda x: x[0:10]).reset_index(drop=True)"
   ]
  },
  {
   "cell_type": "code",
   "execution_count": 34,
   "id": "3e744144",
   "metadata": {},
   "outputs": [],
   "source": [
    "np.random.seed(1)"
   ]
  },
  {
   "cell_type": "code",
   "execution_count": 57,
   "id": "8b79b4a2",
   "metadata": {},
   "outputs": [],
   "source": []
  },
  {
   "cell_type": "code",
   "execution_count": 59,
   "id": "8d068418",
   "metadata": {},
   "outputs": [],
   "source": []
  },
  {
   "cell_type": "code",
   "execution_count": 76,
   "id": "b4e5aaa6",
   "metadata": {},
   "outputs": [],
   "source": [
    "sample_in_each_class = 1000\n",
    "X_num = pd.Series([np.random.random(10) for i in range(2*sample_in_each_class)])\n",
    "class1_indexes = list(range(sample_in_each_class))\n",
    "class2_indexes = list(range(sample_in_each_class,2*sample_in_each_class))"
   ]
  },
  {
   "cell_type": "code",
   "execution_count": 77,
   "id": "10da575a",
   "metadata": {},
   "outputs": [
    {
     "name": "stdout",
     "output_type": "stream",
     "text": [
      "CPU times: total: 25.4 s\n",
      "Wall time: 25.2 s\n"
     ]
    },
    {
     "data": {
      "text/plain": [
       "(0.7541128841787165, 1000000)"
      ]
     },
     "execution_count": 77,
     "metadata": {},
     "output_type": "execute_result"
    }
   ],
   "source": [
    "%%time\n",
    "def cosine_similarity(vec1, vec2):\n",
    "    norm1 = np.linalg.norm(vec1)\n",
    "    norm2 = np.linalg.norm(vec2)\n",
    "    if norm1 == 0:\n",
    "        norm1 += 0.00001\n",
    "    if norm2 == 0:\n",
    "        norm2 += 0.00001  \n",
    "    return np.dot(vec1, vec2)/(norm1*norm2)\n",
    "    \n",
    "approach1 = []\n",
    "for idx1 in class1_indexes:\n",
    "    for idx2 in class2_indexes:\n",
    "        approach1.append(cosine_similarity(X_num.loc[idx1], X_num.loc[idx2]))\n",
    "np.mean(approach1), len(approach1)"
   ]
  },
  {
   "cell_type": "code",
   "execution_count": 78,
   "id": "642f9b5d",
   "metadata": {},
   "outputs": [
    {
     "name": "stdout",
     "output_type": "stream",
     "text": [
      "CPU times: total: 9.23 s\n",
      "Wall time: 9.23 s\n"
     ]
    },
    {
     "data": {
      "text/plain": [
       "(0.7541128841786969, 1000000)"
      ]
     },
     "execution_count": 78,
     "metadata": {},
     "output_type": "execute_result"
    }
   ],
   "source": [
    "%%time\n",
    "import itertools\n",
    "vectors_product = itertools.product(X_num[class1_indexes], X_num[class2_indexes])\n",
    "vectors_product = pd.Series(list(vectors_product))\n",
    "approach2 = vectors_product.apply(lambda x: cosine_similarity(x[0], x[1]))\n",
    "np.mean(approach2), len(approach2)"
   ]
  },
  {
   "cell_type": "code",
   "execution_count": 79,
   "id": "d19c95b4",
   "metadata": {},
   "outputs": [
    {
     "name": "stdout",
     "output_type": "stream",
     "text": [
      "CPU times: total: 1.17 s\n",
      "Wall time: 1.16 s\n"
     ]
    },
    {
     "data": {
      "text/plain": [
       "(0.7541128841786969, 1000000)"
      ]
     },
     "execution_count": 79,
     "metadata": {},
     "output_type": "execute_result"
    }
   ],
   "source": [
    "%%time\n",
    "vectors_product = itertools.product(X_num[class1_indexes], X_num[class2_indexes])\n",
    "vectors_product = np.array(list(vectors_product))\n",
    "first_part = vectors_product[:,0,:]\n",
    "second_part = vectors_product[:,1,:]\n",
    "\n",
    "numerator = np.sum(np.multiply(first_part, second_part), axis=1)\n",
    "denominator = (np.multiply(np.linalg.norm(first_part, axis=1), \n",
    "                           np.linalg.norm(second_part, axis=1)))\n",
    "approach3 = numerator / denominator\n",
    "np.mean(approach3), len(approach3)"
   ]
  },
  {
   "cell_type": "code",
   "execution_count": 75,
   "id": "6cc4b3e2",
   "metadata": {},
   "outputs": [
    {
     "data": {
      "text/plain": [
       "(0.7597549062958892, 1000000)"
      ]
     },
     "execution_count": 75,
     "metadata": {},
     "output_type": "execute_result"
    }
   ],
   "source": [
    "np.mean(approach3), len(approach3)"
   ]
  },
  {
   "cell_type": "code",
   "execution_count": 80,
   "id": "11f1bd98",
   "metadata": {},
   "outputs": [
    {
     "data": {
      "text/plain": [
       "21.724137931034484"
      ]
     },
     "execution_count": 80,
     "metadata": {},
     "output_type": "execute_result"
    }
   ],
   "source": [
    "25.2/1.16"
   ]
  },
  {
   "cell_type": "code",
   "execution_count": null,
   "id": "8fe89ba5",
   "metadata": {},
   "outputs": [],
   "source": [
    "import itertools"
   ]
  },
  {
   "cell_type": "code",
   "execution_count": null,
   "id": "4bd3ad25",
   "metadata": {},
   "outputs": [],
   "source": [
    "%%time\n",
    "normal_way = []\n",
    "for idx1 in class1.index:\n",
    "    for idx2 in class2.index:\n",
    "        normal_way.append(cosine_similarity(X_num.loc[idx1], X_num.loc[idx2]))"
   ]
  },
  {
   "cell_type": "code",
   "execution_count": null,
   "id": "042bc243",
   "metadata": {},
   "outputs": [],
   "source": [
    "%%time\n",
    "vectors_product = pd.Series(list(itertools.product(X_num[class1_indexes], X_num[class2_indexes])))\n",
    "way2 = vectors_product.apply(lambda x: cosine_similarity(x[0], x[1]))"
   ]
  },
  {
   "cell_type": "code",
   "execution_count": null,
   "id": "3bcdc9f7",
   "metadata": {},
   "outputs": [],
   "source": [
    "%%time\n",
    "vectors_product = np.array(list(itertools.product(X[y[y[col1]==1].index], X[y[y[col2]==1].index])))\n",
    "first_part = vectors_product[:,0,:]\n",
    "second_part = vectors_product[:,1,:]\n",
    "way3 = np.sum(np.multiply(first_part, second_part), axis=1)/(np.multiply(np.linalg.norm(first_part, axis=1), np.linalg.norm(second_part, axis=1)))"
   ]
  },
  {
   "cell_type": "code",
   "execution_count": null,
   "id": "be9987a0",
   "metadata": {},
   "outputs": [],
   "source": [
    "def calculate_between_class_similarities(col1, col2, X, y):\n",
    "    \n",
    "    vectors_product = np.array(list(product(X[y[y[col1]==1].index], X[y[y[col2]==1].index])))\n",
    "    first_part = vectors_product[:,0,:]\n",
    "    second_part = vectors_product[:,1,:]\n",
    "    sims = np.sum(np.multiply(first_part, second_part), axis=1)/(np.multiply(np.linalg.norm(first_part, axis=1), np.linalg.norm(second_part, axis=1)))\n",
    "    \n",
    "    return np.mean(sims)   "
   ]
  },
  {
   "cell_type": "code",
   "execution_count": null,
   "id": "909f701d",
   "metadata": {},
   "outputs": [],
   "source": [
    "(y[y['c01']==1]).index"
   ]
  },
  {
   "cell_type": "code",
   "execution_count": null,
   "id": "ffd122a7",
   "metadata": {},
   "outputs": [],
   "source": [
    "sum(way3)/len(way3), np.mean(way3)"
   ]
  },
  {
   "cell_type": "code",
   "execution_count": null,
   "id": "9e05bcdf",
   "metadata": {},
   "outputs": [],
   "source": [
    "from numpy.linalg import norm as n"
   ]
  },
  {
   "cell_type": "code",
   "execution_count": null,
   "id": "3a5adb7b",
   "metadata": {},
   "outputs": [],
   "source": [
    "A = first_part\n",
    "B = second_part\n",
    "way4 = 1.0 - np.dot(A/n(A,axis=1)[:,None],(B/n(B,axis=1)[:,None]).T)"
   ]
  },
  {
   "cell_type": "code",
   "execution_count": null,
   "id": "3340642e",
   "metadata": {},
   "outputs": [],
   "source": [
    "np.matmul(first_part, second_part, out=w)"
   ]
  },
  {
   "cell_type": "code",
   "execution_count": null,
   "id": "e17e7d23",
   "metadata": {},
   "outputs": [],
   "source": [
    "first_part.shape"
   ]
  },
  {
   "cell_type": "code",
   "execution_count": null,
   "id": "402bfa54",
   "metadata": {},
   "outputs": [],
   "source": [
    "first_part.shape"
   ]
  },
  {
   "cell_type": "code",
   "execution_count": null,
   "id": "669f7181",
   "metadata": {},
   "outputs": [],
   "source": [
    "w = np.random.rand(1274446)\n",
    "w"
   ]
  },
  {
   "cell_type": "code",
   "execution_count": null,
   "id": "d2f5411c",
   "metadata": {},
   "outputs": [],
   "source": [
    "jj = "
   ]
  },
  {
   "cell_type": "code",
   "execution_count": null,
   "id": "b7f12529",
   "metadata": {},
   "outputs": [],
   "source": [
    "np.sum(np.multiply(first_part, second_part), axis=1)"
   ]
  },
  {
   "cell_type": "code",
   "execution_count": null,
   "id": "e90a93fe",
   "metadata": {},
   "outputs": [],
   "source": [
    "first_part = aa[:,0,:]\n",
    "second_part = aa[:,1,:]\n",
    "first_part.shape, second_part.shape"
   ]
  },
  {
   "cell_type": "code",
   "execution_count": null,
   "id": "3322000f",
   "metadata": {},
   "outputs": [],
   "source": []
  },
  {
   "cell_type": "code",
   "execution_count": null,
   "id": "0204b091",
   "metadata": {},
   "outputs": [],
   "source": [
    "cc1 = np.linalg.norm(first_part, axis=1)\n",
    "cc2 = np.linalg.norm(second_part, axis=1)"
   ]
  },
  {
   "cell_type": "code",
   "execution_count": null,
   "id": "8a3258ba",
   "metadata": {},
   "outputs": [],
   "source": [
    "cc1[2]*cc2[2]"
   ]
  },
  {
   "cell_type": "code",
   "execution_count": null,
   "id": "ad1ac6d4",
   "metadata": {},
   "outputs": [],
   "source": [
    "np.multiply(np.linalg.norm(first_part, axis=1), np.linalg.norm(second_part, axis=1)).shape"
   ]
  },
  {
   "cell_type": "code",
   "execution_count": null,
   "id": "290029e4",
   "metadata": {},
   "outputs": [],
   "source": [
    "np.dot(first_part, second_part, out=first_part).shape"
   ]
  },
  {
   "cell_type": "code",
   "execution_count": null,
   "id": "521fa101",
   "metadata": {},
   "outputs": [],
   "source": []
  },
  {
   "cell_type": "code",
   "execution_count": null,
   "id": "c6b975c3",
   "metadata": {},
   "outputs": [],
   "source": []
  },
  {
   "cell_type": "code",
   "execution_count": null,
   "id": "9b1b1cf3",
   "metadata": {},
   "outputs": [],
   "source": [
    "np.linalg.norm(first_part, axis=1)"
   ]
  },
  {
   "cell_type": "code",
   "execution_count": null,
   "id": "dbe82b93",
   "metadata": {},
   "outputs": [],
   "source": [
    "kk = np.array(aa)"
   ]
  },
  {
   "cell_type": "code",
   "execution_count": null,
   "id": "b7a411a4",
   "metadata": {},
   "outputs": [],
   "source": [
    "kk[0].shape"
   ]
  },
  {
   "cell_type": "code",
   "execution_count": null,
   "id": "46dd1485",
   "metadata": {},
   "outputs": [],
   "source": [
    "%%time\n",
    "for i in range(10000):\n",
    "    for j in X_num[y[y['c11']==1].index]:\n",
    "        np.linalg.norm(j)"
   ]
  },
  {
   "cell_type": "code",
   "execution_count": null,
   "id": "37570aa3",
   "metadata": {},
   "outputs": [],
   "source": []
  },
  {
   "cell_type": "code",
   "execution_count": null,
   "id": "34b1bb5b",
   "metadata": {},
   "outputs": [],
   "source": [
    "X_num[y[y['c11']==1].index]"
   ]
  },
  {
   "cell_type": "code",
   "execution_count": null,
   "id": "eae051f5",
   "metadata": {},
   "outputs": [],
   "source": [
    "X_num[y[y['c11']==1].index].apply(lambda x: np.linalg.norm(x))"
   ]
  },
  {
   "cell_type": "code",
   "execution_count": null,
   "id": "9c01a821",
   "metadata": {},
   "outputs": [],
   "source": [
    "itertools"
   ]
  },
  {
   "cell_type": "code",
   "execution_count": null,
   "id": "56aa28bf",
   "metadata": {},
   "outputs": [],
   "source": [
    "X_num[y[y['c11']==1].index], X_num[y[y['c15']==1].index]"
   ]
  },
  {
   "cell_type": "code",
   "execution_count": null,
   "id": "20bf770e",
   "metadata": {},
   "outputs": [],
   "source": [
    "vecs"
   ]
  },
  {
   "cell_type": "code",
   "execution_count": null,
   "id": "aca045d3",
   "metadata": {},
   "outputs": [],
   "source": [
    "X_num.loc[idx1].shape"
   ]
  },
  {
   "cell_type": "code",
   "execution_count": null,
   "id": "303422e5",
   "metadata": {},
   "outputs": [],
   "source": [
    "len(y[y['c11']==1].index)*len(y[y['c15']==1].index)"
   ]
  },
  {
   "cell_type": "code",
   "execution_count": null,
   "id": "1eecae6e",
   "metadata": {},
   "outputs": [],
   "source": []
  }
 ],
 "metadata": {
  "kernelspec": {
   "display_name": "Python 3 (ipykernel)",
   "language": "python",
   "name": "python3"
  },
  "language_info": {
   "codemirror_mode": {
    "name": "ipython",
    "version": 3
   },
   "file_extension": ".py",
   "mimetype": "text/x-python",
   "name": "python",
   "nbconvert_exporter": "python",
   "pygments_lexer": "ipython3",
   "version": "3.9.12"
  }
 },
 "nbformat": 4,
 "nbformat_minor": 5
}
