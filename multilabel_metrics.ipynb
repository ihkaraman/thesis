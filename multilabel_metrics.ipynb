{
 "cells": [
  {
   "cell_type": "code",
   "execution_count": 1,
   "id": "0f46515e",
   "metadata": {},
   "outputs": [],
   "source": [
    "import pandas as pd"
   ]
  },
  {
   "cell_type": "code",
   "execution_count": 2,
   "id": "40a6999b",
   "metadata": {},
   "outputs": [],
   "source": [
    "import numpy as np\n",
    "from sklearn.metrics import log_loss, average_precision_score, label_ranking_average_precision_score_score\n",
    "from sklearn.metrics import coverage_error, f1_score, label_ranking_loss, roc_auc_score, accuracy_score"
   ]
  },
  {
   "cell_type": "code",
   "execution_count": 3,
   "id": "f1631226",
   "metadata": {
    "scrolled": true
   },
   "outputs": [
    {
     "data": {
      "text/plain": [
       "2.5"
      ]
     },
     "execution_count": 3,
     "metadata": {},
     "output_type": "execute_result"
    }
   ],
   "source": [
    "y_true = np.array([[1, 0, 0], [0, 0, 1]])\n",
    "y_score = np.array([[0.75, 0.5, 1], [1, 0.2, 0.1]])\n",
    "coverage_error(y_true, y_score)"
   ]
  },
  {
   "cell_type": "code",
   "execution_count": 17,
   "id": "41f09f9a",
   "metadata": {},
   "outputs": [],
   "source": [
    "y_true = np.array([[0, 0, 1, 1],\n",
    "          [0, 0, 1, 0],\n",
    "          [1, 1, 0, 0],\n",
    "          [1, 0, 0, 0]])\n",
    "y_score = np.array([[0.1, 0.2, 0.8, 0.8],  \n",
    "           [0.9, 0.1, 0.2, 0.4],  \n",
    "           [0.1, 0.2, 0.8, 0.6], \n",
    "           [0.8, 0.4, 0.2, 0.2]])\n",
    "y_pred = np.array([[0, 0, 1, 1],  \n",
    "          [1, 0, 0, 0],  \n",
    "          [0, 0, 1, 1], \n",
    "          [1, 0, 0, 1]])"
   ]
  },
  {
   "cell_type": "code",
   "execution_count": 18,
   "id": "9b8adbba",
   "metadata": {},
   "outputs": [
    {
     "data": {
      "text/plain": [
       "0.59375"
      ]
     },
     "execution_count": 18,
     "metadata": {},
     "output_type": "execute_result"
    }
   ],
   "source": [
    "roc_auc_score(y_true, y_score)"
   ]
  },
  {
   "cell_type": "code",
   "execution_count": 5,
   "id": "a094e96e",
   "metadata": {},
   "outputs": [],
   "source": [
    "import utilities"
   ]
  },
  {
   "cell_type": "code",
   "execution_count": null,
   "id": "c4610c9d",
   "metadata": {},
   "outputs": [],
   "source": [
    "'accuracy'\n",
    "'f1_score'\n",
    "'coverage'\n",
    "'label_ranking'\n",
    "'roc_auc_score'\n",
    "'log_loss'\n",
    "'average_precision'\n",
    "'brier_loss'\n",
    "'hamming_loss'\n",
    "'precision'\n",
    "'recall'\n",
    "'zero_one_loss'\n",
    "'label_ranking_average_precision'"
   ]
  },
  {
   "cell_type": "code",
   "execution_count": 76,
   "id": "ce9fcf72",
   "metadata": {},
   "outputs": [
    {
     "data": {
      "text/plain": [
       "array([[0, 0, 1, 0],\n",
       "       [0, 1, 1, 0],\n",
       "       [0, 0, 1, 0],\n",
       "       [1, 0, 1, 0]])"
      ]
     },
     "execution_count": 76,
     "metadata": {},
     "output_type": "execute_result"
    }
   ],
   "source": [
    "y_pred"
   ]
  },
  {
   "cell_type": "code",
   "execution_count": 77,
   "id": "28b2e9b9",
   "metadata": {},
   "outputs": [
    {
     "data": {
      "text/plain": [
       "array([[0, 0, 1, 0],\n",
       "       [0, 1, 1, 0],\n",
       "       [0, 0, 1, 0],\n",
       "       [1, 0, 1, 0]])"
      ]
     },
     "execution_count": 77,
     "metadata": {},
     "output_type": "execute_result"
    }
   ],
   "source": [
    "np.array(y_pred)"
   ]
  },
  {
   "cell_type": "code",
   "execution_count": 81,
   "id": "0e39b6ba",
   "metadata": {},
   "outputs": [
    {
     "data": {
      "text/plain": [
       "0.4375"
      ]
     },
     "execution_count": 81,
     "metadata": {},
     "output_type": "execute_result"
    }
   ],
   "source": [
    "multilabel_brier_loss(y_true, y_pred, 'macro')"
   ]
  },
  {
   "cell_type": "code",
   "execution_count": 62,
   "id": "7d532ace",
   "metadata": {},
   "outputs": [
    {
     "data": {
      "text/plain": [
       "4"
      ]
     },
     "execution_count": 62,
     "metadata": {},
     "output_type": "execute_result"
    }
   ],
   "source": []
  },
  {
   "cell_type": "code",
   "execution_count": 60,
   "id": "6bec6ea6",
   "metadata": {},
   "outputs": [
    {
     "data": {
      "text/plain": [
       "array([ True,  True, False, False])"
      ]
     },
     "execution_count": 60,
     "metadata": {},
     "output_type": "execute_result"
    }
   ],
   "source": [
    "mask = y_true[:,2]==1"
   ]
  },
  {
   "cell_type": "code",
   "execution_count": 58,
   "id": "0c2b5277",
   "metadata": {},
   "outputs": [
    {
     "data": {
      "text/plain": [
       "array([[0, 0, 1, 1],\n",
       "       [0, 0, 1, 0]])"
      ]
     },
     "execution_count": 58,
     "metadata": {},
     "output_type": "execute_result"
    }
   ],
   "source": [
    "y_true[y_true[:,2]==1]"
   ]
  },
  {
   "cell_type": "code",
   "execution_count": 45,
   "id": "52504322",
   "metadata": {},
   "outputs": [
    {
     "data": {
      "text/plain": [
       "[0.25, 0.25, 0.75, 0.25]"
      ]
     },
     "execution_count": 45,
     "metadata": {},
     "output_type": "execute_result"
    }
   ],
   "source": [
    "multilabel_brier_loss(y_true, y_pred)"
   ]
  },
  {
   "cell_type": "code",
   "execution_count": 46,
   "id": "22e2662b",
   "metadata": {},
   "outputs": [
    {
     "data": {
      "text/plain": [
       "[0.032499999999999994, 0.36750000000000005, 0.6125, 0.07]"
      ]
     },
     "execution_count": 46,
     "metadata": {},
     "output_type": "execute_result"
    }
   ],
   "source": [
    "multilabel_brier_loss(y_true, y_score)"
   ]
  },
  {
   "cell_type": "code",
   "execution_count": 36,
   "id": "4bf8852e",
   "metadata": {},
   "outputs": [
    {
     "data": {
      "text/plain": [
       "1.0"
      ]
     },
     "execution_count": 36,
     "metadata": {},
     "output_type": "execute_result"
    }
   ],
   "source": [
    "from sklearn.metrics import brier_score_loss\n",
    "brier_score_loss([1,1,0,0], [0,0,1,1])"
   ]
  },
  {
   "cell_type": "code",
   "execution_count": 39,
   "id": "af9e2a93",
   "metadata": {},
   "outputs": [
    {
     "ename": "TypeError",
     "evalue": "'list' object is not callable",
     "output_type": "error",
     "traceback": [
      "\u001b[1;31m---------------------------------------------------------------------------\u001b[0m",
      "\u001b[1;31mTypeError\u001b[0m                                 Traceback (most recent call last)",
      "\u001b[1;32mC:\\Users\\ISMAIL~1\\AppData\\Local\\Temp/ipykernel_1108/4258617687.py\u001b[0m in \u001b[0;36m<module>\u001b[1;34m\u001b[0m\n\u001b[1;32m----> 1\u001b[1;33m \u001b[0my_true\u001b[0m\u001b[1;33m,\u001b[0m \u001b[0my_score\u001b[0m\u001b[1;33m(\u001b[0m\u001b[0my_true\u001b[0m\u001b[1;33m,\u001b[0m \u001b[0my_score\u001b[0m\u001b[1;33m)\u001b[0m\u001b[1;33m\u001b[0m\u001b[1;33m\u001b[0m\u001b[0m\n\u001b[0m",
      "\u001b[1;31mTypeError\u001b[0m: 'list' object is not callable"
     ]
    }
   ],
   "source": [
    "y_true, y_score(y_true, y_score)"
   ]
  },
  {
   "cell_type": "code",
   "execution_count": 21,
   "id": "18f3616c",
   "metadata": {},
   "outputs": [
    {
     "data": {
      "text/plain": [
       "2.75"
      ]
     },
     "execution_count": 21,
     "metadata": {},
     "output_type": "execute_result"
    }
   ],
   "source": [
    "y_true = [[0, 0, 1, 1],\n",
    "          [0, 0, 1, 0],\n",
    "          [1, 1, 0, 0],\n",
    "          [1, 0, 0, 0]]\n",
    "y_score = [[0.9, 0.4, 0.8, 0.8],  \n",
    "           [0.9, 0.1, 0.3, 0.4],  \n",
    "           [0.1, 0.2, 0.8, 0.6], \n",
    "           [0.8, 0.4, 0.2, 0.2]] \n",
    "coverage_error(y_true, y_score)"
   ]
  },
  {
   "cell_type": "code",
   "execution_count": null,
   "id": "cc666747",
   "metadata": {},
   "outputs": [],
   "source": [
    "log loss"
   ]
  },
  {
   "cell_type": "code",
   "execution_count": 18,
   "id": "d70f8a15",
   "metadata": {},
   "outputs": [
    {
     "data": {
      "text/plain": [
       "2.75"
      ]
     },
     "execution_count": 18,
     "metadata": {},
     "output_type": "execute_result"
    }
   ],
   "source": [
    "probability based metric"
   ]
  },
  {
   "cell_type": "code",
   "execution_count": 66,
   "id": "55925bf9",
   "metadata": {},
   "outputs": [],
   "source": [
    "from sklearn.metrics import label_ranking_loss"
   ]
  },
  {
   "cell_type": "code",
   "execution_count": 76,
   "id": "e777edca",
   "metadata": {},
   "outputs": [
    {
     "data": {
      "text/plain": [
       "0.5"
      ]
     },
     "execution_count": 76,
     "metadata": {},
     "output_type": "execute_result"
    }
   ],
   "source": [
    "y_true = [[0, 0, 0, 1],\n",
    "          [0, 0, 1, 0],\n",
    "          [1, 1, 0, 0],\n",
    "    [1, 0, 0, 0]]\n",
    "y_score = [[0.9, 0.2, 0.1, 0.8], \n",
    " [0.9, 0.1, 0.3, 0.4], \n",
    " [0.1, 0.2, 0.8, 0.6], \n",
    " [0.5, 0.4, 0.4, 0.2]]\n",
    "label_ranking_loss(y_true, y_score)"
   ]
  },
  {
   "cell_type": "code",
   "execution_count": null,
   "id": "9964dac7",
   "metadata": {},
   "outputs": [],
   "source": []
  }
 ],
 "metadata": {
  "kernelspec": {
   "display_name": "Python 3 (ipykernel)",
   "language": "python",
   "name": "python3"
  },
  "language_info": {
   "codemirror_mode": {
    "name": "ipython",
    "version": 3
   },
   "file_extension": ".py",
   "mimetype": "text/x-python",
   "name": "python",
   "nbconvert_exporter": "python",
   "pygments_lexer": "ipython3",
   "version": "3.8.12"
  },
  "latex_envs": {
   "LaTeX_envs_menu_present": true,
   "autoclose": false,
   "autocomplete": true,
   "bibliofile": "biblio.bib",
   "cite_by": "apalike",
   "current_citInitial": 1,
   "eqLabelWithNumbers": true,
   "eqNumInitial": 1,
   "hotkeys": {
    "equation": "Ctrl-E",
    "itemize": "Ctrl-I"
   },
   "labels_anchors": false,
   "latex_user_defs": false,
   "report_style_numbering": false,
   "user_envs_cfg": false
  }
 },
 "nbformat": 4,
 "nbformat_minor": 5
}
