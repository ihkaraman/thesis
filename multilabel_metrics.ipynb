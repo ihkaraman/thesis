{
 "cells": [
  {
   "cell_type": "code",
   "execution_count": 1,
   "id": "0f46515e",
   "metadata": {},
   "outputs": [],
   "source": [
    "import pandas as pd"
   ]
  },
  {
   "cell_type": "code",
   "execution_count": 2,
   "id": "f1631226",
   "metadata": {},
   "outputs": [
    {
     "data": {
      "text/plain": [
       "2.5"
      ]
     },
     "execution_count": 2,
     "metadata": {},
     "output_type": "execute_result"
    }
   ],
   "source": [
    "import numpy as np\n",
    "from sklearn.metrics import coverage_error\n",
    "y_true = np.array([[1, 0, 0], [0, 0, 1]])\n",
    "y_score = np.array([[0.75, 0.5, 1], [1, 0.2, 0.1]])\n",
    "coverage_error(y_true, y_score)"
   ]
  },
  {
   "cell_type": "code",
   "execution_count": 86,
   "id": "18f3616c",
   "metadata": {},
   "outputs": [
    {
     "data": {
      "text/plain": [
       "2.75"
      ]
     },
     "execution_count": 86,
     "metadata": {},
     "output_type": "execute_result"
    }
   ],
   "source": [
    "y_true = [[0, 0, 1, 1],\n",
    "          [0, 0, 1, 0],\n",
    "          [1, 1, 0, 0],\n",
    "          [1, 0, 0, 0]]\n",
    "y_score = [[0.9, 0.4, 0.8, 0.8], \n",
    "           [0.9, 0.1, 0.3, 0.4], \n",
    "           [0.1, 0.2, 0.8, 0.6], \n",
    "           [0.5, 0.4, 0.4, 0.2]]\n",
    "coverage_error(y_true, y_score)"
   ]
  },
  {
   "cell_type": "code",
   "execution_count": 66,
   "id": "55925bf9",
   "metadata": {},
   "outputs": [],
   "source": [
    "from sklearn.metrics import label_ranking_loss"
   ]
  },
  {
   "cell_type": "code",
   "execution_count": 76,
   "id": "e777edca",
   "metadata": {},
   "outputs": [
    {
     "data": {
      "text/plain": [
       "0.5"
      ]
     },
     "execution_count": 76,
     "metadata": {},
     "output_type": "execute_result"
    }
   ],
   "source": [
    "y_true = [[0, 0, 0, 1],\n",
    "          [0, 0, 1, 0],\n",
    "          [1, 1, 0, 0],\n",
    "    [1, 0, 0, 0]]\n",
    "y_score = [[0.9, 0.2, 0.1, 0.8], \n",
    " [0.9, 0.1, 0.3, 0.4], \n",
    " [0.1, 0.2, 0.8, 0.6], \n",
    " [0.5, 0.4, 0.4, 0.2]]\n",
    "label_ranking_loss(y_true, y_score)"
   ]
  },
  {
   "cell_type": "code",
   "execution_count": null,
   "id": "9964dac7",
   "metadata": {},
   "outputs": [],
   "source": []
  }
 ],
 "metadata": {
  "kernelspec": {
   "display_name": "Python 3 (ipykernel)",
   "language": "python",
   "name": "python3"
  },
  "language_info": {
   "codemirror_mode": {
    "name": "ipython",
    "version": 3
   },
   "file_extension": ".py",
   "mimetype": "text/x-python",
   "name": "python",
   "nbconvert_exporter": "python",
   "pygments_lexer": "ipython3",
   "version": "3.8.12"
  },
  "latex_envs": {
   "LaTeX_envs_menu_present": true,
   "autoclose": false,
   "autocomplete": true,
   "bibliofile": "biblio.bib",
   "cite_by": "apalike",
   "current_citInitial": 1,
   "eqLabelWithNumbers": true,
   "eqNumInitial": 1,
   "hotkeys": {
    "equation": "Ctrl-E",
    "itemize": "Ctrl-I"
   },
   "labels_anchors": false,
   "latex_user_defs": false,
   "report_style_numbering": false,
   "user_envs_cfg": false
  }
 },
 "nbformat": 4,
 "nbformat_minor": 5
}
