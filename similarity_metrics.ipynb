{
 "cells": [
  {
   "cell_type": "code",
   "execution_count": 51,
   "id": "f7021fb1",
   "metadata": {},
   "outputs": [],
   "source": [
    "from sklearn.feature_extraction.text import TfidfVectorizer\n",
    "from scipy.spatial.distance import jensenshannon, jaccard\n",
    "import pandas as pd\n",
    "import preprocess\n",
    "from itertools import combinations"
   ]
  },
  {
   "cell_type": "code",
   "execution_count": 52,
   "id": "275a6a60",
   "metadata": {},
   "outputs": [],
   "source": [
    "majority_path = r'C:\\Users\\IsmailKaraman\\workspace\\data\\privacy_policy_data\\OPP-115_v2\\majority.csv'\n",
    "df = pd.read_csv(majority_path)\n",
    "X = df['text'].apply(preprocess.preprocess_text)\n",
    "y = df.drop(['text'], axis=1)"
   ]
  },
  {
   "cell_type": "code",
   "execution_count": 53,
   "id": "9386f95d",
   "metadata": {},
   "outputs": [],
   "source": [
    "vectorizer = TfidfVectorizer()\n",
    "X = pd.DataFrame(vectorizer.fit_transform(X).toarray())"
   ]
  },
  {
   "cell_type": "code",
   "execution_count": 58,
   "id": "f7aec2d3",
   "metadata": {},
   "outputs": [],
   "source": [
    "similarities = {}"
   ]
  },
  {
   "cell_type": "code",
   "execution_count": 59,
   "id": "6a39903b",
   "metadata": {},
   "outputs": [],
   "source": [
    "def vector_similarity(p, q):\n",
    "\n",
    "    return jensenshannon(p, q)"
   ]
  },
  {
   "cell_type": "code",
   "execution_count": 60,
   "id": "d4a63799",
   "metadata": {},
   "outputs": [],
   "source": [
    "def calculate_within_class_similarity(vecs):\n",
    "    \n",
    "    similarities = []\n",
    "    \n",
    "    for i,j in list(combinations(vecs.index, 2)):\n",
    "        similarities.append(vector_similarity(vecs.loc[i], vecs.loc[j]))                \n",
    "    try:\n",
    "        avg_similarity = sum(similarities)/len(similarities)\n",
    "    except AssertionErrors:\n",
    "        print('Error occured')\n",
    "        \n",
    "    return avg_similarity "
   ]
  },
  {
   "cell_type": "code",
   "execution_count": 61,
   "id": "502c5794",
   "metadata": {},
   "outputs": [],
   "source": [
    "def calculate_between_class_similarities(col1, col2):\n",
    "    \n",
    "    similarities = []\n",
    "    \n",
    "    for idx1 in y[y[col1]==1].index:\n",
    "        for idx2 in y[y[col2]==1].index:\n",
    "            similarities.append(vector_similarity(X.loc[idx1], X.loc[idx2]))\n",
    "    \n",
    "    return sum(similarities)/len(similarities)       "
   ]
  },
  {
   "cell_type": "code",
   "execution_count": null,
   "id": "86c50aa9",
   "metadata": {},
   "outputs": [],
   "source": [
    "for label in y.columns:\n",
    "    \n",
    "    indexes = y[y[label]==1].index\n",
    "    similarities[(label, label)] = calculate_within_class_similarity(X.loc[indexes])"
   ]
  },
  {
   "cell_type": "code",
   "execution_count": null,
   "id": "4d24b602",
   "metadata": {},
   "outputs": [],
   "source": [
    "for col1, col2 in list(combinations(y.columns, 2)):\n",
    "    similarities[(col1, col2)] = calculate_between_class_similarities(col1, col2)"
   ]
  },
  {
   "cell_type": "code",
   "execution_count": null,
   "id": "8184f1e8",
   "metadata": {},
   "outputs": [],
   "source": [
    "sim_df = pd.DataFrame(index=y.columns, columns=y.columns)\n",
    "for (col1,col2), sim in similarities.items():\n",
    "    sim_df.loc[col1, col2] =  float(sim)"
   ]
  },
  {
   "cell_type": "code",
   "execution_count": null,
   "id": "7ae44b4e",
   "metadata": {},
   "outputs": [],
   "source": [
    "import seaborn as sns\n",
    "\n",
    "sns.heatmap(sim_df.fillna(0), annot=True,\n",
    "        xticklabels=sim_df.columns,\n",
    "        yticklabels=sim_df.columns, cmap=\"BuPu\")"
   ]
  },
  {
   "cell_type": "code",
   "execution_count": null,
   "id": "728a5f04",
   "metadata": {},
   "outputs": [],
   "source": []
  },
  {
   "cell_type": "code",
   "execution_count": null,
   "id": "baa8b8a9",
   "metadata": {},
   "outputs": [],
   "source": []
  }
 ],
 "metadata": {
  "kernelspec": {
   "display_name": "Python 3 (ipykernel)",
   "language": "python",
   "name": "python3"
  },
  "language_info": {
   "codemirror_mode": {
    "name": "ipython",
    "version": 3
   },
   "file_extension": ".py",
   "mimetype": "text/x-python",
   "name": "python",
   "nbconvert_exporter": "python",
   "pygments_lexer": "ipython3",
   "version": "3.8.12"
  },
  "latex_envs": {
   "LaTeX_envs_menu_present": true,
   "autoclose": false,
   "autocomplete": true,
   "bibliofile": "biblio.bib",
   "cite_by": "apalike",
   "current_citInitial": 1,
   "eqLabelWithNumbers": true,
   "eqNumInitial": 1,
   "hotkeys": {
    "equation": "Ctrl-E",
    "itemize": "Ctrl-I"
   },
   "labels_anchors": false,
   "latex_user_defs": false,
   "report_style_numbering": false,
   "user_envs_cfg": false
  }
 },
 "nbformat": 4,
 "nbformat_minor": 5
}
