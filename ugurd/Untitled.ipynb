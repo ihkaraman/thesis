{
 "cells": [
  {
   "cell_type": "markdown",
   "id": "7b827843",
   "metadata": {},
   "source": [
    "yangın katları için ayrı yap\n",
    "yangın katlarının üzerindekileri birleştirerek yap"
   ]
  },
  {
   "cell_type": "code",
   "execution_count": 4,
   "id": "89d5174e",
   "metadata": {},
   "outputs": [],
   "source": [
    "import pandas as pd\n",
    "import scipy.stats as st\n",
    "import seaborn as sns\n",
    "import matplotlib.pyplot as plt\n",
    "import warnings\n",
    "import numpy as np\n",
    "import pandas as pd\n",
    "import scipy.stats as st\n",
    "import statsmodels.api as sm\n",
    "from scipy.stats._continuous_distns import _distn_names\n",
    "import matplotlib\n",
    "import matplotlib.pyplot as plt"
   ]
  },
  {
   "cell_type": "code",
   "execution_count": 5,
   "id": "af85730c",
   "metadata": {},
   "outputs": [],
   "source": [
    "import warnings\n",
    "warnings.filterwarnings(\"ignore\")\n",
    "\n",
    "matplotlib.rcParams['figure.figsize'] = (16.0, 12.0)\n",
    "matplotlib.style.use('ggplot')"
   ]
  },
  {
   "cell_type": "code",
   "execution_count": 6,
   "id": "39cd5282",
   "metadata": {},
   "outputs": [],
   "source": [
    "data = pd.read_excel('DATA SON SPSS.xlsx', skiprows=2)\n",
    "data.drop('Unnamed: 0', axis=1, inplace=True)\n",
    "data.columns = ['label', 'scenario', 'building', 'floor', 'fire_h', 'fire_floor', 'fire_spread', 'door_condition',\n",
    "                'evacuation_delay', 'tenability_1', 'tenability_2', 'FIH', 'FIN']"
   ]
  },
  {
   "cell_type": "code",
   "execution_count": 7,
   "id": "433d339b",
   "metadata": {},
   "outputs": [],
   "source": [
    "scn_rp={'Senaryo 1: 0H-1R-Low-Open Door': 'Senaryo 1',\n",
    "        'Senaryo 2: 0H-3R-Low-Open Door': 'Senaryo 2',\n",
    "        'Senaryo 3: 0h-1R-Low-Leaky': 'Senaryo 3',\n",
    "        'Senaryo 4: 0h-3R-Low-Leaky': 'Senaryo 4',\n",
    "        'Senaryo 5: 0h-1R-Medium-Open': 'Senaryo 5',\n",
    "        'Senaryo 6:0h-3R-Medium-Open Door': 'Senaryo 6',\n",
    "        'Senaryo 7:0h-1R-Medium-Leaky': 'Senaryo 7',\n",
    "        'Senaryo 8: 0h-3R-Medium-Leaky': 'Senaryo 8',\n",
    "        'Senaryo 9:0h-1R-High-Open': 'Senaryo 9',\n",
    "        'Senaryo 10: 0H-3R-High-Open Door': 'Senaryo 10',\n",
    "        'Senaryo 11: 0h-1R-High-Leaky': 'Senaryo 11',\n",
    "        'Senaryo 12: 0h-3R-High-Leaky': 'Senaryo 12',\n",
    "        'Senaryo 13: 0.25H-1R-Low-Open Door': 'Senaryo 13',\n",
    "        'Senaryo 14: 0.25H-3R-Low-Open Door': 'Senaryo 14',\n",
    "        'Senaryo 15: 0.25h-1R-Low-Leaky': 'Senaryo 15',\n",
    "        'Senaryo 16: 0.25h-3R-Low-Leaky': 'Senaryo 16',\n",
    "        'Senaryo 17: 0.25h-1R-Medium-Open': 'Senaryo 17',\n",
    "        'Senaryo 18:0.25h-3R-Medium-Open Door': 'Senaryo 18',\n",
    "        'Senaryo 19:0.25h-1R-Medium-Leaky': 'Senaryo 19',\n",
    "        'Senaryo 20: 0.25h-3R-Medium-Leaky': 'Senaryo 20',\n",
    "        'Senaryo 21:0.25h-1R-High-Open': 'Senaryo 21',\n",
    "        'Senaryo 22: 0.25H-3R-High-Open Door': 'Senaryo 22',\n",
    "        'Senaryo 23: 0.25h-1R-High-Leaky': 'Senaryo 23',\n",
    "        'Senaryo 24: 0.25h-3R-High-Leaky': 'Senaryo 24',\n",
    "        'Senaryo 25: 0.5H-1R-Low-Open Door': 'Senaryo 25',\n",
    "        'Senaryo 26: 0.5H-3R-Low-Open Door': 'Senaryo 26',\n",
    "        'Senaryo 27: 0.5h-1R-Low-Leaky': 'Senaryo 27',\n",
    "        'Senaryo 28: 0.5h-3R-Low-Leaky': 'Senaryo 28',\n",
    "        'Senaryo 29: 0.5h-1R-Medium-Open': 'Senaryo 29',\n",
    "        'Senaryo 30:0.5h-3R-Medium-Open Door': 'Senaryo 30',\n",
    "        'Senaryo 31:0.5h-1R-Medium-Leaky': 'Senaryo 31',\n",
    "        'Senaryo 32: 0.5h-3R-Medium-Leaky': 'Senaryo 32',\n",
    "        'Senaryo 33:0.5h-1R-High-Open': 'Senaryo 33',\n",
    "        'Senaryo 34: 0.5H-3R-High-Open Door': 'Senaryo 34',\n",
    "        'Senaryo 35: 0.5h-1R-High-Leaky': 'Senaryo 35',\n",
    "        'Senaryo 36: 0.5h-3R-High-Leaky': 'Senaryo 36',\n",
    "        'Senaryo 37: 0.75H-1R-Low-Open Door': 'Senaryo 37',\n",
    "        'Senaryo 38: 0.75H-3R-Low-Open Door': 'Senaryo 38',\n",
    "        'Senaryo 39: 0.75h-1R-Low-Leaky': 'Senaryo 39',\n",
    "        'Senaryo 40: 0.75h-3R-Low-Leaky': 'Senaryo 40',\n",
    "        'Senaryo 41: 0.75h-1R-Medium-Open': 'Senaryo 41',\n",
    "        'Senaryo 42:0.75h-3R-Medium-Open Door': 'Senaryo 42',\n",
    "        'Senaryo 43:0.75h-1R-Medium-Leaky': 'Senaryo 43',\n",
    "        'Senaryo 44: 0.75h-3R-Medium-Leaky': 'Senaryo 44',\n",
    "        'Senaryo 45:0.75h-1R-High-Open': 'Senaryo 45',\n",
    "        'Senaryo 46: 0.75H-3R-High-Open Door': 'Senaryo 46',\n",
    "        'Senaryo 47: 0.75h-1R-High-Leaky': 'Senaryo 47',\n",
    "        'Senaryo 48: 0.75h-3R-High-Leaky': 'Senaryo 48'}"
   ]
  },
  {
   "cell_type": "code",
   "execution_count": 8,
   "id": "98101553",
   "metadata": {},
   "outputs": [],
   "source": [
    "data['scenario'] = data['scenario'].replace(scn_rp)"
   ]
  },
  {
   "cell_type": "code",
   "execution_count": 9,
   "id": "5b5e2da6",
   "metadata": {},
   "outputs": [
    {
     "data": {
      "text/html": [
       "<div>\n",
       "<style scoped>\n",
       "    .dataframe tbody tr th:only-of-type {\n",
       "        vertical-align: middle;\n",
       "    }\n",
       "\n",
       "    .dataframe tbody tr th {\n",
       "        vertical-align: top;\n",
       "    }\n",
       "\n",
       "    .dataframe thead th {\n",
       "        text-align: right;\n",
       "    }\n",
       "</style>\n",
       "<table border=\"1\" class=\"dataframe\">\n",
       "  <thead>\n",
       "    <tr style=\"text-align: right;\">\n",
       "      <th></th>\n",
       "      <th>label</th>\n",
       "      <th>scenario</th>\n",
       "      <th>building</th>\n",
       "      <th>floor</th>\n",
       "      <th>fire_h</th>\n",
       "      <th>fire_floor</th>\n",
       "      <th>fire_spread</th>\n",
       "      <th>door_condition</th>\n",
       "      <th>evacuation_delay</th>\n",
       "      <th>tenability_1</th>\n",
       "      <th>tenability_2</th>\n",
       "      <th>FIH</th>\n",
       "      <th>FIN</th>\n",
       "    </tr>\n",
       "  </thead>\n",
       "  <tbody>\n",
       "    <tr>\n",
       "      <th>0</th>\n",
       "      <td>1</td>\n",
       "      <td>Senaryo 1</td>\n",
       "      <td>1</td>\n",
       "      <td>1</td>\n",
       "      <td>0h</td>\n",
       "      <td>1</td>\n",
       "      <td>1R</td>\n",
       "      <td>Open</td>\n",
       "      <td>Low</td>\n",
       "      <td>3</td>\n",
       "      <td>3</td>\n",
       "      <td>0.00</td>\n",
       "      <td>0.0</td>\n",
       "    </tr>\n",
       "    <tr>\n",
       "      <th>1</th>\n",
       "      <td>2</td>\n",
       "      <td>Senaryo 1</td>\n",
       "      <td>1</td>\n",
       "      <td>1</td>\n",
       "      <td>0h</td>\n",
       "      <td>1</td>\n",
       "      <td>1R</td>\n",
       "      <td>Open</td>\n",
       "      <td>Low</td>\n",
       "      <td>3</td>\n",
       "      <td>3</td>\n",
       "      <td>0.05</td>\n",
       "      <td>0.0</td>\n",
       "    </tr>\n",
       "    <tr>\n",
       "      <th>2</th>\n",
       "      <td>3</td>\n",
       "      <td>Senaryo 1</td>\n",
       "      <td>1</td>\n",
       "      <td>1</td>\n",
       "      <td>0h</td>\n",
       "      <td>1</td>\n",
       "      <td>1R</td>\n",
       "      <td>Open</td>\n",
       "      <td>Low</td>\n",
       "      <td>3</td>\n",
       "      <td>3</td>\n",
       "      <td>0.38</td>\n",
       "      <td>0.0</td>\n",
       "    </tr>\n",
       "  </tbody>\n",
       "</table>\n",
       "</div>"
      ],
      "text/plain": [
       "   label   scenario  building  floor fire_h  fire_floor fire_spread  \\\n",
       "0      1  Senaryo 1         1      1     0h           1          1R   \n",
       "1      2  Senaryo 1         1      1     0h           1          1R   \n",
       "2      3  Senaryo 1         1      1     0h           1          1R   \n",
       "\n",
       "  door_condition evacuation_delay  tenability_1  tenability_2   FIH  FIN  \n",
       "0           Open              Low             3             3  0.00  0.0  \n",
       "1           Open              Low             3             3  0.05  0.0  \n",
       "2           Open              Low             3             3  0.38  0.0  "
      ]
     },
     "execution_count": 9,
     "metadata": {},
     "output_type": "execute_result"
    }
   ],
   "source": [
    "data.head(3)"
   ]
  },
  {
   "cell_type": "code",
   "execution_count": 10,
   "id": "cd2e19b4",
   "metadata": {},
   "outputs": [],
   "source": [
    "fire_floors = {1:[1,10,19,34],\n",
    "               2:[1,5,9,14],\n",
    "               3:[1,6,12,18],\n",
    "               4:[1,8,15,23],\n",
    "               5:[1,5,10,16]}"
   ]
  },
  {
   "cell_type": "code",
   "execution_count": 11,
   "id": "51b5360a",
   "metadata": {},
   "outputs": [],
   "source": [
    "dist_list =  [\n",
    " 'norm',\n",
    " 'alpha',\n",
    " 'arcsine',\n",
    " 'beta',\n",
    " 'betaprime',\n",
    " 'chi',\n",
    " 'chi2',\n",
    " 'cosine',\n",
    " 'dgamma',\n",
    " 'dweibull',\n",
    " 'expon',\n",
    " 'exponnorm',\n",
    " 'exponweib',\n",
    " 'exponpow',\n",
    " 'f',\n",
    " 'foldnorm',\n",
    " 'weibull_min',\n",
    " 'weibull_max',\n",
    " 'gamma',\n",
    " 'erlang',\n",
    " 'halflogistic',\n",
    " 'halfnorm',\n",
    " 'invgamma',\n",
    " 'invgauss',\n",
    " 'norminvgauss',\n",
    " 'invweibull',\n",
    " 'laplace',\n",
    " 'levy',\n",
    " 'logistic',\n",
    " 'loggamma',\n",
    " 'loglaplace',\n",
    " 'lognorm',\n",
    " 'maxwell',\n",
    " 't',\n",
    " 'pearson3',\n",
    " 'powernorm',\n",
    " 'loguniform',\n",
    " 'skewnorm',\n",
    " 'triang',\n",
    " 'tukeylambda',\n",
    " 'uniform',\n",
    " 'studentized_range']"
   ]
  },
  {
   "cell_type": "code",
   "execution_count": 28,
   "id": "520f72a5",
   "metadata": {},
   "outputs": [],
   "source": [
    "def make_pdf(dist, params, size=10000):\n",
    "    \"\"\"Generate distributions's Probability Distribution Function \"\"\"\n",
    "\n",
    "    # Separate parts of parameters\n",
    "    arg = params[:-2]\n",
    "    if len(params)>=2:\n",
    "        loc = params[-2]\n",
    "    else:\n",
    "        loc = 0\n",
    "    scale = params[-1]\n",
    "    dist = getattr(st, dist)\n",
    "    # Get sane start and end points of distribution\n",
    "    start = dist.ppf(0.01, *arg, loc=loc, scale=scale) if arg else dist.ppf(0.01, loc=loc, scale=scale)\n",
    "    end = dist.ppf(0.99, *arg, loc=loc, scale=scale) if arg else dist.ppf(0.99, loc=loc, scale=scale)\n",
    "\n",
    "    # Build PDF and turn into pandas Series\n",
    "    x = np.linspace(start, end, size)\n",
    "    y = dist.pdf(x, loc=loc, scale=scale, *arg)\n",
    "    pdf = pd.Series(y, x)\n",
    "\n",
    "    return pdf"
   ]
  },
  {
   "cell_type": "code",
   "execution_count": 29,
   "id": "57b0cfe5",
   "metadata": {},
   "outputs": [],
   "source": [
    "def get_best_distribution(data):\n",
    "        \n",
    "    dist_results = []\n",
    "    params = {}\n",
    "    \n",
    "    for distribution in dist_list:\n",
    "        dist = getattr(st, distribution)\n",
    "        param = dist.fit(data)\n",
    "        \n",
    "        \n",
    "        # Applying the Kolmogorov-Smirnov test\n",
    "        D, p = st.kstest(data, distribution, args=param)\n",
    "        '''\n",
    "        s, c, sig = st.anderson(data, dist=distribution)\n",
    "        if sum(s<cv)>0:\n",
    "            and_res = 'accepted'\n",
    "        else:\n",
    "            and_res = 'rejected'\n",
    "        '''\n",
    "        dist_results.append((distribution, param, p))\n",
    "        \n",
    "    return dist_results"
   ]
  },
  {
   "cell_type": "code",
   "execution_count": 30,
   "id": "1d68341e",
   "metadata": {},
   "outputs": [],
   "source": [
    "sample = data['FIH'].sample(100, random_state=1)"
   ]
  },
  {
   "cell_type": "code",
   "execution_count": 31,
   "id": "b27657a0",
   "metadata": {},
   "outputs": [
    {
     "data": {
      "text/plain": [
       "<AxesSubplot:ylabel='Frequency'>"
      ]
     },
     "execution_count": 31,
     "metadata": {},
     "output_type": "execute_result"
    },
    {
     "data": {
      "image/png": "[encoded data removed]",
      "text/plain": [
       "<Figure size 432x288 with 1 Axes>"
      ]
     },
     "metadata": {},
     "output_type": "display_data"
    }
   ],
   "source": [
    "sample.plot(kind='hist', bins=20, figsize=(6,4))"
   ]
  },
  {
   "cell_type": "code",
   "execution_count": 21,
   "id": "9e09e223",
   "metadata": {},
   "outputs": [],
   "source": [
    "res = get_best_distribution(sample)"
   ]
  },
  {
   "cell_type": "code",
   "execution_count": 22,
   "id": "7a63e221",
   "metadata": {},
   "outputs": [
    {
     "data": {
      "text/html": [
       "<div>\n",
       "<style scoped>\n",
       "    .dataframe tbody tr th:only-of-type {\n",
       "        vertical-align: middle;\n",
       "    }\n",
       "\n",
       "    .dataframe tbody tr th {\n",
       "        vertical-align: top;\n",
       "    }\n",
       "\n",
       "    .dataframe thead th {\n",
       "        text-align: right;\n",
       "    }\n",
       "</style>\n",
       "<table border=\"1\" class=\"dataframe\">\n",
       "  <thead>\n",
       "    <tr style=\"text-align: right;\">\n",
       "      <th></th>\n",
       "      <th>0</th>\n",
       "      <th>1</th>\n",
       "      <th>2</th>\n",
       "    </tr>\n",
       "  </thead>\n",
       "  <tbody>\n",
       "    <tr>\n",
       "      <th>28</th>\n",
       "      <td>logistic</td>\n",
       "      <td>(0.09656123913213378, 0.17511715558334517)</td>\n",
       "      <td>1.742423e-12</td>\n",
       "    </tr>\n",
       "    <tr>\n",
       "      <th>29</th>\n",
       "      <td>loggamma</td>\n",
       "      <td>(1294.541445001586, -94.96299466069314, 13.278...</td>\n",
       "      <td>6.825737e-17</td>\n",
       "    </tr>\n",
       "    <tr>\n",
       "      <th>0</th>\n",
       "      <td>norm</td>\n",
       "      <td>(0.1875, 0.36511196912728017)</td>\n",
       "      <td>4.946840e-17</td>\n",
       "    </tr>\n",
       "    <tr>\n",
       "      <th>17</th>\n",
       "      <td>weibull_max</td>\n",
       "      <td>(256121428.7677397, 46258074.6472704, 46258074...</td>\n",
       "      <td>1.425799e-19</td>\n",
       "    </tr>\n",
       "    <tr>\n",
       "      <th>32</th>\n",
       "      <td>maxwell</td>\n",
       "      <td>(-0.5106348799589869, 0.4548545563708003)</td>\n",
       "      <td>1.183799e-20</td>\n",
       "    </tr>\n",
       "    <tr>\n",
       "      <th>33</th>\n",
       "      <td>t</td>\n",
       "      <td>(0.25447809532668386, 1.5153618793468897e-17, ...</td>\n",
       "      <td>1.179959e-20</td>\n",
       "    </tr>\n",
       "    <tr>\n",
       "      <th>27</th>\n",
       "      <td>levy</td>\n",
       "      <td>(-1.583517534793273e-17, 7.94308974851373e-18)</td>\n",
       "      <td>1.345054e-21</td>\n",
       "    </tr>\n",
       "    <tr>\n",
       "      <th>7</th>\n",
       "      <td>cosine</td>\n",
       "      <td>(0.269142731999364, 0.32481096569024936)</td>\n",
       "      <td>8.511270e-22</td>\n",
       "    </tr>\n",
       "    <tr>\n",
       "      <th>30</th>\n",
       "      <td>loglaplace</td>\n",
       "      <td>(2.2842386218947395, -2.902466382947433e-20, 2...</td>\n",
       "      <td>7.975835e-22</td>\n",
       "    </tr>\n",
       "    <tr>\n",
       "      <th>1</th>\n",
       "      <td>alpha</td>\n",
       "      <td>(2.2100617910413263, -8.089275339867713e-21, 2...</td>\n",
       "      <td>2.068831e-22</td>\n",
       "    </tr>\n",
       "  </tbody>\n",
       "</table>\n",
       "</div>"
      ],
      "text/plain": [
       "              0                                                  1  \\\n",
       "28     logistic         (0.09656123913213378, 0.17511715558334517)   \n",
       "29     loggamma  (1294.541445001586, -94.96299466069314, 13.278...   \n",
       "0          norm                      (0.1875, 0.36511196912728017)   \n",
       "17  weibull_max  (256121428.7677397, 46258074.6472704, 46258074...   \n",
       "32      maxwell          (-0.5106348799589869, 0.4548545563708003)   \n",
       "33            t  (0.25447809532668386, 1.5153618793468897e-17, ...   \n",
       "27         levy     (-1.583517534793273e-17, 7.94308974851373e-18)   \n",
       "7        cosine           (0.269142731999364, 0.32481096569024936)   \n",
       "30   loglaplace  (2.2842386218947395, -2.902466382947433e-20, 2...   \n",
       "1         alpha  (2.2100617910413263, -8.089275339867713e-21, 2...   \n",
       "\n",
       "               2  \n",
       "28  1.742423e-12  \n",
       "29  6.825737e-17  \n",
       "0   4.946840e-17  \n",
       "17  1.425799e-19  \n",
       "32  1.183799e-20  \n",
       "33  1.179959e-20  \n",
       "27  1.345054e-21  \n",
       "7   8.511270e-22  \n",
       "30  7.975835e-22  \n",
       "1   2.068831e-22  "
      ]
     },
     "execution_count": 22,
     "metadata": {},
     "output_type": "execute_result"
    }
   ],
   "source": [
    "res_df = pd.DataFrame(res)\n",
    "res_df.sort_values(by=2, ascending=False).head(10)"
   ]
  },
  {
   "cell_type": "code",
   "execution_count": 35,
   "id": "48337aea",
   "metadata": {},
   "outputs": [],
   "source": [
    "dist, params = res_df.sort_values(by=2, ascending=False).head(1)[0], res_df.sort_values(by=2, ascending=False).head(1)[1] \n",
    "pdf = make_pdf('loggamma', res_df.loc[29,1], size=10000)"
   ]
  },
  {
   "cell_type": "code",
   "execution_count": 41,
   "id": "903114e6",
   "metadata": {},
   "outputs": [
    {
     "data": {
      "text/plain": [
       "<AxesSubplot:ylabel='Frequency'>"
      ]
     },
     "execution_count": 41,
     "metadata": {},
     "output_type": "execute_result"
    },
    {
     "data": {
      "image/png": "[encoded data removed]",
      "text/plain": [
       "<Figure size 1152x864 with 1 Axes>"
      ]
     },
     "metadata": {},
     "output_type": "display_data"
    }
   ],
   "source": [
    "pdf.plot(kind='hist', bins=20)"
   ]
  },
  {
   "cell_type": "code",
   "execution_count": 31,
   "id": "5a94d436",
   "metadata": {},
   "outputs": [],
   "source": []
  },
  {
   "cell_type": "code",
   "execution_count": null,
   "id": "8af7357b",
   "metadata": {},
   "outputs": [],
   "source": []
  },
  {
   "cell_type": "code",
   "execution_count": null,
   "id": "dbf95f94",
   "metadata": {},
   "outputs": [],
   "source": [
    "plt.figure(figsize=(12,8))\n",
    "ax = data.plot(kind='hist', bins=50, density=True, alpha=0.5, color=list(matplotlib.rcParams['axes.prop_cycle'])[1]['color'])\n",
    "\n",
    "# Save plot limits\n",
    "dataYLim = ax.get_ylim()\n",
    "\n",
    "# Find best fit distribution\n",
    "best_distibutions = best_fit_distribution(data, 200, ax)\n",
    "best_dist = best_distibutions[0]\n",
    "\n",
    "# Update plots\n",
    "ax.set_ylim(dataYLim)\n",
    "ax.set_title(u'All Fitted Distributions')\n",
    "\n",
    "# Make PDF with best params \n",
    "pdf = make_pdf(best_dist[0], best_dist[1])\n",
    "\n",
    "# Display\n",
    "plt.figure(figsize=(12,8))\n",
    "ax = pdf.plot(lw=2, label='PDF', legend=True)\n",
    "data.plot(kind='hist', bins=50, density=True, alpha=0.5, label='Data', legend=True, ax=ax)\n",
    "\n",
    "param_names = (best_dist[0].shapes + ', loc, scale').split(', ') if best_dist[0].shapes else ['loc', 'scale']\n",
    "param_str = ', '.join(['{}={:0.2f}'.format(k,v) for k,v in zip(param_names, best_dist[1])])\n",
    "dist_str = '{}({})'.format(best_dist[0].name, param_str)\n",
    "\n",
    "ax.set_title(u'best fit distribution \\n' + dist_str)\n",
    "ax.set_xlabel(u'Temp. (°C)')\n",
    "ax.set_ylabel('Frequency')\n",
    "\n",
    "print(time.time() - t1)"
   ]
  },
  {
   "cell_type": "code",
   "execution_count": null,
   "id": "dae7591a",
   "metadata": {},
   "outputs": [],
   "source": [
    "sns.distplot(data['FIH']).set(title='Distribution for FIH')"
   ]
  },
  {
   "cell_type": "code",
   "execution_count": null,
   "id": "22881e48",
   "metadata": {},
   "outputs": [],
   "source": [
    "sns.distplot(data['FIN']).set(title='Distribution for FIN')"
   ]
  },
  {
   "cell_type": "markdown",
   "id": "bf69d3e7",
   "metadata": {},
   "source": [
    "https://stackoverflow.com/questions/6620471/fitting-empirical-distribution-to-theoretical-ones-with-scipy-python?lq=1        \n",
    "https://stackoverflow.com/questions/37487830/how-to-find-probability-distribution-and-parameters-for-real-data-python-3"
   ]
  },
  {
   "cell_type": "code",
   "execution_count": null,
   "id": "2aac3739",
   "metadata": {},
   "outputs": [],
   "source": []
  },
  {
   "cell_type": "code",
   "execution_count": null,
   "id": "60fda027",
   "metadata": {},
   "outputs": [],
   "source": []
  },
  {
   "cell_type": "code",
   "execution_count": null,
   "id": "94cdf64b",
   "metadata": {},
   "outputs": [],
   "source": []
  },
  {
   "cell_type": "code",
   "execution_count": null,
   "id": "3240cdb3",
   "metadata": {
    "scrolled": true
   },
   "outputs": [],
   "source": [
    "i = 0\n",
    "all_scenarios = data['scenario'].unique()\n",
    "\n",
    "for building, ffloors in fire_floors.items():\n",
    "    \n",
    "    max_building_floor = data[data['building']==building]['floor'].max()\n",
    "        \n",
    "    for ff in ffloors:\n",
    "        f_start = ff+1\n",
    "        while f_start < max_building_floor:\n",
    "            f_end = f_start+4\n",
    "            if max_building_floor - f_end < 2:\n",
    "                f_end = max_building_floor\n",
    "            \n",
    "            for scen in all_scenarios:\n",
    "                \n",
    "                sample = data.loc[(data['scenario']==scen)&(data['building']==building)&(data['floor']>=f_start)&(data['floor']<=f_end), 'FIH']\n",
    "                \n",
    "                plt.figure(i)          \n",
    "                sns.distplot(sample)\n",
    "                i += 1\n",
    "            f_start += 5"
   ]
  },
  {
   "cell_type": "code",
   "execution_count": null,
   "id": "66ec9970",
   "metadata": {},
   "outputs": [],
   "source": [
    "sns.distplot(sample)"
   ]
  },
  {
   "cell_type": "code",
   "execution_count": null,
   "id": "ff655cc9",
   "metadata": {},
   "outputs": [],
   "source": [
    "intervals = pd.read_excel('intervals.xlsx', 'Sheet2')"
   ]
  },
  {
   "cell_type": "code",
   "execution_count": null,
   "id": "3bcfbef6",
   "metadata": {},
   "outputs": [],
   "source": []
  },
  {
   "cell_type": "code",
   "execution_count": null,
   "id": "1ab849ac",
   "metadata": {},
   "outputs": [],
   "source": [
    "def get_best_distribution_v1(data):\n",
    "    dist_names = dist_list\n",
    "    dist_results = []\n",
    "    params = {}\n",
    "    for dist_name in dist_names:\n",
    "        dist = getattr(st, dist_name)\n",
    "        param = dist.fit(data)\n",
    "\n",
    "        params[dist_name] = param\n",
    "        # Applying the Kolmogorov-Smirnov test\n",
    "        D, p = st.kstest(data, dist_name, args=param)\n",
    "        # print(\"p value for \"+dist_name+\" = \"+str(p))\n",
    "        dist_results.append((dist_name, p))\n",
    "\n",
    "    # select the best fitted distribution\n",
    "    best_dist, best_p = (max(dist_results, key=lambda item: item[1]))\n",
    "    # store the name of the best fit and its p value\n",
    "\n",
    "    print(\"Best fitting distribution: \"+str(best_dist))\n",
    "    print(\"Best p value: \"+ str(best_p))\n",
    "    print(\"Parameters for the best fit: \"+ str(params[best_dist]))\n",
    "\n",
    "    return best_dist, best_p, params[best_dist]"
   ]
  },
  {
   "cell_type": "code",
   "execution_count": null,
   "id": "62afceee",
   "metadata": {},
   "outputs": [],
   "source": []
  }
 ],
 "metadata": {
  "kernelspec": {
   "display_name": "Python 3 (ipykernel)",
   "language": "python",
   "name": "python3"
  },
  "language_info": {
   "codemirror_mode": {
    "name": "ipython",
    "version": 3
   },
   "file_extension": ".py",
   "mimetype": "text/x-python",
   "name": "python",
   "nbconvert_exporter": "python",
   "pygments_lexer": "ipython3",
   "version": "3.9.12"
  },
  "latex_envs": {
   "LaTeX_envs_menu_present": true,
   "autoclose": false,
   "autocomplete": true,
   "bibliofile": "biblio.bib",
   "cite_by": "apalike",
   "current_citInitial": 1,
   "eqLabelWithNumbers": true,
   "eqNumInitial": 1,
   "hotkeys": {
    "equation": "Ctrl-E",
    "itemize": "Ctrl-I"
   },
   "labels_anchors": false,
   "latex_user_defs": false,
   "report_style_numbering": false,
   "user_envs_cfg": false
  }
 },
 "nbformat": 4,
 "nbformat_minor": 5
}
